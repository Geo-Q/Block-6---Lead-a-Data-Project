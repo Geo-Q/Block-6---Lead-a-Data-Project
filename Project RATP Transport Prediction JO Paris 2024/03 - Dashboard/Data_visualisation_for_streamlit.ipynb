{
 "cells": [
  {
   "cell_type": "markdown",
   "metadata": {},
   "source": [
    "# Visualisations for Streamlit Dashbord"
   ]
  },
  {
   "cell_type": "code",
   "execution_count": 143,
   "metadata": {},
   "outputs": [],
   "source": [
    "import pandas as pd\n",
    "import numpy as np\n",
    "import plotly.express as px\n",
    "import plotly.graph_objects as go"
   ]
  },
  {
   "cell_type": "code",
   "execution_count": 144,
   "metadata": {},
   "outputs": [],
   "source": [
    "token = 'pk.xxxxxxxxxxxxxxx'  \n",
    "# Replace with your actual Mapbox Access Token"
   ]
  },
  {
   "cell_type": "markdown",
   "metadata": {},
   "source": [
    "### Page 1"
   ]
  },
  {
   "cell_type": "code",
   "execution_count": 145,
   "metadata": {},
   "outputs": [],
   "source": [
    "#geo_data = pd.read_csv(\"99-Data_Clean/geoloc_jo.csv\")\n",
    "data_jo = pd.read_csv(\"99-Data_Clean/df_forecast_jo.csv\")\n",
    "data_jo[\"ds\"] = data_jo[\"ds\"].apply(lambda x: pd.to_datetime(x))\n",
    "data_ssjo = pd.read_csv(\"99-Data_Clean/df_forecast_ssjo.csv\")\n",
    "data_ssjo[\"ds\"] = data_ssjo[\"ds\"].apply(lambda x: pd.to_datetime(x))"
   ]
  },
  {
   "cell_type": "code",
   "execution_count": 146,
   "metadata": {},
   "outputs": [
    {
     "data": {
      "text/plain": [
       "array([\"PORTE D'AUTEUIL\", 'PORTE DE SAINT-CLOUD'], dtype=object)"
      ]
     },
     "execution_count": 146,
     "metadata": {},
     "output_type": "execute_result"
    }
   ],
   "source": [
    "# stations par site\n",
    "stations_RG = [\"PORTE DE SAINT-CLOUD\", \"PORTE D'AUTEUIL\"]\n",
    "stations_PDP = [\"PORTE DE SAINT-CLOUD\", \"PORTE D'AUTEUIL\", \"BOULEVARD VICTOR\"]\n",
    "stations_SDF = [\"STADE DE FRANCE-SAINT-DENIS\", \"LA PLAINE-STADE DE FRANCE\", \"SAINT-DENIS-PORTE DE PARIS\"]\n",
    "stations_GP = [\"FRANKLIN-D.ROOSEVELT\"]\n",
    "stations_INV = [\"INVALIDES\"]\n",
    "stations_CCD = [\"PALAIS ROYAL-MUSEE DU LOUVRE\", \"MADELEINE\", \"OPERA\", \"AUBER\", \"MUSEE D'ORSAY\"]\n",
    "stations_CDM = [\"CHAMP DE MARS-TOUR EIFFEL\", \"LA MOTTE-PICQUET-GRENELLE\", \"SEGUR\"]\n",
    "stations_TEF = [\"CHAMP DE MARS-TOUR EIFFEL\", \"PONT DE L'ALMA\", \"BIR-HAKEIM (GRENELLE)\", \"ALMA-MARCEAU\"]\n",
    "stations_SUD = [\"PORTE DE VERSAILLES\", \"BALARD\", \"PORTE DE VANVES\"]\n",
    "stations_CHP = [\"PORTE DE LA CHAPELLE\", \"ROSA PARKS\"]\n",
    "stations_BER = [\"BERCY\", \"GARE DE LYON\"]\n",
    "\n",
    "\n",
    "# sites de compétition\n",
    "sites_competitions=[\"ROLAND-GARROS\", \"PARC DES PRINCES\", \"STADE DE FRANCE\", \"GRAND PALAIS\", \"ARENA INVALIDES\", \"STADE DE LA CONCORDE\", \n",
    "                    \"ARENA CHAMPS DE MARS\", \"STADE TOUR EIFFEL\", \"ARENA PARIS SUD\", \"ARENA LA CHAPELLE\", \"ARENA BERCY\"]\n",
    "# site choisi à sélectionner\n",
    "site=\"ROLAND-GARROS\"\n",
    "\n",
    "\n",
    "# masque des stations en fonction du site choisi pour JO\n",
    "mask_rg = (data_jo['station'] == 'PORTE DE SAINT-CLOUD') | (data_jo['station'] == \"PORTE D'AUTEUIL\")\n",
    "mask_pdp = (data_jo['station'] == 'PORTE DE SAINT-CLOUD') | (data_jo['station'] == \"PORTE D'AUTEUIL\") | (data_jo['station'] == \"BOULEVARD VICTOR\")\n",
    "mask_sdf = (data_jo['station'] == 'STADE DE FRANCE-SAINT-DENIS') | (data_jo['station'] == \"LA PLAINE-STADE DE FRANCE\") | (data_jo['station'] == \"SAINT-DENIS-PORTE DE PARIS\")\n",
    "mask_gp = (data_jo['station'] == \"FRANKLIN-D.ROOSEVELT\")\n",
    "mask_inv = (data_jo['station'] == \"INVALIDES\")\n",
    "mask_ccd = (data_jo['station'] == \"PALAIS ROYAL-MUSEE DU LOUVRE\") | (data_jo['station'] == \"MADELEINE\") | (data_jo['station'] == \"OPERA\") | (data_jo['station'] == \"AUBER\") | (data_jo['station'] == \"MUSEE D'ORSAY\")\n",
    "mask_cdm = (data_jo['station'] == \"CHAMP DE MARS-TOUR EIFFEL\") | (data_jo['station'] == \"LA MOTTE-PICQUET-GRENELLE\") | (data_jo['station'] == \"SEGUR\")\n",
    "mask_tef = (data_jo['station'] == \"CHAMP DE MARS-TOUR EIFFEL\") | (data_jo['station'] == \"PONT DE L'ALMA\") | (data_jo['station'] == \"BIR-HAKEIM (GRENELLE)\") | (data_jo['station'] == \"ALMA-MARCEAU\")\n",
    "mask_sud = (data_jo['station'] == \"PORTE DE VERSAILLES\") | (data_jo['station'] == \"BALARD\") | (data_jo['station'] == \"PORTE DE VANVES\")\n",
    "mask_chp = (data_jo['station'] == \"PORTE DE LA CHAPELLE\") | (data_jo['station'] == \"ROSA PARKS\")\n",
    "mask_ber = (data_jo['station'] == \"BERCY\") | (data_jo['station'] == \"GARE DE LYON\")\n",
    "# fonction d'application du masque JO\n",
    "def viz_mask(site):\n",
    "    if site == \"ROLAND-GARROS\":\n",
    "        return mask_rg\n",
    "    elif site == \"PARC DES PRINCES\":\n",
    "        return mask_pdp\n",
    "    elif site == \"STADE DE FRANCE\":\n",
    "        return mask_sdf\n",
    "    elif site == \"GRAND PALAIS\":\n",
    "        return mask_gp\n",
    "    elif site == \"ARENA INVALIDES\":\n",
    "        return mask_inv\n",
    "    elif site == \"STADE DE LA CONCORDE\":\n",
    "        return mask_ccd\n",
    "    elif site == \"ARENA CHAMPS DE MARS\":\n",
    "        return mask_cdm\n",
    "    elif site == \"STADE TOUR EIFFEL\":\n",
    "        return mask_tef\n",
    "    elif site == \"ARENA PARIS SUD\":\n",
    "        return mask_sud\n",
    "    elif site == \"ARENA LA CHAPELLE\":\n",
    "        return mask_chp\n",
    "    elif site == \"ARENA BERCY\":\n",
    "        return mask_ber\n",
    "    else:\n",
    "        return 0\n",
    "\n",
    "\n",
    "# masque des stations en fonction du site choisi sans JO\n",
    "mask_ssrg = (data_ssjo['station'] == 'PORTE DE SAINT-CLOUD') | (data_ssjo['station'] == \"PORTE D'AUTEUIL\")\n",
    "mask_sspdp = (data_ssjo['station'] == 'PORTE DE SAINT-CLOUD') | (data_ssjo['station'] == \"PORTE D'AUTEUIL\") | (data_ssjo['station'] == \"BOULEVARD VICTOR\")\n",
    "mask_sssdf = (data_ssjo['station'] == 'STADE DE FRANCE-SAINT-DENIS') | (data_ssjo['station'] == \"LA PLAINE-STADE DE FRANCE\") | (data_ssjo['station'] == \"SAINT-DENIS-PORTE DE PARIS\")\n",
    "mask_ssgp = (data_ssjo['station'] == \"FRANKLIN-D.ROOSEVELT\")\n",
    "mask_ssinv = (data_ssjo['station'] == \"INVALIDES\")\n",
    "mask_ssccd = (data_ssjo['station'] == \"PALAIS ROYAL-MUSEE DU LOUVRE\") | (data_ssjo['station'] == \"MADELEINE\") | (data_ssjo['station'] == \"OPERA\") | (data_ssjo['station'] == \"AUBER\") | (data_ssjo['station'] == \"MUSEE D'ORSAY\")\n",
    "mask_sscdm = (data_ssjo['station'] == \"CHAMP DE MARS-TOUR EIFFEL\") | (data_ssjo['station'] == \"LA MOTTE-PICQUET-GRENELLE\") | (data_ssjo['station'] == \"SEGUR\")\n",
    "mask_sstef = (data_ssjo['station'] == \"CHAMP DE MARS-TOUR EIFFEL\") | (data_ssjo['station'] == \"PONT DE L'ALMA\") | (data_ssjo['station'] == \"BIR-HAKEIM (GRENELLE)\") | (data_ssjo['station'] == \"ALMA-MARCEAU\")\n",
    "mask_sssud = (data_ssjo['station'] == \"PORTE DE VERSAILLES\") | (data_ssjo['station'] == \"BALARD\") | (data_ssjo['station'] == \"PORTE DE VANVES\")\n",
    "mask_sschp = (data_ssjo['station'] == \"PORTE DE LA CHAPELLE\") | (data_ssjo['station'] == \"ROSA PARKS\")\n",
    "mask_ssber = (data_ssjo['station'] == \"BERCY\") | (data_ssjo['station'] == \"GARE DE LYON\")\n",
    "# fonction d'application du masque sans JO\n",
    "def viz_ssmask(site):\n",
    "    if site == \"ROLAND-GARROS\":\n",
    "        return mask_ssrg\n",
    "    elif site == \"PARC DES PRINCES\":\n",
    "        return mask_sspdp\n",
    "    elif site == \"STADE DE FRANCE\":\n",
    "        return mask_sssdf\n",
    "    elif site == \"GRAND PALAIS\":\n",
    "        return mask_ssgp\n",
    "    elif site == \"ARENA INVALIDES\":\n",
    "        return mask_ssinv\n",
    "    elif site == \"STADE DE LA CONCORDE\":\n",
    "        return mask_ssccd\n",
    "    elif site == \"ARENA CHAMPS DE MARS\":\n",
    "        return mask_sscdm\n",
    "    elif site == \"STADE TOUR EIFFEL\":\n",
    "        return mask_sstef\n",
    "    elif site == \"ARENA PARIS SUD\":\n",
    "        return mask_sssud\n",
    "    elif site == \"ARENA LA CHAPELLE\":\n",
    "        return mask_sschp\n",
    "    elif site == \"ARENA BERCY\":\n",
    "        return mask_ssber\n",
    "    else:\n",
    "        return 0\n",
    "\n",
    "\n",
    "# fonction d'application des stations d'un site\n",
    "def viz_stations(site):\n",
    "    if site == \"ROLAND-GARROS\":\n",
    "        return stations_RG\n",
    "    elif site == \"PARC DES PRINCES\":\n",
    "        return stations_PDP\n",
    "    elif site == \"STADE DE FRANCE\":\n",
    "        return stations_SDF\n",
    "    elif site == \"GRAND PALAIS\":\n",
    "        return stations_GP\n",
    "    elif site == \"ARENA INVALIDES\":\n",
    "        return stations_INV\n",
    "    elif site == \"STADE DE LA CONCORDE\":\n",
    "        return stations_CCD\n",
    "    elif site == \"ARENA CHAMPS DE MARS\":\n",
    "        return stations_CDM\n",
    "    elif site == \"STADE TOUR EIFFEL\":\n",
    "        return stations_TEF\n",
    "    elif site == \"ARENA PARIS SUD\":\n",
    "        return stations_SUD\n",
    "    elif site == \"ARENA LA CHAPELLE\":\n",
    "        return stations_CHP\n",
    "    elif site == \"ARENA BERCY\":\n",
    "        return stations_BER\n",
    "    else:\n",
    "        return 0\n",
    "\n",
    "\n",
    "# application du masque\n",
    "data_jo = data_jo.loc[viz_mask(site)]\n",
    "data_ssjo = data_ssjo.loc[viz_ssmask(site)]\n",
    "data_jo['station'].unique()\n"
   ]
  },
  {
   "cell_type": "code",
   "execution_count": 147,
   "metadata": {},
   "outputs": [
    {
     "data": {
      "text/plain": [
       "['PORTE DE SAINT-CLOUD', \"PORTE D'AUTEUIL\"]"
      ]
     },
     "execution_count": 147,
     "metadata": {},
     "output_type": "execute_result"
    }
   ],
   "source": [
    "stations=viz_stations(site)\n",
    "stations"
   ]
  },
  {
   "cell_type": "code",
   "execution_count": 148,
   "metadata": {},
   "outputs": [
    {
     "data": {
      "application/vnd.plotly.v1+json": {
       "config": {
        "plotlyServerURL": "https://plot.ly"
       },
       "data": [
        {
         "hovertemplate": "event=avec JO<br>ds=%{x}<br>Station PORTE DE SAINT-CLOUD=%{y}<extra></extra>",
         "legendgroup": "avec JO",
         "line": {
          "color": "#636efa",
          "dash": "solid"
         },
         "marker": {
          "symbol": "circle"
         },
         "mode": "lines+markers",
         "name": "avec JO",
         "orientation": "v",
         "showlegend": true,
         "type": "scatter",
         "x": [
          "2024-07-01T00:00:00",
          "2024-07-02T00:00:00",
          "2024-07-03T00:00:00",
          "2024-07-04T00:00:00",
          "2024-07-05T00:00:00",
          "2024-07-06T00:00:00",
          "2024-07-07T00:00:00",
          "2024-07-08T00:00:00",
          "2024-07-09T00:00:00",
          "2024-07-10T00:00:00",
          "2024-07-11T00:00:00",
          "2024-07-12T00:00:00",
          "2024-07-13T00:00:00",
          "2024-07-14T00:00:00",
          "2024-07-15T00:00:00",
          "2024-07-16T00:00:00",
          "2024-07-17T00:00:00",
          "2024-07-18T00:00:00",
          "2024-07-19T00:00:00",
          "2024-07-20T00:00:00",
          "2024-07-21T00:00:00",
          "2024-07-22T00:00:00",
          "2024-07-23T00:00:00",
          "2024-07-24T00:00:00",
          "2024-07-25T00:00:00",
          "2024-07-26T00:00:00",
          "2024-07-27T00:00:00",
          "2024-07-28T00:00:00",
          "2024-07-29T00:00:00",
          "2024-07-30T00:00:00",
          "2024-07-31T00:00:00",
          "2024-08-01T00:00:00",
          "2024-08-02T00:00:00",
          "2024-08-03T00:00:00",
          "2024-08-04T00:00:00",
          "2024-08-05T00:00:00",
          "2024-08-06T00:00:00",
          "2024-08-07T00:00:00",
          "2024-08-08T00:00:00",
          "2024-08-09T00:00:00",
          "2024-08-10T00:00:00",
          "2024-08-11T00:00:00",
          "2024-08-12T00:00:00",
          "2024-08-13T00:00:00",
          "2024-08-14T00:00:00",
          "2024-08-15T00:00:00",
          "2024-08-16T00:00:00",
          "2024-08-17T00:00:00",
          "2024-08-18T00:00:00",
          "2024-08-19T00:00:00",
          "2024-08-20T00:00:00",
          "2024-08-21T00:00:00",
          "2024-08-22T00:00:00",
          "2024-08-23T00:00:00",
          "2024-08-24T00:00:00",
          "2024-08-25T00:00:00",
          "2024-08-26T00:00:00",
          "2024-08-27T00:00:00",
          "2024-08-28T00:00:00",
          "2024-08-29T00:00:00",
          "2024-08-30T00:00:00",
          "2024-08-31T00:00:00"
         ],
         "xaxis": "x",
         "y": [
          13325,
          13466,
          13804,
          13281,
          13513,
          9680,
          9072,
          12829,
          12973,
          13313,
          12829,
          13077,
          9388,
          4448,
          12500,
          12671,
          13033,
          12586,
          12853,
          9242,
          8691,
          12329,
          12501,
          16457,
          12404,
          12650,
          12881,
          12085,
          13354,
          17279,
          13830,
          13295,
          17291,
          12360,
          9023,
          11474,
          12806,
          13081,
          12541,
          16276,
          11618,
          7648,
          10780,
          10869,
          11125,
          12375,
          10888,
          7811,
          7338,
          10415,
          10582,
          10924,
          10601,
          10896,
          7896,
          7496,
          10753,
          11041,
          11517,
          11290,
          11715,
          8566
         ],
         "yaxis": "y"
        },
        {
         "fill": "tonexty",
         "line": {
          "color": "green"
         },
         "mode": "markers+lines",
         "name": "Fonctionnement Normal",
         "type": "scatter",
         "x": [
          "2024-07-01T00:00:00",
          "2024-07-02T00:00:00",
          "2024-07-03T00:00:00",
          "2024-07-04T00:00:00",
          "2024-07-05T00:00:00",
          "2024-07-06T00:00:00",
          "2024-07-07T00:00:00",
          "2024-07-08T00:00:00",
          "2024-07-09T00:00:00",
          "2024-07-10T00:00:00",
          "2024-07-11T00:00:00",
          "2024-07-12T00:00:00",
          "2024-07-13T00:00:00",
          "2024-07-14T00:00:00",
          "2024-07-15T00:00:00",
          "2024-07-16T00:00:00",
          "2024-07-17T00:00:00",
          "2024-07-18T00:00:00",
          "2024-07-19T00:00:00",
          "2024-07-20T00:00:00",
          "2024-07-21T00:00:00",
          "2024-07-22T00:00:00",
          "2024-07-23T00:00:00",
          "2024-07-24T00:00:00",
          "2024-07-25T00:00:00",
          "2024-07-26T00:00:00",
          "2024-07-27T00:00:00",
          "2024-07-28T00:00:00",
          "2024-07-29T00:00:00",
          "2024-07-30T00:00:00",
          "2024-07-31T00:00:00",
          "2024-08-01T00:00:00",
          "2024-08-02T00:00:00",
          "2024-08-03T00:00:00",
          "2024-08-04T00:00:00",
          "2024-08-05T00:00:00",
          "2024-08-06T00:00:00",
          "2024-08-07T00:00:00",
          "2024-08-08T00:00:00",
          "2024-08-09T00:00:00",
          "2024-08-10T00:00:00",
          "2024-08-11T00:00:00",
          "2024-08-12T00:00:00",
          "2024-08-13T00:00:00",
          "2024-08-14T00:00:00",
          "2024-08-15T00:00:00",
          "2024-08-16T00:00:00",
          "2024-08-17T00:00:00",
          "2024-08-18T00:00:00",
          "2024-08-19T00:00:00",
          "2024-08-20T00:00:00",
          "2024-08-21T00:00:00",
          "2024-08-22T00:00:00",
          "2024-08-23T00:00:00",
          "2024-08-24T00:00:00",
          "2024-08-25T00:00:00",
          "2024-08-26T00:00:00",
          "2024-08-27T00:00:00",
          "2024-08-28T00:00:00",
          "2024-08-29T00:00:00",
          "2024-08-30T00:00:00",
          "2024-08-31T00:00:00"
         ],
         "y": [
          13325,
          13466,
          13804,
          13281,
          13513,
          9680,
          9072,
          12829,
          12973,
          13313,
          12829,
          13077,
          9388,
          4448,
          12500,
          12671,
          13033,
          12586,
          12853,
          9242,
          8691,
          12329,
          12501,
          12855,
          12404,
          12650,
          9079,
          8518,
          12050,
          12179,
          12480,
          11997,
          12188,
          8712,
          8142,
          11474,
          11556,
          11804,
          11316,
          11472,
          8189,
          7648,
          10780,
          10869,
          11125,
          12375,
          10888,
          7811,
          7338,
          10415,
          10582,
          10924,
          10601,
          10896,
          7896,
          7496,
          10753,
          11041,
          11517,
          11290,
          11715,
          8566
         ]
        }
       ],
       "layout": {
        "legend": {
         "title": {
          "text": "event"
         },
         "tracegroupgap": 0,
         "x": 0.01,
         "xanchor": "left",
         "y": 0.99,
         "yanchor": "top"
        },
        "margin": {
         "t": 60
        },
        "template": {
         "data": {
          "bar": [
           {
            "error_x": {
             "color": "#2a3f5f"
            },
            "error_y": {
             "color": "#2a3f5f"
            },
            "marker": {
             "line": {
              "color": "#E5ECF6",
              "width": 0.5
             },
             "pattern": {
              "fillmode": "overlay",
              "size": 10,
              "solidity": 0.2
             }
            },
            "type": "bar"
           }
          ],
          "barpolar": [
           {
            "marker": {
             "line": {
              "color": "#E5ECF6",
              "width": 0.5
             },
             "pattern": {
              "fillmode": "overlay",
              "size": 10,
              "solidity": 0.2
             }
            },
            "type": "barpolar"
           }
          ],
          "carpet": [
           {
            "aaxis": {
             "endlinecolor": "#2a3f5f",
             "gridcolor": "white",
             "linecolor": "white",
             "minorgridcolor": "white",
             "startlinecolor": "#2a3f5f"
            },
            "baxis": {
             "endlinecolor": "#2a3f5f",
             "gridcolor": "white",
             "linecolor": "white",
             "minorgridcolor": "white",
             "startlinecolor": "#2a3f5f"
            },
            "type": "carpet"
           }
          ],
          "choropleth": [
           {
            "colorbar": {
             "outlinewidth": 0,
             "ticks": ""
            },
            "type": "choropleth"
           }
          ],
          "contour": [
           {
            "colorbar": {
             "outlinewidth": 0,
             "ticks": ""
            },
            "colorscale": [
             [
              0,
              "#0d0887"
             ],
             [
              0.1111111111111111,
              "#46039f"
             ],
             [
              0.2222222222222222,
              "#7201a8"
             ],
             [
              0.3333333333333333,
              "#9c179e"
             ],
             [
              0.4444444444444444,
              "#bd3786"
             ],
             [
              0.5555555555555556,
              "#d8576b"
             ],
             [
              0.6666666666666666,
              "#ed7953"
             ],
             [
              0.7777777777777778,
              "#fb9f3a"
             ],
             [
              0.8888888888888888,
              "#fdca26"
             ],
             [
              1,
              "#f0f921"
             ]
            ],
            "type": "contour"
           }
          ],
          "contourcarpet": [
           {
            "colorbar": {
             "outlinewidth": 0,
             "ticks": ""
            },
            "type": "contourcarpet"
           }
          ],
          "heatmap": [
           {
            "colorbar": {
             "outlinewidth": 0,
             "ticks": ""
            },
            "colorscale": [
             [
              0,
              "#0d0887"
             ],
             [
              0.1111111111111111,
              "#46039f"
             ],
             [
              0.2222222222222222,
              "#7201a8"
             ],
             [
              0.3333333333333333,
              "#9c179e"
             ],
             [
              0.4444444444444444,
              "#bd3786"
             ],
             [
              0.5555555555555556,
              "#d8576b"
             ],
             [
              0.6666666666666666,
              "#ed7953"
             ],
             [
              0.7777777777777778,
              "#fb9f3a"
             ],
             [
              0.8888888888888888,
              "#fdca26"
             ],
             [
              1,
              "#f0f921"
             ]
            ],
            "type": "heatmap"
           }
          ],
          "heatmapgl": [
           {
            "colorbar": {
             "outlinewidth": 0,
             "ticks": ""
            },
            "colorscale": [
             [
              0,
              "#0d0887"
             ],
             [
              0.1111111111111111,
              "#46039f"
             ],
             [
              0.2222222222222222,
              "#7201a8"
             ],
             [
              0.3333333333333333,
              "#9c179e"
             ],
             [
              0.4444444444444444,
              "#bd3786"
             ],
             [
              0.5555555555555556,
              "#d8576b"
             ],
             [
              0.6666666666666666,
              "#ed7953"
             ],
             [
              0.7777777777777778,
              "#fb9f3a"
             ],
             [
              0.8888888888888888,
              "#fdca26"
             ],
             [
              1,
              "#f0f921"
             ]
            ],
            "type": "heatmapgl"
           }
          ],
          "histogram": [
           {
            "marker": {
             "pattern": {
              "fillmode": "overlay",
              "size": 10,
              "solidity": 0.2
             }
            },
            "type": "histogram"
           }
          ],
          "histogram2d": [
           {
            "colorbar": {
             "outlinewidth": 0,
             "ticks": ""
            },
            "colorscale": [
             [
              0,
              "#0d0887"
             ],
             [
              0.1111111111111111,
              "#46039f"
             ],
             [
              0.2222222222222222,
              "#7201a8"
             ],
             [
              0.3333333333333333,
              "#9c179e"
             ],
             [
              0.4444444444444444,
              "#bd3786"
             ],
             [
              0.5555555555555556,
              "#d8576b"
             ],
             [
              0.6666666666666666,
              "#ed7953"
             ],
             [
              0.7777777777777778,
              "#fb9f3a"
             ],
             [
              0.8888888888888888,
              "#fdca26"
             ],
             [
              1,
              "#f0f921"
             ]
            ],
            "type": "histogram2d"
           }
          ],
          "histogram2dcontour": [
           {
            "colorbar": {
             "outlinewidth": 0,
             "ticks": ""
            },
            "colorscale": [
             [
              0,
              "#0d0887"
             ],
             [
              0.1111111111111111,
              "#46039f"
             ],
             [
              0.2222222222222222,
              "#7201a8"
             ],
             [
              0.3333333333333333,
              "#9c179e"
             ],
             [
              0.4444444444444444,
              "#bd3786"
             ],
             [
              0.5555555555555556,
              "#d8576b"
             ],
             [
              0.6666666666666666,
              "#ed7953"
             ],
             [
              0.7777777777777778,
              "#fb9f3a"
             ],
             [
              0.8888888888888888,
              "#fdca26"
             ],
             [
              1,
              "#f0f921"
             ]
            ],
            "type": "histogram2dcontour"
           }
          ],
          "mesh3d": [
           {
            "colorbar": {
             "outlinewidth": 0,
             "ticks": ""
            },
            "type": "mesh3d"
           }
          ],
          "parcoords": [
           {
            "line": {
             "colorbar": {
              "outlinewidth": 0,
              "ticks": ""
             }
            },
            "type": "parcoords"
           }
          ],
          "pie": [
           {
            "automargin": true,
            "type": "pie"
           }
          ],
          "scatter": [
           {
            "fillpattern": {
             "fillmode": "overlay",
             "size": 10,
             "solidity": 0.2
            },
            "type": "scatter"
           }
          ],
          "scatter3d": [
           {
            "line": {
             "colorbar": {
              "outlinewidth": 0,
              "ticks": ""
             }
            },
            "marker": {
             "colorbar": {
              "outlinewidth": 0,
              "ticks": ""
             }
            },
            "type": "scatter3d"
           }
          ],
          "scattercarpet": [
           {
            "marker": {
             "colorbar": {
              "outlinewidth": 0,
              "ticks": ""
             }
            },
            "type": "scattercarpet"
           }
          ],
          "scattergeo": [
           {
            "marker": {
             "colorbar": {
              "outlinewidth": 0,
              "ticks": ""
             }
            },
            "type": "scattergeo"
           }
          ],
          "scattergl": [
           {
            "marker": {
             "colorbar": {
              "outlinewidth": 0,
              "ticks": ""
             }
            },
            "type": "scattergl"
           }
          ],
          "scattermapbox": [
           {
            "marker": {
             "colorbar": {
              "outlinewidth": 0,
              "ticks": ""
             }
            },
            "type": "scattermapbox"
           }
          ],
          "scatterpolar": [
           {
            "marker": {
             "colorbar": {
              "outlinewidth": 0,
              "ticks": ""
             }
            },
            "type": "scatterpolar"
           }
          ],
          "scatterpolargl": [
           {
            "marker": {
             "colorbar": {
              "outlinewidth": 0,
              "ticks": ""
             }
            },
            "type": "scatterpolargl"
           }
          ],
          "scatterternary": [
           {
            "marker": {
             "colorbar": {
              "outlinewidth": 0,
              "ticks": ""
             }
            },
            "type": "scatterternary"
           }
          ],
          "surface": [
           {
            "colorbar": {
             "outlinewidth": 0,
             "ticks": ""
            },
            "colorscale": [
             [
              0,
              "#0d0887"
             ],
             [
              0.1111111111111111,
              "#46039f"
             ],
             [
              0.2222222222222222,
              "#7201a8"
             ],
             [
              0.3333333333333333,
              "#9c179e"
             ],
             [
              0.4444444444444444,
              "#bd3786"
             ],
             [
              0.5555555555555556,
              "#d8576b"
             ],
             [
              0.6666666666666666,
              "#ed7953"
             ],
             [
              0.7777777777777778,
              "#fb9f3a"
             ],
             [
              0.8888888888888888,
              "#fdca26"
             ],
             [
              1,
              "#f0f921"
             ]
            ],
            "type": "surface"
           }
          ],
          "table": [
           {
            "cells": {
             "fill": {
              "color": "#EBF0F8"
             },
             "line": {
              "color": "white"
             }
            },
            "header": {
             "fill": {
              "color": "#C8D4E3"
             },
             "line": {
              "color": "white"
             }
            },
            "type": "table"
           }
          ]
         },
         "layout": {
          "annotationdefaults": {
           "arrowcolor": "#2a3f5f",
           "arrowhead": 0,
           "arrowwidth": 1
          },
          "autotypenumbers": "strict",
          "coloraxis": {
           "colorbar": {
            "outlinewidth": 0,
            "ticks": ""
           }
          },
          "colorscale": {
           "diverging": [
            [
             0,
             "#8e0152"
            ],
            [
             0.1,
             "#c51b7d"
            ],
            [
             0.2,
             "#de77ae"
            ],
            [
             0.3,
             "#f1b6da"
            ],
            [
             0.4,
             "#fde0ef"
            ],
            [
             0.5,
             "#f7f7f7"
            ],
            [
             0.6,
             "#e6f5d0"
            ],
            [
             0.7,
             "#b8e186"
            ],
            [
             0.8,
             "#7fbc41"
            ],
            [
             0.9,
             "#4d9221"
            ],
            [
             1,
             "#276419"
            ]
           ],
           "sequential": [
            [
             0,
             "#0d0887"
            ],
            [
             0.1111111111111111,
             "#46039f"
            ],
            [
             0.2222222222222222,
             "#7201a8"
            ],
            [
             0.3333333333333333,
             "#9c179e"
            ],
            [
             0.4444444444444444,
             "#bd3786"
            ],
            [
             0.5555555555555556,
             "#d8576b"
            ],
            [
             0.6666666666666666,
             "#ed7953"
            ],
            [
             0.7777777777777778,
             "#fb9f3a"
            ],
            [
             0.8888888888888888,
             "#fdca26"
            ],
            [
             1,
             "#f0f921"
            ]
           ],
           "sequentialminus": [
            [
             0,
             "#0d0887"
            ],
            [
             0.1111111111111111,
             "#46039f"
            ],
            [
             0.2222222222222222,
             "#7201a8"
            ],
            [
             0.3333333333333333,
             "#9c179e"
            ],
            [
             0.4444444444444444,
             "#bd3786"
            ],
            [
             0.5555555555555556,
             "#d8576b"
            ],
            [
             0.6666666666666666,
             "#ed7953"
            ],
            [
             0.7777777777777778,
             "#fb9f3a"
            ],
            [
             0.8888888888888888,
             "#fdca26"
            ],
            [
             1,
             "#f0f921"
            ]
           ]
          },
          "colorway": [
           "#636efa",
           "#EF553B",
           "#00cc96",
           "#ab63fa",
           "#FFA15A",
           "#19d3f3",
           "#FF6692",
           "#B6E880",
           "#FF97FF",
           "#FECB52"
          ],
          "font": {
           "color": "#2a3f5f"
          },
          "geo": {
           "bgcolor": "white",
           "lakecolor": "white",
           "landcolor": "#E5ECF6",
           "showlakes": true,
           "showland": true,
           "subunitcolor": "white"
          },
          "hoverlabel": {
           "align": "left"
          },
          "hovermode": "closest",
          "mapbox": {
           "style": "light"
          },
          "paper_bgcolor": "white",
          "plot_bgcolor": "#E5ECF6",
          "polar": {
           "angularaxis": {
            "gridcolor": "white",
            "linecolor": "white",
            "ticks": ""
           },
           "bgcolor": "#E5ECF6",
           "radialaxis": {
            "gridcolor": "white",
            "linecolor": "white",
            "ticks": ""
           }
          },
          "scene": {
           "xaxis": {
            "backgroundcolor": "#E5ECF6",
            "gridcolor": "white",
            "gridwidth": 2,
            "linecolor": "white",
            "showbackground": true,
            "ticks": "",
            "zerolinecolor": "white"
           },
           "yaxis": {
            "backgroundcolor": "#E5ECF6",
            "gridcolor": "white",
            "gridwidth": 2,
            "linecolor": "white",
            "showbackground": true,
            "ticks": "",
            "zerolinecolor": "white"
           },
           "zaxis": {
            "backgroundcolor": "#E5ECF6",
            "gridcolor": "white",
            "gridwidth": 2,
            "linecolor": "white",
            "showbackground": true,
            "ticks": "",
            "zerolinecolor": "white"
           }
          },
          "shapedefaults": {
           "line": {
            "color": "#2a3f5f"
           }
          },
          "ternary": {
           "aaxis": {
            "gridcolor": "white",
            "linecolor": "white",
            "ticks": ""
           },
           "baxis": {
            "gridcolor": "white",
            "linecolor": "white",
            "ticks": ""
           },
           "bgcolor": "#E5ECF6",
           "caxis": {
            "gridcolor": "white",
            "linecolor": "white",
            "ticks": ""
           }
          },
          "title": {
           "x": 0.05
          },
          "xaxis": {
           "automargin": true,
           "gridcolor": "white",
           "linecolor": "white",
           "ticks": "",
           "title": {
            "standoff": 15
           },
           "zerolinecolor": "white",
           "zerolinewidth": 2
          },
          "yaxis": {
           "automargin": true,
           "gridcolor": "white",
           "linecolor": "white",
           "ticks": "",
           "title": {
            "standoff": 15
           },
           "zerolinecolor": "white",
           "zerolinewidth": 2
          }
         }
        },
        "xaxis": {
         "anchor": "y",
         "domain": [
          0,
          1
         ],
         "title": {
          "text": "ds"
         }
        },
        "yaxis": {
         "anchor": "x",
         "domain": [
          0,
          1
         ],
         "title": {
          "text": "Station PORTE DE SAINT-CLOUD"
         }
        }
       }
      }
     },
     "metadata": {},
     "output_type": "display_data"
    },
    {
     "data": {
      "application/vnd.plotly.v1+json": {
       "config": {
        "plotlyServerURL": "https://plot.ly"
       },
       "data": [
        {
         "hovertemplate": "event=avec JO<br>ds=%{x}<br>Station PORTE D'AUTEUIL=%{y}<extra></extra>",
         "legendgroup": "avec JO",
         "line": {
          "color": "#636efa",
          "dash": "solid"
         },
         "marker": {
          "symbol": "circle"
         },
         "mode": "lines+markers",
         "name": "avec JO",
         "orientation": "v",
         "showlegend": true,
         "type": "scatter",
         "x": [
          "2024-07-01T00:00:00",
          "2024-07-02T00:00:00",
          "2024-07-03T00:00:00",
          "2024-07-04T00:00:00",
          "2024-07-05T00:00:00",
          "2024-07-06T00:00:00",
          "2024-07-07T00:00:00",
          "2024-07-08T00:00:00",
          "2024-07-09T00:00:00",
          "2024-07-10T00:00:00",
          "2024-07-11T00:00:00",
          "2024-07-12T00:00:00",
          "2024-07-13T00:00:00",
          "2024-07-14T00:00:00",
          "2024-07-15T00:00:00",
          "2024-07-16T00:00:00",
          "2024-07-17T00:00:00",
          "2024-07-18T00:00:00",
          "2024-07-19T00:00:00",
          "2024-07-20T00:00:00",
          "2024-07-21T00:00:00",
          "2024-07-22T00:00:00",
          "2024-07-23T00:00:00",
          "2024-07-24T00:00:00",
          "2024-07-25T00:00:00",
          "2024-07-26T00:00:00",
          "2024-07-27T00:00:00",
          "2024-07-28T00:00:00",
          "2024-07-29T00:00:00",
          "2024-07-30T00:00:00",
          "2024-07-31T00:00:00",
          "2024-08-01T00:00:00",
          "2024-08-02T00:00:00",
          "2024-08-03T00:00:00",
          "2024-08-04T00:00:00",
          "2024-08-05T00:00:00",
          "2024-08-06T00:00:00",
          "2024-08-07T00:00:00",
          "2024-08-08T00:00:00",
          "2024-08-09T00:00:00",
          "2024-08-10T00:00:00",
          "2024-08-11T00:00:00",
          "2024-08-12T00:00:00",
          "2024-08-13T00:00:00",
          "2024-08-14T00:00:00",
          "2024-08-15T00:00:00",
          "2024-08-16T00:00:00",
          "2024-08-17T00:00:00",
          "2024-08-18T00:00:00",
          "2024-08-19T00:00:00",
          "2024-08-20T00:00:00",
          "2024-08-21T00:00:00",
          "2024-08-22T00:00:00",
          "2024-08-23T00:00:00",
          "2024-08-24T00:00:00",
          "2024-08-25T00:00:00",
          "2024-08-26T00:00:00",
          "2024-08-27T00:00:00",
          "2024-08-28T00:00:00",
          "2024-08-29T00:00:00",
          "2024-08-30T00:00:00",
          "2024-08-31T00:00:00"
         ],
         "xaxis": "x",
         "y": [
          1450,
          1455,
          1462,
          1374,
          1405,
          1184,
          985,
          1278,
          1265,
          1259,
          1175,
          1198,
          1009,
          728,
          1101,
          1100,
          1108,
          1049,
          1086,
          931,
          791,
          1052,
          1070,
          1467,
          1053,
          1105,
          2523,
          2164,
          2160,
          2951,
          2256,
          2163,
          3023,
          2598,
          1647,
          1105,
          2190,
          2210,
          2087,
          2875,
          2436,
          775,
          1011,
          1009,
          1011,
          566,
          977,
          830,
          699,
          921,
          930,
          946,
          905,
          949,
          823,
          710,
          958,
          991,
          1032,
          1011,
          1083,
          959
         ],
         "yaxis": "y"
        },
        {
         "fill": "tonexty",
         "line": {
          "color": "green"
         },
         "mode": "markers+lines",
         "name": "Fonctionnement Normal",
         "type": "scatter",
         "x": [
          "2024-07-01T00:00:00",
          "2024-07-02T00:00:00",
          "2024-07-03T00:00:00",
          "2024-07-04T00:00:00",
          "2024-07-05T00:00:00",
          "2024-07-06T00:00:00",
          "2024-07-07T00:00:00",
          "2024-07-08T00:00:00",
          "2024-07-09T00:00:00",
          "2024-07-10T00:00:00",
          "2024-07-11T00:00:00",
          "2024-07-12T00:00:00",
          "2024-07-13T00:00:00",
          "2024-07-14T00:00:00",
          "2024-07-15T00:00:00",
          "2024-07-16T00:00:00",
          "2024-07-17T00:00:00",
          "2024-07-18T00:00:00",
          "2024-07-19T00:00:00",
          "2024-07-20T00:00:00",
          "2024-07-21T00:00:00",
          "2024-07-22T00:00:00",
          "2024-07-23T00:00:00",
          "2024-07-24T00:00:00",
          "2024-07-25T00:00:00",
          "2024-07-26T00:00:00",
          "2024-07-27T00:00:00",
          "2024-07-28T00:00:00",
          "2024-07-29T00:00:00",
          "2024-07-30T00:00:00",
          "2024-07-31T00:00:00",
          "2024-08-01T00:00:00",
          "2024-08-02T00:00:00",
          "2024-08-03T00:00:00",
          "2024-08-04T00:00:00",
          "2024-08-05T00:00:00",
          "2024-08-06T00:00:00",
          "2024-08-07T00:00:00",
          "2024-08-08T00:00:00",
          "2024-08-09T00:00:00",
          "2024-08-10T00:00:00",
          "2024-08-11T00:00:00",
          "2024-08-12T00:00:00",
          "2024-08-13T00:00:00",
          "2024-08-14T00:00:00",
          "2024-08-15T00:00:00",
          "2024-08-16T00:00:00",
          "2024-08-17T00:00:00",
          "2024-08-18T00:00:00",
          "2024-08-19T00:00:00",
          "2024-08-20T00:00:00",
          "2024-08-21T00:00:00",
          "2024-08-22T00:00:00",
          "2024-08-23T00:00:00",
          "2024-08-24T00:00:00",
          "2024-08-25T00:00:00",
          "2024-08-26T00:00:00",
          "2024-08-27T00:00:00",
          "2024-08-28T00:00:00",
          "2024-08-29T00:00:00",
          "2024-08-30T00:00:00",
          "2024-08-31T00:00:00"
         ],
         "y": [
          1450,
          1455,
          1462,
          1374,
          1405,
          1184,
          985,
          1278,
          1265,
          1259,
          1175,
          1198,
          1009,
          728,
          1101,
          1100,
          1108,
          1049,
          1086,
          931,
          791,
          1052,
          1070,
          1095,
          1053,
          1105,
          957,
          821,
          1097,
          1120,
          1146,
          1099,
          1147,
          986,
          837,
          1105,
          1113,
          1123,
          1060,
          1091,
          924,
          775,
          1011,
          1009,
          1011,
          566,
          977,
          830,
          699,
          921,
          930,
          946,
          905,
          949,
          823,
          710,
          958,
          991,
          1032,
          1011,
          1083,
          959
         ]
        }
       ],
       "layout": {
        "legend": {
         "title": {
          "text": "event"
         },
         "tracegroupgap": 0,
         "x": 0.01,
         "xanchor": "left",
         "y": 0.99,
         "yanchor": "top"
        },
        "margin": {
         "t": 60
        },
        "template": {
         "data": {
          "bar": [
           {
            "error_x": {
             "color": "#2a3f5f"
            },
            "error_y": {
             "color": "#2a3f5f"
            },
            "marker": {
             "line": {
              "color": "#E5ECF6",
              "width": 0.5
             },
             "pattern": {
              "fillmode": "overlay",
              "size": 10,
              "solidity": 0.2
             }
            },
            "type": "bar"
           }
          ],
          "barpolar": [
           {
            "marker": {
             "line": {
              "color": "#E5ECF6",
              "width": 0.5
             },
             "pattern": {
              "fillmode": "overlay",
              "size": 10,
              "solidity": 0.2
             }
            },
            "type": "barpolar"
           }
          ],
          "carpet": [
           {
            "aaxis": {
             "endlinecolor": "#2a3f5f",
             "gridcolor": "white",
             "linecolor": "white",
             "minorgridcolor": "white",
             "startlinecolor": "#2a3f5f"
            },
            "baxis": {
             "endlinecolor": "#2a3f5f",
             "gridcolor": "white",
             "linecolor": "white",
             "minorgridcolor": "white",
             "startlinecolor": "#2a3f5f"
            },
            "type": "carpet"
           }
          ],
          "choropleth": [
           {
            "colorbar": {
             "outlinewidth": 0,
             "ticks": ""
            },
            "type": "choropleth"
           }
          ],
          "contour": [
           {
            "colorbar": {
             "outlinewidth": 0,
             "ticks": ""
            },
            "colorscale": [
             [
              0,
              "#0d0887"
             ],
             [
              0.1111111111111111,
              "#46039f"
             ],
             [
              0.2222222222222222,
              "#7201a8"
             ],
             [
              0.3333333333333333,
              "#9c179e"
             ],
             [
              0.4444444444444444,
              "#bd3786"
             ],
             [
              0.5555555555555556,
              "#d8576b"
             ],
             [
              0.6666666666666666,
              "#ed7953"
             ],
             [
              0.7777777777777778,
              "#fb9f3a"
             ],
             [
              0.8888888888888888,
              "#fdca26"
             ],
             [
              1,
              "#f0f921"
             ]
            ],
            "type": "contour"
           }
          ],
          "contourcarpet": [
           {
            "colorbar": {
             "outlinewidth": 0,
             "ticks": ""
            },
            "type": "contourcarpet"
           }
          ],
          "heatmap": [
           {
            "colorbar": {
             "outlinewidth": 0,
             "ticks": ""
            },
            "colorscale": [
             [
              0,
              "#0d0887"
             ],
             [
              0.1111111111111111,
              "#46039f"
             ],
             [
              0.2222222222222222,
              "#7201a8"
             ],
             [
              0.3333333333333333,
              "#9c179e"
             ],
             [
              0.4444444444444444,
              "#bd3786"
             ],
             [
              0.5555555555555556,
              "#d8576b"
             ],
             [
              0.6666666666666666,
              "#ed7953"
             ],
             [
              0.7777777777777778,
              "#fb9f3a"
             ],
             [
              0.8888888888888888,
              "#fdca26"
             ],
             [
              1,
              "#f0f921"
             ]
            ],
            "type": "heatmap"
           }
          ],
          "heatmapgl": [
           {
            "colorbar": {
             "outlinewidth": 0,
             "ticks": ""
            },
            "colorscale": [
             [
              0,
              "#0d0887"
             ],
             [
              0.1111111111111111,
              "#46039f"
             ],
             [
              0.2222222222222222,
              "#7201a8"
             ],
             [
              0.3333333333333333,
              "#9c179e"
             ],
             [
              0.4444444444444444,
              "#bd3786"
             ],
             [
              0.5555555555555556,
              "#d8576b"
             ],
             [
              0.6666666666666666,
              "#ed7953"
             ],
             [
              0.7777777777777778,
              "#fb9f3a"
             ],
             [
              0.8888888888888888,
              "#fdca26"
             ],
             [
              1,
              "#f0f921"
             ]
            ],
            "type": "heatmapgl"
           }
          ],
          "histogram": [
           {
            "marker": {
             "pattern": {
              "fillmode": "overlay",
              "size": 10,
              "solidity": 0.2
             }
            },
            "type": "histogram"
           }
          ],
          "histogram2d": [
           {
            "colorbar": {
             "outlinewidth": 0,
             "ticks": ""
            },
            "colorscale": [
             [
              0,
              "#0d0887"
             ],
             [
              0.1111111111111111,
              "#46039f"
             ],
             [
              0.2222222222222222,
              "#7201a8"
             ],
             [
              0.3333333333333333,
              "#9c179e"
             ],
             [
              0.4444444444444444,
              "#bd3786"
             ],
             [
              0.5555555555555556,
              "#d8576b"
             ],
             [
              0.6666666666666666,
              "#ed7953"
             ],
             [
              0.7777777777777778,
              "#fb9f3a"
             ],
             [
              0.8888888888888888,
              "#fdca26"
             ],
             [
              1,
              "#f0f921"
             ]
            ],
            "type": "histogram2d"
           }
          ],
          "histogram2dcontour": [
           {
            "colorbar": {
             "outlinewidth": 0,
             "ticks": ""
            },
            "colorscale": [
             [
              0,
              "#0d0887"
             ],
             [
              0.1111111111111111,
              "#46039f"
             ],
             [
              0.2222222222222222,
              "#7201a8"
             ],
             [
              0.3333333333333333,
              "#9c179e"
             ],
             [
              0.4444444444444444,
              "#bd3786"
             ],
             [
              0.5555555555555556,
              "#d8576b"
             ],
             [
              0.6666666666666666,
              "#ed7953"
             ],
             [
              0.7777777777777778,
              "#fb9f3a"
             ],
             [
              0.8888888888888888,
              "#fdca26"
             ],
             [
              1,
              "#f0f921"
             ]
            ],
            "type": "histogram2dcontour"
           }
          ],
          "mesh3d": [
           {
            "colorbar": {
             "outlinewidth": 0,
             "ticks": ""
            },
            "type": "mesh3d"
           }
          ],
          "parcoords": [
           {
            "line": {
             "colorbar": {
              "outlinewidth": 0,
              "ticks": ""
             }
            },
            "type": "parcoords"
           }
          ],
          "pie": [
           {
            "automargin": true,
            "type": "pie"
           }
          ],
          "scatter": [
           {
            "fillpattern": {
             "fillmode": "overlay",
             "size": 10,
             "solidity": 0.2
            },
            "type": "scatter"
           }
          ],
          "scatter3d": [
           {
            "line": {
             "colorbar": {
              "outlinewidth": 0,
              "ticks": ""
             }
            },
            "marker": {
             "colorbar": {
              "outlinewidth": 0,
              "ticks": ""
             }
            },
            "type": "scatter3d"
           }
          ],
          "scattercarpet": [
           {
            "marker": {
             "colorbar": {
              "outlinewidth": 0,
              "ticks": ""
             }
            },
            "type": "scattercarpet"
           }
          ],
          "scattergeo": [
           {
            "marker": {
             "colorbar": {
              "outlinewidth": 0,
              "ticks": ""
             }
            },
            "type": "scattergeo"
           }
          ],
          "scattergl": [
           {
            "marker": {
             "colorbar": {
              "outlinewidth": 0,
              "ticks": ""
             }
            },
            "type": "scattergl"
           }
          ],
          "scattermapbox": [
           {
            "marker": {
             "colorbar": {
              "outlinewidth": 0,
              "ticks": ""
             }
            },
            "type": "scattermapbox"
           }
          ],
          "scatterpolar": [
           {
            "marker": {
             "colorbar": {
              "outlinewidth": 0,
              "ticks": ""
             }
            },
            "type": "scatterpolar"
           }
          ],
          "scatterpolargl": [
           {
            "marker": {
             "colorbar": {
              "outlinewidth": 0,
              "ticks": ""
             }
            },
            "type": "scatterpolargl"
           }
          ],
          "scatterternary": [
           {
            "marker": {
             "colorbar": {
              "outlinewidth": 0,
              "ticks": ""
             }
            },
            "type": "scatterternary"
           }
          ],
          "surface": [
           {
            "colorbar": {
             "outlinewidth": 0,
             "ticks": ""
            },
            "colorscale": [
             [
              0,
              "#0d0887"
             ],
             [
              0.1111111111111111,
              "#46039f"
             ],
             [
              0.2222222222222222,
              "#7201a8"
             ],
             [
              0.3333333333333333,
              "#9c179e"
             ],
             [
              0.4444444444444444,
              "#bd3786"
             ],
             [
              0.5555555555555556,
              "#d8576b"
             ],
             [
              0.6666666666666666,
              "#ed7953"
             ],
             [
              0.7777777777777778,
              "#fb9f3a"
             ],
             [
              0.8888888888888888,
              "#fdca26"
             ],
             [
              1,
              "#f0f921"
             ]
            ],
            "type": "surface"
           }
          ],
          "table": [
           {
            "cells": {
             "fill": {
              "color": "#EBF0F8"
             },
             "line": {
              "color": "white"
             }
            },
            "header": {
             "fill": {
              "color": "#C8D4E3"
             },
             "line": {
              "color": "white"
             }
            },
            "type": "table"
           }
          ]
         },
         "layout": {
          "annotationdefaults": {
           "arrowcolor": "#2a3f5f",
           "arrowhead": 0,
           "arrowwidth": 1
          },
          "autotypenumbers": "strict",
          "coloraxis": {
           "colorbar": {
            "outlinewidth": 0,
            "ticks": ""
           }
          },
          "colorscale": {
           "diverging": [
            [
             0,
             "#8e0152"
            ],
            [
             0.1,
             "#c51b7d"
            ],
            [
             0.2,
             "#de77ae"
            ],
            [
             0.3,
             "#f1b6da"
            ],
            [
             0.4,
             "#fde0ef"
            ],
            [
             0.5,
             "#f7f7f7"
            ],
            [
             0.6,
             "#e6f5d0"
            ],
            [
             0.7,
             "#b8e186"
            ],
            [
             0.8,
             "#7fbc41"
            ],
            [
             0.9,
             "#4d9221"
            ],
            [
             1,
             "#276419"
            ]
           ],
           "sequential": [
            [
             0,
             "#0d0887"
            ],
            [
             0.1111111111111111,
             "#46039f"
            ],
            [
             0.2222222222222222,
             "#7201a8"
            ],
            [
             0.3333333333333333,
             "#9c179e"
            ],
            [
             0.4444444444444444,
             "#bd3786"
            ],
            [
             0.5555555555555556,
             "#d8576b"
            ],
            [
             0.6666666666666666,
             "#ed7953"
            ],
            [
             0.7777777777777778,
             "#fb9f3a"
            ],
            [
             0.8888888888888888,
             "#fdca26"
            ],
            [
             1,
             "#f0f921"
            ]
           ],
           "sequentialminus": [
            [
             0,
             "#0d0887"
            ],
            [
             0.1111111111111111,
             "#46039f"
            ],
            [
             0.2222222222222222,
             "#7201a8"
            ],
            [
             0.3333333333333333,
             "#9c179e"
            ],
            [
             0.4444444444444444,
             "#bd3786"
            ],
            [
             0.5555555555555556,
             "#d8576b"
            ],
            [
             0.6666666666666666,
             "#ed7953"
            ],
            [
             0.7777777777777778,
             "#fb9f3a"
            ],
            [
             0.8888888888888888,
             "#fdca26"
            ],
            [
             1,
             "#f0f921"
            ]
           ]
          },
          "colorway": [
           "#636efa",
           "#EF553B",
           "#00cc96",
           "#ab63fa",
           "#FFA15A",
           "#19d3f3",
           "#FF6692",
           "#B6E880",
           "#FF97FF",
           "#FECB52"
          ],
          "font": {
           "color": "#2a3f5f"
          },
          "geo": {
           "bgcolor": "white",
           "lakecolor": "white",
           "landcolor": "#E5ECF6",
           "showlakes": true,
           "showland": true,
           "subunitcolor": "white"
          },
          "hoverlabel": {
           "align": "left"
          },
          "hovermode": "closest",
          "mapbox": {
           "style": "light"
          },
          "paper_bgcolor": "white",
          "plot_bgcolor": "#E5ECF6",
          "polar": {
           "angularaxis": {
            "gridcolor": "white",
            "linecolor": "white",
            "ticks": ""
           },
           "bgcolor": "#E5ECF6",
           "radialaxis": {
            "gridcolor": "white",
            "linecolor": "white",
            "ticks": ""
           }
          },
          "scene": {
           "xaxis": {
            "backgroundcolor": "#E5ECF6",
            "gridcolor": "white",
            "gridwidth": 2,
            "linecolor": "white",
            "showbackground": true,
            "ticks": "",
            "zerolinecolor": "white"
           },
           "yaxis": {
            "backgroundcolor": "#E5ECF6",
            "gridcolor": "white",
            "gridwidth": 2,
            "linecolor": "white",
            "showbackground": true,
            "ticks": "",
            "zerolinecolor": "white"
           },
           "zaxis": {
            "backgroundcolor": "#E5ECF6",
            "gridcolor": "white",
            "gridwidth": 2,
            "linecolor": "white",
            "showbackground": true,
            "ticks": "",
            "zerolinecolor": "white"
           }
          },
          "shapedefaults": {
           "line": {
            "color": "#2a3f5f"
           }
          },
          "ternary": {
           "aaxis": {
            "gridcolor": "white",
            "linecolor": "white",
            "ticks": ""
           },
           "baxis": {
            "gridcolor": "white",
            "linecolor": "white",
            "ticks": ""
           },
           "bgcolor": "#E5ECF6",
           "caxis": {
            "gridcolor": "white",
            "linecolor": "white",
            "ticks": ""
           }
          },
          "title": {
           "x": 0.05
          },
          "xaxis": {
           "automargin": true,
           "gridcolor": "white",
           "linecolor": "white",
           "ticks": "",
           "title": {
            "standoff": 15
           },
           "zerolinecolor": "white",
           "zerolinewidth": 2
          },
          "yaxis": {
           "automargin": true,
           "gridcolor": "white",
           "linecolor": "white",
           "ticks": "",
           "title": {
            "standoff": 15
           },
           "zerolinecolor": "white",
           "zerolinewidth": 2
          }
         }
        },
        "xaxis": {
         "anchor": "y",
         "domain": [
          0,
          1
         ],
         "title": {
          "text": "ds"
         }
        },
        "yaxis": {
         "anchor": "x",
         "domain": [
          0,
          1
         ],
         "title": {
          "text": "Station PORTE D'AUTEUIL"
         }
        }
       }
      }
     },
     "metadata": {},
     "output_type": "display_data"
    }
   ],
   "source": [
    "# visualisation des graphes\n",
    "for station in stations :\n",
    "        \n",
    "    maskjo = (data_jo[\"station\"] == station)\n",
    "    maskssjo = (data_ssjo[\"station\"] == station)\n",
    "\n",
    "    filtered_data_jo = data_jo[maskjo].sort_values(by=\"ds\") \n",
    "    filtered_data_ssjo = data_ssjo[maskssjo].sort_values(by=\"ds\")\n",
    "    filtered_data_jo['yhat'] = filtered_data_jo['yhat'].apply(np.floor).astype(int)\n",
    "    filtered_data_ssjo['yhat'] = filtered_data_ssjo['yhat'].apply(np.floor).astype(int)\n",
    "    filtered_data_jo['event']=\"avec JO\"\n",
    "    \n",
    "    fig = px.line(filtered_data_jo, x=\"ds\", y=\"yhat\", markers=True, color=\"event\", labels={\"yhat\": f\"Station {station}\"})\n",
    "    fig.add_scatter(x=filtered_data_ssjo[\"ds\"], y=filtered_data_ssjo[\"yhat\"], fill='tonexty', mode='markers+lines', name=\"Fonctionnement Normal\", line=dict(color='green'))\n",
    "    fig.update_layout(legend=dict(yanchor=\"top\",y=0.99,xanchor=\"left\",x=0.01))\n",
    "    fig.show()   \n"
   ]
  },
  {
   "cell_type": "code",
   "execution_count": 149,
   "metadata": {},
   "outputs": [
    {
     "data": {
      "application/vnd.plotly.v1+json": {
       "config": {
        "plotlyServerURL": "https://plot.ly"
       },
       "data": [
        {
         "mode": "markers+lines",
         "name": "Fonctionnement pendant JO",
         "type": "scatter",
         "x": [
          "2024-07-01T00:00:00",
          "2024-07-02T00:00:00",
          "2024-07-03T00:00:00",
          "2024-07-04T00:00:00",
          "2024-07-05T00:00:00",
          "2024-07-06T00:00:00",
          "2024-07-07T00:00:00",
          "2024-07-08T00:00:00",
          "2024-07-09T00:00:00",
          "2024-07-10T00:00:00",
          "2024-07-11T00:00:00",
          "2024-07-12T00:00:00",
          "2024-07-13T00:00:00",
          "2024-07-14T00:00:00",
          "2024-07-15T00:00:00",
          "2024-07-16T00:00:00",
          "2024-07-17T00:00:00",
          "2024-07-18T00:00:00",
          "2024-07-19T00:00:00",
          "2024-07-20T00:00:00",
          "2024-07-21T00:00:00",
          "2024-07-22T00:00:00",
          "2024-07-23T00:00:00",
          "2024-07-24T00:00:00",
          "2024-07-25T00:00:00",
          "2024-07-26T00:00:00",
          "2024-07-27T00:00:00",
          "2024-07-28T00:00:00",
          "2024-07-29T00:00:00",
          "2024-07-30T00:00:00",
          "2024-07-31T00:00:00",
          "2024-08-01T00:00:00",
          "2024-08-02T00:00:00",
          "2024-08-03T00:00:00",
          "2024-08-04T00:00:00",
          "2024-08-05T00:00:00",
          "2024-08-06T00:00:00",
          "2024-08-07T00:00:00",
          "2024-08-08T00:00:00",
          "2024-08-09T00:00:00",
          "2024-08-10T00:00:00",
          "2024-08-11T00:00:00",
          "2024-08-12T00:00:00",
          "2024-08-13T00:00:00",
          "2024-08-14T00:00:00",
          "2024-08-15T00:00:00",
          "2024-08-16T00:00:00",
          "2024-08-17T00:00:00",
          "2024-08-18T00:00:00",
          "2024-08-19T00:00:00",
          "2024-08-20T00:00:00",
          "2024-08-21T00:00:00",
          "2024-08-22T00:00:00",
          "2024-08-23T00:00:00",
          "2024-08-24T00:00:00",
          "2024-08-25T00:00:00",
          "2024-08-26T00:00:00",
          "2024-08-27T00:00:00",
          "2024-08-28T00:00:00",
          "2024-08-29T00:00:00",
          "2024-08-30T00:00:00",
          "2024-08-31T00:00:00"
         ],
         "y": [
          1450,
          1455,
          1462,
          1374,
          1405,
          1184,
          985,
          1278,
          1265,
          1259,
          1175,
          1198,
          1009,
          728,
          1101,
          1100,
          1108,
          1049,
          1086,
          931,
          791,
          1052,
          1070,
          1095,
          1053,
          1105,
          957,
          821,
          1097,
          1120,
          1146,
          1099,
          1147,
          986,
          837,
          1105,
          1113,
          1123,
          1060,
          1091,
          924,
          775,
          1011,
          1009,
          1011,
          566,
          977,
          830,
          699,
          921,
          930,
          946,
          905,
          949,
          823,
          710,
          958,
          991,
          1032,
          1011,
          1083,
          959
         ]
        },
        {
         "fill": "tonexty",
         "mode": "markers+lines",
         "name": "Fonctionnement Normal",
         "type": "scatter",
         "x": [
          "2024-07-01T00:00:00",
          "2024-07-02T00:00:00",
          "2024-07-03T00:00:00",
          "2024-07-04T00:00:00",
          "2024-07-05T00:00:00",
          "2024-07-06T00:00:00",
          "2024-07-07T00:00:00",
          "2024-07-08T00:00:00",
          "2024-07-09T00:00:00",
          "2024-07-10T00:00:00",
          "2024-07-11T00:00:00",
          "2024-07-12T00:00:00",
          "2024-07-13T00:00:00",
          "2024-07-14T00:00:00",
          "2024-07-15T00:00:00",
          "2024-07-16T00:00:00",
          "2024-07-17T00:00:00",
          "2024-07-18T00:00:00",
          "2024-07-19T00:00:00",
          "2024-07-20T00:00:00",
          "2024-07-21T00:00:00",
          "2024-07-22T00:00:00",
          "2024-07-23T00:00:00",
          "2024-07-24T00:00:00",
          "2024-07-25T00:00:00",
          "2024-07-26T00:00:00",
          "2024-07-27T00:00:00",
          "2024-07-28T00:00:00",
          "2024-07-29T00:00:00",
          "2024-07-30T00:00:00",
          "2024-07-31T00:00:00",
          "2024-08-01T00:00:00",
          "2024-08-02T00:00:00",
          "2024-08-03T00:00:00",
          "2024-08-04T00:00:00",
          "2024-08-05T00:00:00",
          "2024-08-06T00:00:00",
          "2024-08-07T00:00:00",
          "2024-08-08T00:00:00",
          "2024-08-09T00:00:00",
          "2024-08-10T00:00:00",
          "2024-08-11T00:00:00",
          "2024-08-12T00:00:00",
          "2024-08-13T00:00:00",
          "2024-08-14T00:00:00",
          "2024-08-15T00:00:00",
          "2024-08-16T00:00:00",
          "2024-08-17T00:00:00",
          "2024-08-18T00:00:00",
          "2024-08-19T00:00:00",
          "2024-08-20T00:00:00",
          "2024-08-21T00:00:00",
          "2024-08-22T00:00:00",
          "2024-08-23T00:00:00",
          "2024-08-24T00:00:00",
          "2024-08-25T00:00:00",
          "2024-08-26T00:00:00",
          "2024-08-27T00:00:00",
          "2024-08-28T00:00:00",
          "2024-08-29T00:00:00",
          "2024-08-30T00:00:00",
          "2024-08-31T00:00:00"
         ],
         "y": [
          1450,
          1455,
          1462,
          1374,
          1405,
          1184,
          985,
          1278,
          1265,
          1259,
          1175,
          1198,
          1009,
          728,
          1101,
          1100,
          1108,
          1049,
          1086,
          931,
          791,
          1052,
          1070,
          1467,
          1053,
          1105,
          2523,
          2164,
          2160,
          2951,
          2256,
          2163,
          3023,
          2598,
          1647,
          1105,
          2190,
          2210,
          2087,
          2875,
          2436,
          775,
          1011,
          1009,
          1011,
          566,
          977,
          830,
          699,
          921,
          930,
          946,
          905,
          949,
          823,
          710,
          958,
          991,
          1032,
          1011,
          1083,
          959
         ]
        }
       ],
       "layout": {
        "template": {
         "data": {
          "bar": [
           {
            "error_x": {
             "color": "#2a3f5f"
            },
            "error_y": {
             "color": "#2a3f5f"
            },
            "marker": {
             "line": {
              "color": "#E5ECF6",
              "width": 0.5
             },
             "pattern": {
              "fillmode": "overlay",
              "size": 10,
              "solidity": 0.2
             }
            },
            "type": "bar"
           }
          ],
          "barpolar": [
           {
            "marker": {
             "line": {
              "color": "#E5ECF6",
              "width": 0.5
             },
             "pattern": {
              "fillmode": "overlay",
              "size": 10,
              "solidity": 0.2
             }
            },
            "type": "barpolar"
           }
          ],
          "carpet": [
           {
            "aaxis": {
             "endlinecolor": "#2a3f5f",
             "gridcolor": "white",
             "linecolor": "white",
             "minorgridcolor": "white",
             "startlinecolor": "#2a3f5f"
            },
            "baxis": {
             "endlinecolor": "#2a3f5f",
             "gridcolor": "white",
             "linecolor": "white",
             "minorgridcolor": "white",
             "startlinecolor": "#2a3f5f"
            },
            "type": "carpet"
           }
          ],
          "choropleth": [
           {
            "colorbar": {
             "outlinewidth": 0,
             "ticks": ""
            },
            "type": "choropleth"
           }
          ],
          "contour": [
           {
            "colorbar": {
             "outlinewidth": 0,
             "ticks": ""
            },
            "colorscale": [
             [
              0,
              "#0d0887"
             ],
             [
              0.1111111111111111,
              "#46039f"
             ],
             [
              0.2222222222222222,
              "#7201a8"
             ],
             [
              0.3333333333333333,
              "#9c179e"
             ],
             [
              0.4444444444444444,
              "#bd3786"
             ],
             [
              0.5555555555555556,
              "#d8576b"
             ],
             [
              0.6666666666666666,
              "#ed7953"
             ],
             [
              0.7777777777777778,
              "#fb9f3a"
             ],
             [
              0.8888888888888888,
              "#fdca26"
             ],
             [
              1,
              "#f0f921"
             ]
            ],
            "type": "contour"
           }
          ],
          "contourcarpet": [
           {
            "colorbar": {
             "outlinewidth": 0,
             "ticks": ""
            },
            "type": "contourcarpet"
           }
          ],
          "heatmap": [
           {
            "colorbar": {
             "outlinewidth": 0,
             "ticks": ""
            },
            "colorscale": [
             [
              0,
              "#0d0887"
             ],
             [
              0.1111111111111111,
              "#46039f"
             ],
             [
              0.2222222222222222,
              "#7201a8"
             ],
             [
              0.3333333333333333,
              "#9c179e"
             ],
             [
              0.4444444444444444,
              "#bd3786"
             ],
             [
              0.5555555555555556,
              "#d8576b"
             ],
             [
              0.6666666666666666,
              "#ed7953"
             ],
             [
              0.7777777777777778,
              "#fb9f3a"
             ],
             [
              0.8888888888888888,
              "#fdca26"
             ],
             [
              1,
              "#f0f921"
             ]
            ],
            "type": "heatmap"
           }
          ],
          "heatmapgl": [
           {
            "colorbar": {
             "outlinewidth": 0,
             "ticks": ""
            },
            "colorscale": [
             [
              0,
              "#0d0887"
             ],
             [
              0.1111111111111111,
              "#46039f"
             ],
             [
              0.2222222222222222,
              "#7201a8"
             ],
             [
              0.3333333333333333,
              "#9c179e"
             ],
             [
              0.4444444444444444,
              "#bd3786"
             ],
             [
              0.5555555555555556,
              "#d8576b"
             ],
             [
              0.6666666666666666,
              "#ed7953"
             ],
             [
              0.7777777777777778,
              "#fb9f3a"
             ],
             [
              0.8888888888888888,
              "#fdca26"
             ],
             [
              1,
              "#f0f921"
             ]
            ],
            "type": "heatmapgl"
           }
          ],
          "histogram": [
           {
            "marker": {
             "pattern": {
              "fillmode": "overlay",
              "size": 10,
              "solidity": 0.2
             }
            },
            "type": "histogram"
           }
          ],
          "histogram2d": [
           {
            "colorbar": {
             "outlinewidth": 0,
             "ticks": ""
            },
            "colorscale": [
             [
              0,
              "#0d0887"
             ],
             [
              0.1111111111111111,
              "#46039f"
             ],
             [
              0.2222222222222222,
              "#7201a8"
             ],
             [
              0.3333333333333333,
              "#9c179e"
             ],
             [
              0.4444444444444444,
              "#bd3786"
             ],
             [
              0.5555555555555556,
              "#d8576b"
             ],
             [
              0.6666666666666666,
              "#ed7953"
             ],
             [
              0.7777777777777778,
              "#fb9f3a"
             ],
             [
              0.8888888888888888,
              "#fdca26"
             ],
             [
              1,
              "#f0f921"
             ]
            ],
            "type": "histogram2d"
           }
          ],
          "histogram2dcontour": [
           {
            "colorbar": {
             "outlinewidth": 0,
             "ticks": ""
            },
            "colorscale": [
             [
              0,
              "#0d0887"
             ],
             [
              0.1111111111111111,
              "#46039f"
             ],
             [
              0.2222222222222222,
              "#7201a8"
             ],
             [
              0.3333333333333333,
              "#9c179e"
             ],
             [
              0.4444444444444444,
              "#bd3786"
             ],
             [
              0.5555555555555556,
              "#d8576b"
             ],
             [
              0.6666666666666666,
              "#ed7953"
             ],
             [
              0.7777777777777778,
              "#fb9f3a"
             ],
             [
              0.8888888888888888,
              "#fdca26"
             ],
             [
              1,
              "#f0f921"
             ]
            ],
            "type": "histogram2dcontour"
           }
          ],
          "mesh3d": [
           {
            "colorbar": {
             "outlinewidth": 0,
             "ticks": ""
            },
            "type": "mesh3d"
           }
          ],
          "parcoords": [
           {
            "line": {
             "colorbar": {
              "outlinewidth": 0,
              "ticks": ""
             }
            },
            "type": "parcoords"
           }
          ],
          "pie": [
           {
            "automargin": true,
            "type": "pie"
           }
          ],
          "scatter": [
           {
            "fillpattern": {
             "fillmode": "overlay",
             "size": 10,
             "solidity": 0.2
            },
            "type": "scatter"
           }
          ],
          "scatter3d": [
           {
            "line": {
             "colorbar": {
              "outlinewidth": 0,
              "ticks": ""
             }
            },
            "marker": {
             "colorbar": {
              "outlinewidth": 0,
              "ticks": ""
             }
            },
            "type": "scatter3d"
           }
          ],
          "scattercarpet": [
           {
            "marker": {
             "colorbar": {
              "outlinewidth": 0,
              "ticks": ""
             }
            },
            "type": "scattercarpet"
           }
          ],
          "scattergeo": [
           {
            "marker": {
             "colorbar": {
              "outlinewidth": 0,
              "ticks": ""
             }
            },
            "type": "scattergeo"
           }
          ],
          "scattergl": [
           {
            "marker": {
             "colorbar": {
              "outlinewidth": 0,
              "ticks": ""
             }
            },
            "type": "scattergl"
           }
          ],
          "scattermapbox": [
           {
            "marker": {
             "colorbar": {
              "outlinewidth": 0,
              "ticks": ""
             }
            },
            "type": "scattermapbox"
           }
          ],
          "scatterpolar": [
           {
            "marker": {
             "colorbar": {
              "outlinewidth": 0,
              "ticks": ""
             }
            },
            "type": "scatterpolar"
           }
          ],
          "scatterpolargl": [
           {
            "marker": {
             "colorbar": {
              "outlinewidth": 0,
              "ticks": ""
             }
            },
            "type": "scatterpolargl"
           }
          ],
          "scatterternary": [
           {
            "marker": {
             "colorbar": {
              "outlinewidth": 0,
              "ticks": ""
             }
            },
            "type": "scatterternary"
           }
          ],
          "surface": [
           {
            "colorbar": {
             "outlinewidth": 0,
             "ticks": ""
            },
            "colorscale": [
             [
              0,
              "#0d0887"
             ],
             [
              0.1111111111111111,
              "#46039f"
             ],
             [
              0.2222222222222222,
              "#7201a8"
             ],
             [
              0.3333333333333333,
              "#9c179e"
             ],
             [
              0.4444444444444444,
              "#bd3786"
             ],
             [
              0.5555555555555556,
              "#d8576b"
             ],
             [
              0.6666666666666666,
              "#ed7953"
             ],
             [
              0.7777777777777778,
              "#fb9f3a"
             ],
             [
              0.8888888888888888,
              "#fdca26"
             ],
             [
              1,
              "#f0f921"
             ]
            ],
            "type": "surface"
           }
          ],
          "table": [
           {
            "cells": {
             "fill": {
              "color": "#EBF0F8"
             },
             "line": {
              "color": "white"
             }
            },
            "header": {
             "fill": {
              "color": "#C8D4E3"
             },
             "line": {
              "color": "white"
             }
            },
            "type": "table"
           }
          ]
         },
         "layout": {
          "annotationdefaults": {
           "arrowcolor": "#2a3f5f",
           "arrowhead": 0,
           "arrowwidth": 1
          },
          "autotypenumbers": "strict",
          "coloraxis": {
           "colorbar": {
            "outlinewidth": 0,
            "ticks": ""
           }
          },
          "colorscale": {
           "diverging": [
            [
             0,
             "#8e0152"
            ],
            [
             0.1,
             "#c51b7d"
            ],
            [
             0.2,
             "#de77ae"
            ],
            [
             0.3,
             "#f1b6da"
            ],
            [
             0.4,
             "#fde0ef"
            ],
            [
             0.5,
             "#f7f7f7"
            ],
            [
             0.6,
             "#e6f5d0"
            ],
            [
             0.7,
             "#b8e186"
            ],
            [
             0.8,
             "#7fbc41"
            ],
            [
             0.9,
             "#4d9221"
            ],
            [
             1,
             "#276419"
            ]
           ],
           "sequential": [
            [
             0,
             "#0d0887"
            ],
            [
             0.1111111111111111,
             "#46039f"
            ],
            [
             0.2222222222222222,
             "#7201a8"
            ],
            [
             0.3333333333333333,
             "#9c179e"
            ],
            [
             0.4444444444444444,
             "#bd3786"
            ],
            [
             0.5555555555555556,
             "#d8576b"
            ],
            [
             0.6666666666666666,
             "#ed7953"
            ],
            [
             0.7777777777777778,
             "#fb9f3a"
            ],
            [
             0.8888888888888888,
             "#fdca26"
            ],
            [
             1,
             "#f0f921"
            ]
           ],
           "sequentialminus": [
            [
             0,
             "#0d0887"
            ],
            [
             0.1111111111111111,
             "#46039f"
            ],
            [
             0.2222222222222222,
             "#7201a8"
            ],
            [
             0.3333333333333333,
             "#9c179e"
            ],
            [
             0.4444444444444444,
             "#bd3786"
            ],
            [
             0.5555555555555556,
             "#d8576b"
            ],
            [
             0.6666666666666666,
             "#ed7953"
            ],
            [
             0.7777777777777778,
             "#fb9f3a"
            ],
            [
             0.8888888888888888,
             "#fdca26"
            ],
            [
             1,
             "#f0f921"
            ]
           ]
          },
          "colorway": [
           "#636efa",
           "#EF553B",
           "#00cc96",
           "#ab63fa",
           "#FFA15A",
           "#19d3f3",
           "#FF6692",
           "#B6E880",
           "#FF97FF",
           "#FECB52"
          ],
          "font": {
           "color": "#2a3f5f"
          },
          "geo": {
           "bgcolor": "white",
           "lakecolor": "white",
           "landcolor": "#E5ECF6",
           "showlakes": true,
           "showland": true,
           "subunitcolor": "white"
          },
          "hoverlabel": {
           "align": "left"
          },
          "hovermode": "closest",
          "mapbox": {
           "style": "light"
          },
          "paper_bgcolor": "white",
          "plot_bgcolor": "#E5ECF6",
          "polar": {
           "angularaxis": {
            "gridcolor": "white",
            "linecolor": "white",
            "ticks": ""
           },
           "bgcolor": "#E5ECF6",
           "radialaxis": {
            "gridcolor": "white",
            "linecolor": "white",
            "ticks": ""
           }
          },
          "scene": {
           "xaxis": {
            "backgroundcolor": "#E5ECF6",
            "gridcolor": "white",
            "gridwidth": 2,
            "linecolor": "white",
            "showbackground": true,
            "ticks": "",
            "zerolinecolor": "white"
           },
           "yaxis": {
            "backgroundcolor": "#E5ECF6",
            "gridcolor": "white",
            "gridwidth": 2,
            "linecolor": "white",
            "showbackground": true,
            "ticks": "",
            "zerolinecolor": "white"
           },
           "zaxis": {
            "backgroundcolor": "#E5ECF6",
            "gridcolor": "white",
            "gridwidth": 2,
            "linecolor": "white",
            "showbackground": true,
            "ticks": "",
            "zerolinecolor": "white"
           }
          },
          "shapedefaults": {
           "line": {
            "color": "#2a3f5f"
           }
          },
          "ternary": {
           "aaxis": {
            "gridcolor": "white",
            "linecolor": "white",
            "ticks": ""
           },
           "baxis": {
            "gridcolor": "white",
            "linecolor": "white",
            "ticks": ""
           },
           "bgcolor": "#E5ECF6",
           "caxis": {
            "gridcolor": "white",
            "linecolor": "white",
            "ticks": ""
           }
          },
          "title": {
           "x": 0.05
          },
          "xaxis": {
           "automargin": true,
           "gridcolor": "white",
           "linecolor": "white",
           "ticks": "",
           "title": {
            "standoff": 15
           },
           "zerolinecolor": "white",
           "zerolinewidth": 2
          },
          "yaxis": {
           "automargin": true,
           "gridcolor": "white",
           "linecolor": "white",
           "ticks": "",
           "title": {
            "standoff": 15
           },
           "zerolinecolor": "white",
           "zerolinewidth": 2
          }
         }
        }
       }
      }
     },
     "metadata": {},
     "output_type": "display_data"
    }
   ],
   "source": [
    "fig = go.Figure()\n",
    "fig.add_trace(go.Scatter(x=filtered_data_ssjo[\"ds\"], y=filtered_data_ssjo[\"yhat\"], fill=None, mode='markers+lines', name=\"Fonctionnement pendant JO\")) # fill to trace0 y\n",
    "fig.add_trace(go.Scatter(x=filtered_data_jo[\"ds\"], y=filtered_data_jo[\"yhat\"], fill='tonexty', mode='markers+lines', name=\"Fonctionnement Normal\")) # fill down to xaxis\n",
    "\n",
    "\n",
    "fig.show()"
   ]
  },
  {
   "cell_type": "code",
   "execution_count": null,
   "metadata": {},
   "outputs": [],
   "source": []
  },
  {
   "cell_type": "markdown",
   "metadata": {},
   "source": [
    "### Page 2"
   ]
  },
  {
   "cell_type": "markdown",
   "metadata": {},
   "source": [
    "##### Carte sites et stations"
   ]
  },
  {
   "cell_type": "code",
   "execution_count": 150,
   "metadata": {},
   "outputs": [
    {
     "data": {
      "text/html": [
       "<div>\n",
       "<style scoped>\n",
       "    .dataframe tbody tr th:only-of-type {\n",
       "        vertical-align: middle;\n",
       "    }\n",
       "\n",
       "    .dataframe tbody tr th {\n",
       "        vertical-align: top;\n",
       "    }\n",
       "\n",
       "    .dataframe thead th {\n",
       "        text-align: right;\n",
       "    }\n",
       "</style>\n",
       "<table border=\"1\" class=\"dataframe\">\n",
       "  <thead>\n",
       "    <tr style=\"text-align: right;\">\n",
       "      <th></th>\n",
       "      <th>ds</th>\n",
       "      <th>EVENT_PDP</th>\n",
       "      <th>EVENT_SDF</th>\n",
       "      <th>EVENT_GP</th>\n",
       "      <th>EVENT_INV</th>\n",
       "      <th>EVENT_CCD</th>\n",
       "      <th>EVENT_YDM</th>\n",
       "      <th>EVENT_CDM</th>\n",
       "      <th>EVENT_TEF</th>\n",
       "      <th>EVENT_RG</th>\n",
       "      <th>EVENT_SUD</th>\n",
       "      <th>EVENT_CHP</th>\n",
       "      <th>EVENT_BER</th>\n",
       "    </tr>\n",
       "  </thead>\n",
       "  <tbody>\n",
       "    <tr>\n",
       "      <th>0</th>\n",
       "      <td>2024-07-01</td>\n",
       "      <td>0</td>\n",
       "      <td>0</td>\n",
       "      <td>0</td>\n",
       "      <td>0</td>\n",
       "      <td>0</td>\n",
       "      <td>0</td>\n",
       "      <td>0</td>\n",
       "      <td>0</td>\n",
       "      <td>0</td>\n",
       "      <td>0</td>\n",
       "      <td>0</td>\n",
       "      <td>0</td>\n",
       "    </tr>\n",
       "    <tr>\n",
       "      <th>1</th>\n",
       "      <td>2024-07-02</td>\n",
       "      <td>0</td>\n",
       "      <td>0</td>\n",
       "      <td>0</td>\n",
       "      <td>0</td>\n",
       "      <td>0</td>\n",
       "      <td>0</td>\n",
       "      <td>0</td>\n",
       "      <td>0</td>\n",
       "      <td>0</td>\n",
       "      <td>0</td>\n",
       "      <td>0</td>\n",
       "      <td>0</td>\n",
       "    </tr>\n",
       "    <tr>\n",
       "      <th>2</th>\n",
       "      <td>2024-07-03</td>\n",
       "      <td>0</td>\n",
       "      <td>0</td>\n",
       "      <td>0</td>\n",
       "      <td>0</td>\n",
       "      <td>0</td>\n",
       "      <td>0</td>\n",
       "      <td>0</td>\n",
       "      <td>0</td>\n",
       "      <td>0</td>\n",
       "      <td>0</td>\n",
       "      <td>0</td>\n",
       "      <td>0</td>\n",
       "    </tr>\n",
       "    <tr>\n",
       "      <th>3</th>\n",
       "      <td>2024-07-04</td>\n",
       "      <td>0</td>\n",
       "      <td>0</td>\n",
       "      <td>0</td>\n",
       "      <td>0</td>\n",
       "      <td>0</td>\n",
       "      <td>0</td>\n",
       "      <td>0</td>\n",
       "      <td>0</td>\n",
       "      <td>0</td>\n",
       "      <td>0</td>\n",
       "      <td>0</td>\n",
       "      <td>0</td>\n",
       "    </tr>\n",
       "    <tr>\n",
       "      <th>4</th>\n",
       "      <td>2024-07-05</td>\n",
       "      <td>0</td>\n",
       "      <td>0</td>\n",
       "      <td>0</td>\n",
       "      <td>0</td>\n",
       "      <td>0</td>\n",
       "      <td>0</td>\n",
       "      <td>0</td>\n",
       "      <td>0</td>\n",
       "      <td>0</td>\n",
       "      <td>0</td>\n",
       "      <td>0</td>\n",
       "      <td>0</td>\n",
       "    </tr>\n",
       "  </tbody>\n",
       "</table>\n",
       "</div>"
      ],
      "text/plain": [
       "           ds  EVENT_PDP  EVENT_SDF  EVENT_GP  EVENT_INV  EVENT_CCD  \\\n",
       "0  2024-07-01          0          0         0          0          0   \n",
       "1  2024-07-02          0          0         0          0          0   \n",
       "2  2024-07-03          0          0         0          0          0   \n",
       "3  2024-07-04          0          0         0          0          0   \n",
       "4  2024-07-05          0          0         0          0          0   \n",
       "\n",
       "   EVENT_YDM  EVENT_CDM  EVENT_TEF  EVENT_RG  EVENT_SUD  EVENT_CHP  EVENT_BER  \n",
       "0          0          0          0         0          0          0          0  \n",
       "1          0          0          0         0          0          0          0  \n",
       "2          0          0          0         0          0          0          0  \n",
       "3          0          0          0         0          0          0          0  \n",
       "4          0          0          0         0          0          0          0  "
      ]
     },
     "execution_count": 150,
     "metadata": {},
     "output_type": "execute_result"
    }
   ],
   "source": [
    "event=pd.read_csv(\"99-Data_Clean/event_jo.csv\")\n",
    "event.head()"
   ]
  },
  {
   "cell_type": "code",
   "execution_count": 151,
   "metadata": {},
   "outputs": [
    {
     "data": {
      "text/html": [
       "<div>\n",
       "<style scoped>\n",
       "    .dataframe tbody tr th:only-of-type {\n",
       "        vertical-align: middle;\n",
       "    }\n",
       "\n",
       "    .dataframe tbody tr th {\n",
       "        vertical-align: top;\n",
       "    }\n",
       "\n",
       "    .dataframe thead th {\n",
       "        text-align: right;\n",
       "    }\n",
       "</style>\n",
       "<table border=\"1\" class=\"dataframe\">\n",
       "  <thead>\n",
       "    <tr style=\"text-align: right;\">\n",
       "      <th></th>\n",
       "      <th>lieu</th>\n",
       "      <th>Type</th>\n",
       "      <th>geo_point</th>\n",
       "      <th>activité</th>\n",
       "      <th>Infrastructure</th>\n",
       "      <th>Latitude</th>\n",
       "      <th>Longitude</th>\n",
       "    </tr>\n",
       "  </thead>\n",
       "  <tbody>\n",
       "    <tr>\n",
       "      <th>0</th>\n",
       "      <td>PARC DES PRINCES</td>\n",
       "      <td>Site olympique</td>\n",
       "      <td>48.841319,2.253076</td>\n",
       "      <td>Football</td>\n",
       "      <td>Existant</td>\n",
       "      <td>48.841319</td>\n",
       "      <td>2.253076</td>\n",
       "    </tr>\n",
       "    <tr>\n",
       "      <th>1</th>\n",
       "      <td>STADE DE FRANCE</td>\n",
       "      <td>Site olympique</td>\n",
       "      <td>48.924388,2.359871</td>\n",
       "      <td>Athlétisme, Para athlétisme, Rugby</td>\n",
       "      <td>Existant</td>\n",
       "      <td>48.924388</td>\n",
       "      <td>2.359871</td>\n",
       "    </tr>\n",
       "    <tr>\n",
       "      <th>2</th>\n",
       "      <td>GRAND PALAIS</td>\n",
       "      <td>Site olympique</td>\n",
       "      <td>48.866041,2.312406</td>\n",
       "      <td>Escrime, Escrime fauteuil, Taekwondo, Para tae...</td>\n",
       "      <td>Existant</td>\n",
       "      <td>48.866041</td>\n",
       "      <td>2.312406</td>\n",
       "    </tr>\n",
       "    <tr>\n",
       "      <th>3</th>\n",
       "      <td>ARENA INVALIDES</td>\n",
       "      <td>Site olympique</td>\n",
       "      <td>48.862286,2.313222</td>\n",
       "      <td>Tir à l'arc, Para tir à l'arc, Athlétisme, Cyc...</td>\n",
       "      <td>Temporaire</td>\n",
       "      <td>48.862286</td>\n",
       "      <td>2.313222</td>\n",
       "    </tr>\n",
       "    <tr>\n",
       "      <th>4</th>\n",
       "      <td>STADE DE LA CONCORDE</td>\n",
       "      <td>Site olympique</td>\n",
       "      <td>48.865589,2.321205</td>\n",
       "      <td>Basketball 3x3, BMX freestyle, Breaking, Skate...</td>\n",
       "      <td>Temporaire</td>\n",
       "      <td>48.865589</td>\n",
       "      <td>2.321205</td>\n",
       "    </tr>\n",
       "  </tbody>\n",
       "</table>\n",
       "</div>"
      ],
      "text/plain": [
       "                   lieu            Type           geo_point  \\\n",
       "0      PARC DES PRINCES  Site olympique  48.841319,2.253076   \n",
       "1       STADE DE FRANCE  Site olympique  48.924388,2.359871   \n",
       "2          GRAND PALAIS  Site olympique  48.866041,2.312406   \n",
       "3       ARENA INVALIDES  Site olympique  48.862286,2.313222   \n",
       "4  STADE DE LA CONCORDE  Site olympique  48.865589,2.321205   \n",
       "\n",
       "                                            activité Infrastructure  \\\n",
       "0                                           Football       Existant   \n",
       "1                 Athlétisme, Para athlétisme, Rugby       Existant   \n",
       "2  Escrime, Escrime fauteuil, Taekwondo, Para tae...       Existant   \n",
       "3  Tir à l'arc, Para tir à l'arc, Athlétisme, Cyc...     Temporaire   \n",
       "4  Basketball 3x3, BMX freestyle, Breaking, Skate...     Temporaire   \n",
       "\n",
       "    Latitude  Longitude  \n",
       "0  48.841319   2.253076  \n",
       "1  48.924388   2.359871  \n",
       "2  48.866041   2.312406  \n",
       "3  48.862286   2.313222  \n",
       "4  48.865589   2.321205  "
      ]
     },
     "execution_count": 151,
     "metadata": {},
     "output_type": "execute_result"
    }
   ],
   "source": [
    "geo=pd.read_csv(\"99-Data_Clean/sites_jo.csv\")\n",
    "geo[['Latitude', 'Longitude']] = geo['geo_point'].str.split(',', expand=True)\n",
    "geo['Latitude'] = pd.to_numeric(geo['Latitude'])\n",
    "geo['Longitude'] = pd.to_numeric(geo['Longitude'])\n",
    "geo.head()"
   ]
  },
  {
   "cell_type": "code",
   "execution_count": 152,
   "metadata": {},
   "outputs": [
    {
     "data": {
      "application/vnd.plotly.v1+json": {
       "config": {
        "plotlyServerURL": "https://plot.ly"
       },
       "data": [
        {
         "customdata": [
          [
           "Football",
           48.841319,
           2.253076
          ],
          [
           "Athlétisme, Para athlétisme, Rugby",
           48.924388,
           2.359871
          ],
          [
           "Escrime, Escrime fauteuil, Taekwondo, Para taekwondo",
           48.866041,
           2.312406
          ],
          [
           "Tir à l'arc, Para tir à l'arc, Athlétisme, Cyclisme sur route",
           48.862286,
           2.313222
          ],
          [
           "Basketball 3x3, BMX freestyle, Breaking, Skateboard",
           48.865589,
           2.321205
          ],
          [
           "Judo, Para judo, Lutte, Rugby fauteuil",
           48.854536,
           2.300413
          ],
          [
           "Volleyball de plage, Cécifoot",
           48.857232,
           2.296084
          ],
          [
           "Tennis, Tennis fauteuil, Boxe",
           48.84732,
           2.245501
          ],
          [
           "Volleyball, Boccia, Haltérophilie, Handball, Goalball, Tennis de table, Para tennis de table",
           48.832068,
           2.284126
          ],
          [
           "Badminton, Para Badminton, Gymnastique rythmique, Para powerlifting",
           48.899483,
           2.361803
          ],
          [
           "Basketball, Basket fauteuil, Gymnastique artistique, trampoline",
           48.838649,
           2.378496
          ]
         ],
         "hovertemplate": "<b>%{hovertext}</b><br><br>activité=%{customdata[0]}<extra></extra>",
         "hovertext": [
          "PARC DES PRINCES",
          "STADE DE FRANCE",
          "GRAND PALAIS",
          "ARENA INVALIDES",
          "STADE DE LA CONCORDE",
          "ARENA CHAMP DE MARS",
          "STADE TOUR EIFFEL",
          "ROLAND-GARROS",
          "ARENA PARIS SUD",
          "ARENA LA CHAPELLE",
          "ARENA BERCY"
         ],
         "lat": [
          48.841319,
          48.924388,
          48.866041,
          48.862286,
          48.865589,
          48.854536,
          48.857232,
          48.84732,
          48.832068,
          48.899483,
          48.838649
         ],
         "legendgroup": "",
         "lon": [
          2.253076,
          2.359871,
          2.312406,
          2.313222,
          2.321205,
          2.300413,
          2.296084,
          2.245501,
          2.284126,
          2.361803,
          2.378496
         ],
         "marker": {
          "color": "green",
          "size": [
           48.841319,
           48.924388,
           48.866041,
           48.862286,
           48.865589,
           48.854536,
           48.857232,
           48.84732,
           48.832068,
           48.899483,
           48.838649
          ],
          "sizemode": "area",
          "sizeref": 0.12231097
         },
         "mode": "markers",
         "name": "",
         "showlegend": false,
         "subplot": "mapbox",
         "type": "scattermapbox"
        }
       ],
       "layout": {
        "legend": {
         "itemsizing": "constant",
         "tracegroupgap": 0
        },
        "mapbox": {
         "center": {
          "lat": 48.86262827272728,
          "lon": 2.311473
         },
         "domain": {
          "x": [
           0,
           1
          ],
          "y": [
           0,
           1
          ]
         },
         "style": "carto-positron",
         "zoom": 10
        },
        "margin": {
         "t": 60
        },
        "template": {
         "data": {
          "bar": [
           {
            "error_x": {
             "color": "#2a3f5f"
            },
            "error_y": {
             "color": "#2a3f5f"
            },
            "marker": {
             "line": {
              "color": "#E5ECF6",
              "width": 0.5
             },
             "pattern": {
              "fillmode": "overlay",
              "size": 10,
              "solidity": 0.2
             }
            },
            "type": "bar"
           }
          ],
          "barpolar": [
           {
            "marker": {
             "line": {
              "color": "#E5ECF6",
              "width": 0.5
             },
             "pattern": {
              "fillmode": "overlay",
              "size": 10,
              "solidity": 0.2
             }
            },
            "type": "barpolar"
           }
          ],
          "carpet": [
           {
            "aaxis": {
             "endlinecolor": "#2a3f5f",
             "gridcolor": "white",
             "linecolor": "white",
             "minorgridcolor": "white",
             "startlinecolor": "#2a3f5f"
            },
            "baxis": {
             "endlinecolor": "#2a3f5f",
             "gridcolor": "white",
             "linecolor": "white",
             "minorgridcolor": "white",
             "startlinecolor": "#2a3f5f"
            },
            "type": "carpet"
           }
          ],
          "choropleth": [
           {
            "colorbar": {
             "outlinewidth": 0,
             "ticks": ""
            },
            "type": "choropleth"
           }
          ],
          "contour": [
           {
            "colorbar": {
             "outlinewidth": 0,
             "ticks": ""
            },
            "colorscale": [
             [
              0,
              "#0d0887"
             ],
             [
              0.1111111111111111,
              "#46039f"
             ],
             [
              0.2222222222222222,
              "#7201a8"
             ],
             [
              0.3333333333333333,
              "#9c179e"
             ],
             [
              0.4444444444444444,
              "#bd3786"
             ],
             [
              0.5555555555555556,
              "#d8576b"
             ],
             [
              0.6666666666666666,
              "#ed7953"
             ],
             [
              0.7777777777777778,
              "#fb9f3a"
             ],
             [
              0.8888888888888888,
              "#fdca26"
             ],
             [
              1,
              "#f0f921"
             ]
            ],
            "type": "contour"
           }
          ],
          "contourcarpet": [
           {
            "colorbar": {
             "outlinewidth": 0,
             "ticks": ""
            },
            "type": "contourcarpet"
           }
          ],
          "heatmap": [
           {
            "colorbar": {
             "outlinewidth": 0,
             "ticks": ""
            },
            "colorscale": [
             [
              0,
              "#0d0887"
             ],
             [
              0.1111111111111111,
              "#46039f"
             ],
             [
              0.2222222222222222,
              "#7201a8"
             ],
             [
              0.3333333333333333,
              "#9c179e"
             ],
             [
              0.4444444444444444,
              "#bd3786"
             ],
             [
              0.5555555555555556,
              "#d8576b"
             ],
             [
              0.6666666666666666,
              "#ed7953"
             ],
             [
              0.7777777777777778,
              "#fb9f3a"
             ],
             [
              0.8888888888888888,
              "#fdca26"
             ],
             [
              1,
              "#f0f921"
             ]
            ],
            "type": "heatmap"
           }
          ],
          "heatmapgl": [
           {
            "colorbar": {
             "outlinewidth": 0,
             "ticks": ""
            },
            "colorscale": [
             [
              0,
              "#0d0887"
             ],
             [
              0.1111111111111111,
              "#46039f"
             ],
             [
              0.2222222222222222,
              "#7201a8"
             ],
             [
              0.3333333333333333,
              "#9c179e"
             ],
             [
              0.4444444444444444,
              "#bd3786"
             ],
             [
              0.5555555555555556,
              "#d8576b"
             ],
             [
              0.6666666666666666,
              "#ed7953"
             ],
             [
              0.7777777777777778,
              "#fb9f3a"
             ],
             [
              0.8888888888888888,
              "#fdca26"
             ],
             [
              1,
              "#f0f921"
             ]
            ],
            "type": "heatmapgl"
           }
          ],
          "histogram": [
           {
            "marker": {
             "pattern": {
              "fillmode": "overlay",
              "size": 10,
              "solidity": 0.2
             }
            },
            "type": "histogram"
           }
          ],
          "histogram2d": [
           {
            "colorbar": {
             "outlinewidth": 0,
             "ticks": ""
            },
            "colorscale": [
             [
              0,
              "#0d0887"
             ],
             [
              0.1111111111111111,
              "#46039f"
             ],
             [
              0.2222222222222222,
              "#7201a8"
             ],
             [
              0.3333333333333333,
              "#9c179e"
             ],
             [
              0.4444444444444444,
              "#bd3786"
             ],
             [
              0.5555555555555556,
              "#d8576b"
             ],
             [
              0.6666666666666666,
              "#ed7953"
             ],
             [
              0.7777777777777778,
              "#fb9f3a"
             ],
             [
              0.8888888888888888,
              "#fdca26"
             ],
             [
              1,
              "#f0f921"
             ]
            ],
            "type": "histogram2d"
           }
          ],
          "histogram2dcontour": [
           {
            "colorbar": {
             "outlinewidth": 0,
             "ticks": ""
            },
            "colorscale": [
             [
              0,
              "#0d0887"
             ],
             [
              0.1111111111111111,
              "#46039f"
             ],
             [
              0.2222222222222222,
              "#7201a8"
             ],
             [
              0.3333333333333333,
              "#9c179e"
             ],
             [
              0.4444444444444444,
              "#bd3786"
             ],
             [
              0.5555555555555556,
              "#d8576b"
             ],
             [
              0.6666666666666666,
              "#ed7953"
             ],
             [
              0.7777777777777778,
              "#fb9f3a"
             ],
             [
              0.8888888888888888,
              "#fdca26"
             ],
             [
              1,
              "#f0f921"
             ]
            ],
            "type": "histogram2dcontour"
           }
          ],
          "mesh3d": [
           {
            "colorbar": {
             "outlinewidth": 0,
             "ticks": ""
            },
            "type": "mesh3d"
           }
          ],
          "parcoords": [
           {
            "line": {
             "colorbar": {
              "outlinewidth": 0,
              "ticks": ""
             }
            },
            "type": "parcoords"
           }
          ],
          "pie": [
           {
            "automargin": true,
            "type": "pie"
           }
          ],
          "scatter": [
           {
            "fillpattern": {
             "fillmode": "overlay",
             "size": 10,
             "solidity": 0.2
            },
            "type": "scatter"
           }
          ],
          "scatter3d": [
           {
            "line": {
             "colorbar": {
              "outlinewidth": 0,
              "ticks": ""
             }
            },
            "marker": {
             "colorbar": {
              "outlinewidth": 0,
              "ticks": ""
             }
            },
            "type": "scatter3d"
           }
          ],
          "scattercarpet": [
           {
            "marker": {
             "colorbar": {
              "outlinewidth": 0,
              "ticks": ""
             }
            },
            "type": "scattercarpet"
           }
          ],
          "scattergeo": [
           {
            "marker": {
             "colorbar": {
              "outlinewidth": 0,
              "ticks": ""
             }
            },
            "type": "scattergeo"
           }
          ],
          "scattergl": [
           {
            "marker": {
             "colorbar": {
              "outlinewidth": 0,
              "ticks": ""
             }
            },
            "type": "scattergl"
           }
          ],
          "scattermapbox": [
           {
            "marker": {
             "colorbar": {
              "outlinewidth": 0,
              "ticks": ""
             }
            },
            "type": "scattermapbox"
           }
          ],
          "scatterpolar": [
           {
            "marker": {
             "colorbar": {
              "outlinewidth": 0,
              "ticks": ""
             }
            },
            "type": "scatterpolar"
           }
          ],
          "scatterpolargl": [
           {
            "marker": {
             "colorbar": {
              "outlinewidth": 0,
              "ticks": ""
             }
            },
            "type": "scatterpolargl"
           }
          ],
          "scatterternary": [
           {
            "marker": {
             "colorbar": {
              "outlinewidth": 0,
              "ticks": ""
             }
            },
            "type": "scatterternary"
           }
          ],
          "surface": [
           {
            "colorbar": {
             "outlinewidth": 0,
             "ticks": ""
            },
            "colorscale": [
             [
              0,
              "#0d0887"
             ],
             [
              0.1111111111111111,
              "#46039f"
             ],
             [
              0.2222222222222222,
              "#7201a8"
             ],
             [
              0.3333333333333333,
              "#9c179e"
             ],
             [
              0.4444444444444444,
              "#bd3786"
             ],
             [
              0.5555555555555556,
              "#d8576b"
             ],
             [
              0.6666666666666666,
              "#ed7953"
             ],
             [
              0.7777777777777778,
              "#fb9f3a"
             ],
             [
              0.8888888888888888,
              "#fdca26"
             ],
             [
              1,
              "#f0f921"
             ]
            ],
            "type": "surface"
           }
          ],
          "table": [
           {
            "cells": {
             "fill": {
              "color": "#EBF0F8"
             },
             "line": {
              "color": "white"
             }
            },
            "header": {
             "fill": {
              "color": "#C8D4E3"
             },
             "line": {
              "color": "white"
             }
            },
            "type": "table"
           }
          ]
         },
         "layout": {
          "annotationdefaults": {
           "arrowcolor": "#2a3f5f",
           "arrowhead": 0,
           "arrowwidth": 1
          },
          "autotypenumbers": "strict",
          "coloraxis": {
           "colorbar": {
            "outlinewidth": 0,
            "ticks": ""
           }
          },
          "colorscale": {
           "diverging": [
            [
             0,
             "#8e0152"
            ],
            [
             0.1,
             "#c51b7d"
            ],
            [
             0.2,
             "#de77ae"
            ],
            [
             0.3,
             "#f1b6da"
            ],
            [
             0.4,
             "#fde0ef"
            ],
            [
             0.5,
             "#f7f7f7"
            ],
            [
             0.6,
             "#e6f5d0"
            ],
            [
             0.7,
             "#b8e186"
            ],
            [
             0.8,
             "#7fbc41"
            ],
            [
             0.9,
             "#4d9221"
            ],
            [
             1,
             "#276419"
            ]
           ],
           "sequential": [
            [
             0,
             "#0d0887"
            ],
            [
             0.1111111111111111,
             "#46039f"
            ],
            [
             0.2222222222222222,
             "#7201a8"
            ],
            [
             0.3333333333333333,
             "#9c179e"
            ],
            [
             0.4444444444444444,
             "#bd3786"
            ],
            [
             0.5555555555555556,
             "#d8576b"
            ],
            [
             0.6666666666666666,
             "#ed7953"
            ],
            [
             0.7777777777777778,
             "#fb9f3a"
            ],
            [
             0.8888888888888888,
             "#fdca26"
            ],
            [
             1,
             "#f0f921"
            ]
           ],
           "sequentialminus": [
            [
             0,
             "#0d0887"
            ],
            [
             0.1111111111111111,
             "#46039f"
            ],
            [
             0.2222222222222222,
             "#7201a8"
            ],
            [
             0.3333333333333333,
             "#9c179e"
            ],
            [
             0.4444444444444444,
             "#bd3786"
            ],
            [
             0.5555555555555556,
             "#d8576b"
            ],
            [
             0.6666666666666666,
             "#ed7953"
            ],
            [
             0.7777777777777778,
             "#fb9f3a"
            ],
            [
             0.8888888888888888,
             "#fdca26"
            ],
            [
             1,
             "#f0f921"
            ]
           ]
          },
          "colorway": [
           "#636efa",
           "#EF553B",
           "#00cc96",
           "#ab63fa",
           "#FFA15A",
           "#19d3f3",
           "#FF6692",
           "#B6E880",
           "#FF97FF",
           "#FECB52"
          ],
          "font": {
           "color": "#2a3f5f"
          },
          "geo": {
           "bgcolor": "white",
           "lakecolor": "white",
           "landcolor": "#E5ECF6",
           "showlakes": true,
           "showland": true,
           "subunitcolor": "white"
          },
          "hoverlabel": {
           "align": "left"
          },
          "hovermode": "closest",
          "mapbox": {
           "style": "light"
          },
          "paper_bgcolor": "white",
          "plot_bgcolor": "#E5ECF6",
          "polar": {
           "angularaxis": {
            "gridcolor": "white",
            "linecolor": "white",
            "ticks": ""
           },
           "bgcolor": "#E5ECF6",
           "radialaxis": {
            "gridcolor": "white",
            "linecolor": "white",
            "ticks": ""
           }
          },
          "scene": {
           "xaxis": {
            "backgroundcolor": "#E5ECF6",
            "gridcolor": "white",
            "gridwidth": 2,
            "linecolor": "white",
            "showbackground": true,
            "ticks": "",
            "zerolinecolor": "white"
           },
           "yaxis": {
            "backgroundcolor": "#E5ECF6",
            "gridcolor": "white",
            "gridwidth": 2,
            "linecolor": "white",
            "showbackground": true,
            "ticks": "",
            "zerolinecolor": "white"
           },
           "zaxis": {
            "backgroundcolor": "#E5ECF6",
            "gridcolor": "white",
            "gridwidth": 2,
            "linecolor": "white",
            "showbackground": true,
            "ticks": "",
            "zerolinecolor": "white"
           }
          },
          "shapedefaults": {
           "line": {
            "color": "#2a3f5f"
           }
          },
          "ternary": {
           "aaxis": {
            "gridcolor": "white",
            "linecolor": "white",
            "ticks": ""
           },
           "baxis": {
            "gridcolor": "white",
            "linecolor": "white",
            "ticks": ""
           },
           "bgcolor": "#E5ECF6",
           "caxis": {
            "gridcolor": "white",
            "linecolor": "white",
            "ticks": ""
           }
          },
          "title": {
           "x": 0.05
          },
          "xaxis": {
           "automargin": true,
           "gridcolor": "white",
           "linecolor": "white",
           "ticks": "",
           "title": {
            "standoff": 15
           },
           "zerolinecolor": "white",
           "zerolinewidth": 2
          },
          "yaxis": {
           "automargin": true,
           "gridcolor": "white",
           "linecolor": "white",
           "ticks": "",
           "title": {
            "standoff": 15
           },
           "zerolinecolor": "white",
           "zerolinewidth": 2
          }
         }
        },
        "title": {
         "text": "Site de compétition PARIS 2024 dans Paris"
        }
       }
      }
     },
     "metadata": {},
     "output_type": "display_data"
    }
   ],
   "source": [
    "fig = px.scatter_mapbox(geo, lat=\"Latitude\", lon=\"Longitude\", hover_name=\"lieu\", hover_data={\"activité\": True, \"Latitude\":False, \"Longitude\": False}, size=\"Latitude\", mapbox_style='carto-positron',zoom=10)\n",
    "fig.update_traces(marker=dict(color='green'))  # Changer la couleur des marqueurs en vert\n",
    "fig.update_layout(title='Site de compétition PARIS 2024 dans Paris')\n",
    "\n",
    "\n",
    "fig.show()"
   ]
  },
  {
   "cell_type": "code",
   "execution_count": 153,
   "metadata": {},
   "outputs": [],
   "source": [
    "geo1=pd.read_csv('99-Data_Clean/geoloc_jo24.csv')\n",
    "geo2=pd.read_csv(\"99-Data_Clean/sites_jo.csv\")\n",
    "geo2[['lat', 'lng']] = geo2['geo_point'].str.split(',', expand=True)\n",
    "geo2['lat'] = pd.to_numeric(geo2['lat'])\n",
    "geo2['lng'] = pd.to_numeric(geo2['lng'])\n",
    "\n",
    "geo=geo1.merge(geo2[[\"lieu\",\"activité\"]], on=\"lieu\",how=\"outer\")"
   ]
  },
  {
   "cell_type": "code",
   "execution_count": 154,
   "metadata": {},
   "outputs": [
    {
     "data": {
      "application/vnd.plotly.v1+json": {
       "config": {
        "plotlyServerURL": "https://plot.ly"
       },
       "data": [
        {
         "hoverinfo": "text",
         "lat": [
          48.841319,
          48.924388,
          48.866041,
          48.862286,
          48.865589,
          48.930873,
          48.854536,
          48.857232,
          48.84732,
          48.832068,
          48.899483,
          48.838649
         ],
         "lon": [
          2.253076,
          2.359871,
          2.312406,
          2.313222,
          2.321205,
          2.249836,
          2.300413,
          2.296084,
          2.245501,
          2.284126,
          2.361803,
          2.378496
         ],
         "marker": {
          "color": "lightskyblue",
          "size": 12,
          "symbol": "square"
         },
         "mode": "markers",
         "name": "Sites de compétition",
         "text": [
          "PARC DES PRINCES",
          "STADE DE FRANCE",
          "GRAND PALAIS",
          "ARENA INVALIDES",
          "STADE DE LA CONCORDE",
          "STADE YVES DU MANOIR",
          "ARENA CHAMP DE MARS",
          "STADE TOUR EIFFEL",
          "ROLAND-GARROS",
          "ARENA PARIS SUD",
          "ARENA LA CHAPELLE",
          "ARENA BERCY"
         ],
         "type": "scattermapbox"
        },
        {
         "hoverinfo": "text",
         "lat": [
          48.9178122,
          48.9294991,
          48.9181066,
          48.839364,
          48.847677,
          48.8380119,
          48.8691263,
          48.8620184,
          48.8623622,
          48.87025,
          48.870858,
          48.8723931,
          48.8605701,
          48.8550934,
          48.8487392,
          48.8471039,
          48.8325059,
          48.8363571,
          48.8274894,
          48.8981254,
          48.8964016,
          48.8391318,
          48.8442938,
          48.8625136,
          48.8539082,
          48.8648441
         ],
         "lon": [
          2.3510674,
          2.3562734,
          2.3623263,
          2.2704847,
          2.2579853,
          2.2569927,
          2.3096609,
          2.3144959,
          2.3364947,
          2.3254386,
          2.3320755,
          2.3296813,
          2.3254505,
          2.2889204,
          2.298832,
          2.3072044,
          2.287716,
          2.2771659,
          2.305797,
          2.3587906,
          2.3736554,
          2.382585,
          2.3742487,
          2.3009161,
          2.2891965,
          2.3015989
         ],
         "marker": {
          "color": "lightsalmon",
          "size": 10,
          "symbol": "circle"
         },
         "mode": "markers",
         "name": "Stations de métro",
         "text": [
          "STADE DE FRANCE-SAINT-DENIS",
          "SAINT-DENIS-PORTE DE PARIS",
          "LA PLAINE-STADE DE FRANCE",
          "BOULEVARD VICTOR",
          "PORTE D'AUTEUIL",
          "PORTE DE SAINT-CLOUD",
          "FRANKLIN-D.ROOSEVELT",
          "INVALIDES",
          "PALAIS ROYAL-MUSEE DU LOUVRE",
          "MADELEINE",
          "OPERA",
          "AUBER",
          "MUSEE D'ORSAY",
          "CHAMP DE MARS-TOUR EIFFEL",
          "LA MOTTE-PICQUET-GRENELLE",
          "SEGUR",
          "PORTE DE VERSAILLES",
          "BALARD",
          "PORTE DE VANVES",
          "PORTE DE LA CHAPELLE",
          "ROSA PARKS",
          "BERCY",
          "GARE DE LYON",
          "PONT DE L'ALMA",
          "BIR-HAKEIM (GRENELLE)",
          "ALMA-MARCEAU"
         ],
         "type": "scattermapbox"
        }
       ],
       "layout": {
        "legend": {
         "x": 0.01,
         "xanchor": "left",
         "y": 0.99,
         "yanchor": "top"
        },
        "mapbox": {
         "accesstoken": "pk.eyJ1Ijoic2FsbWFiZW5xIiwiYSI6ImNscHN1c3NybDA0NGEybm9mMHV2bzlvengifQ.vdle0P_6ixyvBo8Y_AftFQ",
         "center": {
          "lat": 48.87537737631579,
          "lon": 2.31450245
         },
         "style": "light",
         "zoom": 10
        },
        "template": {
         "data": {
          "bar": [
           {
            "error_x": {
             "color": "#2a3f5f"
            },
            "error_y": {
             "color": "#2a3f5f"
            },
            "marker": {
             "line": {
              "color": "#E5ECF6",
              "width": 0.5
             },
             "pattern": {
              "fillmode": "overlay",
              "size": 10,
              "solidity": 0.2
             }
            },
            "type": "bar"
           }
          ],
          "barpolar": [
           {
            "marker": {
             "line": {
              "color": "#E5ECF6",
              "width": 0.5
             },
             "pattern": {
              "fillmode": "overlay",
              "size": 10,
              "solidity": 0.2
             }
            },
            "type": "barpolar"
           }
          ],
          "carpet": [
           {
            "aaxis": {
             "endlinecolor": "#2a3f5f",
             "gridcolor": "white",
             "linecolor": "white",
             "minorgridcolor": "white",
             "startlinecolor": "#2a3f5f"
            },
            "baxis": {
             "endlinecolor": "#2a3f5f",
             "gridcolor": "white",
             "linecolor": "white",
             "minorgridcolor": "white",
             "startlinecolor": "#2a3f5f"
            },
            "type": "carpet"
           }
          ],
          "choropleth": [
           {
            "colorbar": {
             "outlinewidth": 0,
             "ticks": ""
            },
            "type": "choropleth"
           }
          ],
          "contour": [
           {
            "colorbar": {
             "outlinewidth": 0,
             "ticks": ""
            },
            "colorscale": [
             [
              0,
              "#0d0887"
             ],
             [
              0.1111111111111111,
              "#46039f"
             ],
             [
              0.2222222222222222,
              "#7201a8"
             ],
             [
              0.3333333333333333,
              "#9c179e"
             ],
             [
              0.4444444444444444,
              "#bd3786"
             ],
             [
              0.5555555555555556,
              "#d8576b"
             ],
             [
              0.6666666666666666,
              "#ed7953"
             ],
             [
              0.7777777777777778,
              "#fb9f3a"
             ],
             [
              0.8888888888888888,
              "#fdca26"
             ],
             [
              1,
              "#f0f921"
             ]
            ],
            "type": "contour"
           }
          ],
          "contourcarpet": [
           {
            "colorbar": {
             "outlinewidth": 0,
             "ticks": ""
            },
            "type": "contourcarpet"
           }
          ],
          "heatmap": [
           {
            "colorbar": {
             "outlinewidth": 0,
             "ticks": ""
            },
            "colorscale": [
             [
              0,
              "#0d0887"
             ],
             [
              0.1111111111111111,
              "#46039f"
             ],
             [
              0.2222222222222222,
              "#7201a8"
             ],
             [
              0.3333333333333333,
              "#9c179e"
             ],
             [
              0.4444444444444444,
              "#bd3786"
             ],
             [
              0.5555555555555556,
              "#d8576b"
             ],
             [
              0.6666666666666666,
              "#ed7953"
             ],
             [
              0.7777777777777778,
              "#fb9f3a"
             ],
             [
              0.8888888888888888,
              "#fdca26"
             ],
             [
              1,
              "#f0f921"
             ]
            ],
            "type": "heatmap"
           }
          ],
          "heatmapgl": [
           {
            "colorbar": {
             "outlinewidth": 0,
             "ticks": ""
            },
            "colorscale": [
             [
              0,
              "#0d0887"
             ],
             [
              0.1111111111111111,
              "#46039f"
             ],
             [
              0.2222222222222222,
              "#7201a8"
             ],
             [
              0.3333333333333333,
              "#9c179e"
             ],
             [
              0.4444444444444444,
              "#bd3786"
             ],
             [
              0.5555555555555556,
              "#d8576b"
             ],
             [
              0.6666666666666666,
              "#ed7953"
             ],
             [
              0.7777777777777778,
              "#fb9f3a"
             ],
             [
              0.8888888888888888,
              "#fdca26"
             ],
             [
              1,
              "#f0f921"
             ]
            ],
            "type": "heatmapgl"
           }
          ],
          "histogram": [
           {
            "marker": {
             "pattern": {
              "fillmode": "overlay",
              "size": 10,
              "solidity": 0.2
             }
            },
            "type": "histogram"
           }
          ],
          "histogram2d": [
           {
            "colorbar": {
             "outlinewidth": 0,
             "ticks": ""
            },
            "colorscale": [
             [
              0,
              "#0d0887"
             ],
             [
              0.1111111111111111,
              "#46039f"
             ],
             [
              0.2222222222222222,
              "#7201a8"
             ],
             [
              0.3333333333333333,
              "#9c179e"
             ],
             [
              0.4444444444444444,
              "#bd3786"
             ],
             [
              0.5555555555555556,
              "#d8576b"
             ],
             [
              0.6666666666666666,
              "#ed7953"
             ],
             [
              0.7777777777777778,
              "#fb9f3a"
             ],
             [
              0.8888888888888888,
              "#fdca26"
             ],
             [
              1,
              "#f0f921"
             ]
            ],
            "type": "histogram2d"
           }
          ],
          "histogram2dcontour": [
           {
            "colorbar": {
             "outlinewidth": 0,
             "ticks": ""
            },
            "colorscale": [
             [
              0,
              "#0d0887"
             ],
             [
              0.1111111111111111,
              "#46039f"
             ],
             [
              0.2222222222222222,
              "#7201a8"
             ],
             [
              0.3333333333333333,
              "#9c179e"
             ],
             [
              0.4444444444444444,
              "#bd3786"
             ],
             [
              0.5555555555555556,
              "#d8576b"
             ],
             [
              0.6666666666666666,
              "#ed7953"
             ],
             [
              0.7777777777777778,
              "#fb9f3a"
             ],
             [
              0.8888888888888888,
              "#fdca26"
             ],
             [
              1,
              "#f0f921"
             ]
            ],
            "type": "histogram2dcontour"
           }
          ],
          "mesh3d": [
           {
            "colorbar": {
             "outlinewidth": 0,
             "ticks": ""
            },
            "type": "mesh3d"
           }
          ],
          "parcoords": [
           {
            "line": {
             "colorbar": {
              "outlinewidth": 0,
              "ticks": ""
             }
            },
            "type": "parcoords"
           }
          ],
          "pie": [
           {
            "automargin": true,
            "type": "pie"
           }
          ],
          "scatter": [
           {
            "fillpattern": {
             "fillmode": "overlay",
             "size": 10,
             "solidity": 0.2
            },
            "type": "scatter"
           }
          ],
          "scatter3d": [
           {
            "line": {
             "colorbar": {
              "outlinewidth": 0,
              "ticks": ""
             }
            },
            "marker": {
             "colorbar": {
              "outlinewidth": 0,
              "ticks": ""
             }
            },
            "type": "scatter3d"
           }
          ],
          "scattercarpet": [
           {
            "marker": {
             "colorbar": {
              "outlinewidth": 0,
              "ticks": ""
             }
            },
            "type": "scattercarpet"
           }
          ],
          "scattergeo": [
           {
            "marker": {
             "colorbar": {
              "outlinewidth": 0,
              "ticks": ""
             }
            },
            "type": "scattergeo"
           }
          ],
          "scattergl": [
           {
            "marker": {
             "colorbar": {
              "outlinewidth": 0,
              "ticks": ""
             }
            },
            "type": "scattergl"
           }
          ],
          "scattermapbox": [
           {
            "marker": {
             "colorbar": {
              "outlinewidth": 0,
              "ticks": ""
             }
            },
            "type": "scattermapbox"
           }
          ],
          "scatterpolar": [
           {
            "marker": {
             "colorbar": {
              "outlinewidth": 0,
              "ticks": ""
             }
            },
            "type": "scatterpolar"
           }
          ],
          "scatterpolargl": [
           {
            "marker": {
             "colorbar": {
              "outlinewidth": 0,
              "ticks": ""
             }
            },
            "type": "scatterpolargl"
           }
          ],
          "scatterternary": [
           {
            "marker": {
             "colorbar": {
              "outlinewidth": 0,
              "ticks": ""
             }
            },
            "type": "scatterternary"
           }
          ],
          "surface": [
           {
            "colorbar": {
             "outlinewidth": 0,
             "ticks": ""
            },
            "colorscale": [
             [
              0,
              "#0d0887"
             ],
             [
              0.1111111111111111,
              "#46039f"
             ],
             [
              0.2222222222222222,
              "#7201a8"
             ],
             [
              0.3333333333333333,
              "#9c179e"
             ],
             [
              0.4444444444444444,
              "#bd3786"
             ],
             [
              0.5555555555555556,
              "#d8576b"
             ],
             [
              0.6666666666666666,
              "#ed7953"
             ],
             [
              0.7777777777777778,
              "#fb9f3a"
             ],
             [
              0.8888888888888888,
              "#fdca26"
             ],
             [
              1,
              "#f0f921"
             ]
            ],
            "type": "surface"
           }
          ],
          "table": [
           {
            "cells": {
             "fill": {
              "color": "#EBF0F8"
             },
             "line": {
              "color": "white"
             }
            },
            "header": {
             "fill": {
              "color": "#C8D4E3"
             },
             "line": {
              "color": "white"
             }
            },
            "type": "table"
           }
          ]
         },
         "layout": {
          "annotationdefaults": {
           "arrowcolor": "#2a3f5f",
           "arrowhead": 0,
           "arrowwidth": 1
          },
          "autotypenumbers": "strict",
          "coloraxis": {
           "colorbar": {
            "outlinewidth": 0,
            "ticks": ""
           }
          },
          "colorscale": {
           "diverging": [
            [
             0,
             "#8e0152"
            ],
            [
             0.1,
             "#c51b7d"
            ],
            [
             0.2,
             "#de77ae"
            ],
            [
             0.3,
             "#f1b6da"
            ],
            [
             0.4,
             "#fde0ef"
            ],
            [
             0.5,
             "#f7f7f7"
            ],
            [
             0.6,
             "#e6f5d0"
            ],
            [
             0.7,
             "#b8e186"
            ],
            [
             0.8,
             "#7fbc41"
            ],
            [
             0.9,
             "#4d9221"
            ],
            [
             1,
             "#276419"
            ]
           ],
           "sequential": [
            [
             0,
             "#0d0887"
            ],
            [
             0.1111111111111111,
             "#46039f"
            ],
            [
             0.2222222222222222,
             "#7201a8"
            ],
            [
             0.3333333333333333,
             "#9c179e"
            ],
            [
             0.4444444444444444,
             "#bd3786"
            ],
            [
             0.5555555555555556,
             "#d8576b"
            ],
            [
             0.6666666666666666,
             "#ed7953"
            ],
            [
             0.7777777777777778,
             "#fb9f3a"
            ],
            [
             0.8888888888888888,
             "#fdca26"
            ],
            [
             1,
             "#f0f921"
            ]
           ],
           "sequentialminus": [
            [
             0,
             "#0d0887"
            ],
            [
             0.1111111111111111,
             "#46039f"
            ],
            [
             0.2222222222222222,
             "#7201a8"
            ],
            [
             0.3333333333333333,
             "#9c179e"
            ],
            [
             0.4444444444444444,
             "#bd3786"
            ],
            [
             0.5555555555555556,
             "#d8576b"
            ],
            [
             0.6666666666666666,
             "#ed7953"
            ],
            [
             0.7777777777777778,
             "#fb9f3a"
            ],
            [
             0.8888888888888888,
             "#fdca26"
            ],
            [
             1,
             "#f0f921"
            ]
           ]
          },
          "colorway": [
           "#636efa",
           "#EF553B",
           "#00cc96",
           "#ab63fa",
           "#FFA15A",
           "#19d3f3",
           "#FF6692",
           "#B6E880",
           "#FF97FF",
           "#FECB52"
          ],
          "font": {
           "color": "#2a3f5f"
          },
          "geo": {
           "bgcolor": "white",
           "lakecolor": "white",
           "landcolor": "#E5ECF6",
           "showlakes": true,
           "showland": true,
           "subunitcolor": "white"
          },
          "hoverlabel": {
           "align": "left"
          },
          "hovermode": "closest",
          "mapbox": {
           "style": "light"
          },
          "paper_bgcolor": "white",
          "plot_bgcolor": "#E5ECF6",
          "polar": {
           "angularaxis": {
            "gridcolor": "white",
            "linecolor": "white",
            "ticks": ""
           },
           "bgcolor": "#E5ECF6",
           "radialaxis": {
            "gridcolor": "white",
            "linecolor": "white",
            "ticks": ""
           }
          },
          "scene": {
           "xaxis": {
            "backgroundcolor": "#E5ECF6",
            "gridcolor": "white",
            "gridwidth": 2,
            "linecolor": "white",
            "showbackground": true,
            "ticks": "",
            "zerolinecolor": "white"
           },
           "yaxis": {
            "backgroundcolor": "#E5ECF6",
            "gridcolor": "white",
            "gridwidth": 2,
            "linecolor": "white",
            "showbackground": true,
            "ticks": "",
            "zerolinecolor": "white"
           },
           "zaxis": {
            "backgroundcolor": "#E5ECF6",
            "gridcolor": "white",
            "gridwidth": 2,
            "linecolor": "white",
            "showbackground": true,
            "ticks": "",
            "zerolinecolor": "white"
           }
          },
          "shapedefaults": {
           "line": {
            "color": "#2a3f5f"
           }
          },
          "ternary": {
           "aaxis": {
            "gridcolor": "white",
            "linecolor": "white",
            "ticks": ""
           },
           "baxis": {
            "gridcolor": "white",
            "linecolor": "white",
            "ticks": ""
           },
           "bgcolor": "#E5ECF6",
           "caxis": {
            "gridcolor": "white",
            "linecolor": "white",
            "ticks": ""
           }
          },
          "title": {
           "x": 0.05
          },
          "xaxis": {
           "automargin": true,
           "gridcolor": "white",
           "linecolor": "white",
           "ticks": "",
           "title": {
            "standoff": 15
           },
           "zerolinecolor": "white",
           "zerolinewidth": 2
          },
          "yaxis": {
           "automargin": true,
           "gridcolor": "white",
           "linecolor": "white",
           "ticks": "",
           "title": {
            "standoff": 15
           },
           "zerolinecolor": "white",
           "zerolinewidth": 2
          }
         }
        },
        "title": {
         "text": "Sites de compétition PARIS2024 et stations de métro associées"
        }
       }
      }
     },
     "metadata": {},
     "output_type": "display_data"
    }
   ],
   "source": [
    "# besoin d'avoir un token plotly pour superposer des markers différents\n",
    "\n",
    "# Vos données pour les sites de compétition\n",
    "site_data = geo.loc[geo[\"type\"]==\"site\"]\n",
    "station_data = geo.loc[geo[\"type\"]==\"station\"]\n",
    "\n",
    "# Création de la première carte Scatter Mapbox pour les sites de compétition\n",
    "fig1 = go.Figure(go.Scattermapbox(\n",
    "    lat=site_data[\"lat\"],\n",
    "    lon=site_data[\"lng\"],\n",
    "    hoverinfo=\"text\",\n",
    "    text=site_data[\"lieu\"],\n",
    "    mode=\"markers\",\n",
    "    marker=go.scattermapbox.Marker(\n",
    "        size=12,\n",
    "        color='lightskyblue',  # Changer la couleur des marqueurs pour les sites\n",
    "        symbol='square',  # Choisir le symbole des marqueurs pour les sites (par exemple, 'circle', 'star', 'triangle', etc.)\n",
    "    ),\n",
    "    name=\"Sites de compétition\"\n",
    "))\n",
    "\n",
    "# Création de la deuxième carte Scatter Mapbox pour les stations\n",
    "fig2 = go.Figure(go.Scattermapbox(\n",
    "    lat=station_data[\"lat\"],\n",
    "    lon=station_data[\"lng\"],\n",
    "    hoverinfo=\"text\",\n",
    "    text=station_data[\"lieu\"],\n",
    "    mode=\"markers\",\n",
    "    marker=go.scattermapbox.Marker(\n",
    "        size=10,\n",
    "        color='lightsalmon',  # Changer la couleur des marqueurs pour les stations\n",
    "        symbol='circle',  # Choisir le symbole des marqueurs pour les stations (par exemple, 'circle', 'star', 'triangle', etc.)\n",
    "    ),\n",
    "    name=\"Stations de métro\"\n",
    "))\n",
    "\n",
    "# Superposition des deux cartes Scatter Mapbox\n",
    "for trace in fig2.data:\n",
    "    fig1.add_trace(trace)\n",
    "\n",
    "# Mise à jour de la mise en page\n",
    "fig1.update_layout(\n",
    "    mapbox=dict(accesstoken=token, \n",
    "        style='light',\n",
    "        zoom=10,\n",
    "        center=dict(lat=geo['lat'].mean()+0.01, lon=geo['lng'].mean())\n",
    "    ),\n",
    "    title='Sites de compétition PARIS2024 et stations de métro associées'\n",
    ")\n",
    "\n",
    "fig1.update_layout(legend=dict(yanchor=\"top\",y=0.99,xanchor=\"left\",x=0.01))\n",
    "\n",
    "\n",
    "# Affichage de la figure combinée\n",
    "fig1.show()\n"
   ]
  },
  {
   "cell_type": "code",
   "execution_count": null,
   "metadata": {},
   "outputs": [],
   "source": []
  },
  {
   "cell_type": "markdown",
   "metadata": {},
   "source": [
    "##### Data jour de compét"
   ]
  },
  {
   "cell_type": "code",
   "execution_count": 155,
   "metadata": {},
   "outputs": [],
   "source": [
    "geo_data = pd.read_csv(\"99-Data_Clean/geoloc_jo24.csv\")\n",
    "\n",
    "data_jo = pd.read_csv(\"99-Data_Clean/df_forecast_jo.csv\",sep=',')\n",
    "data_jo[\"ds\"] = data_jo[\"ds\"].apply(lambda x: pd.to_datetime(x))\n",
    "data_jo['lat'] = pd.to_numeric(data_jo['lat'])\n",
    "data_jo['lng'] = pd.to_numeric(data_jo['lng'])\n",
    "data_jo['yhat'] = pd.to_numeric(data_jo['yhat'])\n",
    "\n",
    "\n",
    "data_ssjo = pd.read_csv(\"99-Data_Clean/df_forecast_ssjo.csv\",sep=',')\n",
    "data_ssjo[\"ds\"] = data_ssjo[\"ds\"].apply(lambda x: pd.to_datetime(x))\n",
    "data_ssjo['lat'] = pd.to_numeric(data_ssjo['lat'])\n",
    "data_ssjo['lng'] = pd.to_numeric(data_ssjo['lng'])\n",
    "data_ssjo['yhat'] = pd.to_numeric(data_ssjo['yhat'])\n",
    "\n",
    "compet=pd.read_csv(\"99-Data_Clean/compet_par_site.csv\")\n",
    "compet[\"ds\"] = compet[\"ds\"].apply(lambda x: pd.to_datetime(x,dayfirst=True))\n"
   ]
  },
  {
   "cell_type": "code",
   "execution_count": 156,
   "metadata": {},
   "outputs": [],
   "source": [
    "data_jo = data_jo.loc[viz_mask(site)]\n",
    "data_ssjo = data_ssjo.loc[viz_ssmask(site)]\n",
    "\n",
    "maskcompet=(compet['site']==site)\n",
    "competsite=compet.loc[maskcompet]"
   ]
  },
  {
   "cell_type": "code",
   "execution_count": 157,
   "metadata": {},
   "outputs": [],
   "source": [
    "# Jour à appliquer\n",
    "day = \"2024-08-09\""
   ]
  },
  {
   "cell_type": "code",
   "execution_count": 158,
   "metadata": {},
   "outputs": [],
   "source": [
    "maskjo_day=(data_jo['ds']==str(day))\n",
    "data_jo_day=data_jo.loc[maskjo_day]\n",
    "\n",
    "maskssjo_day=(data_ssjo['ds']==str(day))\n",
    "data_ssjo_day=data_ssjo.loc[maskssjo_day]\n",
    "\n",
    "maskcompetday=(competsite[\"ds\"]==str(day))\n",
    "competjour=competsite.loc[maskcompetday].reset_index()"
   ]
  },
  {
   "cell_type": "code",
   "execution_count": 159,
   "metadata": {},
   "outputs": [
    {
     "data": {
      "text/plain": [
       "'Boxe'"
      ]
     },
     "execution_count": 159,
     "metadata": {},
     "output_type": "execute_result"
    }
   ],
   "source": [
    "# affichage des compétitions\n",
    "competitions=competjour.at[0,'competition']\n",
    "competitions"
   ]
  },
  {
   "cell_type": "code",
   "execution_count": 160,
   "metadata": {},
   "outputs": [
    {
     "name": "stdout",
     "output_type": "stream",
     "text": [
      "19151\n",
      "augmentation du traffic de 52 %\n"
     ]
    }
   ],
   "source": [
    "# augmentation du traffic en valeur\n",
    "value=int(data_jo_day['yhat'].sum())\n",
    "print(value)\n",
    "# augmentation du traffic en pourcentage\n",
    "diff=int(((data_jo_day['yhat'].sum()-data_ssjo_day['yhat'].sum())/data_ssjo_day['yhat'].sum())*100)\n",
    "print(f\"augmentation du traffic de {diff} %\")"
   ]
  },
  {
   "cell_type": "code",
   "execution_count": 161,
   "metadata": {},
   "outputs": [
    {
     "data": {
      "text/plain": [
       "12564.008426364702"
      ]
     },
     "execution_count": 161,
     "metadata": {},
     "output_type": "execute_result"
    }
   ],
   "source": [
    "# traffic sans JO\n",
    "data_ssjo_day['yhat'].sum()"
   ]
  },
  {
   "cell_type": "markdown",
   "metadata": {},
   "source": [
    "##### Carte traffic normal vs JO"
   ]
  },
  {
   "cell_type": "code",
   "execution_count": 162,
   "metadata": {},
   "outputs": [
    {
     "data": {
      "text/html": [
       "<div>\n",
       "<style scoped>\n",
       "    .dataframe tbody tr th:only-of-type {\n",
       "        vertical-align: middle;\n",
       "    }\n",
       "\n",
       "    .dataframe tbody tr th {\n",
       "        vertical-align: top;\n",
       "    }\n",
       "\n",
       "    .dataframe thead th {\n",
       "        text-align: right;\n",
       "    }\n",
       "</style>\n",
       "<table border=\"1\" class=\"dataframe\">\n",
       "  <thead>\n",
       "    <tr style=\"text-align: right;\">\n",
       "      <th></th>\n",
       "      <th>ds</th>\n",
       "      <th>yhat</th>\n",
       "      <th>station</th>\n",
       "      <th>lat</th>\n",
       "      <th>lng</th>\n",
       "    </tr>\n",
       "  </thead>\n",
       "  <tbody>\n",
       "    <tr>\n",
       "      <th>287</th>\n",
       "      <td>2024-08-09</td>\n",
       "      <td>2875.127530</td>\n",
       "      <td>PORTE D'AUTEUIL</td>\n",
       "      <td>48.847677</td>\n",
       "      <td>2.257985</td>\n",
       "    </tr>\n",
       "    <tr>\n",
       "      <th>349</th>\n",
       "      <td>2024-08-09</td>\n",
       "      <td>16276.865343</td>\n",
       "      <td>PORTE DE SAINT-CLOUD</td>\n",
       "      <td>48.838012</td>\n",
       "      <td>2.256993</td>\n",
       "    </tr>\n",
       "  </tbody>\n",
       "</table>\n",
       "</div>"
      ],
      "text/plain": [
       "            ds          yhat               station        lat       lng\n",
       "287 2024-08-09   2875.127530       PORTE D'AUTEUIL  48.847677  2.257985\n",
       "349 2024-08-09  16276.865343  PORTE DE SAINT-CLOUD  48.838012  2.256993"
      ]
     },
     "execution_count": 162,
     "metadata": {},
     "output_type": "execute_result"
    }
   ],
   "source": [
    "data_jo_day"
   ]
  },
  {
   "cell_type": "code",
   "execution_count": 163,
   "metadata": {},
   "outputs": [
    {
     "data": {
      "application/vnd.plotly.v1+json": {
       "config": {
        "plotlyServerURL": "https://plot.ly"
       },
       "data": [
        {
         "hovertemplate": "yhat=%{marker.size}<br>lat=%{lat}<br>lng=%{lon}<extra></extra>",
         "lat": [
          48.847677,
          48.8380119
         ],
         "legendgroup": "",
         "lon": [
          2.2579853,
          2.2569927
         ],
         "marker": {
          "color": "#636efa",
          "size": [
           2875.127530284812,
           16276.865342922794
          ],
          "sizemode": "area",
          "sizeref": 40.69216335730699
         },
         "mode": "markers",
         "name": "",
         "showlegend": false,
         "subplot": "mapbox",
         "textposition": "top center",
         "type": "scattermapbox"
        }
       ],
       "layout": {
        "height": 650,
        "legend": {
         "itemsizing": "constant",
         "tracegroupgap": 0
        },
        "mapbox": {
         "center": {
          "lat": 48.84284445,
          "lon": 2.257489
         },
         "domain": {
          "x": [
           0,
           1
          ],
          "y": [
           0,
           1
          ]
         },
         "style": "carto-positron",
         "zoom": 12
        },
        "margin": {
         "t": 60
        },
        "template": {
         "data": {
          "bar": [
           {
            "error_x": {
             "color": "#2a3f5f"
            },
            "error_y": {
             "color": "#2a3f5f"
            },
            "marker": {
             "line": {
              "color": "#E5ECF6",
              "width": 0.5
             },
             "pattern": {
              "fillmode": "overlay",
              "size": 10,
              "solidity": 0.2
             }
            },
            "type": "bar"
           }
          ],
          "barpolar": [
           {
            "marker": {
             "line": {
              "color": "#E5ECF6",
              "width": 0.5
             },
             "pattern": {
              "fillmode": "overlay",
              "size": 10,
              "solidity": 0.2
             }
            },
            "type": "barpolar"
           }
          ],
          "carpet": [
           {
            "aaxis": {
             "endlinecolor": "#2a3f5f",
             "gridcolor": "white",
             "linecolor": "white",
             "minorgridcolor": "white",
             "startlinecolor": "#2a3f5f"
            },
            "baxis": {
             "endlinecolor": "#2a3f5f",
             "gridcolor": "white",
             "linecolor": "white",
             "minorgridcolor": "white",
             "startlinecolor": "#2a3f5f"
            },
            "type": "carpet"
           }
          ],
          "choropleth": [
           {
            "colorbar": {
             "outlinewidth": 0,
             "ticks": ""
            },
            "type": "choropleth"
           }
          ],
          "contour": [
           {
            "colorbar": {
             "outlinewidth": 0,
             "ticks": ""
            },
            "colorscale": [
             [
              0,
              "#0d0887"
             ],
             [
              0.1111111111111111,
              "#46039f"
             ],
             [
              0.2222222222222222,
              "#7201a8"
             ],
             [
              0.3333333333333333,
              "#9c179e"
             ],
             [
              0.4444444444444444,
              "#bd3786"
             ],
             [
              0.5555555555555556,
              "#d8576b"
             ],
             [
              0.6666666666666666,
              "#ed7953"
             ],
             [
              0.7777777777777778,
              "#fb9f3a"
             ],
             [
              0.8888888888888888,
              "#fdca26"
             ],
             [
              1,
              "#f0f921"
             ]
            ],
            "type": "contour"
           }
          ],
          "contourcarpet": [
           {
            "colorbar": {
             "outlinewidth": 0,
             "ticks": ""
            },
            "type": "contourcarpet"
           }
          ],
          "heatmap": [
           {
            "colorbar": {
             "outlinewidth": 0,
             "ticks": ""
            },
            "colorscale": [
             [
              0,
              "#0d0887"
             ],
             [
              0.1111111111111111,
              "#46039f"
             ],
             [
              0.2222222222222222,
              "#7201a8"
             ],
             [
              0.3333333333333333,
              "#9c179e"
             ],
             [
              0.4444444444444444,
              "#bd3786"
             ],
             [
              0.5555555555555556,
              "#d8576b"
             ],
             [
              0.6666666666666666,
              "#ed7953"
             ],
             [
              0.7777777777777778,
              "#fb9f3a"
             ],
             [
              0.8888888888888888,
              "#fdca26"
             ],
             [
              1,
              "#f0f921"
             ]
            ],
            "type": "heatmap"
           }
          ],
          "heatmapgl": [
           {
            "colorbar": {
             "outlinewidth": 0,
             "ticks": ""
            },
            "colorscale": [
             [
              0,
              "#0d0887"
             ],
             [
              0.1111111111111111,
              "#46039f"
             ],
             [
              0.2222222222222222,
              "#7201a8"
             ],
             [
              0.3333333333333333,
              "#9c179e"
             ],
             [
              0.4444444444444444,
              "#bd3786"
             ],
             [
              0.5555555555555556,
              "#d8576b"
             ],
             [
              0.6666666666666666,
              "#ed7953"
             ],
             [
              0.7777777777777778,
              "#fb9f3a"
             ],
             [
              0.8888888888888888,
              "#fdca26"
             ],
             [
              1,
              "#f0f921"
             ]
            ],
            "type": "heatmapgl"
           }
          ],
          "histogram": [
           {
            "marker": {
             "pattern": {
              "fillmode": "overlay",
              "size": 10,
              "solidity": 0.2
             }
            },
            "type": "histogram"
           }
          ],
          "histogram2d": [
           {
            "colorbar": {
             "outlinewidth": 0,
             "ticks": ""
            },
            "colorscale": [
             [
              0,
              "#0d0887"
             ],
             [
              0.1111111111111111,
              "#46039f"
             ],
             [
              0.2222222222222222,
              "#7201a8"
             ],
             [
              0.3333333333333333,
              "#9c179e"
             ],
             [
              0.4444444444444444,
              "#bd3786"
             ],
             [
              0.5555555555555556,
              "#d8576b"
             ],
             [
              0.6666666666666666,
              "#ed7953"
             ],
             [
              0.7777777777777778,
              "#fb9f3a"
             ],
             [
              0.8888888888888888,
              "#fdca26"
             ],
             [
              1,
              "#f0f921"
             ]
            ],
            "type": "histogram2d"
           }
          ],
          "histogram2dcontour": [
           {
            "colorbar": {
             "outlinewidth": 0,
             "ticks": ""
            },
            "colorscale": [
             [
              0,
              "#0d0887"
             ],
             [
              0.1111111111111111,
              "#46039f"
             ],
             [
              0.2222222222222222,
              "#7201a8"
             ],
             [
              0.3333333333333333,
              "#9c179e"
             ],
             [
              0.4444444444444444,
              "#bd3786"
             ],
             [
              0.5555555555555556,
              "#d8576b"
             ],
             [
              0.6666666666666666,
              "#ed7953"
             ],
             [
              0.7777777777777778,
              "#fb9f3a"
             ],
             [
              0.8888888888888888,
              "#fdca26"
             ],
             [
              1,
              "#f0f921"
             ]
            ],
            "type": "histogram2dcontour"
           }
          ],
          "mesh3d": [
           {
            "colorbar": {
             "outlinewidth": 0,
             "ticks": ""
            },
            "type": "mesh3d"
           }
          ],
          "parcoords": [
           {
            "line": {
             "colorbar": {
              "outlinewidth": 0,
              "ticks": ""
             }
            },
            "type": "parcoords"
           }
          ],
          "pie": [
           {
            "automargin": true,
            "type": "pie"
           }
          ],
          "scatter": [
           {
            "fillpattern": {
             "fillmode": "overlay",
             "size": 10,
             "solidity": 0.2
            },
            "type": "scatter"
           }
          ],
          "scatter3d": [
           {
            "line": {
             "colorbar": {
              "outlinewidth": 0,
              "ticks": ""
             }
            },
            "marker": {
             "colorbar": {
              "outlinewidth": 0,
              "ticks": ""
             }
            },
            "type": "scatter3d"
           }
          ],
          "scattercarpet": [
           {
            "marker": {
             "colorbar": {
              "outlinewidth": 0,
              "ticks": ""
             }
            },
            "type": "scattercarpet"
           }
          ],
          "scattergeo": [
           {
            "marker": {
             "colorbar": {
              "outlinewidth": 0,
              "ticks": ""
             }
            },
            "type": "scattergeo"
           }
          ],
          "scattergl": [
           {
            "marker": {
             "colorbar": {
              "outlinewidth": 0,
              "ticks": ""
             }
            },
            "type": "scattergl"
           }
          ],
          "scattermapbox": [
           {
            "marker": {
             "colorbar": {
              "outlinewidth": 0,
              "ticks": ""
             }
            },
            "type": "scattermapbox"
           }
          ],
          "scatterpolar": [
           {
            "marker": {
             "colorbar": {
              "outlinewidth": 0,
              "ticks": ""
             }
            },
            "type": "scatterpolar"
           }
          ],
          "scatterpolargl": [
           {
            "marker": {
             "colorbar": {
              "outlinewidth": 0,
              "ticks": ""
             }
            },
            "type": "scatterpolargl"
           }
          ],
          "scatterternary": [
           {
            "marker": {
             "colorbar": {
              "outlinewidth": 0,
              "ticks": ""
             }
            },
            "type": "scatterternary"
           }
          ],
          "surface": [
           {
            "colorbar": {
             "outlinewidth": 0,
             "ticks": ""
            },
            "colorscale": [
             [
              0,
              "#0d0887"
             ],
             [
              0.1111111111111111,
              "#46039f"
             ],
             [
              0.2222222222222222,
              "#7201a8"
             ],
             [
              0.3333333333333333,
              "#9c179e"
             ],
             [
              0.4444444444444444,
              "#bd3786"
             ],
             [
              0.5555555555555556,
              "#d8576b"
             ],
             [
              0.6666666666666666,
              "#ed7953"
             ],
             [
              0.7777777777777778,
              "#fb9f3a"
             ],
             [
              0.8888888888888888,
              "#fdca26"
             ],
             [
              1,
              "#f0f921"
             ]
            ],
            "type": "surface"
           }
          ],
          "table": [
           {
            "cells": {
             "fill": {
              "color": "#EBF0F8"
             },
             "line": {
              "color": "white"
             }
            },
            "header": {
             "fill": {
              "color": "#C8D4E3"
             },
             "line": {
              "color": "white"
             }
            },
            "type": "table"
           }
          ]
         },
         "layout": {
          "annotationdefaults": {
           "arrowcolor": "#2a3f5f",
           "arrowhead": 0,
           "arrowwidth": 1
          },
          "autotypenumbers": "strict",
          "coloraxis": {
           "colorbar": {
            "outlinewidth": 0,
            "ticks": ""
           }
          },
          "colorscale": {
           "diverging": [
            [
             0,
             "#8e0152"
            ],
            [
             0.1,
             "#c51b7d"
            ],
            [
             0.2,
             "#de77ae"
            ],
            [
             0.3,
             "#f1b6da"
            ],
            [
             0.4,
             "#fde0ef"
            ],
            [
             0.5,
             "#f7f7f7"
            ],
            [
             0.6,
             "#e6f5d0"
            ],
            [
             0.7,
             "#b8e186"
            ],
            [
             0.8,
             "#7fbc41"
            ],
            [
             0.9,
             "#4d9221"
            ],
            [
             1,
             "#276419"
            ]
           ],
           "sequential": [
            [
             0,
             "#0d0887"
            ],
            [
             0.1111111111111111,
             "#46039f"
            ],
            [
             0.2222222222222222,
             "#7201a8"
            ],
            [
             0.3333333333333333,
             "#9c179e"
            ],
            [
             0.4444444444444444,
             "#bd3786"
            ],
            [
             0.5555555555555556,
             "#d8576b"
            ],
            [
             0.6666666666666666,
             "#ed7953"
            ],
            [
             0.7777777777777778,
             "#fb9f3a"
            ],
            [
             0.8888888888888888,
             "#fdca26"
            ],
            [
             1,
             "#f0f921"
            ]
           ],
           "sequentialminus": [
            [
             0,
             "#0d0887"
            ],
            [
             0.1111111111111111,
             "#46039f"
            ],
            [
             0.2222222222222222,
             "#7201a8"
            ],
            [
             0.3333333333333333,
             "#9c179e"
            ],
            [
             0.4444444444444444,
             "#bd3786"
            ],
            [
             0.5555555555555556,
             "#d8576b"
            ],
            [
             0.6666666666666666,
             "#ed7953"
            ],
            [
             0.7777777777777778,
             "#fb9f3a"
            ],
            [
             0.8888888888888888,
             "#fdca26"
            ],
            [
             1,
             "#f0f921"
            ]
           ]
          },
          "colorway": [
           "#636efa",
           "#EF553B",
           "#00cc96",
           "#ab63fa",
           "#FFA15A",
           "#19d3f3",
           "#FF6692",
           "#B6E880",
           "#FF97FF",
           "#FECB52"
          ],
          "font": {
           "color": "#2a3f5f"
          },
          "geo": {
           "bgcolor": "white",
           "lakecolor": "white",
           "landcolor": "#E5ECF6",
           "showlakes": true,
           "showland": true,
           "subunitcolor": "white"
          },
          "hoverlabel": {
           "align": "left"
          },
          "hovermode": "closest",
          "mapbox": {
           "style": "light"
          },
          "paper_bgcolor": "white",
          "plot_bgcolor": "#E5ECF6",
          "polar": {
           "angularaxis": {
            "gridcolor": "white",
            "linecolor": "white",
            "ticks": ""
           },
           "bgcolor": "#E5ECF6",
           "radialaxis": {
            "gridcolor": "white",
            "linecolor": "white",
            "ticks": ""
           }
          },
          "scene": {
           "xaxis": {
            "backgroundcolor": "#E5ECF6",
            "gridcolor": "white",
            "gridwidth": 2,
            "linecolor": "white",
            "showbackground": true,
            "ticks": "",
            "zerolinecolor": "white"
           },
           "yaxis": {
            "backgroundcolor": "#E5ECF6",
            "gridcolor": "white",
            "gridwidth": 2,
            "linecolor": "white",
            "showbackground": true,
            "ticks": "",
            "zerolinecolor": "white"
           },
           "zaxis": {
            "backgroundcolor": "#E5ECF6",
            "gridcolor": "white",
            "gridwidth": 2,
            "linecolor": "white",
            "showbackground": true,
            "ticks": "",
            "zerolinecolor": "white"
           }
          },
          "shapedefaults": {
           "line": {
            "color": "#2a3f5f"
           }
          },
          "ternary": {
           "aaxis": {
            "gridcolor": "white",
            "linecolor": "white",
            "ticks": ""
           },
           "baxis": {
            "gridcolor": "white",
            "linecolor": "white",
            "ticks": ""
           },
           "bgcolor": "#E5ECF6",
           "caxis": {
            "gridcolor": "white",
            "linecolor": "white",
            "ticks": ""
           }
          },
          "title": {
           "x": 0.05
          },
          "xaxis": {
           "automargin": true,
           "gridcolor": "white",
           "linecolor": "white",
           "ticks": "",
           "title": {
            "standoff": 15
           },
           "zerolinecolor": "white",
           "zerolinewidth": 2
          },
          "yaxis": {
           "automargin": true,
           "gridcolor": "white",
           "linecolor": "white",
           "ticks": "",
           "title": {
            "standoff": 15
           },
           "zerolinecolor": "white",
           "zerolinewidth": 2
          }
         }
        }
       }
      }
     },
     "metadata": {},
     "output_type": "display_data"
    }
   ],
   "source": [
    "figjo=px.scatter_mapbox(data_jo_day, lat=\"lat\", lon=\"lng\",mapbox_style=\"carto-positron\",height= 650,  zoom=12, size=\"yhat\")\n",
    "figjo.update_traces(textposition='top center')\n",
    "\n",
    "# Affichage de la légende et mise en page\n",
    "figjo.show()"
   ]
  },
  {
   "cell_type": "code",
   "execution_count": 164,
   "metadata": {},
   "outputs": [
    {
     "data": {
      "text/html": [
       "<div>\n",
       "<style scoped>\n",
       "    .dataframe tbody tr th:only-of-type {\n",
       "        vertical-align: middle;\n",
       "    }\n",
       "\n",
       "    .dataframe tbody tr th {\n",
       "        vertical-align: top;\n",
       "    }\n",
       "\n",
       "    .dataframe thead th {\n",
       "        text-align: right;\n",
       "    }\n",
       "</style>\n",
       "<table border=\"1\" class=\"dataframe\">\n",
       "  <thead>\n",
       "    <tr style=\"text-align: right;\">\n",
       "      <th></th>\n",
       "      <th>ds</th>\n",
       "      <th>yhat</th>\n",
       "      <th>station</th>\n",
       "      <th>lat</th>\n",
       "      <th>lng</th>\n",
       "    </tr>\n",
       "  </thead>\n",
       "  <tbody>\n",
       "    <tr>\n",
       "      <th>287</th>\n",
       "      <td>2024-08-09</td>\n",
       "      <td>2875.127530</td>\n",
       "      <td>PORTE D'AUTEUIL</td>\n",
       "      <td>48.847677</td>\n",
       "      <td>2.257985</td>\n",
       "    </tr>\n",
       "    <tr>\n",
       "      <th>349</th>\n",
       "      <td>2024-08-09</td>\n",
       "      <td>16276.865343</td>\n",
       "      <td>PORTE DE SAINT-CLOUD</td>\n",
       "      <td>48.838012</td>\n",
       "      <td>2.256993</td>\n",
       "    </tr>\n",
       "  </tbody>\n",
       "</table>\n",
       "</div>"
      ],
      "text/plain": [
       "            ds          yhat               station        lat       lng\n",
       "287 2024-08-09   2875.127530       PORTE D'AUTEUIL  48.847677  2.257985\n",
       "349 2024-08-09  16276.865343  PORTE DE SAINT-CLOUD  48.838012  2.256993"
      ]
     },
     "execution_count": 164,
     "metadata": {},
     "output_type": "execute_result"
    }
   ],
   "source": [
    "data_jo_day"
   ]
  },
  {
   "cell_type": "code",
   "execution_count": 165,
   "metadata": {},
   "outputs": [
    {
     "name": "stderr",
     "output_type": "stream",
     "text": [
      "/var/folders/5n/p64q8ht13qzd7qbp48cbvk880000gn/T/ipykernel_2860/453117349.py:1: SettingWithCopyWarning:\n",
      "\n",
      "\n",
      "A value is trying to be set on a copy of a slice from a DataFrame.\n",
      "Try using .loc[row_indexer,col_indexer] = value instead\n",
      "\n",
      "See the caveats in the documentation: https://pandas.pydata.org/pandas-docs/stable/user_guide/indexing.html#returning-a-view-versus-a-copy\n",
      "\n",
      "/var/folders/5n/p64q8ht13qzd7qbp48cbvk880000gn/T/ipykernel_2860/453117349.py:2: SettingWithCopyWarning:\n",
      "\n",
      "\n",
      "A value is trying to be set on a copy of a slice from a DataFrame.\n",
      "Try using .loc[row_indexer,col_indexer] = value instead\n",
      "\n",
      "See the caveats in the documentation: https://pandas.pydata.org/pandas-docs/stable/user_guide/indexing.html#returning-a-view-versus-a-copy\n",
      "\n"
     ]
    },
    {
     "data": {
      "text/html": [
       "<div>\n",
       "<style scoped>\n",
       "    .dataframe tbody tr th:only-of-type {\n",
       "        vertical-align: middle;\n",
       "    }\n",
       "\n",
       "    .dataframe tbody tr th {\n",
       "        vertical-align: top;\n",
       "    }\n",
       "\n",
       "    .dataframe thead th {\n",
       "        text-align: right;\n",
       "    }\n",
       "</style>\n",
       "<table border=\"1\" class=\"dataframe\">\n",
       "  <thead>\n",
       "    <tr style=\"text-align: right;\">\n",
       "      <th></th>\n",
       "      <th>ds</th>\n",
       "      <th>yhat</th>\n",
       "      <th>station</th>\n",
       "      <th>lat</th>\n",
       "      <th>lng</th>\n",
       "      <th>event</th>\n",
       "    </tr>\n",
       "  </thead>\n",
       "  <tbody>\n",
       "    <tr>\n",
       "      <th>0</th>\n",
       "      <td>2024-08-09</td>\n",
       "      <td>2875.127530</td>\n",
       "      <td>PORTE D'AUTEUIL</td>\n",
       "      <td>48.847677</td>\n",
       "      <td>2.257985</td>\n",
       "      <td>Avec JO</td>\n",
       "    </tr>\n",
       "    <tr>\n",
       "      <th>1</th>\n",
       "      <td>2024-08-09</td>\n",
       "      <td>16276.865343</td>\n",
       "      <td>PORTE DE SAINT-CLOUD</td>\n",
       "      <td>48.838012</td>\n",
       "      <td>2.256993</td>\n",
       "      <td>Avec JO</td>\n",
       "    </tr>\n",
       "    <tr>\n",
       "      <th>2</th>\n",
       "      <td>2024-08-09</td>\n",
       "      <td>1091.198972</td>\n",
       "      <td>PORTE D'AUTEUIL</td>\n",
       "      <td>48.847677</td>\n",
       "      <td>2.257985</td>\n",
       "      <td>Sans JO</td>\n",
       "    </tr>\n",
       "    <tr>\n",
       "      <th>3</th>\n",
       "      <td>2024-08-09</td>\n",
       "      <td>11472.809454</td>\n",
       "      <td>PORTE DE SAINT-CLOUD</td>\n",
       "      <td>48.838012</td>\n",
       "      <td>2.256993</td>\n",
       "      <td>Sans JO</td>\n",
       "    </tr>\n",
       "  </tbody>\n",
       "</table>\n",
       "</div>"
      ],
      "text/plain": [
       "          ds          yhat               station        lat       lng    event\n",
       "0 2024-08-09   2875.127530       PORTE D'AUTEUIL  48.847677  2.257985  Avec JO\n",
       "1 2024-08-09  16276.865343  PORTE DE SAINT-CLOUD  48.838012  2.256993  Avec JO\n",
       "2 2024-08-09   1091.198972       PORTE D'AUTEUIL  48.847677  2.257985  Sans JO\n",
       "3 2024-08-09  11472.809454  PORTE DE SAINT-CLOUD  48.838012  2.256993  Sans JO"
      ]
     },
     "execution_count": 165,
     "metadata": {},
     "output_type": "execute_result"
    }
   ],
   "source": [
    "data_jo_day['event']=\"Avec JO\"\n",
    "data_ssjo_day[\"event\"]=\"Sans JO\"\n",
    "data_day=pd.concat([data_jo_day,data_ssjo_day], axis=0, ignore_index=True)\n",
    "data_day"
   ]
  },
  {
   "cell_type": "code",
   "execution_count": 166,
   "metadata": {},
   "outputs": [
    {
     "data": {
      "application/vnd.plotly.v1+json": {
       "config": {
        "plotlyServerURL": "https://plot.ly"
       },
       "data": [
        {
         "hovertemplate": "<b>%{hovertext}</b><br><br>yhat=%{marker.size}<br>event=%{text}<br>lat=%{lat}<br>lng=%{lon}<extra></extra>",
         "hovertext": [
          "PORTE D'AUTEUIL",
          "PORTE DE SAINT-CLOUD"
         ],
         "lat": [
          48.847677,
          48.8380119
         ],
         "legendgroup": "",
         "lon": [
          2.2579853,
          2.2569927
         ],
         "marker": {
          "color": "Red",
          "size": [
           28751.27530284812,
           162768.65342922794
          ],
          "sizemode": "area",
          "sizeref": 40.69216335730699
         },
         "mode": "markers+text",
         "name": "",
         "showlegend": false,
         "subplot": "mapbox",
         "text": [
          "Avec JO",
          "Avec JO"
         ],
         "textposition": "top center",
         "type": "scattermapbox"
        },
        {
         "hovertemplate": "<b>%{hovertext}</b><br><br>yhat=%{marker.size}<br>event=%{text}<br>lat=%{lat}<br>lng=%{lon}<extra></extra>",
         "hovertext": [
          "PORTE D'AUTEUIL",
          "PORTE DE SAINT-CLOUD"
         ],
         "lat": [
          48.847677,
          48.8380119
         ],
         "legendgroup": "",
         "lon": [
          2.2579853,
          2.2569927
         ],
         "marker": {
          "color": "Blue",
          "size": [
           10911.989724221181,
           114728.09453942583
          ],
          "sizemode": "area",
          "sizeref": 114.72809453942584
         },
         "mode": "markers+text",
         "name": "",
         "showlegend": false,
         "subplot": "mapbox",
         "text": [
          "Sans JO",
          "Sans JO"
         ],
         "textposition": "top center",
         "type": "scattermapbox"
        }
       ],
       "layout": {
        "height": 650,
        "legend": {
         "itemsizing": "constant",
         "tracegroupgap": 0
        },
        "mapbox": {
         "center": {
          "lat": 48.84284445,
          "lon": 2.257489
         },
         "domain": {
          "x": [
           0,
           1
          ],
          "y": [
           0,
           1
          ]
         },
         "style": "carto-positron",
         "zoom": 13
        },
        "margin": {
         "t": 60
        },
        "template": {
         "data": {
          "bar": [
           {
            "error_x": {
             "color": "#2a3f5f"
            },
            "error_y": {
             "color": "#2a3f5f"
            },
            "marker": {
             "line": {
              "color": "#E5ECF6",
              "width": 0.5
             },
             "pattern": {
              "fillmode": "overlay",
              "size": 10,
              "solidity": 0.2
             }
            },
            "type": "bar"
           }
          ],
          "barpolar": [
           {
            "marker": {
             "line": {
              "color": "#E5ECF6",
              "width": 0.5
             },
             "pattern": {
              "fillmode": "overlay",
              "size": 10,
              "solidity": 0.2
             }
            },
            "type": "barpolar"
           }
          ],
          "carpet": [
           {
            "aaxis": {
             "endlinecolor": "#2a3f5f",
             "gridcolor": "white",
             "linecolor": "white",
             "minorgridcolor": "white",
             "startlinecolor": "#2a3f5f"
            },
            "baxis": {
             "endlinecolor": "#2a3f5f",
             "gridcolor": "white",
             "linecolor": "white",
             "minorgridcolor": "white",
             "startlinecolor": "#2a3f5f"
            },
            "type": "carpet"
           }
          ],
          "choropleth": [
           {
            "colorbar": {
             "outlinewidth": 0,
             "ticks": ""
            },
            "type": "choropleth"
           }
          ],
          "contour": [
           {
            "colorbar": {
             "outlinewidth": 0,
             "ticks": ""
            },
            "colorscale": [
             [
              0,
              "#0d0887"
             ],
             [
              0.1111111111111111,
              "#46039f"
             ],
             [
              0.2222222222222222,
              "#7201a8"
             ],
             [
              0.3333333333333333,
              "#9c179e"
             ],
             [
              0.4444444444444444,
              "#bd3786"
             ],
             [
              0.5555555555555556,
              "#d8576b"
             ],
             [
              0.6666666666666666,
              "#ed7953"
             ],
             [
              0.7777777777777778,
              "#fb9f3a"
             ],
             [
              0.8888888888888888,
              "#fdca26"
             ],
             [
              1,
              "#f0f921"
             ]
            ],
            "type": "contour"
           }
          ],
          "contourcarpet": [
           {
            "colorbar": {
             "outlinewidth": 0,
             "ticks": ""
            },
            "type": "contourcarpet"
           }
          ],
          "heatmap": [
           {
            "colorbar": {
             "outlinewidth": 0,
             "ticks": ""
            },
            "colorscale": [
             [
              0,
              "#0d0887"
             ],
             [
              0.1111111111111111,
              "#46039f"
             ],
             [
              0.2222222222222222,
              "#7201a8"
             ],
             [
              0.3333333333333333,
              "#9c179e"
             ],
             [
              0.4444444444444444,
              "#bd3786"
             ],
             [
              0.5555555555555556,
              "#d8576b"
             ],
             [
              0.6666666666666666,
              "#ed7953"
             ],
             [
              0.7777777777777778,
              "#fb9f3a"
             ],
             [
              0.8888888888888888,
              "#fdca26"
             ],
             [
              1,
              "#f0f921"
             ]
            ],
            "type": "heatmap"
           }
          ],
          "heatmapgl": [
           {
            "colorbar": {
             "outlinewidth": 0,
             "ticks": ""
            },
            "colorscale": [
             [
              0,
              "#0d0887"
             ],
             [
              0.1111111111111111,
              "#46039f"
             ],
             [
              0.2222222222222222,
              "#7201a8"
             ],
             [
              0.3333333333333333,
              "#9c179e"
             ],
             [
              0.4444444444444444,
              "#bd3786"
             ],
             [
              0.5555555555555556,
              "#d8576b"
             ],
             [
              0.6666666666666666,
              "#ed7953"
             ],
             [
              0.7777777777777778,
              "#fb9f3a"
             ],
             [
              0.8888888888888888,
              "#fdca26"
             ],
             [
              1,
              "#f0f921"
             ]
            ],
            "type": "heatmapgl"
           }
          ],
          "histogram": [
           {
            "marker": {
             "pattern": {
              "fillmode": "overlay",
              "size": 10,
              "solidity": 0.2
             }
            },
            "type": "histogram"
           }
          ],
          "histogram2d": [
           {
            "colorbar": {
             "outlinewidth": 0,
             "ticks": ""
            },
            "colorscale": [
             [
              0,
              "#0d0887"
             ],
             [
              0.1111111111111111,
              "#46039f"
             ],
             [
              0.2222222222222222,
              "#7201a8"
             ],
             [
              0.3333333333333333,
              "#9c179e"
             ],
             [
              0.4444444444444444,
              "#bd3786"
             ],
             [
              0.5555555555555556,
              "#d8576b"
             ],
             [
              0.6666666666666666,
              "#ed7953"
             ],
             [
              0.7777777777777778,
              "#fb9f3a"
             ],
             [
              0.8888888888888888,
              "#fdca26"
             ],
             [
              1,
              "#f0f921"
             ]
            ],
            "type": "histogram2d"
           }
          ],
          "histogram2dcontour": [
           {
            "colorbar": {
             "outlinewidth": 0,
             "ticks": ""
            },
            "colorscale": [
             [
              0,
              "#0d0887"
             ],
             [
              0.1111111111111111,
              "#46039f"
             ],
             [
              0.2222222222222222,
              "#7201a8"
             ],
             [
              0.3333333333333333,
              "#9c179e"
             ],
             [
              0.4444444444444444,
              "#bd3786"
             ],
             [
              0.5555555555555556,
              "#d8576b"
             ],
             [
              0.6666666666666666,
              "#ed7953"
             ],
             [
              0.7777777777777778,
              "#fb9f3a"
             ],
             [
              0.8888888888888888,
              "#fdca26"
             ],
             [
              1,
              "#f0f921"
             ]
            ],
            "type": "histogram2dcontour"
           }
          ],
          "mesh3d": [
           {
            "colorbar": {
             "outlinewidth": 0,
             "ticks": ""
            },
            "type": "mesh3d"
           }
          ],
          "parcoords": [
           {
            "line": {
             "colorbar": {
              "outlinewidth": 0,
              "ticks": ""
             }
            },
            "type": "parcoords"
           }
          ],
          "pie": [
           {
            "automargin": true,
            "type": "pie"
           }
          ],
          "scatter": [
           {
            "fillpattern": {
             "fillmode": "overlay",
             "size": 10,
             "solidity": 0.2
            },
            "type": "scatter"
           }
          ],
          "scatter3d": [
           {
            "line": {
             "colorbar": {
              "outlinewidth": 0,
              "ticks": ""
             }
            },
            "marker": {
             "colorbar": {
              "outlinewidth": 0,
              "ticks": ""
             }
            },
            "type": "scatter3d"
           }
          ],
          "scattercarpet": [
           {
            "marker": {
             "colorbar": {
              "outlinewidth": 0,
              "ticks": ""
             }
            },
            "type": "scattercarpet"
           }
          ],
          "scattergeo": [
           {
            "marker": {
             "colorbar": {
              "outlinewidth": 0,
              "ticks": ""
             }
            },
            "type": "scattergeo"
           }
          ],
          "scattergl": [
           {
            "marker": {
             "colorbar": {
              "outlinewidth": 0,
              "ticks": ""
             }
            },
            "type": "scattergl"
           }
          ],
          "scattermapbox": [
           {
            "marker": {
             "colorbar": {
              "outlinewidth": 0,
              "ticks": ""
             }
            },
            "type": "scattermapbox"
           }
          ],
          "scatterpolar": [
           {
            "marker": {
             "colorbar": {
              "outlinewidth": 0,
              "ticks": ""
             }
            },
            "type": "scatterpolar"
           }
          ],
          "scatterpolargl": [
           {
            "marker": {
             "colorbar": {
              "outlinewidth": 0,
              "ticks": ""
             }
            },
            "type": "scatterpolargl"
           }
          ],
          "scatterternary": [
           {
            "marker": {
             "colorbar": {
              "outlinewidth": 0,
              "ticks": ""
             }
            },
            "type": "scatterternary"
           }
          ],
          "surface": [
           {
            "colorbar": {
             "outlinewidth": 0,
             "ticks": ""
            },
            "colorscale": [
             [
              0,
              "#0d0887"
             ],
             [
              0.1111111111111111,
              "#46039f"
             ],
             [
              0.2222222222222222,
              "#7201a8"
             ],
             [
              0.3333333333333333,
              "#9c179e"
             ],
             [
              0.4444444444444444,
              "#bd3786"
             ],
             [
              0.5555555555555556,
              "#d8576b"
             ],
             [
              0.6666666666666666,
              "#ed7953"
             ],
             [
              0.7777777777777778,
              "#fb9f3a"
             ],
             [
              0.8888888888888888,
              "#fdca26"
             ],
             [
              1,
              "#f0f921"
             ]
            ],
            "type": "surface"
           }
          ],
          "table": [
           {
            "cells": {
             "fill": {
              "color": "#EBF0F8"
             },
             "line": {
              "color": "white"
             }
            },
            "header": {
             "fill": {
              "color": "#C8D4E3"
             },
             "line": {
              "color": "white"
             }
            },
            "type": "table"
           }
          ]
         },
         "layout": {
          "annotationdefaults": {
           "arrowcolor": "#2a3f5f",
           "arrowhead": 0,
           "arrowwidth": 1
          },
          "autotypenumbers": "strict",
          "coloraxis": {
           "colorbar": {
            "outlinewidth": 0,
            "ticks": ""
           }
          },
          "colorscale": {
           "diverging": [
            [
             0,
             "#8e0152"
            ],
            [
             0.1,
             "#c51b7d"
            ],
            [
             0.2,
             "#de77ae"
            ],
            [
             0.3,
             "#f1b6da"
            ],
            [
             0.4,
             "#fde0ef"
            ],
            [
             0.5,
             "#f7f7f7"
            ],
            [
             0.6,
             "#e6f5d0"
            ],
            [
             0.7,
             "#b8e186"
            ],
            [
             0.8,
             "#7fbc41"
            ],
            [
             0.9,
             "#4d9221"
            ],
            [
             1,
             "#276419"
            ]
           ],
           "sequential": [
            [
             0,
             "#0d0887"
            ],
            [
             0.1111111111111111,
             "#46039f"
            ],
            [
             0.2222222222222222,
             "#7201a8"
            ],
            [
             0.3333333333333333,
             "#9c179e"
            ],
            [
             0.4444444444444444,
             "#bd3786"
            ],
            [
             0.5555555555555556,
             "#d8576b"
            ],
            [
             0.6666666666666666,
             "#ed7953"
            ],
            [
             0.7777777777777778,
             "#fb9f3a"
            ],
            [
             0.8888888888888888,
             "#fdca26"
            ],
            [
             1,
             "#f0f921"
            ]
           ],
           "sequentialminus": [
            [
             0,
             "#0d0887"
            ],
            [
             0.1111111111111111,
             "#46039f"
            ],
            [
             0.2222222222222222,
             "#7201a8"
            ],
            [
             0.3333333333333333,
             "#9c179e"
            ],
            [
             0.4444444444444444,
             "#bd3786"
            ],
            [
             0.5555555555555556,
             "#d8576b"
            ],
            [
             0.6666666666666666,
             "#ed7953"
            ],
            [
             0.7777777777777778,
             "#fb9f3a"
            ],
            [
             0.8888888888888888,
             "#fdca26"
            ],
            [
             1,
             "#f0f921"
            ]
           ]
          },
          "colorway": [
           "#636efa",
           "#EF553B",
           "#00cc96",
           "#ab63fa",
           "#FFA15A",
           "#19d3f3",
           "#FF6692",
           "#B6E880",
           "#FF97FF",
           "#FECB52"
          ],
          "font": {
           "color": "#2a3f5f"
          },
          "geo": {
           "bgcolor": "white",
           "lakecolor": "white",
           "landcolor": "#E5ECF6",
           "showlakes": true,
           "showland": true,
           "subunitcolor": "white"
          },
          "hoverlabel": {
           "align": "left"
          },
          "hovermode": "closest",
          "mapbox": {
           "style": "light"
          },
          "paper_bgcolor": "white",
          "plot_bgcolor": "#E5ECF6",
          "polar": {
           "angularaxis": {
            "gridcolor": "white",
            "linecolor": "white",
            "ticks": ""
           },
           "bgcolor": "#E5ECF6",
           "radialaxis": {
            "gridcolor": "white",
            "linecolor": "white",
            "ticks": ""
           }
          },
          "scene": {
           "xaxis": {
            "backgroundcolor": "#E5ECF6",
            "gridcolor": "white",
            "gridwidth": 2,
            "linecolor": "white",
            "showbackground": true,
            "ticks": "",
            "zerolinecolor": "white"
           },
           "yaxis": {
            "backgroundcolor": "#E5ECF6",
            "gridcolor": "white",
            "gridwidth": 2,
            "linecolor": "white",
            "showbackground": true,
            "ticks": "",
            "zerolinecolor": "white"
           },
           "zaxis": {
            "backgroundcolor": "#E5ECF6",
            "gridcolor": "white",
            "gridwidth": 2,
            "linecolor": "white",
            "showbackground": true,
            "ticks": "",
            "zerolinecolor": "white"
           }
          },
          "shapedefaults": {
           "line": {
            "color": "#2a3f5f"
           }
          },
          "ternary": {
           "aaxis": {
            "gridcolor": "white",
            "linecolor": "white",
            "ticks": ""
           },
           "baxis": {
            "gridcolor": "white",
            "linecolor": "white",
            "ticks": ""
           },
           "bgcolor": "#E5ECF6",
           "caxis": {
            "gridcolor": "white",
            "linecolor": "white",
            "ticks": ""
           }
          },
          "title": {
           "x": 0.05
          },
          "xaxis": {
           "automargin": true,
           "gridcolor": "white",
           "linecolor": "white",
           "ticks": "",
           "title": {
            "standoff": 15
           },
           "zerolinecolor": "white",
           "zerolinewidth": 2
          },
          "yaxis": {
           "automargin": true,
           "gridcolor": "white",
           "linecolor": "white",
           "ticks": "",
           "title": {
            "standoff": 15
           },
           "zerolinecolor": "white",
           "zerolinewidth": 2
          }
         }
        }
       }
      }
     },
     "metadata": {},
     "output_type": "display_data"
    }
   ],
   "source": [
    "figjo=px.scatter_mapbox(data_jo_day, lat=\"lat\", lon=\"lng\",mapbox_style=\"carto-positron\", height= 650,  zoom=13,\n",
    "                     hover_name=\"station\", size=\"yhat\",text=\"event\")\n",
    "figjo.update_traces(textposition='top center')\n",
    "figssjo = px.scatter_mapbox(data_ssjo_day, lat=\"lat\", lon=\"lng\",mapbox_style=\"white-bg\", height= 650,  zoom=13,\n",
    "                     hover_name=\"station\", size=\"yhat\",text=\"event\",size_max=10)\n",
    "figssjo.update_traces(textposition='top center')                 \n",
    "figjo.update_traces(marker=dict(color='Red',size=data_jo_day['yhat']*10))\n",
    "figssjo.update_traces(marker=dict(color='Blue',size=data_ssjo_day['yhat']*10))\n",
    "fig = figjo.add_trace(figssjo.data[0])\n",
    "# Affichage de la légende et mise en page\n",
    "fig.show()"
   ]
  },
  {
   "cell_type": "code",
   "execution_count": 185,
   "metadata": {},
   "outputs": [
    {
     "data": {
      "application/vnd.plotly.v1+json": {
       "config": {
        "plotlyServerURL": "https://plot.ly"
       },
       "data": [
        {
         "hovertemplate": "<b>%{hovertext}</b><br><br>yhat=%{marker.size}<br>lat=%{lat}<br>lng=%{lon}<extra></extra>",
         "hovertext": [
          "PORTE D'AUTEUIL",
          "PORTE DE SAINT-CLOUD"
         ],
         "lat": [
          48.847677,
          48.8380119
         ],
         "legendgroup": "",
         "lon": [
          2.2579853,
          2.2569927
         ],
         "marker": {
          "color": "dodgerblue",
          "size": [
           10911.989724221181,
           114728.09453942583
          ],
          "sizemode": "area",
          "sizeref": 40.69216335730699
         },
         "mode": "markers",
         "name": "",
         "showlegend": false,
         "subplot": "mapbox",
         "textposition": "top center",
         "type": "scattermapbox"
        },
        {
         "hovertemplate": "<b>%{hovertext}</b><br><br>yhat=%{marker.size}<br>lat=%{lat}<br>lng=%{lon}<extra></extra>",
         "hovertext": [
          "PORTE D'AUTEUIL",
          "PORTE DE SAINT-CLOUD"
         ],
         "lat": [
          48.847677,
          48.8380119
         ],
         "legendgroup": "",
         "lon": [
          2.2579853,
          2.2569927
         ],
         "marker": {
          "color": "lightskyblue",
          "size": [
           10911.989724221181,
           114728.09453942583
          ],
          "sizemode": "area",
          "sizeref": 79.67228787460128
         },
         "mode": "markers",
         "name": "",
         "showlegend": false,
         "subplot": "mapbox",
         "textposition": "top center",
         "type": "scattermapbox"
        },
        {
         "hoverinfo": "text",
         "lat": [
          48.841319,
          48.924388,
          48.866041,
          48.862286,
          48.865589,
          48.930873,
          48.854536,
          48.857232,
          48.84732,
          48.832068,
          48.899483,
          48.838649
         ],
         "lon": [
          2.253076,
          2.359871,
          2.312406,
          2.313222,
          2.321205,
          2.249836,
          2.300413,
          2.296084,
          2.245501,
          2.284126,
          2.361803,
          2.378496
         ],
         "marker": {
          "color": "gray",
          "size": 12,
          "symbol": "square"
         },
         "mode": "markers+text",
         "name": "site",
         "text": [
          "PARC DES PRINCES",
          "STADE DE FRANCE",
          "GRAND PALAIS",
          "ARENA INVALIDES",
          "STADE DE LA CONCORDE",
          "STADE YVES DU MANOIR",
          "ARENA CHAMP DE MARS",
          "STADE TOUR EIFFEL",
          "ROLAND-GARROS",
          "ARENA PARIS SUD",
          "ARENA LA CHAPELLE",
          "ARENA BERCY"
         ],
         "type": "scattermapbox"
        }
       ],
       "layout": {
        "height": 650,
        "legend": {
         "itemsizing": "constant",
         "tracegroupgap": 0
        },
        "mapbox": {
         "accesstoken": "pk.eyJ1Ijoic2FsbWFiZW5xIiwiYSI6ImNscHN1c3NybDA0NGEybm9mMHV2bzlvengifQ.vdle0P_6ixyvBo8Y_AftFQ",
         "center": {
          "lat": 48.84284445,
          "lon": 2.257489
         },
         "domain": {
          "x": [
           0,
           1
          ],
          "y": [
           0,
           1
          ]
         },
         "style": "light",
         "zoom": 13
        },
        "margin": {
         "t": 60
        },
        "template": {
         "data": {
          "bar": [
           {
            "error_x": {
             "color": "#2a3f5f"
            },
            "error_y": {
             "color": "#2a3f5f"
            },
            "marker": {
             "line": {
              "color": "#E5ECF6",
              "width": 0.5
             },
             "pattern": {
              "fillmode": "overlay",
              "size": 10,
              "solidity": 0.2
             }
            },
            "type": "bar"
           }
          ],
          "barpolar": [
           {
            "marker": {
             "line": {
              "color": "#E5ECF6",
              "width": 0.5
             },
             "pattern": {
              "fillmode": "overlay",
              "size": 10,
              "solidity": 0.2
             }
            },
            "type": "barpolar"
           }
          ],
          "carpet": [
           {
            "aaxis": {
             "endlinecolor": "#2a3f5f",
             "gridcolor": "white",
             "linecolor": "white",
             "minorgridcolor": "white",
             "startlinecolor": "#2a3f5f"
            },
            "baxis": {
             "endlinecolor": "#2a3f5f",
             "gridcolor": "white",
             "linecolor": "white",
             "minorgridcolor": "white",
             "startlinecolor": "#2a3f5f"
            },
            "type": "carpet"
           }
          ],
          "choropleth": [
           {
            "colorbar": {
             "outlinewidth": 0,
             "ticks": ""
            },
            "type": "choropleth"
           }
          ],
          "contour": [
           {
            "colorbar": {
             "outlinewidth": 0,
             "ticks": ""
            },
            "colorscale": [
             [
              0,
              "#0d0887"
             ],
             [
              0.1111111111111111,
              "#46039f"
             ],
             [
              0.2222222222222222,
              "#7201a8"
             ],
             [
              0.3333333333333333,
              "#9c179e"
             ],
             [
              0.4444444444444444,
              "#bd3786"
             ],
             [
              0.5555555555555556,
              "#d8576b"
             ],
             [
              0.6666666666666666,
              "#ed7953"
             ],
             [
              0.7777777777777778,
              "#fb9f3a"
             ],
             [
              0.8888888888888888,
              "#fdca26"
             ],
             [
              1,
              "#f0f921"
             ]
            ],
            "type": "contour"
           }
          ],
          "contourcarpet": [
           {
            "colorbar": {
             "outlinewidth": 0,
             "ticks": ""
            },
            "type": "contourcarpet"
           }
          ],
          "heatmap": [
           {
            "colorbar": {
             "outlinewidth": 0,
             "ticks": ""
            },
            "colorscale": [
             [
              0,
              "#0d0887"
             ],
             [
              0.1111111111111111,
              "#46039f"
             ],
             [
              0.2222222222222222,
              "#7201a8"
             ],
             [
              0.3333333333333333,
              "#9c179e"
             ],
             [
              0.4444444444444444,
              "#bd3786"
             ],
             [
              0.5555555555555556,
              "#d8576b"
             ],
             [
              0.6666666666666666,
              "#ed7953"
             ],
             [
              0.7777777777777778,
              "#fb9f3a"
             ],
             [
              0.8888888888888888,
              "#fdca26"
             ],
             [
              1,
              "#f0f921"
             ]
            ],
            "type": "heatmap"
           }
          ],
          "heatmapgl": [
           {
            "colorbar": {
             "outlinewidth": 0,
             "ticks": ""
            },
            "colorscale": [
             [
              0,
              "#0d0887"
             ],
             [
              0.1111111111111111,
              "#46039f"
             ],
             [
              0.2222222222222222,
              "#7201a8"
             ],
             [
              0.3333333333333333,
              "#9c179e"
             ],
             [
              0.4444444444444444,
              "#bd3786"
             ],
             [
              0.5555555555555556,
              "#d8576b"
             ],
             [
              0.6666666666666666,
              "#ed7953"
             ],
             [
              0.7777777777777778,
              "#fb9f3a"
             ],
             [
              0.8888888888888888,
              "#fdca26"
             ],
             [
              1,
              "#f0f921"
             ]
            ],
            "type": "heatmapgl"
           }
          ],
          "histogram": [
           {
            "marker": {
             "pattern": {
              "fillmode": "overlay",
              "size": 10,
              "solidity": 0.2
             }
            },
            "type": "histogram"
           }
          ],
          "histogram2d": [
           {
            "colorbar": {
             "outlinewidth": 0,
             "ticks": ""
            },
            "colorscale": [
             [
              0,
              "#0d0887"
             ],
             [
              0.1111111111111111,
              "#46039f"
             ],
             [
              0.2222222222222222,
              "#7201a8"
             ],
             [
              0.3333333333333333,
              "#9c179e"
             ],
             [
              0.4444444444444444,
              "#bd3786"
             ],
             [
              0.5555555555555556,
              "#d8576b"
             ],
             [
              0.6666666666666666,
              "#ed7953"
             ],
             [
              0.7777777777777778,
              "#fb9f3a"
             ],
             [
              0.8888888888888888,
              "#fdca26"
             ],
             [
              1,
              "#f0f921"
             ]
            ],
            "type": "histogram2d"
           }
          ],
          "histogram2dcontour": [
           {
            "colorbar": {
             "outlinewidth": 0,
             "ticks": ""
            },
            "colorscale": [
             [
              0,
              "#0d0887"
             ],
             [
              0.1111111111111111,
              "#46039f"
             ],
             [
              0.2222222222222222,
              "#7201a8"
             ],
             [
              0.3333333333333333,
              "#9c179e"
             ],
             [
              0.4444444444444444,
              "#bd3786"
             ],
             [
              0.5555555555555556,
              "#d8576b"
             ],
             [
              0.6666666666666666,
              "#ed7953"
             ],
             [
              0.7777777777777778,
              "#fb9f3a"
             ],
             [
              0.8888888888888888,
              "#fdca26"
             ],
             [
              1,
              "#f0f921"
             ]
            ],
            "type": "histogram2dcontour"
           }
          ],
          "mesh3d": [
           {
            "colorbar": {
             "outlinewidth": 0,
             "ticks": ""
            },
            "type": "mesh3d"
           }
          ],
          "parcoords": [
           {
            "line": {
             "colorbar": {
              "outlinewidth": 0,
              "ticks": ""
             }
            },
            "type": "parcoords"
           }
          ],
          "pie": [
           {
            "automargin": true,
            "type": "pie"
           }
          ],
          "scatter": [
           {
            "fillpattern": {
             "fillmode": "overlay",
             "size": 10,
             "solidity": 0.2
            },
            "type": "scatter"
           }
          ],
          "scatter3d": [
           {
            "line": {
             "colorbar": {
              "outlinewidth": 0,
              "ticks": ""
             }
            },
            "marker": {
             "colorbar": {
              "outlinewidth": 0,
              "ticks": ""
             }
            },
            "type": "scatter3d"
           }
          ],
          "scattercarpet": [
           {
            "marker": {
             "colorbar": {
              "outlinewidth": 0,
              "ticks": ""
             }
            },
            "type": "scattercarpet"
           }
          ],
          "scattergeo": [
           {
            "marker": {
             "colorbar": {
              "outlinewidth": 0,
              "ticks": ""
             }
            },
            "type": "scattergeo"
           }
          ],
          "scattergl": [
           {
            "marker": {
             "colorbar": {
              "outlinewidth": 0,
              "ticks": ""
             }
            },
            "type": "scattergl"
           }
          ],
          "scattermapbox": [
           {
            "marker": {
             "colorbar": {
              "outlinewidth": 0,
              "ticks": ""
             }
            },
            "type": "scattermapbox"
           }
          ],
          "scatterpolar": [
           {
            "marker": {
             "colorbar": {
              "outlinewidth": 0,
              "ticks": ""
             }
            },
            "type": "scatterpolar"
           }
          ],
          "scatterpolargl": [
           {
            "marker": {
             "colorbar": {
              "outlinewidth": 0,
              "ticks": ""
             }
            },
            "type": "scatterpolargl"
           }
          ],
          "scatterternary": [
           {
            "marker": {
             "colorbar": {
              "outlinewidth": 0,
              "ticks": ""
             }
            },
            "type": "scatterternary"
           }
          ],
          "surface": [
           {
            "colorbar": {
             "outlinewidth": 0,
             "ticks": ""
            },
            "colorscale": [
             [
              0,
              "#0d0887"
             ],
             [
              0.1111111111111111,
              "#46039f"
             ],
             [
              0.2222222222222222,
              "#7201a8"
             ],
             [
              0.3333333333333333,
              "#9c179e"
             ],
             [
              0.4444444444444444,
              "#bd3786"
             ],
             [
              0.5555555555555556,
              "#d8576b"
             ],
             [
              0.6666666666666666,
              "#ed7953"
             ],
             [
              0.7777777777777778,
              "#fb9f3a"
             ],
             [
              0.8888888888888888,
              "#fdca26"
             ],
             [
              1,
              "#f0f921"
             ]
            ],
            "type": "surface"
           }
          ],
          "table": [
           {
            "cells": {
             "fill": {
              "color": "#EBF0F8"
             },
             "line": {
              "color": "white"
             }
            },
            "header": {
             "fill": {
              "color": "#C8D4E3"
             },
             "line": {
              "color": "white"
             }
            },
            "type": "table"
           }
          ]
         },
         "layout": {
          "annotationdefaults": {
           "arrowcolor": "#2a3f5f",
           "arrowhead": 0,
           "arrowwidth": 1
          },
          "autotypenumbers": "strict",
          "coloraxis": {
           "colorbar": {
            "outlinewidth": 0,
            "ticks": ""
           }
          },
          "colorscale": {
           "diverging": [
            [
             0,
             "#8e0152"
            ],
            [
             0.1,
             "#c51b7d"
            ],
            [
             0.2,
             "#de77ae"
            ],
            [
             0.3,
             "#f1b6da"
            ],
            [
             0.4,
             "#fde0ef"
            ],
            [
             0.5,
             "#f7f7f7"
            ],
            [
             0.6,
             "#e6f5d0"
            ],
            [
             0.7,
             "#b8e186"
            ],
            [
             0.8,
             "#7fbc41"
            ],
            [
             0.9,
             "#4d9221"
            ],
            [
             1,
             "#276419"
            ]
           ],
           "sequential": [
            [
             0,
             "#0d0887"
            ],
            [
             0.1111111111111111,
             "#46039f"
            ],
            [
             0.2222222222222222,
             "#7201a8"
            ],
            [
             0.3333333333333333,
             "#9c179e"
            ],
            [
             0.4444444444444444,
             "#bd3786"
            ],
            [
             0.5555555555555556,
             "#d8576b"
            ],
            [
             0.6666666666666666,
             "#ed7953"
            ],
            [
             0.7777777777777778,
             "#fb9f3a"
            ],
            [
             0.8888888888888888,
             "#fdca26"
            ],
            [
             1,
             "#f0f921"
            ]
           ],
           "sequentialminus": [
            [
             0,
             "#0d0887"
            ],
            [
             0.1111111111111111,
             "#46039f"
            ],
            [
             0.2222222222222222,
             "#7201a8"
            ],
            [
             0.3333333333333333,
             "#9c179e"
            ],
            [
             0.4444444444444444,
             "#bd3786"
            ],
            [
             0.5555555555555556,
             "#d8576b"
            ],
            [
             0.6666666666666666,
             "#ed7953"
            ],
            [
             0.7777777777777778,
             "#fb9f3a"
            ],
            [
             0.8888888888888888,
             "#fdca26"
            ],
            [
             1,
             "#f0f921"
            ]
           ]
          },
          "colorway": [
           "#636efa",
           "#EF553B",
           "#00cc96",
           "#ab63fa",
           "#FFA15A",
           "#19d3f3",
           "#FF6692",
           "#B6E880",
           "#FF97FF",
           "#FECB52"
          ],
          "font": {
           "color": "#2a3f5f"
          },
          "geo": {
           "bgcolor": "white",
           "lakecolor": "white",
           "landcolor": "#E5ECF6",
           "showlakes": true,
           "showland": true,
           "subunitcolor": "white"
          },
          "hoverlabel": {
           "align": "left"
          },
          "hovermode": "closest",
          "mapbox": {
           "style": "light"
          },
          "paper_bgcolor": "white",
          "plot_bgcolor": "#E5ECF6",
          "polar": {
           "angularaxis": {
            "gridcolor": "white",
            "linecolor": "white",
            "ticks": ""
           },
           "bgcolor": "#E5ECF6",
           "radialaxis": {
            "gridcolor": "white",
            "linecolor": "white",
            "ticks": ""
           }
          },
          "scene": {
           "xaxis": {
            "backgroundcolor": "#E5ECF6",
            "gridcolor": "white",
            "gridwidth": 2,
            "linecolor": "white",
            "showbackground": true,
            "ticks": "",
            "zerolinecolor": "white"
           },
           "yaxis": {
            "backgroundcolor": "#E5ECF6",
            "gridcolor": "white",
            "gridwidth": 2,
            "linecolor": "white",
            "showbackground": true,
            "ticks": "",
            "zerolinecolor": "white"
           },
           "zaxis": {
            "backgroundcolor": "#E5ECF6",
            "gridcolor": "white",
            "gridwidth": 2,
            "linecolor": "white",
            "showbackground": true,
            "ticks": "",
            "zerolinecolor": "white"
           }
          },
          "shapedefaults": {
           "line": {
            "color": "#2a3f5f"
           }
          },
          "ternary": {
           "aaxis": {
            "gridcolor": "white",
            "linecolor": "white",
            "ticks": ""
           },
           "baxis": {
            "gridcolor": "white",
            "linecolor": "white",
            "ticks": ""
           },
           "bgcolor": "#E5ECF6",
           "caxis": {
            "gridcolor": "white",
            "linecolor": "white",
            "ticks": ""
           }
          },
          "title": {
           "x": 0.05
          },
          "xaxis": {
           "automargin": true,
           "gridcolor": "white",
           "linecolor": "white",
           "ticks": "",
           "title": {
            "standoff": 15
           },
           "zerolinecolor": "white",
           "zerolinewidth": 2
          },
          "yaxis": {
           "automargin": true,
           "gridcolor": "white",
           "linecolor": "white",
           "ticks": "",
           "title": {
            "standoff": 15
           },
           "zerolinecolor": "white",
           "zerolinewidth": 2
          }
         }
        },
        "title": {
         "text": "Sites de compétition PARIS2024 et stations de métro associées"
        }
       }
      }
     },
     "metadata": {},
     "output_type": "display_data"
    }
   ],
   "source": [
    "figjo=px.scatter_mapbox(data_jo_day, lat=\"lat\", lon=\"lng\",mapbox_style=\"carto-positron\", height= 650,  zoom=13,\n",
    "                     hover_name=\"station\", size=\"yhat\")\n",
    "figjo.update_traces(textposition='top center')\n",
    "figssjo = px.scatter_mapbox(data_ssjo_day, lat=\"lat\", lon=\"lng\",mapbox_style=\"white-bg\", height= 650,  zoom=13,\n",
    "                     hover_name=\"station\", size=\"yhat\",size_max=12)\n",
    "figssjo.update_traces(textposition='top center')                 \n",
    "figjo.update_traces(marker=dict(color='dodgerblue',size=data_ssjo_day['yhat']*10))\n",
    "figssjo.update_traces(marker=dict(color='lightskyblue',size=data_ssjo_day['yhat']*10))\n",
    "fig = figjo.add_trace(figssjo.data[0])\n",
    "\n",
    "fig.update_layout(\n",
    "    mapbox=dict(accesstoken=token, \n",
    "        style='light',\n",
    "        zoom=13\n",
    "    ),\n",
    "    title='Sites de compétition PARIS2024 et stations de métro associées',\n",
    "\n",
    ")\n",
    "# Vos données pour les sites de compétition\n",
    "site_data = geo_data.loc[geo_data[\"type\"]==\"site\"]\n",
    "\n",
    "\n",
    "# Création de la première carte Scatter Mapbox pour les sites de compétition\n",
    "fig1 = go.Figure(go.Scattermapbox(\n",
    "    lat=site_data[\"lat\"],\n",
    "    lon=site_data[\"lng\"],\n",
    "    hoverinfo=\"text\",\n",
    "    text=site_data[\"lieu\"],\n",
    "    mode=\"markers+text\",\n",
    "    marker=go.scattermapbox.Marker(\n",
    "        size=12,\n",
    "        color='gray',  # Changer la couleur des marqueurs pour les sites\n",
    "        symbol='square',  # Choisir le symbole des marqueurs pour les sites (par exemple, 'circle', 'star', 'triangle', etc.)\n",
    "    ),\n",
    "    name='site'\n",
    "))\n",
    "\n",
    "for trace in fig1.data:\n",
    "    fig.add_trace(trace)\n",
    "\n",
    "fig.show()"
   ]
  },
  {
   "cell_type": "code",
   "execution_count": null,
   "metadata": {},
   "outputs": [],
   "source": []
  },
  {
   "cell_type": "markdown",
   "metadata": {},
   "source": [
    "### Page 3"
   ]
  },
  {
   "cell_type": "code",
   "execution_count": 168,
   "metadata": {},
   "outputs": [],
   "source": [
    "site = \"PARC DES PRINCES\"\n",
    "date_start = '2024-07-01'\n",
    "date_fin = '2024-08-31'"
   ]
  },
  {
   "cell_type": "code",
   "execution_count": 169,
   "metadata": {},
   "outputs": [],
   "source": [
    "sites_all = [\"ROLAND-GARROS\", \"PARC DES PRINCES\", \"STADE DE FRANCE\"]\n",
    "stations_totales = [\"PORTE DE SAINT-CLOUD\", \"PORTE D'AUTEUIL\", \"BOULEVARD VICTOR\", \"STADE DE FRANCE-SAINT-DENIS\", \"LA PLAINE-STADE DE FRANCE\", \"SAINT-DENIS-PORTE DE PARIS\"]\n",
    "stations_RG = [\"PORTE DE SAINT-CLOUD\", \"PORTE D'AUTEUIL\"]\n",
    "stations_PDP = [\"PORTE DE SAINT-CLOUD\", \"PORTE D'AUTEUIL\", \"BOULEVARD VICTOR\"]\n",
    "stations_SDF = [\"STADE DE FRANCE-SAINT-DENIS\", \"LA PLAINE-STADE DE FRANCE\", \"SAINT-DENIS-PORTE DE PARIS\"]"
   ]
  },
  {
   "cell_type": "code",
   "execution_count": 170,
   "metadata": {},
   "outputs": [
    {
     "data": {
      "text/html": [
       "<div>\n",
       "<style scoped>\n",
       "    .dataframe tbody tr th:only-of-type {\n",
       "        vertical-align: middle;\n",
       "    }\n",
       "\n",
       "    .dataframe tbody tr th {\n",
       "        vertical-align: top;\n",
       "    }\n",
       "\n",
       "    .dataframe thead th {\n",
       "        text-align: right;\n",
       "    }\n",
       "</style>\n",
       "<table border=\"1\" class=\"dataframe\">\n",
       "  <thead>\n",
       "    <tr style=\"text-align: right;\">\n",
       "      <th></th>\n",
       "      <th>lieu</th>\n",
       "      <th>type</th>\n",
       "      <th>lat</th>\n",
       "      <th>lng</th>\n",
       "      <th>capacite</th>\n",
       "    </tr>\n",
       "  </thead>\n",
       "  <tbody>\n",
       "    <tr>\n",
       "      <th>0</th>\n",
       "      <td>STADE DE FRANCE-SAINT-DENIS</td>\n",
       "      <td>station</td>\n",
       "      <td>48.917812</td>\n",
       "      <td>2.351067</td>\n",
       "      <td>19636.0</td>\n",
       "    </tr>\n",
       "    <tr>\n",
       "      <th>1</th>\n",
       "      <td>SAINT-DENIS-PORTE DE PARIS</td>\n",
       "      <td>station</td>\n",
       "      <td>48.929499</td>\n",
       "      <td>2.356273</td>\n",
       "      <td>13758.0</td>\n",
       "    </tr>\n",
       "    <tr>\n",
       "      <th>2</th>\n",
       "      <td>LA PLAINE-STADE DE FRANCE</td>\n",
       "      <td>station</td>\n",
       "      <td>48.918107</td>\n",
       "      <td>2.362326</td>\n",
       "      <td>22415.0</td>\n",
       "    </tr>\n",
       "    <tr>\n",
       "      <th>3</th>\n",
       "      <td>BOULEVARD VICTOR</td>\n",
       "      <td>station</td>\n",
       "      <td>48.839364</td>\n",
       "      <td>2.270485</td>\n",
       "      <td>4430.0</td>\n",
       "    </tr>\n",
       "    <tr>\n",
       "      <th>4</th>\n",
       "      <td>PORTE D'AUTEUIL</td>\n",
       "      <td>station</td>\n",
       "      <td>48.847677</td>\n",
       "      <td>2.257985</td>\n",
       "      <td>1968.0</td>\n",
       "    </tr>\n",
       "  </tbody>\n",
       "</table>\n",
       "</div>"
      ],
      "text/plain": [
       "                          lieu     type        lat       lng  capacite\n",
       "0  STADE DE FRANCE-SAINT-DENIS  station  48.917812  2.351067   19636.0\n",
       "1   SAINT-DENIS-PORTE DE PARIS  station  48.929499  2.356273   13758.0\n",
       "2    LA PLAINE-STADE DE FRANCE  station  48.918107  2.362326   22415.0\n",
       "3             BOULEVARD VICTOR  station  48.839364  2.270485    4430.0\n",
       "4              PORTE D'AUTEUIL  station  48.847677  2.257985    1968.0"
      ]
     },
     "execution_count": 170,
     "metadata": {},
     "output_type": "execute_result"
    }
   ],
   "source": [
    "geo_data = pd.read_csv(\"99-Data_Clean/geoloc_jo24.csv\")\n",
    "geo_data.head()"
   ]
  },
  {
   "cell_type": "code",
   "execution_count": 171,
   "metadata": {},
   "outputs": [
    {
     "data": {
      "text/html": [
       "<div>\n",
       "<style scoped>\n",
       "    .dataframe tbody tr th:only-of-type {\n",
       "        vertical-align: middle;\n",
       "    }\n",
       "\n",
       "    .dataframe tbody tr th {\n",
       "        vertical-align: top;\n",
       "    }\n",
       "\n",
       "    .dataframe thead th {\n",
       "        text-align: right;\n",
       "    }\n",
       "</style>\n",
       "<table border=\"1\" class=\"dataframe\">\n",
       "  <thead>\n",
       "    <tr style=\"text-align: right;\">\n",
       "      <th></th>\n",
       "      <th>ds</th>\n",
       "      <th>yhat</th>\n",
       "      <th>station</th>\n",
       "      <th>lat</th>\n",
       "      <th>lng</th>\n",
       "    </tr>\n",
       "  </thead>\n",
       "  <tbody>\n",
       "    <tr>\n",
       "      <th>0</th>\n",
       "      <td>2024-07-01</td>\n",
       "      <td>10430.952080</td>\n",
       "      <td>STADE DE FRANCE-SAINT-DENIS</td>\n",
       "      <td>48.917812</td>\n",
       "      <td>2.351067</td>\n",
       "    </tr>\n",
       "    <tr>\n",
       "      <th>1</th>\n",
       "      <td>2024-07-02</td>\n",
       "      <td>9728.523900</td>\n",
       "      <td>STADE DE FRANCE-SAINT-DENIS</td>\n",
       "      <td>48.917812</td>\n",
       "      <td>2.351067</td>\n",
       "    </tr>\n",
       "    <tr>\n",
       "      <th>2</th>\n",
       "      <td>2024-07-03</td>\n",
       "      <td>9930.107116</td>\n",
       "      <td>STADE DE FRANCE-SAINT-DENIS</td>\n",
       "      <td>48.917812</td>\n",
       "      <td>2.351067</td>\n",
       "    </tr>\n",
       "    <tr>\n",
       "      <th>3</th>\n",
       "      <td>2024-07-04</td>\n",
       "      <td>10021.847836</td>\n",
       "      <td>STADE DE FRANCE-SAINT-DENIS</td>\n",
       "      <td>48.917812</td>\n",
       "      <td>2.351067</td>\n",
       "    </tr>\n",
       "    <tr>\n",
       "      <th>4</th>\n",
       "      <td>2024-07-05</td>\n",
       "      <td>9238.138887</td>\n",
       "      <td>STADE DE FRANCE-SAINT-DENIS</td>\n",
       "      <td>48.917812</td>\n",
       "      <td>2.351067</td>\n",
       "    </tr>\n",
       "  </tbody>\n",
       "</table>\n",
       "</div>"
      ],
      "text/plain": [
       "           ds          yhat                      station        lat       lng\n",
       "0  2024-07-01  10430.952080  STADE DE FRANCE-SAINT-DENIS  48.917812  2.351067\n",
       "1  2024-07-02   9728.523900  STADE DE FRANCE-SAINT-DENIS  48.917812  2.351067\n",
       "2  2024-07-03   9930.107116  STADE DE FRANCE-SAINT-DENIS  48.917812  2.351067\n",
       "3  2024-07-04  10021.847836  STADE DE FRANCE-SAINT-DENIS  48.917812  2.351067\n",
       "4  2024-07-05   9238.138887  STADE DE FRANCE-SAINT-DENIS  48.917812  2.351067"
      ]
     },
     "execution_count": 171,
     "metadata": {},
     "output_type": "execute_result"
    }
   ],
   "source": [
    "forecast = pd.read_csv(\"99-Data_Clean/df_forecast_jo.csv\")\n",
    "forecast.head()"
   ]
  },
  {
   "cell_type": "code",
   "execution_count": 172,
   "metadata": {},
   "outputs": [
    {
     "data": {
      "text/html": [
       "<div>\n",
       "<style scoped>\n",
       "    .dataframe tbody tr th:only-of-type {\n",
       "        vertical-align: middle;\n",
       "    }\n",
       "\n",
       "    .dataframe tbody tr th {\n",
       "        vertical-align: top;\n",
       "    }\n",
       "\n",
       "    .dataframe thead th {\n",
       "        text-align: right;\n",
       "    }\n",
       "</style>\n",
       "<table border=\"1\" class=\"dataframe\">\n",
       "  <thead>\n",
       "    <tr style=\"text-align: right;\">\n",
       "      <th></th>\n",
       "      <th>ds</th>\n",
       "      <th>yhat</th>\n",
       "      <th>station</th>\n",
       "      <th>lat</th>\n",
       "      <th>lng</th>\n",
       "      <th>type</th>\n",
       "      <th>capacite</th>\n",
       "    </tr>\n",
       "  </thead>\n",
       "  <tbody>\n",
       "    <tr>\n",
       "      <th>0</th>\n",
       "      <td>2024-07-01</td>\n",
       "      <td>10430.952080</td>\n",
       "      <td>STADE DE FRANCE-SAINT-DENIS</td>\n",
       "      <td>48.917812</td>\n",
       "      <td>2.351067</td>\n",
       "      <td>station</td>\n",
       "      <td>19636.0</td>\n",
       "    </tr>\n",
       "    <tr>\n",
       "      <th>1</th>\n",
       "      <td>2024-07-02</td>\n",
       "      <td>9728.523900</td>\n",
       "      <td>STADE DE FRANCE-SAINT-DENIS</td>\n",
       "      <td>48.917812</td>\n",
       "      <td>2.351067</td>\n",
       "      <td>station</td>\n",
       "      <td>19636.0</td>\n",
       "    </tr>\n",
       "    <tr>\n",
       "      <th>2</th>\n",
       "      <td>2024-07-03</td>\n",
       "      <td>9930.107116</td>\n",
       "      <td>STADE DE FRANCE-SAINT-DENIS</td>\n",
       "      <td>48.917812</td>\n",
       "      <td>2.351067</td>\n",
       "      <td>station</td>\n",
       "      <td>19636.0</td>\n",
       "    </tr>\n",
       "    <tr>\n",
       "      <th>3</th>\n",
       "      <td>2024-07-04</td>\n",
       "      <td>10021.847836</td>\n",
       "      <td>STADE DE FRANCE-SAINT-DENIS</td>\n",
       "      <td>48.917812</td>\n",
       "      <td>2.351067</td>\n",
       "      <td>station</td>\n",
       "      <td>19636.0</td>\n",
       "    </tr>\n",
       "    <tr>\n",
       "      <th>4</th>\n",
       "      <td>2024-07-05</td>\n",
       "      <td>9238.138887</td>\n",
       "      <td>STADE DE FRANCE-SAINT-DENIS</td>\n",
       "      <td>48.917812</td>\n",
       "      <td>2.351067</td>\n",
       "      <td>station</td>\n",
       "      <td>19636.0</td>\n",
       "    </tr>\n",
       "  </tbody>\n",
       "</table>\n",
       "</div>"
      ],
      "text/plain": [
       "           ds          yhat                      station        lat       lng  \\\n",
       "0  2024-07-01  10430.952080  STADE DE FRANCE-SAINT-DENIS  48.917812  2.351067   \n",
       "1  2024-07-02   9728.523900  STADE DE FRANCE-SAINT-DENIS  48.917812  2.351067   \n",
       "2  2024-07-03   9930.107116  STADE DE FRANCE-SAINT-DENIS  48.917812  2.351067   \n",
       "3  2024-07-04  10021.847836  STADE DE FRANCE-SAINT-DENIS  48.917812  2.351067   \n",
       "4  2024-07-05   9238.138887  STADE DE FRANCE-SAINT-DENIS  48.917812  2.351067   \n",
       "\n",
       "      type  capacite  \n",
       "0  station   19636.0  \n",
       "1  station   19636.0  \n",
       "2  station   19636.0  \n",
       "3  station   19636.0  \n",
       "4  station   19636.0  "
      ]
     },
     "execution_count": 172,
     "metadata": {},
     "output_type": "execute_result"
    }
   ],
   "source": [
    "fin_forecast = forecast.merge(geo_data, left_on='station', right_on='lieu')\n",
    "fin_forecast = fin_forecast.drop(axis=1, columns=['lieu', 'lat_y', 'lng_y'])\n",
    "fin_forecast = fin_forecast.rename(columns={'lat_x':'lat', 'lng_x':'lng'})\n",
    "fin_forecast.head()"
   ]
  },
  {
   "cell_type": "code",
   "execution_count": 173,
   "metadata": {},
   "outputs": [
    {
     "data": {
      "text/html": [
       "<div>\n",
       "<style scoped>\n",
       "    .dataframe tbody tr th:only-of-type {\n",
       "        vertical-align: middle;\n",
       "    }\n",
       "\n",
       "    .dataframe tbody tr th {\n",
       "        vertical-align: top;\n",
       "    }\n",
       "\n",
       "    .dataframe thead th {\n",
       "        text-align: right;\n",
       "    }\n",
       "</style>\n",
       "<table border=\"1\" class=\"dataframe\">\n",
       "  <thead>\n",
       "    <tr style=\"text-align: right;\">\n",
       "      <th></th>\n",
       "      <th>ds</th>\n",
       "      <th>yhat</th>\n",
       "      <th>station</th>\n",
       "      <th>lat</th>\n",
       "      <th>lng</th>\n",
       "      <th>type</th>\n",
       "      <th>capacite</th>\n",
       "    </tr>\n",
       "  </thead>\n",
       "  <tbody>\n",
       "    <tr>\n",
       "      <th>186</th>\n",
       "      <td>2024-07-01</td>\n",
       "      <td>2802.395548</td>\n",
       "      <td>BOULEVARD VICTOR</td>\n",
       "      <td>48.839364</td>\n",
       "      <td>2.270485</td>\n",
       "      <td>station</td>\n",
       "      <td>4430.0</td>\n",
       "    </tr>\n",
       "    <tr>\n",
       "      <th>187</th>\n",
       "      <td>2024-07-02</td>\n",
       "      <td>2723.754401</td>\n",
       "      <td>BOULEVARD VICTOR</td>\n",
       "      <td>48.839364</td>\n",
       "      <td>2.270485</td>\n",
       "      <td>station</td>\n",
       "      <td>4430.0</td>\n",
       "    </tr>\n",
       "    <tr>\n",
       "      <th>188</th>\n",
       "      <td>2024-07-03</td>\n",
       "      <td>2742.684453</td>\n",
       "      <td>BOULEVARD VICTOR</td>\n",
       "      <td>48.839364</td>\n",
       "      <td>2.270485</td>\n",
       "      <td>station</td>\n",
       "      <td>4430.0</td>\n",
       "    </tr>\n",
       "    <tr>\n",
       "      <th>189</th>\n",
       "      <td>2024-07-04</td>\n",
       "      <td>2598.135533</td>\n",
       "      <td>BOULEVARD VICTOR</td>\n",
       "      <td>48.839364</td>\n",
       "      <td>2.270485</td>\n",
       "      <td>station</td>\n",
       "      <td>4430.0</td>\n",
       "    </tr>\n",
       "    <tr>\n",
       "      <th>190</th>\n",
       "      <td>2024-07-05</td>\n",
       "      <td>2497.702393</td>\n",
       "      <td>BOULEVARD VICTOR</td>\n",
       "      <td>48.839364</td>\n",
       "      <td>2.270485</td>\n",
       "      <td>station</td>\n",
       "      <td>4430.0</td>\n",
       "    </tr>\n",
       "  </tbody>\n",
       "</table>\n",
       "</div>"
      ],
      "text/plain": [
       "             ds         yhat           station        lat       lng     type  \\\n",
       "186  2024-07-01  2802.395548  BOULEVARD VICTOR  48.839364  2.270485  station   \n",
       "187  2024-07-02  2723.754401  BOULEVARD VICTOR  48.839364  2.270485  station   \n",
       "188  2024-07-03  2742.684453  BOULEVARD VICTOR  48.839364  2.270485  station   \n",
       "189  2024-07-04  2598.135533  BOULEVARD VICTOR  48.839364  2.270485  station   \n",
       "190  2024-07-05  2497.702393  BOULEVARD VICTOR  48.839364  2.270485  station   \n",
       "\n",
       "     capacite  \n",
       "186    4430.0  \n",
       "187    4430.0  \n",
       "188    4430.0  \n",
       "189    4430.0  \n",
       "190    4430.0  "
      ]
     },
     "execution_count": 173,
     "metadata": {},
     "output_type": "execute_result"
    }
   ],
   "source": [
    "viz_df = fin_forecast.loc[viz_mask(site)]\n",
    "viz_df.head()"
   ]
  },
  {
   "cell_type": "code",
   "execution_count": 174,
   "metadata": {},
   "outputs": [
    {
     "data": {
      "text/html": [
       "<div>\n",
       "<style scoped>\n",
       "    .dataframe tbody tr th:only-of-type {\n",
       "        vertical-align: middle;\n",
       "    }\n",
       "\n",
       "    .dataframe tbody tr th {\n",
       "        vertical-align: top;\n",
       "    }\n",
       "\n",
       "    .dataframe thead th {\n",
       "        text-align: right;\n",
       "    }\n",
       "</style>\n",
       "<table border=\"1\" class=\"dataframe\">\n",
       "  <thead>\n",
       "    <tr style=\"text-align: right;\">\n",
       "      <th></th>\n",
       "      <th>ds</th>\n",
       "      <th>yhat</th>\n",
       "      <th>station</th>\n",
       "      <th>lat</th>\n",
       "      <th>lng</th>\n",
       "      <th>type</th>\n",
       "      <th>capacite</th>\n",
       "      <th>satur</th>\n",
       "      <th>size</th>\n",
       "      <th>satur_color_bin</th>\n",
       "    </tr>\n",
       "  </thead>\n",
       "  <tbody>\n",
       "    <tr>\n",
       "      <th>0</th>\n",
       "      <td>2024-07-01 00:00:00</td>\n",
       "      <td>2802.395548</td>\n",
       "      <td>BOULEVARD VICTOR</td>\n",
       "      <td>48.839364</td>\n",
       "      <td>2.270485</td>\n",
       "      <td>station</td>\n",
       "      <td>4430.0</td>\n",
       "      <td>63.259493</td>\n",
       "      <td>10</td>\n",
       "      <td>A</td>\n",
       "    </tr>\n",
       "    <tr>\n",
       "      <th>1</th>\n",
       "      <td>2024-07-02 00:00:00</td>\n",
       "      <td>2723.754401</td>\n",
       "      <td>BOULEVARD VICTOR</td>\n",
       "      <td>48.839364</td>\n",
       "      <td>2.270485</td>\n",
       "      <td>station</td>\n",
       "      <td>4430.0</td>\n",
       "      <td>61.484298</td>\n",
       "      <td>10</td>\n",
       "      <td>A</td>\n",
       "    </tr>\n",
       "    <tr>\n",
       "      <th>2</th>\n",
       "      <td>2024-07-03 00:00:00</td>\n",
       "      <td>2742.684453</td>\n",
       "      <td>BOULEVARD VICTOR</td>\n",
       "      <td>48.839364</td>\n",
       "      <td>2.270485</td>\n",
       "      <td>station</td>\n",
       "      <td>4430.0</td>\n",
       "      <td>61.911613</td>\n",
       "      <td>10</td>\n",
       "      <td>A</td>\n",
       "    </tr>\n",
       "    <tr>\n",
       "      <th>3</th>\n",
       "      <td>2024-07-04 00:00:00</td>\n",
       "      <td>2598.135533</td>\n",
       "      <td>BOULEVARD VICTOR</td>\n",
       "      <td>48.839364</td>\n",
       "      <td>2.270485</td>\n",
       "      <td>station</td>\n",
       "      <td>4430.0</td>\n",
       "      <td>58.648658</td>\n",
       "      <td>10</td>\n",
       "      <td>A</td>\n",
       "    </tr>\n",
       "    <tr>\n",
       "      <th>4</th>\n",
       "      <td>2024-07-05 00:00:00</td>\n",
       "      <td>2497.702393</td>\n",
       "      <td>BOULEVARD VICTOR</td>\n",
       "      <td>48.839364</td>\n",
       "      <td>2.270485</td>\n",
       "      <td>station</td>\n",
       "      <td>4430.0</td>\n",
       "      <td>56.381544</td>\n",
       "      <td>10</td>\n",
       "      <td>A</td>\n",
       "    </tr>\n",
       "  </tbody>\n",
       "</table>\n",
       "</div>"
      ],
      "text/plain": [
       "                    ds         yhat           station        lat       lng  \\\n",
       "0  2024-07-01 00:00:00  2802.395548  BOULEVARD VICTOR  48.839364  2.270485   \n",
       "1  2024-07-02 00:00:00  2723.754401  BOULEVARD VICTOR  48.839364  2.270485   \n",
       "2  2024-07-03 00:00:00  2742.684453  BOULEVARD VICTOR  48.839364  2.270485   \n",
       "3  2024-07-04 00:00:00  2598.135533  BOULEVARD VICTOR  48.839364  2.270485   \n",
       "4  2024-07-05 00:00:00  2497.702393  BOULEVARD VICTOR  48.839364  2.270485   \n",
       "\n",
       "      type  capacite      satur  size satur_color_bin  \n",
       "0  station    4430.0  63.259493    10               A  \n",
       "1  station    4430.0  61.484298    10               A  \n",
       "2  station    4430.0  61.911613    10               A  \n",
       "3  station    4430.0  58.648658    10               A  \n",
       "4  station    4430.0  56.381544    10               A  "
      ]
     },
     "execution_count": 174,
     "metadata": {},
     "output_type": "execute_result"
    }
   ],
   "source": [
    "viz_df = viz_df.reset_index().drop(axis=1, columns='index')\n",
    "viz_df['ds'] = viz_df['ds'].apply(lambda x: pd.to_datetime(x))\n",
    "viz_df = viz_df.loc[viz_df['ds'] >= pd.to_datetime(date_start)]\n",
    "viz_df = viz_df.loc[viz_df['ds'] <= pd.to_datetime(date_fin)]\n",
    "viz_df = viz_df.reset_index().drop(axis=1, columns='index')\n",
    "viz_df['ds'] = viz_df['ds'].apply(lambda x: str(x))\n",
    "viz_df['satur'] = viz_df['yhat'] / viz_df['capacite'] * 100\n",
    "viz_df['size'] = 10\n",
    "viz_df['satur_color_bin'] = viz_df['satur'].apply(lambda x: 'A' if (x < 100) else 'B')\n",
    "\n",
    "viz_df.head()"
   ]
  },
  {
   "cell_type": "code",
   "execution_count": 175,
   "metadata": {},
   "outputs": [],
   "source": [
    "def events(site):\n",
    "    if site == \"ROLAND-GARROS\":\n",
    "        return \"EVENT_RG\"\n",
    "    elif site == \"PARC DES PRINCES\":\n",
    "        return \"EVENT_PDP\"\n",
    "    elif site == \"STADE DE FRANCE\":\n",
    "        return \"EVENT_SDF\"\n",
    "    elif site == \"GRAND PALAIS\":\n",
    "        return \"EVENT_GP\"\n",
    "    elif site == \"ARENA INVALIDES\":\n",
    "        return \"EVENT_INV\"\n",
    "    elif site == \"STADE DE LA CONCORDE\":\n",
    "        return \"EVENT_CCD\"\n",
    "    elif site == \"ARENA CHAMPS DE MARS\":\n",
    "        return \"EVENT_CDM\"\n",
    "    elif site == \"STADE TOUR EIFFEL\":\n",
    "        return \"EVENT_TEF\"\n",
    "    elif site == \"ARENA PARIS SUD\":\n",
    "        return \"EVENT_SUD\"\n",
    "    elif site == \"ARENA LA CHAPELLE\":\n",
    "        return \"EVENT_CHP\"\n",
    "    elif site == \"ARENA BERCY\":\n",
    "        return \"EVENT_BER\"\n",
    "    else:\n",
    "        return 0"
   ]
  },
  {
   "cell_type": "code",
   "execution_count": 176,
   "metadata": {},
   "outputs": [
    {
     "data": {
      "text/html": [
       "<div>\n",
       "<style scoped>\n",
       "    .dataframe tbody tr th:only-of-type {\n",
       "        vertical-align: middle;\n",
       "    }\n",
       "\n",
       "    .dataframe tbody tr th {\n",
       "        vertical-align: top;\n",
       "    }\n",
       "\n",
       "    .dataframe thead th {\n",
       "        text-align: right;\n",
       "    }\n",
       "</style>\n",
       "<table border=\"1\" class=\"dataframe\">\n",
       "  <thead>\n",
       "    <tr style=\"text-align: right;\">\n",
       "      <th></th>\n",
       "      <th>ds</th>\n",
       "      <th>EVENT_PDP</th>\n",
       "    </tr>\n",
       "  </thead>\n",
       "  <tbody>\n",
       "    <tr>\n",
       "      <th>0</th>\n",
       "      <td>2024-07-01</td>\n",
       "      <td>0</td>\n",
       "    </tr>\n",
       "    <tr>\n",
       "      <th>1</th>\n",
       "      <td>2024-07-02</td>\n",
       "      <td>0</td>\n",
       "    </tr>\n",
       "    <tr>\n",
       "      <th>2</th>\n",
       "      <td>2024-07-03</td>\n",
       "      <td>0</td>\n",
       "    </tr>\n",
       "    <tr>\n",
       "      <th>3</th>\n",
       "      <td>2024-07-04</td>\n",
       "      <td>0</td>\n",
       "    </tr>\n",
       "    <tr>\n",
       "      <th>4</th>\n",
       "      <td>2024-07-05</td>\n",
       "      <td>0</td>\n",
       "    </tr>\n",
       "  </tbody>\n",
       "</table>\n",
       "</div>"
      ],
      "text/plain": [
       "           ds  EVENT_PDP\n",
       "0  2024-07-01          0\n",
       "1  2024-07-02          0\n",
       "2  2024-07-03          0\n",
       "3  2024-07-04          0\n",
       "4  2024-07-05          0"
      ]
     },
     "execution_count": 176,
     "metadata": {},
     "output_type": "execute_result"
    }
   ],
   "source": [
    "event=pd.read_csv(\"99-Data_Clean/event_jo.csv\")\n",
    "event = event[['ds', events(site)]]\n",
    "event.head()"
   ]
  },
  {
   "cell_type": "code",
   "execution_count": 177,
   "metadata": {},
   "outputs": [
    {
     "data": {
      "text/html": [
       "<div>\n",
       "<style scoped>\n",
       "    .dataframe tbody tr th:only-of-type {\n",
       "        vertical-align: middle;\n",
       "    }\n",
       "\n",
       "    .dataframe tbody tr th {\n",
       "        vertical-align: top;\n",
       "    }\n",
       "\n",
       "    .dataframe thead th {\n",
       "        text-align: right;\n",
       "    }\n",
       "</style>\n",
       "<table border=\"1\" class=\"dataframe\">\n",
       "  <thead>\n",
       "    <tr style=\"text-align: right;\">\n",
       "      <th></th>\n",
       "      <th>ds</th>\n",
       "      <th>EVENT_PDP</th>\n",
       "    </tr>\n",
       "  </thead>\n",
       "  <tbody>\n",
       "    <tr>\n",
       "      <th>0</th>\n",
       "      <td>2024-07-01 00:00:00</td>\n",
       "      <td>5</td>\n",
       "    </tr>\n",
       "    <tr>\n",
       "      <th>1</th>\n",
       "      <td>2024-07-02 00:00:00</td>\n",
       "      <td>5</td>\n",
       "    </tr>\n",
       "    <tr>\n",
       "      <th>2</th>\n",
       "      <td>2024-07-03 00:00:00</td>\n",
       "      <td>5</td>\n",
       "    </tr>\n",
       "    <tr>\n",
       "      <th>3</th>\n",
       "      <td>2024-07-04 00:00:00</td>\n",
       "      <td>5</td>\n",
       "    </tr>\n",
       "    <tr>\n",
       "      <th>4</th>\n",
       "      <td>2024-07-05 00:00:00</td>\n",
       "      <td>5</td>\n",
       "    </tr>\n",
       "  </tbody>\n",
       "</table>\n",
       "</div>"
      ],
      "text/plain": [
       "                    ds  EVENT_PDP\n",
       "0  2024-07-01 00:00:00          5\n",
       "1  2024-07-02 00:00:00          5\n",
       "2  2024-07-03 00:00:00          5\n",
       "3  2024-07-04 00:00:00          5\n",
       "4  2024-07-05 00:00:00          5"
      ]
     },
     "execution_count": 177,
     "metadata": {},
     "output_type": "execute_result"
    }
   ],
   "source": [
    "event[\"ds\"] = event[\"ds\"].apply(lambda x: pd.to_datetime(x))\n",
    "event['ds'] = event['ds'].apply(lambda x: str(x))\n",
    "event.iloc[:,1] = event.iloc[:,1].apply(lambda x: 10 if x == 1 else 5)\n",
    "event.head()"
   ]
  },
  {
   "cell_type": "code",
   "execution_count": 178,
   "metadata": {},
   "outputs": [
    {
     "data": {
      "text/html": [
       "<div>\n",
       "<style scoped>\n",
       "    .dataframe tbody tr th:only-of-type {\n",
       "        vertical-align: middle;\n",
       "    }\n",
       "\n",
       "    .dataframe tbody tr th {\n",
       "        vertical-align: top;\n",
       "    }\n",
       "\n",
       "    .dataframe thead th {\n",
       "        text-align: right;\n",
       "    }\n",
       "</style>\n",
       "<table border=\"1\" class=\"dataframe\">\n",
       "  <thead>\n",
       "    <tr style=\"text-align: right;\">\n",
       "      <th></th>\n",
       "      <th>ds</th>\n",
       "      <th>yhat</th>\n",
       "      <th>station</th>\n",
       "      <th>lat</th>\n",
       "      <th>lng</th>\n",
       "      <th>type</th>\n",
       "      <th>capacite</th>\n",
       "      <th>satur</th>\n",
       "      <th>size</th>\n",
       "      <th>satur_color_bin</th>\n",
       "      <th>EVENT_PDP</th>\n",
       "    </tr>\n",
       "  </thead>\n",
       "  <tbody>\n",
       "    <tr>\n",
       "      <th>0</th>\n",
       "      <td>2024-07-01 00:00:00</td>\n",
       "      <td>2802.395548</td>\n",
       "      <td>BOULEVARD VICTOR</td>\n",
       "      <td>48.839364</td>\n",
       "      <td>2.270485</td>\n",
       "      <td>station</td>\n",
       "      <td>4430.0</td>\n",
       "      <td>63.259493</td>\n",
       "      <td>10</td>\n",
       "      <td>A</td>\n",
       "      <td>5</td>\n",
       "    </tr>\n",
       "    <tr>\n",
       "      <th>1</th>\n",
       "      <td>2024-07-01 00:00:00</td>\n",
       "      <td>1450.836585</td>\n",
       "      <td>PORTE D'AUTEUIL</td>\n",
       "      <td>48.847677</td>\n",
       "      <td>2.257985</td>\n",
       "      <td>station</td>\n",
       "      <td>1968.0</td>\n",
       "      <td>73.721371</td>\n",
       "      <td>10</td>\n",
       "      <td>A</td>\n",
       "      <td>5</td>\n",
       "    </tr>\n",
       "    <tr>\n",
       "      <th>2</th>\n",
       "      <td>2024-07-01 00:00:00</td>\n",
       "      <td>13325.513139</td>\n",
       "      <td>PORTE DE SAINT-CLOUD</td>\n",
       "      <td>48.838012</td>\n",
       "      <td>2.256993</td>\n",
       "      <td>station</td>\n",
       "      <td>17029.0</td>\n",
       "      <td>78.251883</td>\n",
       "      <td>10</td>\n",
       "      <td>A</td>\n",
       "      <td>5</td>\n",
       "    </tr>\n",
       "    <tr>\n",
       "      <th>3</th>\n",
       "      <td>2024-07-02 00:00:00</td>\n",
       "      <td>2723.754401</td>\n",
       "      <td>BOULEVARD VICTOR</td>\n",
       "      <td>48.839364</td>\n",
       "      <td>2.270485</td>\n",
       "      <td>station</td>\n",
       "      <td>4430.0</td>\n",
       "      <td>61.484298</td>\n",
       "      <td>10</td>\n",
       "      <td>A</td>\n",
       "      <td>5</td>\n",
       "    </tr>\n",
       "    <tr>\n",
       "      <th>4</th>\n",
       "      <td>2024-07-02 00:00:00</td>\n",
       "      <td>1455.314670</td>\n",
       "      <td>PORTE D'AUTEUIL</td>\n",
       "      <td>48.847677</td>\n",
       "      <td>2.257985</td>\n",
       "      <td>station</td>\n",
       "      <td>1968.0</td>\n",
       "      <td>73.948916</td>\n",
       "      <td>10</td>\n",
       "      <td>A</td>\n",
       "      <td>5</td>\n",
       "    </tr>\n",
       "  </tbody>\n",
       "</table>\n",
       "</div>"
      ],
      "text/plain": [
       "                    ds          yhat               station        lat  \\\n",
       "0  2024-07-01 00:00:00   2802.395548      BOULEVARD VICTOR  48.839364   \n",
       "1  2024-07-01 00:00:00   1450.836585       PORTE D'AUTEUIL  48.847677   \n",
       "2  2024-07-01 00:00:00  13325.513139  PORTE DE SAINT-CLOUD  48.838012   \n",
       "3  2024-07-02 00:00:00   2723.754401      BOULEVARD VICTOR  48.839364   \n",
       "4  2024-07-02 00:00:00   1455.314670       PORTE D'AUTEUIL  48.847677   \n",
       "\n",
       "        lng     type  capacite      satur  size satur_color_bin  EVENT_PDP  \n",
       "0  2.270485  station    4430.0  63.259493    10               A          5  \n",
       "1  2.257985  station    1968.0  73.721371    10               A          5  \n",
       "2  2.256993  station   17029.0  78.251883    10               A          5  \n",
       "3  2.270485  station    4430.0  61.484298    10               A          5  \n",
       "4  2.257985  station    1968.0  73.948916    10               A          5  "
      ]
     },
     "execution_count": 178,
     "metadata": {},
     "output_type": "execute_result"
    }
   ],
   "source": [
    "viz_df = viz_df.merge(event, on='ds')\n",
    "viz_df.head()"
   ]
  },
  {
   "cell_type": "code",
   "execution_count": 179,
   "metadata": {},
   "outputs": [
    {
     "data": {
      "text/html": [
       "<div>\n",
       "<style scoped>\n",
       "    .dataframe tbody tr th:only-of-type {\n",
       "        vertical-align: middle;\n",
       "    }\n",
       "\n",
       "    .dataframe tbody tr th {\n",
       "        vertical-align: top;\n",
       "    }\n",
       "\n",
       "    .dataframe thead th {\n",
       "        text-align: right;\n",
       "    }\n",
       "</style>\n",
       "<table border=\"1\" class=\"dataframe\">\n",
       "  <thead>\n",
       "    <tr style=\"text-align: right;\">\n",
       "      <th></th>\n",
       "      <th>ds</th>\n",
       "      <th>yhat</th>\n",
       "      <th>station</th>\n",
       "      <th>lat</th>\n",
       "      <th>lng</th>\n",
       "      <th>type</th>\n",
       "      <th>capacite</th>\n",
       "      <th>satur</th>\n",
       "      <th>size</th>\n",
       "      <th>satur_color_bin</th>\n",
       "      <th>EVENT_PDP</th>\n",
       "    </tr>\n",
       "  </thead>\n",
       "  <tbody>\n",
       "    <tr>\n",
       "      <th>71</th>\n",
       "      <td>2024-07-24 00:00:00</td>\n",
       "      <td>16457.570246</td>\n",
       "      <td>PORTE DE SAINT-CLOUD</td>\n",
       "      <td>48.838012</td>\n",
       "      <td>2.256993</td>\n",
       "      <td>station</td>\n",
       "      <td>17029.0</td>\n",
       "      <td>96.644373</td>\n",
       "      <td>10</td>\n",
       "      <td>A</td>\n",
       "      <td>10</td>\n",
       "    </tr>\n",
       "    <tr>\n",
       "      <th>79</th>\n",
       "      <td>2024-07-27 00:00:00</td>\n",
       "      <td>2523.168841</td>\n",
       "      <td>PORTE D'AUTEUIL</td>\n",
       "      <td>48.847677</td>\n",
       "      <td>2.257985</td>\n",
       "      <td>station</td>\n",
       "      <td>1968.0</td>\n",
       "      <td>128.209799</td>\n",
       "      <td>10</td>\n",
       "      <td>B</td>\n",
       "      <td>10</td>\n",
       "    </tr>\n",
       "    <tr>\n",
       "      <th>82</th>\n",
       "      <td>2024-07-28 00:00:00</td>\n",
       "      <td>2164.297409</td>\n",
       "      <td>PORTE D'AUTEUIL</td>\n",
       "      <td>48.847677</td>\n",
       "      <td>2.257985</td>\n",
       "      <td>station</td>\n",
       "      <td>1968.0</td>\n",
       "      <td>109.974462</td>\n",
       "      <td>10</td>\n",
       "      <td>B</td>\n",
       "      <td>10</td>\n",
       "    </tr>\n",
       "    <tr>\n",
       "      <th>85</th>\n",
       "      <td>2024-07-29 00:00:00</td>\n",
       "      <td>2160.285693</td>\n",
       "      <td>PORTE D'AUTEUIL</td>\n",
       "      <td>48.847677</td>\n",
       "      <td>2.257985</td>\n",
       "      <td>station</td>\n",
       "      <td>1968.0</td>\n",
       "      <td>109.770614</td>\n",
       "      <td>10</td>\n",
       "      <td>B</td>\n",
       "      <td>5</td>\n",
       "    </tr>\n",
       "    <tr>\n",
       "      <th>88</th>\n",
       "      <td>2024-07-30 00:00:00</td>\n",
       "      <td>2951.141504</td>\n",
       "      <td>PORTE D'AUTEUIL</td>\n",
       "      <td>48.847677</td>\n",
       "      <td>2.257985</td>\n",
       "      <td>station</td>\n",
       "      <td>1968.0</td>\n",
       "      <td>149.956377</td>\n",
       "      <td>10</td>\n",
       "      <td>B</td>\n",
       "      <td>10</td>\n",
       "    </tr>\n",
       "    <tr>\n",
       "      <th>89</th>\n",
       "      <td>2024-07-30 00:00:00</td>\n",
       "      <td>17279.540236</td>\n",
       "      <td>PORTE DE SAINT-CLOUD</td>\n",
       "      <td>48.838012</td>\n",
       "      <td>2.256993</td>\n",
       "      <td>station</td>\n",
       "      <td>17029.0</td>\n",
       "      <td>101.471256</td>\n",
       "      <td>10</td>\n",
       "      <td>B</td>\n",
       "      <td>10</td>\n",
       "    </tr>\n",
       "    <tr>\n",
       "      <th>91</th>\n",
       "      <td>2024-07-31 00:00:00</td>\n",
       "      <td>2256.751505</td>\n",
       "      <td>PORTE D'AUTEUIL</td>\n",
       "      <td>48.847677</td>\n",
       "      <td>2.257985</td>\n",
       "      <td>station</td>\n",
       "      <td>1968.0</td>\n",
       "      <td>114.672333</td>\n",
       "      <td>10</td>\n",
       "      <td>B</td>\n",
       "      <td>5</td>\n",
       "    </tr>\n",
       "    <tr>\n",
       "      <th>94</th>\n",
       "      <td>2024-08-01 00:00:00</td>\n",
       "      <td>2163.012185</td>\n",
       "      <td>PORTE D'AUTEUIL</td>\n",
       "      <td>48.847677</td>\n",
       "      <td>2.257985</td>\n",
       "      <td>station</td>\n",
       "      <td>1968.0</td>\n",
       "      <td>109.909156</td>\n",
       "      <td>10</td>\n",
       "      <td>B</td>\n",
       "      <td>5</td>\n",
       "    </tr>\n",
       "    <tr>\n",
       "      <th>97</th>\n",
       "      <td>2024-08-02 00:00:00</td>\n",
       "      <td>3023.294337</td>\n",
       "      <td>PORTE D'AUTEUIL</td>\n",
       "      <td>48.847677</td>\n",
       "      <td>2.257985</td>\n",
       "      <td>station</td>\n",
       "      <td>1968.0</td>\n",
       "      <td>153.622680</td>\n",
       "      <td>10</td>\n",
       "      <td>B</td>\n",
       "      <td>10</td>\n",
       "    </tr>\n",
       "    <tr>\n",
       "      <th>98</th>\n",
       "      <td>2024-08-02 00:00:00</td>\n",
       "      <td>17291.686263</td>\n",
       "      <td>PORTE DE SAINT-CLOUD</td>\n",
       "      <td>48.838012</td>\n",
       "      <td>2.256993</td>\n",
       "      <td>station</td>\n",
       "      <td>17029.0</td>\n",
       "      <td>101.542582</td>\n",
       "      <td>10</td>\n",
       "      <td>B</td>\n",
       "      <td>10</td>\n",
       "    </tr>\n",
       "    <tr>\n",
       "      <th>100</th>\n",
       "      <td>2024-08-03 00:00:00</td>\n",
       "      <td>2598.590848</td>\n",
       "      <td>PORTE D'AUTEUIL</td>\n",
       "      <td>48.847677</td>\n",
       "      <td>2.257985</td>\n",
       "      <td>station</td>\n",
       "      <td>1968.0</td>\n",
       "      <td>132.042218</td>\n",
       "      <td>10</td>\n",
       "      <td>B</td>\n",
       "      <td>10</td>\n",
       "    </tr>\n",
       "    <tr>\n",
       "      <th>109</th>\n",
       "      <td>2024-08-06 00:00:00</td>\n",
       "      <td>2190.241636</td>\n",
       "      <td>PORTE D'AUTEUIL</td>\n",
       "      <td>48.847677</td>\n",
       "      <td>2.257985</td>\n",
       "      <td>station</td>\n",
       "      <td>1968.0</td>\n",
       "      <td>111.292766</td>\n",
       "      <td>10</td>\n",
       "      <td>B</td>\n",
       "      <td>5</td>\n",
       "    </tr>\n",
       "    <tr>\n",
       "      <th>112</th>\n",
       "      <td>2024-08-07 00:00:00</td>\n",
       "      <td>2210.588407</td>\n",
       "      <td>PORTE D'AUTEUIL</td>\n",
       "      <td>48.847677</td>\n",
       "      <td>2.257985</td>\n",
       "      <td>station</td>\n",
       "      <td>1968.0</td>\n",
       "      <td>112.326647</td>\n",
       "      <td>10</td>\n",
       "      <td>B</td>\n",
       "      <td>5</td>\n",
       "    </tr>\n",
       "    <tr>\n",
       "      <th>115</th>\n",
       "      <td>2024-08-08 00:00:00</td>\n",
       "      <td>2087.560838</td>\n",
       "      <td>PORTE D'AUTEUIL</td>\n",
       "      <td>48.847677</td>\n",
       "      <td>2.257985</td>\n",
       "      <td>station</td>\n",
       "      <td>1968.0</td>\n",
       "      <td>106.075246</td>\n",
       "      <td>10</td>\n",
       "      <td>B</td>\n",
       "      <td>5</td>\n",
       "    </tr>\n",
       "    <tr>\n",
       "      <th>118</th>\n",
       "      <td>2024-08-09 00:00:00</td>\n",
       "      <td>2875.127530</td>\n",
       "      <td>PORTE D'AUTEUIL</td>\n",
       "      <td>48.847677</td>\n",
       "      <td>2.257985</td>\n",
       "      <td>station</td>\n",
       "      <td>1968.0</td>\n",
       "      <td>146.093879</td>\n",
       "      <td>10</td>\n",
       "      <td>B</td>\n",
       "      <td>10</td>\n",
       "    </tr>\n",
       "    <tr>\n",
       "      <th>119</th>\n",
       "      <td>2024-08-09 00:00:00</td>\n",
       "      <td>16276.865343</td>\n",
       "      <td>PORTE DE SAINT-CLOUD</td>\n",
       "      <td>48.838012</td>\n",
       "      <td>2.256993</td>\n",
       "      <td>station</td>\n",
       "      <td>17029.0</td>\n",
       "      <td>95.583213</td>\n",
       "      <td>10</td>\n",
       "      <td>A</td>\n",
       "      <td>10</td>\n",
       "    </tr>\n",
       "    <tr>\n",
       "      <th>121</th>\n",
       "      <td>2024-08-10 00:00:00</td>\n",
       "      <td>2436.583252</td>\n",
       "      <td>PORTE D'AUTEUIL</td>\n",
       "      <td>48.847677</td>\n",
       "      <td>2.257985</td>\n",
       "      <td>station</td>\n",
       "      <td>1968.0</td>\n",
       "      <td>123.810125</td>\n",
       "      <td>10</td>\n",
       "      <td>B</td>\n",
       "      <td>10</td>\n",
       "    </tr>\n",
       "  </tbody>\n",
       "</table>\n",
       "</div>"
      ],
      "text/plain": [
       "                      ds          yhat               station        lat  \\\n",
       "71   2024-07-24 00:00:00  16457.570246  PORTE DE SAINT-CLOUD  48.838012   \n",
       "79   2024-07-27 00:00:00   2523.168841       PORTE D'AUTEUIL  48.847677   \n",
       "82   2024-07-28 00:00:00   2164.297409       PORTE D'AUTEUIL  48.847677   \n",
       "85   2024-07-29 00:00:00   2160.285693       PORTE D'AUTEUIL  48.847677   \n",
       "88   2024-07-30 00:00:00   2951.141504       PORTE D'AUTEUIL  48.847677   \n",
       "89   2024-07-30 00:00:00  17279.540236  PORTE DE SAINT-CLOUD  48.838012   \n",
       "91   2024-07-31 00:00:00   2256.751505       PORTE D'AUTEUIL  48.847677   \n",
       "94   2024-08-01 00:00:00   2163.012185       PORTE D'AUTEUIL  48.847677   \n",
       "97   2024-08-02 00:00:00   3023.294337       PORTE D'AUTEUIL  48.847677   \n",
       "98   2024-08-02 00:00:00  17291.686263  PORTE DE SAINT-CLOUD  48.838012   \n",
       "100  2024-08-03 00:00:00   2598.590848       PORTE D'AUTEUIL  48.847677   \n",
       "109  2024-08-06 00:00:00   2190.241636       PORTE D'AUTEUIL  48.847677   \n",
       "112  2024-08-07 00:00:00   2210.588407       PORTE D'AUTEUIL  48.847677   \n",
       "115  2024-08-08 00:00:00   2087.560838       PORTE D'AUTEUIL  48.847677   \n",
       "118  2024-08-09 00:00:00   2875.127530       PORTE D'AUTEUIL  48.847677   \n",
       "119  2024-08-09 00:00:00  16276.865343  PORTE DE SAINT-CLOUD  48.838012   \n",
       "121  2024-08-10 00:00:00   2436.583252       PORTE D'AUTEUIL  48.847677   \n",
       "\n",
       "          lng     type  capacite       satur  size satur_color_bin  EVENT_PDP  \n",
       "71   2.256993  station   17029.0   96.644373    10               A         10  \n",
       "79   2.257985  station    1968.0  128.209799    10               B         10  \n",
       "82   2.257985  station    1968.0  109.974462    10               B         10  \n",
       "85   2.257985  station    1968.0  109.770614    10               B          5  \n",
       "88   2.257985  station    1968.0  149.956377    10               B         10  \n",
       "89   2.256993  station   17029.0  101.471256    10               B         10  \n",
       "91   2.257985  station    1968.0  114.672333    10               B          5  \n",
       "94   2.257985  station    1968.0  109.909156    10               B          5  \n",
       "97   2.257985  station    1968.0  153.622680    10               B         10  \n",
       "98   2.256993  station   17029.0  101.542582    10               B         10  \n",
       "100  2.257985  station    1968.0  132.042218    10               B         10  \n",
       "109  2.257985  station    1968.0  111.292766    10               B          5  \n",
       "112  2.257985  station    1968.0  112.326647    10               B          5  \n",
       "115  2.257985  station    1968.0  106.075246    10               B          5  \n",
       "118  2.257985  station    1968.0  146.093879    10               B         10  \n",
       "119  2.256993  station   17029.0   95.583213    10               A         10  \n",
       "121  2.257985  station    1968.0  123.810125    10               B         10  "
      ]
     },
     "execution_count": 179,
     "metadata": {},
     "output_type": "execute_result"
    }
   ],
   "source": [
    "viz_df.loc[viz_df['satur'] > 90]"
   ]
  },
  {
   "cell_type": "code",
   "execution_count": 180,
   "metadata": {},
   "outputs": [
    {
     "data": {
      "application/vnd.plotly.v1+json": {
       "config": {
        "plotlyServerURL": "https://plot.ly"
       },
       "data": [
        {
         "hovertemplate": "<b>%{hovertext}</b><br><br>ds=2024-07-01 00:00:00<br>size=%{marker.size}<br>lat=%{lat}<br>lng=%{lon}<br>satur=%{marker.color}<extra></extra>",
         "hovertext": [
          "BOULEVARD VICTOR",
          "PORTE D'AUTEUIL",
          "PORTE DE SAINT-CLOUD"
         ],
         "lat": [
          48.839364,
          48.847677,
          48.8380119
         ],
         "legendgroup": "",
         "lon": [
          2.2704847,
          2.2579853,
          2.2569927
         ],
         "marker": {
          "color": [
           63.259493193059726,
           73.72137120718247,
           78.25188289941413
          ],
          "coloraxis": "coloraxis",
          "size": [
           5,
           5,
           5
          ],
          "sizemode": "area",
          "sizeref": 0.025
         },
         "mode": "markers",
         "name": "",
         "showlegend": false,
         "subplot": "mapbox",
         "type": "scattermapbox"
        },
        {
         "hovertemplate": "<b>%{hovertext}</b><br><br>lat=%{lat}<br>lng=%{lon}<extra></extra>",
         "hovertext": [
          "PARC DES PRINCES"
         ],
         "lat": [
          48.841319
         ],
         "legendgroup": "",
         "lon": [
          2.253076
         ],
         "marker": {
          "color": "yellow",
          "size": 50
         },
         "mode": "markers",
         "name": "",
         "showlegend": false,
         "subplot": "mapbox",
         "type": "scattermapbox"
        }
       ],
       "frames": [
        {
         "data": [
          {
           "hovertemplate": "<b>%{hovertext}</b><br><br>ds=2024-07-01 00:00:00<br>size=%{marker.size}<br>lat=%{lat}<br>lng=%{lon}<br>satur=%{marker.color}<extra></extra>",
           "hovertext": [
            "BOULEVARD VICTOR",
            "PORTE D'AUTEUIL",
            "PORTE DE SAINT-CLOUD"
           ],
           "lat": [
            48.839364,
            48.847677,
            48.8380119
           ],
           "legendgroup": "",
           "lon": [
            2.2704847,
            2.2579853,
            2.2569927
           ],
           "marker": {
            "color": [
             63.259493193059726,
             73.72137120718247,
             78.25188289941413
            ],
            "coloraxis": "coloraxis",
            "size": [
             5,
             5,
             5
            ],
            "sizemode": "area",
            "sizeref": 0.025
           },
           "mode": "markers",
           "name": "",
           "showlegend": false,
           "subplot": "mapbox",
           "type": "scattermapbox"
          }
         ],
         "name": "2024-07-01 00:00:00"
        },
        {
         "data": [
          {
           "hovertemplate": "<b>%{hovertext}</b><br><br>ds=2024-07-02 00:00:00<br>size=%{marker.size}<br>lat=%{lat}<br>lng=%{lon}<br>satur=%{marker.color}<extra></extra>",
           "hovertext": [
            "BOULEVARD VICTOR",
            "PORTE D'AUTEUIL",
            "PORTE DE SAINT-CLOUD"
           ],
           "lat": [
            48.839364,
            48.847677,
            48.8380119
           ],
           "legendgroup": "",
           "lon": [
            2.2704847,
            2.2579853,
            2.2569927
           ],
           "marker": {
            "color": [
             61.484297997182246,
             73.94891617468747,
             79.08046921494103
            ],
            "coloraxis": "coloraxis",
            "size": [
             5,
             5,
             5
            ],
            "sizemode": "area",
            "sizeref": 0.025
           },
           "mode": "markers",
           "name": "",
           "showlegend": false,
           "subplot": "mapbox",
           "type": "scattermapbox"
          }
         ],
         "name": "2024-07-02 00:00:00"
        },
        {
         "data": [
          {
           "hovertemplate": "<b>%{hovertext}</b><br><br>ds=2024-07-03 00:00:00<br>size=%{marker.size}<br>lat=%{lat}<br>lng=%{lon}<br>satur=%{marker.color}<extra></extra>",
           "hovertext": [
            "BOULEVARD VICTOR",
            "PORTE D'AUTEUIL",
            "PORTE DE SAINT-CLOUD"
           ],
           "lat": [
            48.839364,
            48.847677,
            48.8380119
           ],
           "legendgroup": "",
           "lon": [
            2.2704847,
            2.2579853,
            2.2569927
           ],
           "marker": {
            "color": [
             61.91161292560714,
             74.31554470927611,
             81.06330253233914
            ],
            "coloraxis": "coloraxis",
            "size": [
             5,
             5,
             5
            ],
            "sizemode": "area",
            "sizeref": 0.025
           },
           "mode": "markers",
           "name": "",
           "showlegend": false,
           "subplot": "mapbox",
           "type": "scattermapbox"
          }
         ],
         "name": "2024-07-03 00:00:00"
        },
        {
         "data": [
          {
           "hovertemplate": "<b>%{hovertext}</b><br><br>ds=2024-07-04 00:00:00<br>size=%{marker.size}<br>lat=%{lat}<br>lng=%{lon}<br>satur=%{marker.color}<extra></extra>",
           "hovertext": [
            "BOULEVARD VICTOR",
            "PORTE D'AUTEUIL",
            "PORTE DE SAINT-CLOUD"
           ],
           "lat": [
            48.839364,
            48.847677,
            48.8380119
           ],
           "legendgroup": "",
           "lon": [
            2.2704847,
            2.2579853,
            2.2569927
           ],
           "marker": {
            "color": [
             58.648657635332036,
             69.82960353201253,
             77.99404107067748
            ],
            "coloraxis": "coloraxis",
            "size": [
             5,
             5,
             5
            ],
            "sizemode": "area",
            "sizeref": 0.025
           },
           "mode": "markers",
           "name": "",
           "showlegend": false,
           "subplot": "mapbox",
           "type": "scattermapbox"
          }
         ],
         "name": "2024-07-04 00:00:00"
        },
        {
         "data": [
          {
           "hovertemplate": "<b>%{hovertext}</b><br><br>ds=2024-07-05 00:00:00<br>size=%{marker.size}<br>lat=%{lat}<br>lng=%{lon}<br>satur=%{marker.color}<extra></extra>",
           "hovertext": [
            "BOULEVARD VICTOR",
            "PORTE D'AUTEUIL",
            "PORTE DE SAINT-CLOUD"
           ],
           "lat": [
            48.839364,
            48.847677,
            48.8380119
           ],
           "legendgroup": "",
           "lon": [
            2.2704847,
            2.2579853,
            2.2569927
           ],
           "marker": {
            "color": [
             56.381543851742464,
             71.42529841396362,
             79.35337832496427
            ],
            "coloraxis": "coloraxis",
            "size": [
             5,
             5,
             5
            ],
            "sizemode": "area",
            "sizeref": 0.025
           },
           "mode": "markers",
           "name": "",
           "showlegend": false,
           "subplot": "mapbox",
           "type": "scattermapbox"
          }
         ],
         "name": "2024-07-05 00:00:00"
        },
        {
         "data": [
          {
           "hovertemplate": "<b>%{hovertext}</b><br><br>ds=2024-07-06 00:00:00<br>size=%{marker.size}<br>lat=%{lat}<br>lng=%{lon}<br>satur=%{marker.color}<extra></extra>",
           "hovertext": [
            "BOULEVARD VICTOR",
            "PORTE D'AUTEUIL",
            "PORTE DE SAINT-CLOUD"
           ],
           "lat": [
            48.839364,
            48.847677,
            48.8380119
           ],
           "legendgroup": "",
           "lon": [
            2.2704847,
            2.2579853,
            2.2569927
           ],
           "marker": {
            "color": [
             26.526322755977006,
             60.16387946292417,
             56.84664946697545
            ],
            "coloraxis": "coloraxis",
            "size": [
             5,
             5,
             5
            ],
            "sizemode": "area",
            "sizeref": 0.025
           },
           "mode": "markers",
           "name": "",
           "showlegend": false,
           "subplot": "mapbox",
           "type": "scattermapbox"
          }
         ],
         "name": "2024-07-06 00:00:00"
        },
        {
         "data": [
          {
           "hovertemplate": "<b>%{hovertext}</b><br><br>ds=2024-07-07 00:00:00<br>size=%{marker.size}<br>lat=%{lat}<br>lng=%{lon}<br>satur=%{marker.color}<extra></extra>",
           "hovertext": [
            "BOULEVARD VICTOR",
            "PORTE D'AUTEUIL",
            "PORTE DE SAINT-CLOUD"
           ],
           "lat": [
            48.839364,
            48.847677,
            48.8380119
           ],
           "legendgroup": "",
           "lon": [
            2.2704847,
            2.2579853,
            2.2569927
           ],
           "marker": {
            "color": [
             21.350774350721885,
             50.09789135461921,
             53.27390786357503
            ],
            "coloraxis": "coloraxis",
            "size": [
             5,
             5,
             5
            ],
            "sizemode": "area",
            "sizeref": 0.025
           },
           "mode": "markers",
           "name": "",
           "showlegend": false,
           "subplot": "mapbox",
           "type": "scattermapbox"
          }
         ],
         "name": "2024-07-07 00:00:00"
        },
        {
         "data": [
          {
           "hovertemplate": "<b>%{hovertext}</b><br><br>ds=2024-07-08 00:00:00<br>size=%{marker.size}<br>lat=%{lat}<br>lng=%{lon}<br>satur=%{marker.color}<extra></extra>",
           "hovertext": [
            "BOULEVARD VICTOR",
            "PORTE D'AUTEUIL",
            "PORTE DE SAINT-CLOUD"
           ],
           "lat": [
            48.839364,
            48.847677,
            48.8380119
           ],
           "legendgroup": "",
           "lon": [
            2.2704847,
            2.2579853,
            2.2569927
           ],
           "marker": {
            "color": [
             53.34093915174915,
             64.96268424952977,
             75.33844861295036
            ],
            "coloraxis": "coloraxis",
            "size": [
             5,
             5,
             5
            ],
            "sizemode": "area",
            "sizeref": 0.025
           },
           "mode": "markers",
           "name": "",
           "showlegend": false,
           "subplot": "mapbox",
           "type": "scattermapbox"
          }
         ],
         "name": "2024-07-08 00:00:00"
        },
        {
         "data": [
          {
           "hovertemplate": "<b>%{hovertext}</b><br><br>ds=2024-07-09 00:00:00<br>size=%{marker.size}<br>lat=%{lat}<br>lng=%{lon}<br>satur=%{marker.color}<extra></extra>",
           "hovertext": [
            "BOULEVARD VICTOR",
            "PORTE D'AUTEUIL",
            "PORTE DE SAINT-CLOUD"
           ],
           "lat": [
            48.839364,
            48.847677,
            48.8380119
           ],
           "legendgroup": "",
           "lon": [
            2.2704847,
            2.2579853,
            2.2569927
           ],
           "marker": {
            "color": [
             51.85729342044749,
             64.3275110423938,
             76.18575556243297
            ],
            "coloraxis": "coloraxis",
            "size": [
             5,
             5,
             5
            ],
            "sizemode": "area",
            "sizeref": 0.025
           },
           "mode": "markers",
           "name": "",
           "showlegend": false,
           "subplot": "mapbox",
           "type": "scattermapbox"
          }
         ],
         "name": "2024-07-09 00:00:00"
        },
        {
         "data": [
          {
           "hovertemplate": "<b>%{hovertext}</b><br><br>ds=2024-07-10 00:00:00<br>size=%{marker.size}<br>lat=%{lat}<br>lng=%{lon}<br>satur=%{marker.color}<extra></extra>",
           "hovertext": [
            "BOULEVARD VICTOR",
            "PORTE D'AUTEUIL",
            "PORTE DE SAINT-CLOUD"
           ],
           "lat": [
            48.839364,
            48.847677,
            48.8380119
           ],
           "legendgroup": "",
           "lon": [
            2.2704847,
            2.2579853,
            2.2569927
           ],
           "marker": {
            "color": [
             52.338817771031884,
             64.01007662667915,
             78.18376712589905
            ],
            "coloraxis": "coloraxis",
            "size": [
             5,
             5,
             5
            ],
            "sizemode": "area",
            "sizeref": 0.025
           },
           "mode": "markers",
           "name": "",
           "showlegend": false,
           "subplot": "mapbox",
           "type": "scattermapbox"
          }
         ],
         "name": "2024-07-10 00:00:00"
        },
        {
         "data": [
          {
           "hovertemplate": "<b>%{hovertext}</b><br><br>ds=2024-07-11 00:00:00<br>size=%{marker.size}<br>lat=%{lat}<br>lng=%{lon}<br>satur=%{marker.color}<extra></extra>",
           "hovertext": [
            "BOULEVARD VICTOR",
            "PORTE D'AUTEUIL",
            "PORTE DE SAINT-CLOUD"
           ],
           "lat": [
            48.839364,
            48.847677,
            48.8380119
           ],
           "legendgroup": "",
           "lon": [
            2.2704847,
            2.2579853,
            2.2569927
           ],
           "marker": {
            "color": [
             49.7936689527304,
             59.74675761236317,
             75.33887936599393
            ],
            "coloraxis": "coloraxis",
            "size": [
             5,
             5,
             5
            ],
            "sizemode": "area",
            "sizeref": 0.025
           },
           "mode": "markers",
           "name": "",
           "showlegend": false,
           "subplot": "mapbox",
           "type": "scattermapbox"
          }
         ],
         "name": "2024-07-11 00:00:00"
        },
        {
         "data": [
          {
           "hovertemplate": "<b>%{hovertext}</b><br><br>ds=2024-07-12 00:00:00<br>size=%{marker.size}<br>lat=%{lat}<br>lng=%{lon}<br>satur=%{marker.color}<extra></extra>",
           "hovertext": [
            "BOULEVARD VICTOR",
            "PORTE D'AUTEUIL",
            "PORTE DE SAINT-CLOUD"
           ],
           "lat": [
            48.839364,
            48.847677,
            48.8380119
           ],
           "legendgroup": "",
           "lon": [
            2.2704847,
            2.2579853,
            2.2569927
           ],
           "marker": {
            "color": [
             48.16372937616109,
             60.90985547549151,
             76.79538007327453
            ],
            "coloraxis": "coloraxis",
            "size": [
             5,
             5,
             5
            ],
            "sizemode": "area",
            "sizeref": 0.025
           },
           "mode": "markers",
           "name": "",
           "showlegend": false,
           "subplot": "mapbox",
           "type": "scattermapbox"
          }
         ],
         "name": "2024-07-12 00:00:00"
        },
        {
         "data": [
          {
           "hovertemplate": "<b>%{hovertext}</b><br><br>ds=2024-07-13 00:00:00<br>size=%{marker.size}<br>lat=%{lat}<br>lng=%{lon}<br>satur=%{marker.color}<extra></extra>",
           "hovertext": [
            "BOULEVARD VICTOR",
            "PORTE D'AUTEUIL",
            "PORTE DE SAINT-CLOUD"
           ],
           "lat": [
            48.839364,
            48.847677,
            48.8380119
           ],
           "legendgroup": "",
           "lon": [
            2.2704847,
            2.2579853,
            2.2569927
           ],
           "marker": {
            "color": [
             22.838003026597484,
             51.309450206574226,
             55.13137293163911
            ],
            "coloraxis": "coloraxis",
            "size": [
             5,
             5,
             5
            ],
            "sizemode": "area",
            "sizeref": 0.025
           },
           "mode": "markers",
           "name": "",
           "showlegend": false,
           "subplot": "mapbox",
           "type": "scattermapbox"
          }
         ],
         "name": "2024-07-13 00:00:00"
        },
        {
         "data": [
          {
           "hovertemplate": "<b>%{hovertext}</b><br><br>ds=2024-07-14 00:00:00<br>size=%{marker.size}<br>lat=%{lat}<br>lng=%{lon}<br>satur=%{marker.color}<extra></extra>",
           "hovertext": [
            "BOULEVARD VICTOR",
            "PORTE D'AUTEUIL",
            "PORTE DE SAINT-CLOUD"
           ],
           "lat": [
            48.839364,
            48.847677,
            48.8380119
           ],
           "legendgroup": "",
           "lon": [
            2.2704847,
            2.2579853,
            2.2569927
           ],
           "marker": {
            "color": [
             9.336451502235443,
             37.00590043311648,
             26.120888762547306
            ],
            "coloraxis": "coloraxis",
            "size": [
             5,
             5,
             5
            ],
            "sizemode": "area",
            "sizeref": 0.025
           },
           "mode": "markers",
           "name": "",
           "showlegend": false,
           "subplot": "mapbox",
           "type": "scattermapbox"
          }
         ],
         "name": "2024-07-14 00:00:00"
        },
        {
         "data": [
          {
           "hovertemplate": "<b>%{hovertext}</b><br><br>ds=2024-07-15 00:00:00<br>size=%{marker.size}<br>lat=%{lat}<br>lng=%{lon}<br>satur=%{marker.color}<extra></extra>",
           "hovertext": [
            "BOULEVARD VICTOR",
            "PORTE D'AUTEUIL",
            "PORTE DE SAINT-CLOUD"
           ],
           "lat": [
            48.839364,
            48.847677,
            48.8380119
           ],
           "legendgroup": "",
           "lon": [
            2.2704847,
            2.2579853,
            2.2569927
           ],
           "marker": {
            "color": [
             46.845536445878864,
             55.95120304370376,
             73.40897183548634
            ],
            "coloraxis": "coloraxis",
            "size": [
             5,
             5,
             5
            ],
            "sizemode": "area",
            "sizeref": 0.025
           },
           "mode": "markers",
           "name": "",
           "showlegend": false,
           "subplot": "mapbox",
           "type": "scattermapbox"
          }
         ],
         "name": "2024-07-15 00:00:00"
        },
        {
         "data": [
          {
           "hovertemplate": "<b>%{hovertext}</b><br><br>ds=2024-07-16 00:00:00<br>size=%{marker.size}<br>lat=%{lat}<br>lng=%{lon}<br>satur=%{marker.color}<extra></extra>",
           "hovertext": [
            "BOULEVARD VICTOR",
            "PORTE D'AUTEUIL",
            "PORTE DE SAINT-CLOUD"
           ],
           "lat": [
            48.839364,
            48.847677,
            48.8380119
           ],
           "legendgroup": "",
           "lon": [
            2.2704847,
            2.2579853,
            2.2569927
           ],
           "marker": {
            "color": [
             46.07168775834673,
             55.92680270079823,
             74.4122617936692
            ],
            "coloraxis": "coloraxis",
            "size": [
             5,
             5,
             5
            ],
            "sizemode": "area",
            "sizeref": 0.025
           },
           "mode": "markers",
           "name": "",
           "showlegend": false,
           "subplot": "mapbox",
           "type": "scattermapbox"
          }
         ],
         "name": "2024-07-16 00:00:00"
        },
        {
         "data": [
          {
           "hovertemplate": "<b>%{hovertext}</b><br><br>ds=2024-07-17 00:00:00<br>size=%{marker.size}<br>lat=%{lat}<br>lng=%{lon}<br>satur=%{marker.color}<extra></extra>",
           "hovertext": [
            "BOULEVARD VICTOR",
            "PORTE D'AUTEUIL",
            "PORTE DE SAINT-CLOUD"
           ],
           "lat": [
            48.839364,
            48.847677,
            48.8380119
           ],
           "legendgroup": "",
           "lon": [
            2.2704847,
            2.2579853,
            2.2569927
           ],
           "marker": {
            "color": [
             47.073539986545114,
             56.31969788354374,
             76.53985529245934
            ],
            "coloraxis": "coloraxis",
            "size": [
             5,
             5,
             5
            ],
            "sizemode": "area",
            "sizeref": 0.025
           },
           "mode": "markers",
           "name": "",
           "showlegend": false,
           "subplot": "mapbox",
           "type": "scattermapbox"
          }
         ],
         "name": "2024-07-17 00:00:00"
        },
        {
         "data": [
          {
           "hovertemplate": "<b>%{hovertext}</b><br><br>ds=2024-07-18 00:00:00<br>size=%{marker.size}<br>lat=%{lat}<br>lng=%{lon}<br>satur=%{marker.color}<extra></extra>",
           "hovertext": [
            "BOULEVARD VICTOR",
            "PORTE D'AUTEUIL",
            "PORTE DE SAINT-CLOUD"
           ],
           "lat": [
            48.839364,
            48.847677,
            48.8380119
           ],
           "legendgroup": "",
           "lon": [
            2.2704847,
            2.2579853,
            2.2569927
           ],
           "marker": {
            "color": [
             45.356768663358956,
             53.3154252312243,
             73.91218001987983
            ],
            "coloraxis": "coloraxis",
            "size": [
             5,
             5,
             5
            ],
            "sizemode": "area",
            "sizeref": 0.025
           },
           "mode": "markers",
           "name": "",
           "showlegend": false,
           "subplot": "mapbox",
           "type": "scattermapbox"
          }
         ],
         "name": "2024-07-18 00:00:00"
        },
        {
         "data": [
          {
           "hovertemplate": "<b>%{hovertext}</b><br><br>ds=2024-07-19 00:00:00<br>size=%{marker.size}<br>lat=%{lat}<br>lng=%{lon}<br>satur=%{marker.color}<extra></extra>",
           "hovertext": [
            "BOULEVARD VICTOR",
            "PORTE D'AUTEUIL",
            "PORTE DE SAINT-CLOUD"
           ],
           "lat": [
            48.839364,
            48.847677,
            48.8380119
           ],
           "legendgroup": "",
           "lon": [
            2.2704847,
            2.2579853,
            2.2569927
           ],
           "marker": {
            "color": [
             44.43867254006968,
             55.21954658546553,
             75.48294349957258
            ],
            "coloraxis": "coloraxis",
            "size": [
             5,
             5,
             5
            ],
            "sizemode": "area",
            "sizeref": 0.025
           },
           "mode": "markers",
           "name": "",
           "showlegend": false,
           "subplot": "mapbox",
           "type": "scattermapbox"
          }
         ],
         "name": "2024-07-19 00:00:00"
        },
        {
         "data": [
          {
           "hovertemplate": "<b>%{hovertext}</b><br><br>ds=2024-07-20 00:00:00<br>size=%{marker.size}<br>lat=%{lat}<br>lng=%{lon}<br>satur=%{marker.color}<extra></extra>",
           "hovertext": [
            "BOULEVARD VICTOR",
            "PORTE D'AUTEUIL",
            "PORTE DE SAINT-CLOUD"
           ],
           "lat": [
            48.839364,
            48.847677,
            48.8380119
           ],
           "legendgroup": "",
           "lon": [
            2.2704847,
            2.2579853,
            2.2569927
           ],
           "marker": {
            "color": [
             21.340367288987753,
             47.31438798325783,
             54.27364804873264
            ],
            "coloraxis": "coloraxis",
            "size": [
             5,
             5,
             5
            ],
            "sizemode": "area",
            "sizeref": 0.025
           },
           "mode": "markers",
           "name": "",
           "showlegend": false,
           "subplot": "mapbox",
           "type": "scattermapbox"
          }
         ],
         "name": "2024-07-20 00:00:00"
        },
        {
         "data": [
          {
           "hovertemplate": "<b>%{hovertext}</b><br><br>ds=2024-07-21 00:00:00<br>size=%{marker.size}<br>lat=%{lat}<br>lng=%{lon}<br>satur=%{marker.color}<extra></extra>",
           "hovertext": [
            "BOULEVARD VICTOR",
            "PORTE D'AUTEUIL",
            "PORTE DE SAINT-CLOUD"
           ],
           "lat": [
            48.839364,
            48.847677,
            48.8380119
           ],
           "legendgroup": "",
           "lon": [
            2.2704847,
            2.2579853,
            2.2569927
           ],
           "marker": {
            "color": [
             17.55043175608204,
             40.23677879199034,
             51.03959214293627
            ],
            "coloraxis": "coloraxis",
            "size": [
             5,
             5,
             5
            ],
            "sizemode": "area",
            "sizeref": 0.025
           },
           "mode": "markers",
           "name": "",
           "showlegend": false,
           "subplot": "mapbox",
           "type": "scattermapbox"
          }
         ],
         "name": "2024-07-21 00:00:00"
        },
        {
         "data": [
          {
           "hovertemplate": "<b>%{hovertext}</b><br><br>ds=2024-07-22 00:00:00<br>size=%{marker.size}<br>lat=%{lat}<br>lng=%{lon}<br>satur=%{marker.color}<extra></extra>",
           "hovertext": [
            "BOULEVARD VICTOR",
            "PORTE D'AUTEUIL",
            "PORTE DE SAINT-CLOUD"
           ],
           "lat": [
            48.839364,
            48.847677,
            48.8380119
           ],
           "legendgroup": "",
           "lon": [
            2.2704847,
            2.2579853,
            2.2569927
           ],
           "marker": {
            "color": [
             44.824327704506565,
             53.46120603755785,
             72.40431591465124
            ],
            "coloraxis": "coloraxis",
            "size": [
             5,
             5,
             5
            ],
            "sizemode": "area",
            "sizeref": 0.025
           },
           "mode": "markers",
           "name": "",
           "showlegend": false,
           "subplot": "mapbox",
           "type": "scattermapbox"
          }
         ],
         "name": "2024-07-22 00:00:00"
        },
        {
         "data": [
          {
           "hovertemplate": "<b>%{hovertext}</b><br><br>ds=2024-07-23 00:00:00<br>size=%{marker.size}<br>lat=%{lat}<br>lng=%{lon}<br>satur=%{marker.color}<extra></extra>",
           "hovertext": [
            "BOULEVARD VICTOR",
            "PORTE D'AUTEUIL",
            "PORTE DE SAINT-CLOUD"
           ],
           "lat": [
            48.839364,
            48.847677,
            48.8380119
           ],
           "legendgroup": "",
           "lon": [
            2.2704847,
            2.2579853,
            2.2569927
           ],
           "marker": {
            "color": [
             44.55031179524484,
             54.37832270910597,
             73.41194522733939
            ],
            "coloraxis": "coloraxis",
            "size": [
             5,
             5,
             5
            ],
            "sizemode": "area",
            "sizeref": 0.025
           },
           "mode": "markers",
           "name": "",
           "showlegend": false,
           "subplot": "mapbox",
           "type": "scattermapbox"
          }
         ],
         "name": "2024-07-23 00:00:00"
        },
        {
         "data": [
          {
           "hovertemplate": "<b>%{hovertext}</b><br><br>ds=2024-07-24 00:00:00<br>size=%{marker.size}<br>lat=%{lat}<br>lng=%{lon}<br>satur=%{marker.color}<extra></extra>",
           "hovertext": [
            "BOULEVARD VICTOR",
            "PORTE D'AUTEUIL",
            "PORTE DE SAINT-CLOUD"
           ],
           "lat": [
            48.839364,
            48.847677,
            48.8380119
           ],
           "legendgroup": "",
           "lon": [
            2.2704847,
            2.2579853,
            2.2569927
           ],
           "marker": {
            "color": [
             41.65537224808816,
             74.54620724021281,
             96.64437280821974
            ],
            "coloraxis": "coloraxis",
            "size": [
             10,
             10,
             10
            ],
            "sizemode": "area",
            "sizeref": 0.025
           },
           "mode": "markers",
           "name": "",
           "showlegend": false,
           "subplot": "mapbox",
           "type": "scattermapbox"
          }
         ],
         "name": "2024-07-24 00:00:00"
        },
        {
         "data": [
          {
           "hovertemplate": "<b>%{hovertext}</b><br><br>ds=2024-07-25 00:00:00<br>size=%{marker.size}<br>lat=%{lat}<br>lng=%{lon}<br>satur=%{marker.color}<extra></extra>",
           "hovertext": [
            "BOULEVARD VICTOR",
            "PORTE D'AUTEUIL",
            "PORTE DE SAINT-CLOUD"
           ],
           "lat": [
            48.839364,
            48.847677,
            48.8380119
           ],
           "legendgroup": "",
           "lon": [
            2.2704847,
            2.2579853,
            2.2569927
           ],
           "marker": {
            "color": [
             44.622744683953655,
             53.5077426406661,
             72.84115180346828
            ],
            "coloraxis": "coloraxis",
            "size": [
             5,
             5,
             5
            ],
            "sizemode": "area",
            "sizeref": 0.025
           },
           "mode": "markers",
           "name": "",
           "showlegend": false,
           "subplot": "mapbox",
           "type": "scattermapbox"
          }
         ],
         "name": "2024-07-25 00:00:00"
        },
        {
         "data": [
          {
           "hovertemplate": "<b>%{hovertext}</b><br><br>ds=2024-07-26 00:00:00<br>size=%{marker.size}<br>lat=%{lat}<br>lng=%{lon}<br>satur=%{marker.color}<extra></extra>",
           "hovertext": [
            "BOULEVARD VICTOR",
            "PORTE D'AUTEUIL",
            "PORTE DE SAINT-CLOUD"
           ],
           "lat": [
            48.839364,
            48.847677,
            48.8380119
           ],
           "legendgroup": "",
           "lon": [
            2.2704847,
            2.2579853,
            2.2569927
           ],
           "marker": {
            "color": [
             43.99993833645684,
             56.1616613094179,
             74.290522704302
            ],
            "coloraxis": "coloraxis",
            "size": [
             5,
             5,
             5
            ],
            "sizemode": "area",
            "sizeref": 0.025
           },
           "mode": "markers",
           "name": "",
           "showlegend": false,
           "subplot": "mapbox",
           "type": "scattermapbox"
          }
         ],
         "name": "2024-07-26 00:00:00"
        },
        {
         "data": [
          {
           "hovertemplate": "<b>%{hovertext}</b><br><br>ds=2024-07-27 00:00:00<br>size=%{marker.size}<br>lat=%{lat}<br>lng=%{lon}<br>satur=%{marker.color}<extra></extra>",
           "hovertext": [
            "BOULEVARD VICTOR",
            "PORTE D'AUTEUIL",
            "PORTE DE SAINT-CLOUD"
           ],
           "lat": [
            48.839364,
            48.847677,
            48.8380119
           ],
           "legendgroup": "",
           "lon": [
            2.2704847,
            2.2579853,
            2.2569927
           ],
           "marker": {
            "color": [
             19.247672714009987,
             128.20979882659947,
             75.64377395099088
            ],
            "coloraxis": "coloraxis",
            "size": [
             10,
             10,
             10
            ],
            "sizemode": "area",
            "sizeref": 0.025
           },
           "mode": "markers",
           "name": "",
           "showlegend": false,
           "subplot": "mapbox",
           "type": "scattermapbox"
          }
         ],
         "name": "2024-07-27 00:00:00"
        },
        {
         "data": [
          {
           "hovertemplate": "<b>%{hovertext}</b><br><br>ds=2024-07-28 00:00:00<br>size=%{marker.size}<br>lat=%{lat}<br>lng=%{lon}<br>satur=%{marker.color}<extra></extra>",
           "hovertext": [
            "BOULEVARD VICTOR",
            "PORTE D'AUTEUIL",
            "PORTE DE SAINT-CLOUD"
           ],
           "lat": [
            48.839364,
            48.847677,
            48.8380119
           ],
           "legendgroup": "",
           "lon": [
            2.2704847,
            2.2579853,
            2.2569927
           ],
           "marker": {
            "color": [
             15.87725629214129,
             109.97446186473188,
             70.9702719505068
            ],
            "coloraxis": "coloraxis",
            "size": [
             10,
             10,
             10
            ],
            "sizemode": "area",
            "sizeref": 0.025
           },
           "mode": "markers",
           "name": "",
           "showlegend": false,
           "subplot": "mapbox",
           "type": "scattermapbox"
          }
         ],
         "name": "2024-07-28 00:00:00"
        },
        {
         "data": [
          {
           "hovertemplate": "<b>%{hovertext}</b><br><br>ds=2024-07-29 00:00:00<br>size=%{marker.size}<br>lat=%{lat}<br>lng=%{lon}<br>satur=%{marker.color}<extra></extra>",
           "hovertext": [
            "BOULEVARD VICTOR",
            "PORTE D'AUTEUIL",
            "PORTE DE SAINT-CLOUD"
           ],
           "lat": [
            48.839364,
            48.847677,
            48.8380119
           ],
           "legendgroup": "",
           "lon": [
            2.2704847,
            2.2579853,
            2.2569927
           ],
           "marker": {
            "color": [
             44.78480162565744,
             109.77061445822305,
             78.42249191279436
            ],
            "coloraxis": "coloraxis",
            "size": [
             5,
             5,
             5
            ],
            "sizemode": "area",
            "sizeref": 0.025
           },
           "mode": "markers",
           "name": "",
           "showlegend": false,
           "subplot": "mapbox",
           "type": "scattermapbox"
          }
         ],
         "name": "2024-07-29 00:00:00"
        },
        {
         "data": [
          {
           "hovertemplate": "<b>%{hovertext}</b><br><br>ds=2024-07-30 00:00:00<br>size=%{marker.size}<br>lat=%{lat}<br>lng=%{lon}<br>satur=%{marker.color}<extra></extra>",
           "hovertext": [
            "BOULEVARD VICTOR",
            "PORTE D'AUTEUIL",
            "PORTE DE SAINT-CLOUD"
           ],
           "lat": [
            48.839364,
            48.847677,
            48.8380119
           ],
           "legendgroup": "",
           "lon": [
            2.2704847,
            2.2579853,
            2.2569927
           ],
           "marker": {
            "color": [
             40.33746058916347,
             149.9563772353777,
             101.47125630510993
            ],
            "coloraxis": "coloraxis",
            "size": [
             10,
             10,
             10
            ],
            "sizemode": "area",
            "sizeref": 0.025
           },
           "mode": "markers",
           "name": "",
           "showlegend": false,
           "subplot": "mapbox",
           "type": "scattermapbox"
          }
         ],
         "name": "2024-07-30 00:00:00"
        },
        {
         "data": [
          {
           "hovertemplate": "<b>%{hovertext}</b><br><br>ds=2024-07-31 00:00:00<br>size=%{marker.size}<br>lat=%{lat}<br>lng=%{lon}<br>satur=%{marker.color}<extra></extra>",
           "hovertext": [
            "BOULEVARD VICTOR",
            "PORTE D'AUTEUIL",
            "PORTE DE SAINT-CLOUD"
           ],
           "lat": [
            48.839364,
            48.847677,
            48.8380119
           ],
           "legendgroup": "",
           "lon": [
            2.2704847,
            2.2579853,
            2.2569927
           ],
           "marker": {
            "color": [
             45.7910311298581,
             114.67233255814513,
             81.21995307783124
            ],
            "coloraxis": "coloraxis",
            "size": [
             5,
             5,
             5
            ],
            "sizemode": "area",
            "sizeref": 0.025
           },
           "mode": "markers",
           "name": "",
           "showlegend": false,
           "subplot": "mapbox",
           "type": "scattermapbox"
          }
         ],
         "name": "2024-07-31 00:00:00"
        },
        {
         "data": [
          {
           "hovertemplate": "<b>%{hovertext}</b><br><br>ds=2024-08-01 00:00:00<br>size=%{marker.size}<br>lat=%{lat}<br>lng=%{lon}<br>satur=%{marker.color}<extra></extra>",
           "hovertext": [
            "BOULEVARD VICTOR",
            "PORTE D'AUTEUIL",
            "PORTE DE SAINT-CLOUD"
           ],
           "lat": [
            48.839364,
            48.847677,
            48.8380119
           ],
           "legendgroup": "",
           "lon": [
            2.2704847,
            2.2579853,
            2.2569927
           ],
           "marker": {
            "color": [
             44.31429187258708,
             109.90915573328283,
             78.07502395610307
            ],
            "coloraxis": "coloraxis",
            "size": [
             5,
             5,
             5
            ],
            "sizemode": "area",
            "sizeref": 0.025
           },
           "mode": "markers",
           "name": "",
           "showlegend": false,
           "subplot": "mapbox",
           "type": "scattermapbox"
          }
         ],
         "name": "2024-08-01 00:00:00"
        },
        {
         "data": [
          {
           "hovertemplate": "<b>%{hovertext}</b><br><br>ds=2024-08-02 00:00:00<br>size=%{marker.size}<br>lat=%{lat}<br>lng=%{lon}<br>satur=%{marker.color}<extra></extra>",
           "hovertext": [
            "BOULEVARD VICTOR",
            "PORTE D'AUTEUIL",
            "PORTE DE SAINT-CLOUD"
           ],
           "lat": [
            48.839364,
            48.847677,
            48.8380119
           ],
           "legendgroup": "",
           "lon": [
            2.2704847,
            2.2579853,
            2.2569927
           ],
           "marker": {
            "color": [
             39.42181341859859,
             153.62267974438893,
             101.54258184764203
            ],
            "coloraxis": "coloraxis",
            "size": [
             10,
             10,
             10
            ],
            "sizemode": "area",
            "sizeref": 0.025
           },
           "mode": "markers",
           "name": "",
           "showlegend": false,
           "subplot": "mapbox",
           "type": "scattermapbox"
          }
         ],
         "name": "2024-08-02 00:00:00"
        },
        {
         "data": [
          {
           "hovertemplate": "<b>%{hovertext}</b><br><br>ds=2024-08-03 00:00:00<br>size=%{marker.size}<br>lat=%{lat}<br>lng=%{lon}<br>satur=%{marker.color}<extra></extra>",
           "hovertext": [
            "BOULEVARD VICTOR",
            "PORTE D'AUTEUIL",
            "PORTE DE SAINT-CLOUD"
           ],
           "lat": [
            48.839364,
            48.847677,
            48.8380119
           ],
           "legendgroup": "",
           "lon": [
            2.2704847,
            2.2579853,
            2.2569927
           ],
           "marker": {
            "color": [
             18.90668970140819,
             132.0422178968389,
             72.5866096454158
            ],
            "coloraxis": "coloraxis",
            "size": [
             10,
             10,
             10
            ],
            "sizemode": "area",
            "sizeref": 0.025
           },
           "mode": "markers",
           "name": "",
           "showlegend": false,
           "subplot": "mapbox",
           "type": "scattermapbox"
          }
         ],
         "name": "2024-08-03 00:00:00"
        },
        {
         "data": [
          {
           "hovertemplate": "<b>%{hovertext}</b><br><br>ds=2024-08-04 00:00:00<br>size=%{marker.size}<br>lat=%{lat}<br>lng=%{lon}<br>satur=%{marker.color}<extra></extra>",
           "hovertext": [
            "BOULEVARD VICTOR",
            "PORTE D'AUTEUIL",
            "PORTE DE SAINT-CLOUD"
           ],
           "lat": [
            48.839364,
            48.847677,
            48.8380119
           ],
           "legendgroup": "",
           "lon": [
            2.2704847,
            2.2579853,
            2.2569927
           ],
           "marker": {
            "color": [
             17.083682738811355,
             83.7285716907229,
             52.98641214208886
            ],
            "coloraxis": "coloraxis",
            "size": [
             5,
             5,
             5
            ],
            "sizemode": "area",
            "sizeref": 0.025
           },
           "mode": "markers",
           "name": "",
           "showlegend": false,
           "subplot": "mapbox",
           "type": "scattermapbox"
          }
         ],
         "name": "2024-08-04 00:00:00"
        },
        {
         "data": [
          {
           "hovertemplate": "<b>%{hovertext}</b><br><br>ds=2024-08-05 00:00:00<br>size=%{marker.size}<br>lat=%{lat}<br>lng=%{lon}<br>satur=%{marker.color}<extra></extra>",
           "hovertext": [
            "BOULEVARD VICTOR",
            "PORTE D'AUTEUIL",
            "PORTE DE SAINT-CLOUD"
           ],
           "lat": [
            48.839364,
            48.847677,
            48.8380119
           ],
           "legendgroup": "",
           "lon": [
            2.2704847,
            2.2579853,
            2.2569927
           ],
           "marker": {
            "color": [
             43.360557400306384,
             56.187349244167436,
             67.38215092991479
            ],
            "coloraxis": "coloraxis",
            "size": [
             5,
             5,
             5
            ],
            "sizemode": "area",
            "sizeref": 0.025
           },
           "mode": "markers",
           "name": "",
           "showlegend": false,
           "subplot": "mapbox",
           "type": "scattermapbox"
          }
         ],
         "name": "2024-08-05 00:00:00"
        },
        {
         "data": [
          {
           "hovertemplate": "<b>%{hovertext}</b><br><br>ds=2024-08-06 00:00:00<br>size=%{marker.size}<br>lat=%{lat}<br>lng=%{lon}<br>satur=%{marker.color}<extra></extra>",
           "hovertext": [
            "BOULEVARD VICTOR",
            "PORTE D'AUTEUIL",
            "PORTE DE SAINT-CLOUD"
           ],
           "lat": [
            48.839364,
            48.847677,
            48.8380119
           ],
           "legendgroup": "",
           "lon": [
            2.2704847,
            2.2579853,
            2.2569927
           ],
           "marker": {
            "color": [
             42.7407466786573,
             111.29276608010687,
             75.20523866007248
            ],
            "coloraxis": "coloraxis",
            "size": [
             5,
             5,
             5
            ],
            "sizemode": "area",
            "sizeref": 0.025
           },
           "mode": "markers",
           "name": "",
           "showlegend": false,
           "subplot": "mapbox",
           "type": "scattermapbox"
          }
         ],
         "name": "2024-08-06 00:00:00"
        },
        {
         "data": [
          {
           "hovertemplate": "<b>%{hovertext}</b><br><br>ds=2024-08-07 00:00:00<br>size=%{marker.size}<br>lat=%{lat}<br>lng=%{lon}<br>satur=%{marker.color}<extra></extra>",
           "hovertext": [
            "BOULEVARD VICTOR",
            "PORTE D'AUTEUIL",
            "PORTE DE SAINT-CLOUD"
           ],
           "lat": [
            48.839364,
            48.847677,
            48.8380119
           ],
           "legendgroup": "",
           "lon": [
            2.2704847,
            2.2579853,
            2.2569927
           ],
           "marker": {
            "color": [
             43.645471944856254,
             112.3266466803303,
             76.82032565716402
            ],
            "coloraxis": "coloraxis",
            "size": [
             5,
             5,
             5
            ],
            "sizemode": "area",
            "sizeref": 0.025
           },
           "mode": "markers",
           "name": "",
           "showlegend": false,
           "subplot": "mapbox",
           "type": "scattermapbox"
          }
         ],
         "name": "2024-08-07 00:00:00"
        },
        {
         "data": [
          {
           "hovertemplate": "<b>%{hovertext}</b><br><br>ds=2024-08-08 00:00:00<br>size=%{marker.size}<br>lat=%{lat}<br>lng=%{lon}<br>satur=%{marker.color}<extra></extra>",
           "hovertext": [
            "BOULEVARD VICTOR",
            "PORTE D'AUTEUIL",
            "PORTE DE SAINT-CLOUD"
           ],
           "lat": [
            48.839364,
            48.847677,
            48.8380119
           ],
           "legendgroup": "",
           "lon": [
            2.2704847,
            2.2579853,
            2.2569927
           ],
           "marker": {
            "color": [
             41.92213253603789,
             106.07524581101686,
             73.64769831248212
            ],
            "coloraxis": "coloraxis",
            "size": [
             5,
             5,
             5
            ],
            "sizemode": "area",
            "sizeref": 0.025
           },
           "mode": "markers",
           "name": "",
           "showlegend": false,
           "subplot": "mapbox",
           "type": "scattermapbox"
          }
         ],
         "name": "2024-08-08 00:00:00"
        },
        {
         "data": [
          {
           "hovertemplate": "<b>%{hovertext}</b><br><br>ds=2024-08-09 00:00:00<br>size=%{marker.size}<br>lat=%{lat}<br>lng=%{lon}<br>satur=%{marker.color}<extra></extra>",
           "hovertext": [
            "BOULEVARD VICTOR",
            "PORTE D'AUTEUIL",
            "PORTE DE SAINT-CLOUD"
           ],
           "lat": [
            48.839364,
            48.847677,
            48.8380119
           ],
           "legendgroup": "",
           "lon": [
            2.2704847,
            2.2579853,
            2.2569927
           ],
           "marker": {
            "color": [
             37.039093666869945,
             146.09387857138273,
             95.5832130067696
            ],
            "coloraxis": "coloraxis",
            "size": [
             10,
             10,
             10
            ],
            "sizemode": "area",
            "sizeref": 0.025
           },
           "mode": "markers",
           "name": "",
           "showlegend": false,
           "subplot": "mapbox",
           "type": "scattermapbox"
          }
         ],
         "name": "2024-08-09 00:00:00"
        },
        {
         "data": [
          {
           "hovertemplate": "<b>%{hovertext}</b><br><br>ds=2024-08-10 00:00:00<br>size=%{marker.size}<br>lat=%{lat}<br>lng=%{lon}<br>satur=%{marker.color}<extra></extra>",
           "hovertext": [
            "BOULEVARD VICTOR",
            "PORTE D'AUTEUIL",
            "PORTE DE SAINT-CLOUD"
           ],
           "lat": [
            48.839364,
            48.847677,
            48.8380119
           ],
           "legendgroup": "",
           "lon": [
            2.2704847,
            2.2579853,
            2.2569927
           ],
           "marker": {
            "color": [
             17.659747258006053,
             123.81012458521306,
             68.2292872311894
            ],
            "coloraxis": "coloraxis",
            "size": [
             10,
             10,
             10
            ],
            "sizemode": "area",
            "sizeref": 0.025
           },
           "mode": "markers",
           "name": "",
           "showlegend": false,
           "subplot": "mapbox",
           "type": "scattermapbox"
          }
         ],
         "name": "2024-08-10 00:00:00"
        },
        {
         "data": [
          {
           "hovertemplate": "<b>%{hovertext}</b><br><br>ds=2024-08-11 00:00:00<br>size=%{marker.size}<br>lat=%{lat}<br>lng=%{lon}<br>satur=%{marker.color}<extra></extra>",
           "hovertext": [
            "BOULEVARD VICTOR",
            "PORTE D'AUTEUIL",
            "PORTE DE SAINT-CLOUD"
           ],
           "lat": [
            48.839364,
            48.847677,
            48.8380119
           ],
           "legendgroup": "",
           "lon": [
            2.2704847,
            2.2579853,
            2.2569927
           ],
           "marker": {
            "color": [
             15.883549126637858,
             39.3824737249643,
             44.91315425775704
            ],
            "coloraxis": "coloraxis",
            "size": [
             5,
             5,
             5
            ],
            "sizemode": "area",
            "sizeref": 0.025
           },
           "mode": "markers",
           "name": "",
           "showlegend": false,
           "subplot": "mapbox",
           "type": "scattermapbox"
          }
         ],
         "name": "2024-08-11 00:00:00"
        },
        {
         "data": [
          {
           "hovertemplate": "<b>%{hovertext}</b><br><br>ds=2024-08-12 00:00:00<br>size=%{marker.size}<br>lat=%{lat}<br>lng=%{lon}<br>satur=%{marker.color}<extra></extra>",
           "hovertext": [
            "BOULEVARD VICTOR",
            "PORTE D'AUTEUIL",
            "PORTE DE SAINT-CLOUD"
           ],
           "lat": [
            48.839364,
            48.847677,
            48.8380119
           ],
           "legendgroup": "",
           "lon": [
            2.2704847,
            2.2579853,
            2.2569927
           ],
           "marker": {
            "color": [
             40.19114172587137,
             51.41742626737368,
             63.306824887388245
            ],
            "coloraxis": "coloraxis",
            "size": [
             5,
             5,
             5
            ],
            "sizemode": "area",
            "sizeref": 0.025
           },
           "mode": "markers",
           "name": "",
           "showlegend": false,
           "subplot": "mapbox",
           "type": "scattermapbox"
          }
         ],
         "name": "2024-08-12 00:00:00"
        },
        {
         "data": [
          {
           "hovertemplate": "<b>%{hovertext}</b><br><br>ds=2024-08-13 00:00:00<br>size=%{marker.size}<br>lat=%{lat}<br>lng=%{lon}<br>satur=%{marker.color}<extra></extra>",
           "hovertext": [
            "BOULEVARD VICTOR",
            "PORTE D'AUTEUIL",
            "PORTE DE SAINT-CLOUD"
           ],
           "lat": [
            48.839364,
            48.847677,
            48.8380119
           ],
           "legendgroup": "",
           "lon": [
            2.2704847,
            2.2579853,
            2.2569927
           ],
           "marker": {
            "color": [
             39.5663889338947,
             51.27803730361939,
             63.82714835733003
            ],
            "coloraxis": "coloraxis",
            "size": [
             5,
             5,
             5
            ],
            "sizemode": "area",
            "sizeref": 0.025
           },
           "mode": "markers",
           "name": "",
           "showlegend": false,
           "subplot": "mapbox",
           "type": "scattermapbox"
          }
         ],
         "name": "2024-08-13 00:00:00"
        },
        {
         "data": [
          {
           "hovertemplate": "<b>%{hovertext}</b><br><br>ds=2024-08-14 00:00:00<br>size=%{marker.size}<br>lat=%{lat}<br>lng=%{lon}<br>satur=%{marker.color}<extra></extra>",
           "hovertext": [
            "BOULEVARD VICTOR",
            "PORTE D'AUTEUIL",
            "PORTE DE SAINT-CLOUD"
           ],
           "lat": [
            48.839364,
            48.847677,
            48.8380119
           ],
           "legendgroup": "",
           "lon": [
            2.2704847,
            2.2579853,
            2.2569927
           ],
           "marker": {
            "color": [
             40.43358420000853,
             51.40259818634988,
             65.33049270644983
            ],
            "coloraxis": "coloraxis",
            "size": [
             5,
             5,
             5
            ],
            "sizemode": "area",
            "sizeref": 0.025
           },
           "mode": "markers",
           "name": "",
           "showlegend": false,
           "subplot": "mapbox",
           "type": "scattermapbox"
          }
         ],
         "name": "2024-08-14 00:00:00"
        },
        {
         "data": [
          {
           "hovertemplate": "<b>%{hovertext}</b><br><br>ds=2024-08-15 00:00:00<br>size=%{marker.size}<br>lat=%{lat}<br>lng=%{lon}<br>satur=%{marker.color}<extra></extra>",
           "hovertext": [
            "BOULEVARD VICTOR",
            "PORTE D'AUTEUIL",
            "PORTE DE SAINT-CLOUD"
           ],
           "lat": [
            48.839364,
            48.847677,
            48.8380119
           ],
           "legendgroup": "",
           "lon": [
            2.2704847,
            2.2579853,
            2.2569927
           ],
           "marker": {
            "color": [
             15.566425935398378,
             28.805565719151886,
             72.67115379896664
            ],
            "coloraxis": "coloraxis",
            "size": [
             5,
             5,
             5
            ],
            "sizemode": "area",
            "sizeref": 0.025
           },
           "mode": "markers",
           "name": "",
           "showlegend": false,
           "subplot": "mapbox",
           "type": "scattermapbox"
          }
         ],
         "name": "2024-08-15 00:00:00"
        },
        {
         "data": [
          {
           "hovertemplate": "<b>%{hovertext}</b><br><br>ds=2024-08-16 00:00:00<br>size=%{marker.size}<br>lat=%{lat}<br>lng=%{lon}<br>satur=%{marker.color}<extra></extra>",
           "hovertext": [
            "BOULEVARD VICTOR",
            "PORTE D'AUTEUIL",
            "PORTE DE SAINT-CLOUD"
           ],
           "lat": [
            48.839364,
            48.847677,
            48.8380119
           ],
           "legendgroup": "",
           "lon": [
            2.2704847,
            2.2579853,
            2.2569927
           ],
           "marker": {
            "color": [
             38.1546818432812,
             49.678934983364236,
             63.94192162871
            ],
            "coloraxis": "coloraxis",
            "size": [
             5,
             5,
             5
            ],
            "sizemode": "area",
            "sizeref": 0.025
           },
           "mode": "markers",
           "name": "",
           "showlegend": false,
           "subplot": "mapbox",
           "type": "scattermapbox"
          }
         ],
         "name": "2024-08-16 00:00:00"
        },
        {
         "data": [
          {
           "hovertemplate": "<b>%{hovertext}</b><br><br>ds=2024-08-17 00:00:00<br>size=%{marker.size}<br>lat=%{lat}<br>lng=%{lon}<br>satur=%{marker.color}<extra></extra>",
           "hovertext": [
            "BOULEVARD VICTOR",
            "PORTE D'AUTEUIL",
            "PORTE DE SAINT-CLOUD"
           ],
           "lat": [
            48.839364,
            48.847677,
            48.8380119
           ],
           "legendgroup": "",
           "lon": [
            2.2704847,
            2.2579853,
            2.2569927
           ],
           "marker": {
            "color": [
             18.329119834820702,
             42.19426809175868,
             45.871417344434775
            ],
            "coloraxis": "coloraxis",
            "size": [
             5,
             5,
             5
            ],
            "sizemode": "area",
            "sizeref": 0.025
           },
           "mode": "markers",
           "name": "",
           "showlegend": false,
           "subplot": "mapbox",
           "type": "scattermapbox"
          }
         ],
         "name": "2024-08-17 00:00:00"
        },
        {
         "data": [
          {
           "hovertemplate": "<b>%{hovertext}</b><br><br>ds=2024-08-18 00:00:00<br>size=%{marker.size}<br>lat=%{lat}<br>lng=%{lon}<br>satur=%{marker.color}<extra></extra>",
           "hovertext": [
            "BOULEVARD VICTOR",
            "PORTE D'AUTEUIL",
            "PORTE DE SAINT-CLOUD"
           ],
           "lat": [
            48.839364,
            48.847677,
            48.8380119
           ],
           "legendgroup": "",
           "lon": [
            2.2704847,
            2.2579853,
            2.2569927
           ],
           "marker": {
            "color": [
             15.094619951121608,
             35.5576132336165,
             43.095375029776065
            ],
            "coloraxis": "coloraxis",
            "size": [
             5,
             5,
             5
            ],
            "sizemode": "area",
            "sizeref": 0.025
           },
           "mode": "markers",
           "name": "",
           "showlegend": false,
           "subplot": "mapbox",
           "type": "scattermapbox"
          }
         ],
         "name": "2024-08-18 00:00:00"
        },
        {
         "data": [
          {
           "hovertemplate": "<b>%{hovertext}</b><br><br>ds=2024-08-19 00:00:00<br>size=%{marker.size}<br>lat=%{lat}<br>lng=%{lon}<br>satur=%{marker.color}<extra></extra>",
           "hovertext": [
            "BOULEVARD VICTOR",
            "PORTE D'AUTEUIL",
            "PORTE DE SAINT-CLOUD"
           ],
           "lat": [
            48.839364,
            48.847677,
            48.8380119
           ],
           "legendgroup": "",
           "lon": [
            2.2704847,
            2.2579853,
            2.2569927
           ],
           "marker": {
            "color": [
             38.66286836735061,
             46.83103137153146,
             61.16328416377578
            ],
            "coloraxis": "coloraxis",
            "size": [
             5,
             5,
             5
            ],
            "sizemode": "area",
            "sizeref": 0.025
           },
           "mode": "markers",
           "name": "",
           "showlegend": false,
           "subplot": "mapbox",
           "type": "scattermapbox"
          }
         ],
         "name": "2024-08-19 00:00:00"
        },
        {
         "data": [
          {
           "hovertemplate": "<b>%{hovertext}</b><br><br>ds=2024-08-20 00:00:00<br>size=%{marker.size}<br>lat=%{lat}<br>lng=%{lon}<br>satur=%{marker.color}<extra></extra>",
           "hovertext": [
            "BOULEVARD VICTOR",
            "PORTE D'AUTEUIL",
            "PORTE DE SAINT-CLOUD"
           ],
           "lat": [
            48.839364,
            48.847677,
            48.8380119
           ],
           "legendgroup": "",
           "lon": [
            2.2704847,
            2.2579853,
            2.2569927
           ],
           "marker": {
            "color": [
             38.61272328375029,
             47.26240330342385,
             62.14409518325409
            ],
            "coloraxis": "coloraxis",
            "size": [
             5,
             5,
             5
            ],
            "sizemode": "area",
            "sizeref": 0.025
           },
           "mode": "markers",
           "name": "",
           "showlegend": false,
           "subplot": "mapbox",
           "type": "scattermapbox"
          }
         ],
         "name": "2024-08-20 00:00:00"
        },
        {
         "data": [
          {
           "hovertemplate": "<b>%{hovertext}</b><br><br>ds=2024-08-21 00:00:00<br>size=%{marker.size}<br>lat=%{lat}<br>lng=%{lon}<br>satur=%{marker.color}<extra></extra>",
           "hovertext": [
            "BOULEVARD VICTOR",
            "PORTE D'AUTEUIL",
            "PORTE DE SAINT-CLOUD"
           ],
           "lat": [
            48.839364,
            48.847677,
            48.8380119
           ],
           "legendgroup": "",
           "lon": [
            2.2704847,
            2.2579853,
            2.2569927
           ],
           "marker": {
            "color": [
             40.11122195167374,
             48.08521086581787,
             64.1505320641437
            ],
            "coloraxis": "coloraxis",
            "size": [
             5,
             5,
             5
            ],
            "sizemode": "area",
            "sizeref": 0.025
           },
           "mode": "markers",
           "name": "",
           "showlegend": false,
           "subplot": "mapbox",
           "type": "scattermapbox"
          }
         ],
         "name": "2024-08-21 00:00:00"
        },
        {
         "data": [
          {
           "hovertemplate": "<b>%{hovertext}</b><br><br>ds=2024-08-22 00:00:00<br>size=%{marker.size}<br>lat=%{lat}<br>lng=%{lon}<br>satur=%{marker.color}<extra></extra>",
           "hovertext": [
            "BOULEVARD VICTOR",
            "PORTE D'AUTEUIL",
            "PORTE DE SAINT-CLOUD"
           ],
           "lat": [
            48.839364,
            48.847677,
            48.8380119
           ],
           "legendgroup": "",
           "lon": [
            2.2704847,
            2.2579853,
            2.2569927
           ],
           "marker": {
            "color": [
             39.349016385865674,
             46.02478389974967,
             62.25498611024176
            ],
            "coloraxis": "coloraxis",
            "size": [
             5,
             5,
             5
            ],
            "sizemode": "area",
            "sizeref": 0.025
           },
           "mode": "markers",
           "name": "",
           "showlegend": false,
           "subplot": "mapbox",
           "type": "scattermapbox"
          }
         ],
         "name": "2024-08-22 00:00:00"
        },
        {
         "data": [
          {
           "hovertemplate": "<b>%{hovertext}</b><br><br>ds=2024-08-23 00:00:00<br>size=%{marker.size}<br>lat=%{lat}<br>lng=%{lon}<br>satur=%{marker.color}<extra></extra>",
           "hovertext": [
            "BOULEVARD VICTOR",
            "PORTE D'AUTEUIL",
            "PORTE DE SAINT-CLOUD"
           ],
           "lat": [
            48.839364,
            48.847677,
            48.8380119
           ],
           "legendgroup": "",
           "lon": [
            2.2704847,
            2.2579853,
            2.2569927
           ],
           "marker": {
            "color": [
             39.313920058408286,
             48.23930268670246,
             63.98516298202973
            ],
            "coloraxis": "coloraxis",
            "size": [
             5,
             5,
             5
            ],
            "sizemode": "area",
            "sizeref": 0.025
           },
           "mode": "markers",
           "name": "",
           "showlegend": false,
           "subplot": "mapbox",
           "type": "scattermapbox"
          }
         ],
         "name": "2024-08-23 00:00:00"
        },
        {
         "data": [
          {
           "hovertemplate": "<b>%{hovertext}</b><br><br>ds=2024-08-24 00:00:00<br>size=%{marker.size}<br>lat=%{lat}<br>lng=%{lon}<br>satur=%{marker.color}<extra></extra>",
           "hovertext": [
            "BOULEVARD VICTOR",
            "PORTE D'AUTEUIL",
            "PORTE DE SAINT-CLOUD"
           ],
           "lat": [
            48.839364,
            48.847677,
            48.8380119
           ],
           "legendgroup": "",
           "lon": [
            2.2704847,
            2.2579853,
            2.2569927
           ],
           "marker": {
            "color": [
             19.286005631053573,
             41.86976719357126,
             46.37136595891794
            ],
            "coloraxis": "coloraxis",
            "size": [
             5,
             5,
             5
            ],
            "sizemode": "area",
            "sizeref": 0.025
           },
           "mode": "markers",
           "name": "",
           "showlegend": false,
           "subplot": "mapbox",
           "type": "scattermapbox"
          }
         ],
         "name": "2024-08-24 00:00:00"
        },
        {
         "data": [
          {
           "hovertemplate": "<b>%{hovertext}</b><br><br>ds=2024-08-25 00:00:00<br>size=%{marker.size}<br>lat=%{lat}<br>lng=%{lon}<br>satur=%{marker.color}<extra></extra>",
           "hovertext": [
            "BOULEVARD VICTOR",
            "PORTE D'AUTEUIL",
            "PORTE DE SAINT-CLOUD"
           ],
           "lat": [
            48.839364,
            48.847677,
            48.8380119
           ],
           "legendgroup": "",
           "lon": [
            2.2704847,
            2.2579853,
            2.2569927
           ],
           "marker": {
            "color": [
             16.233167240584805,
             36.10807647987046,
             44.02298306781876
            ],
            "coloraxis": "coloraxis",
            "size": [
             5,
             5,
             5
            ],
            "sizemode": "area",
            "sizeref": 0.025
           },
           "mode": "markers",
           "name": "",
           "showlegend": false,
           "subplot": "mapbox",
           "type": "scattermapbox"
          }
         ],
         "name": "2024-08-25 00:00:00"
        },
        {
         "data": [
          {
           "hovertemplate": "<b>%{hovertext}</b><br><br>ds=2024-08-26 00:00:00<br>size=%{marker.size}<br>lat=%{lat}<br>lng=%{lon}<br>satur=%{marker.color}<extra></extra>",
           "hovertext": [
            "BOULEVARD VICTOR",
            "PORTE D'AUTEUIL",
            "PORTE DE SAINT-CLOUD"
           ],
           "lat": [
            48.839364,
            48.847677,
            48.8380119
           ],
           "legendgroup": "",
           "lon": [
            2.2704847,
            2.2579853,
            2.2569927
           ],
           "marker": {
            "color": [
             42.51748007988977,
             48.70884186701507,
             63.14553123243836
            ],
            "coloraxis": "coloraxis",
            "size": [
             5,
             5,
             5
            ],
            "sizemode": "area",
            "sizeref": 0.025
           },
           "mode": "markers",
           "name": "",
           "showlegend": false,
           "subplot": "mapbox",
           "type": "scattermapbox"
          }
         ],
         "name": "2024-08-26 00:00:00"
        },
        {
         "data": [
          {
           "hovertemplate": "<b>%{hovertext}</b><br><br>ds=2024-08-27 00:00:00<br>size=%{marker.size}<br>lat=%{lat}<br>lng=%{lon}<br>satur=%{marker.color}<extra></extra>",
           "hovertext": [
            "BOULEVARD VICTOR",
            "PORTE D'AUTEUIL",
            "PORTE DE SAINT-CLOUD"
           ],
           "lat": [
            48.839364,
            48.847677,
            48.8380119
           ],
           "legendgroup": "",
           "lon": [
            2.2704847,
            2.2579853,
            2.2569927
           ],
           "marker": {
            "color": [
             43.424225222488964,
             50.36498004972157,
             64.84084303880576
            ],
            "coloraxis": "coloraxis",
            "size": [
             5,
             5,
             5
            ],
            "sizemode": "area",
            "sizeref": 0.025
           },
           "mode": "markers",
           "name": "",
           "showlegend": false,
           "subplot": "mapbox",
           "type": "scattermapbox"
          }
         ],
         "name": "2024-08-27 00:00:00"
        },
        {
         "data": [
          {
           "hovertemplate": "<b>%{hovertext}</b><br><br>ds=2024-08-28 00:00:00<br>size=%{marker.size}<br>lat=%{lat}<br>lng=%{lon}<br>satur=%{marker.color}<extra></extra>",
           "hovertext": [
            "BOULEVARD VICTOR",
            "PORTE D'AUTEUIL",
            "PORTE DE SAINT-CLOUD"
           ],
           "lat": [
            48.839364,
            48.847677,
            48.8380119
           ],
           "legendgroup": "",
           "lon": [
            2.2704847,
            2.2579853,
            2.2569927
           ],
           "marker": {
            "color": [
             46.11576724496474,
             52.487073250734696,
             67.63478900084607
            ],
            "coloraxis": "coloraxis",
            "size": [
             5,
             5,
             5
            ],
            "sizemode": "area",
            "sizeref": 0.025
           },
           "mode": "markers",
           "name": "",
           "showlegend": false,
           "subplot": "mapbox",
           "type": "scattermapbox"
          }
         ],
         "name": "2024-08-28 00:00:00"
        },
        {
         "data": [
          {
           "hovertemplate": "<b>%{hovertext}</b><br><br>ds=2024-08-29 00:00:00<br>size=%{marker.size}<br>lat=%{lat}<br>lng=%{lon}<br>satur=%{marker.color}<extra></extra>",
           "hovertext": [
            "BOULEVARD VICTOR",
            "PORTE D'AUTEUIL",
            "PORTE DE SAINT-CLOUD"
           ],
           "lat": [
            48.839364,
            48.847677,
            48.8380119
           ],
           "legendgroup": "",
           "lon": [
            2.2704847,
            2.2579853,
            2.2569927
           ],
           "marker": {
            "color": [
             46.213509380107546,
             51.416566777372694,
             66.3008247927104
            ],
            "coloraxis": "coloraxis",
            "size": [
             5,
             5,
             5
            ],
            "sizemode": "area",
            "sizeref": 0.025
           },
           "mode": "markers",
           "name": "",
           "showlegend": false,
           "subplot": "mapbox",
           "type": "scattermapbox"
          }
         ],
         "name": "2024-08-29 00:00:00"
        },
        {
         "data": [
          {
           "hovertemplate": "<b>%{hovertext}</b><br><br>ds=2024-08-30 00:00:00<br>size=%{marker.size}<br>lat=%{lat}<br>lng=%{lon}<br>satur=%{marker.color}<extra></extra>",
           "hovertext": [
            "BOULEVARD VICTOR",
            "PORTE D'AUTEUIL",
            "PORTE DE SAINT-CLOUD"
           ],
           "lat": [
            48.839364,
            48.847677,
            48.8380119
           ],
           "legendgroup": "",
           "lon": [
            2.2704847,
            2.2579853,
            2.2569927
           ],
           "marker": {
            "color": [
             47.1108245558999,
             55.07898327327025,
             68.79918737398845
            ],
            "coloraxis": "coloraxis",
            "size": [
             5,
             5,
             5
            ],
            "sizemode": "area",
            "sizeref": 0.025
           },
           "mode": "markers",
           "name": "",
           "showlegend": false,
           "subplot": "mapbox",
           "type": "scattermapbox"
          }
         ],
         "name": "2024-08-30 00:00:00"
        },
        {
         "data": [
          {
           "hovertemplate": "<b>%{hovertext}</b><br><br>ds=2024-08-31 00:00:00<br>size=%{marker.size}<br>lat=%{lat}<br>lng=%{lon}<br>satur=%{marker.color}<extra></extra>",
           "hovertext": [
            "BOULEVARD VICTOR",
            "PORTE D'AUTEUIL",
            "PORTE DE SAINT-CLOUD"
           ],
           "lat": [
            48.839364,
            48.847677,
            48.8380119
           ],
           "legendgroup": "",
           "lon": [
            2.2704847,
            2.2579853,
            2.2569927
           ],
           "marker": {
            "color": [
             23.54334830439617,
             48.768158809858996,
             50.30719862714561
            ],
            "coloraxis": "coloraxis",
            "size": [
             5,
             5,
             5
            ],
            "sizemode": "area",
            "sizeref": 0.025
           },
           "mode": "markers",
           "name": "",
           "showlegend": false,
           "subplot": "mapbox",
           "type": "scattermapbox"
          }
         ],
         "name": "2024-08-31 00:00:00"
        }
       ],
       "layout": {
        "coloraxis": {
         "cmax": 153.62267974438893,
         "cmin": 0,
         "colorbar": {
          "title": {
           "text": "satur"
          }
         },
         "colorscale": [
          [
           0,
           "rgb(0,0,255)"
          ],
          [
           1,
           "rgb(255,0,0)"
          ]
         ]
        },
        "height": 650,
        "legend": {
         "itemsizing": "constant",
         "tracegroupgap": 0,
         "x": 0.1,
         "y": 1
        },
        "mapbox": {
         "center": {
          "lat": 48.84168429999999,
          "lon": 2.2618209000000005
         },
         "domain": {
          "x": [
           0,
           1
          ],
          "y": [
           0,
           1
          ]
         },
         "style": "carto-positron",
         "zoom": 12
        },
        "sliders": [
         {
          "active": 0,
          "currentvalue": {
           "prefix": "ds="
          },
          "len": 0.9,
          "pad": {
           "b": 10,
           "t": 60
          },
          "steps": [
           {
            "args": [
             [
              "2024-07-01 00:00:00"
             ],
             {
              "frame": {
               "duration": 0,
               "redraw": true
              },
              "fromcurrent": true,
              "mode": "immediate",
              "transition": {
               "duration": 0,
               "easing": "linear"
              }
             }
            ],
            "label": "2024-07-01 00:00:00",
            "method": "animate"
           },
           {
            "args": [
             [
              "2024-07-02 00:00:00"
             ],
             {
              "frame": {
               "duration": 0,
               "redraw": true
              },
              "fromcurrent": true,
              "mode": "immediate",
              "transition": {
               "duration": 0,
               "easing": "linear"
              }
             }
            ],
            "label": "2024-07-02 00:00:00",
            "method": "animate"
           },
           {
            "args": [
             [
              "2024-07-03 00:00:00"
             ],
             {
              "frame": {
               "duration": 0,
               "redraw": true
              },
              "fromcurrent": true,
              "mode": "immediate",
              "transition": {
               "duration": 0,
               "easing": "linear"
              }
             }
            ],
            "label": "2024-07-03 00:00:00",
            "method": "animate"
           },
           {
            "args": [
             [
              "2024-07-04 00:00:00"
             ],
             {
              "frame": {
               "duration": 0,
               "redraw": true
              },
              "fromcurrent": true,
              "mode": "immediate",
              "transition": {
               "duration": 0,
               "easing": "linear"
              }
             }
            ],
            "label": "2024-07-04 00:00:00",
            "method": "animate"
           },
           {
            "args": [
             [
              "2024-07-05 00:00:00"
             ],
             {
              "frame": {
               "duration": 0,
               "redraw": true
              },
              "fromcurrent": true,
              "mode": "immediate",
              "transition": {
               "duration": 0,
               "easing": "linear"
              }
             }
            ],
            "label": "2024-07-05 00:00:00",
            "method": "animate"
           },
           {
            "args": [
             [
              "2024-07-06 00:00:00"
             ],
             {
              "frame": {
               "duration": 0,
               "redraw": true
              },
              "fromcurrent": true,
              "mode": "immediate",
              "transition": {
               "duration": 0,
               "easing": "linear"
              }
             }
            ],
            "label": "2024-07-06 00:00:00",
            "method": "animate"
           },
           {
            "args": [
             [
              "2024-07-07 00:00:00"
             ],
             {
              "frame": {
               "duration": 0,
               "redraw": true
              },
              "fromcurrent": true,
              "mode": "immediate",
              "transition": {
               "duration": 0,
               "easing": "linear"
              }
             }
            ],
            "label": "2024-07-07 00:00:00",
            "method": "animate"
           },
           {
            "args": [
             [
              "2024-07-08 00:00:00"
             ],
             {
              "frame": {
               "duration": 0,
               "redraw": true
              },
              "fromcurrent": true,
              "mode": "immediate",
              "transition": {
               "duration": 0,
               "easing": "linear"
              }
             }
            ],
            "label": "2024-07-08 00:00:00",
            "method": "animate"
           },
           {
            "args": [
             [
              "2024-07-09 00:00:00"
             ],
             {
              "frame": {
               "duration": 0,
               "redraw": true
              },
              "fromcurrent": true,
              "mode": "immediate",
              "transition": {
               "duration": 0,
               "easing": "linear"
              }
             }
            ],
            "label": "2024-07-09 00:00:00",
            "method": "animate"
           },
           {
            "args": [
             [
              "2024-07-10 00:00:00"
             ],
             {
              "frame": {
               "duration": 0,
               "redraw": true
              },
              "fromcurrent": true,
              "mode": "immediate",
              "transition": {
               "duration": 0,
               "easing": "linear"
              }
             }
            ],
            "label": "2024-07-10 00:00:00",
            "method": "animate"
           },
           {
            "args": [
             [
              "2024-07-11 00:00:00"
             ],
             {
              "frame": {
               "duration": 0,
               "redraw": true
              },
              "fromcurrent": true,
              "mode": "immediate",
              "transition": {
               "duration": 0,
               "easing": "linear"
              }
             }
            ],
            "label": "2024-07-11 00:00:00",
            "method": "animate"
           },
           {
            "args": [
             [
              "2024-07-12 00:00:00"
             ],
             {
              "frame": {
               "duration": 0,
               "redraw": true
              },
              "fromcurrent": true,
              "mode": "immediate",
              "transition": {
               "duration": 0,
               "easing": "linear"
              }
             }
            ],
            "label": "2024-07-12 00:00:00",
            "method": "animate"
           },
           {
            "args": [
             [
              "2024-07-13 00:00:00"
             ],
             {
              "frame": {
               "duration": 0,
               "redraw": true
              },
              "fromcurrent": true,
              "mode": "immediate",
              "transition": {
               "duration": 0,
               "easing": "linear"
              }
             }
            ],
            "label": "2024-07-13 00:00:00",
            "method": "animate"
           },
           {
            "args": [
             [
              "2024-07-14 00:00:00"
             ],
             {
              "frame": {
               "duration": 0,
               "redraw": true
              },
              "fromcurrent": true,
              "mode": "immediate",
              "transition": {
               "duration": 0,
               "easing": "linear"
              }
             }
            ],
            "label": "2024-07-14 00:00:00",
            "method": "animate"
           },
           {
            "args": [
             [
              "2024-07-15 00:00:00"
             ],
             {
              "frame": {
               "duration": 0,
               "redraw": true
              },
              "fromcurrent": true,
              "mode": "immediate",
              "transition": {
               "duration": 0,
               "easing": "linear"
              }
             }
            ],
            "label": "2024-07-15 00:00:00",
            "method": "animate"
           },
           {
            "args": [
             [
              "2024-07-16 00:00:00"
             ],
             {
              "frame": {
               "duration": 0,
               "redraw": true
              },
              "fromcurrent": true,
              "mode": "immediate",
              "transition": {
               "duration": 0,
               "easing": "linear"
              }
             }
            ],
            "label": "2024-07-16 00:00:00",
            "method": "animate"
           },
           {
            "args": [
             [
              "2024-07-17 00:00:00"
             ],
             {
              "frame": {
               "duration": 0,
               "redraw": true
              },
              "fromcurrent": true,
              "mode": "immediate",
              "transition": {
               "duration": 0,
               "easing": "linear"
              }
             }
            ],
            "label": "2024-07-17 00:00:00",
            "method": "animate"
           },
           {
            "args": [
             [
              "2024-07-18 00:00:00"
             ],
             {
              "frame": {
               "duration": 0,
               "redraw": true
              },
              "fromcurrent": true,
              "mode": "immediate",
              "transition": {
               "duration": 0,
               "easing": "linear"
              }
             }
            ],
            "label": "2024-07-18 00:00:00",
            "method": "animate"
           },
           {
            "args": [
             [
              "2024-07-19 00:00:00"
             ],
             {
              "frame": {
               "duration": 0,
               "redraw": true
              },
              "fromcurrent": true,
              "mode": "immediate",
              "transition": {
               "duration": 0,
               "easing": "linear"
              }
             }
            ],
            "label": "2024-07-19 00:00:00",
            "method": "animate"
           },
           {
            "args": [
             [
              "2024-07-20 00:00:00"
             ],
             {
              "frame": {
               "duration": 0,
               "redraw": true
              },
              "fromcurrent": true,
              "mode": "immediate",
              "transition": {
               "duration": 0,
               "easing": "linear"
              }
             }
            ],
            "label": "2024-07-20 00:00:00",
            "method": "animate"
           },
           {
            "args": [
             [
              "2024-07-21 00:00:00"
             ],
             {
              "frame": {
               "duration": 0,
               "redraw": true
              },
              "fromcurrent": true,
              "mode": "immediate",
              "transition": {
               "duration": 0,
               "easing": "linear"
              }
             }
            ],
            "label": "2024-07-21 00:00:00",
            "method": "animate"
           },
           {
            "args": [
             [
              "2024-07-22 00:00:00"
             ],
             {
              "frame": {
               "duration": 0,
               "redraw": true
              },
              "fromcurrent": true,
              "mode": "immediate",
              "transition": {
               "duration": 0,
               "easing": "linear"
              }
             }
            ],
            "label": "2024-07-22 00:00:00",
            "method": "animate"
           },
           {
            "args": [
             [
              "2024-07-23 00:00:00"
             ],
             {
              "frame": {
               "duration": 0,
               "redraw": true
              },
              "fromcurrent": true,
              "mode": "immediate",
              "transition": {
               "duration": 0,
               "easing": "linear"
              }
             }
            ],
            "label": "2024-07-23 00:00:00",
            "method": "animate"
           },
           {
            "args": [
             [
              "2024-07-24 00:00:00"
             ],
             {
              "frame": {
               "duration": 0,
               "redraw": true
              },
              "fromcurrent": true,
              "mode": "immediate",
              "transition": {
               "duration": 0,
               "easing": "linear"
              }
             }
            ],
            "label": "2024-07-24 00:00:00",
            "method": "animate"
           },
           {
            "args": [
             [
              "2024-07-25 00:00:00"
             ],
             {
              "frame": {
               "duration": 0,
               "redraw": true
              },
              "fromcurrent": true,
              "mode": "immediate",
              "transition": {
               "duration": 0,
               "easing": "linear"
              }
             }
            ],
            "label": "2024-07-25 00:00:00",
            "method": "animate"
           },
           {
            "args": [
             [
              "2024-07-26 00:00:00"
             ],
             {
              "frame": {
               "duration": 0,
               "redraw": true
              },
              "fromcurrent": true,
              "mode": "immediate",
              "transition": {
               "duration": 0,
               "easing": "linear"
              }
             }
            ],
            "label": "2024-07-26 00:00:00",
            "method": "animate"
           },
           {
            "args": [
             [
              "2024-07-27 00:00:00"
             ],
             {
              "frame": {
               "duration": 0,
               "redraw": true
              },
              "fromcurrent": true,
              "mode": "immediate",
              "transition": {
               "duration": 0,
               "easing": "linear"
              }
             }
            ],
            "label": "2024-07-27 00:00:00",
            "method": "animate"
           },
           {
            "args": [
             [
              "2024-07-28 00:00:00"
             ],
             {
              "frame": {
               "duration": 0,
               "redraw": true
              },
              "fromcurrent": true,
              "mode": "immediate",
              "transition": {
               "duration": 0,
               "easing": "linear"
              }
             }
            ],
            "label": "2024-07-28 00:00:00",
            "method": "animate"
           },
           {
            "args": [
             [
              "2024-07-29 00:00:00"
             ],
             {
              "frame": {
               "duration": 0,
               "redraw": true
              },
              "fromcurrent": true,
              "mode": "immediate",
              "transition": {
               "duration": 0,
               "easing": "linear"
              }
             }
            ],
            "label": "2024-07-29 00:00:00",
            "method": "animate"
           },
           {
            "args": [
             [
              "2024-07-30 00:00:00"
             ],
             {
              "frame": {
               "duration": 0,
               "redraw": true
              },
              "fromcurrent": true,
              "mode": "immediate",
              "transition": {
               "duration": 0,
               "easing": "linear"
              }
             }
            ],
            "label": "2024-07-30 00:00:00",
            "method": "animate"
           },
           {
            "args": [
             [
              "2024-07-31 00:00:00"
             ],
             {
              "frame": {
               "duration": 0,
               "redraw": true
              },
              "fromcurrent": true,
              "mode": "immediate",
              "transition": {
               "duration": 0,
               "easing": "linear"
              }
             }
            ],
            "label": "2024-07-31 00:00:00",
            "method": "animate"
           },
           {
            "args": [
             [
              "2024-08-01 00:00:00"
             ],
             {
              "frame": {
               "duration": 0,
               "redraw": true
              },
              "fromcurrent": true,
              "mode": "immediate",
              "transition": {
               "duration": 0,
               "easing": "linear"
              }
             }
            ],
            "label": "2024-08-01 00:00:00",
            "method": "animate"
           },
           {
            "args": [
             [
              "2024-08-02 00:00:00"
             ],
             {
              "frame": {
               "duration": 0,
               "redraw": true
              },
              "fromcurrent": true,
              "mode": "immediate",
              "transition": {
               "duration": 0,
               "easing": "linear"
              }
             }
            ],
            "label": "2024-08-02 00:00:00",
            "method": "animate"
           },
           {
            "args": [
             [
              "2024-08-03 00:00:00"
             ],
             {
              "frame": {
               "duration": 0,
               "redraw": true
              },
              "fromcurrent": true,
              "mode": "immediate",
              "transition": {
               "duration": 0,
               "easing": "linear"
              }
             }
            ],
            "label": "2024-08-03 00:00:00",
            "method": "animate"
           },
           {
            "args": [
             [
              "2024-08-04 00:00:00"
             ],
             {
              "frame": {
               "duration": 0,
               "redraw": true
              },
              "fromcurrent": true,
              "mode": "immediate",
              "transition": {
               "duration": 0,
               "easing": "linear"
              }
             }
            ],
            "label": "2024-08-04 00:00:00",
            "method": "animate"
           },
           {
            "args": [
             [
              "2024-08-05 00:00:00"
             ],
             {
              "frame": {
               "duration": 0,
               "redraw": true
              },
              "fromcurrent": true,
              "mode": "immediate",
              "transition": {
               "duration": 0,
               "easing": "linear"
              }
             }
            ],
            "label": "2024-08-05 00:00:00",
            "method": "animate"
           },
           {
            "args": [
             [
              "2024-08-06 00:00:00"
             ],
             {
              "frame": {
               "duration": 0,
               "redraw": true
              },
              "fromcurrent": true,
              "mode": "immediate",
              "transition": {
               "duration": 0,
               "easing": "linear"
              }
             }
            ],
            "label": "2024-08-06 00:00:00",
            "method": "animate"
           },
           {
            "args": [
             [
              "2024-08-07 00:00:00"
             ],
             {
              "frame": {
               "duration": 0,
               "redraw": true
              },
              "fromcurrent": true,
              "mode": "immediate",
              "transition": {
               "duration": 0,
               "easing": "linear"
              }
             }
            ],
            "label": "2024-08-07 00:00:00",
            "method": "animate"
           },
           {
            "args": [
             [
              "2024-08-08 00:00:00"
             ],
             {
              "frame": {
               "duration": 0,
               "redraw": true
              },
              "fromcurrent": true,
              "mode": "immediate",
              "transition": {
               "duration": 0,
               "easing": "linear"
              }
             }
            ],
            "label": "2024-08-08 00:00:00",
            "method": "animate"
           },
           {
            "args": [
             [
              "2024-08-09 00:00:00"
             ],
             {
              "frame": {
               "duration": 0,
               "redraw": true
              },
              "fromcurrent": true,
              "mode": "immediate",
              "transition": {
               "duration": 0,
               "easing": "linear"
              }
             }
            ],
            "label": "2024-08-09 00:00:00",
            "method": "animate"
           },
           {
            "args": [
             [
              "2024-08-10 00:00:00"
             ],
             {
              "frame": {
               "duration": 0,
               "redraw": true
              },
              "fromcurrent": true,
              "mode": "immediate",
              "transition": {
               "duration": 0,
               "easing": "linear"
              }
             }
            ],
            "label": "2024-08-10 00:00:00",
            "method": "animate"
           },
           {
            "args": [
             [
              "2024-08-11 00:00:00"
             ],
             {
              "frame": {
               "duration": 0,
               "redraw": true
              },
              "fromcurrent": true,
              "mode": "immediate",
              "transition": {
               "duration": 0,
               "easing": "linear"
              }
             }
            ],
            "label": "2024-08-11 00:00:00",
            "method": "animate"
           },
           {
            "args": [
             [
              "2024-08-12 00:00:00"
             ],
             {
              "frame": {
               "duration": 0,
               "redraw": true
              },
              "fromcurrent": true,
              "mode": "immediate",
              "transition": {
               "duration": 0,
               "easing": "linear"
              }
             }
            ],
            "label": "2024-08-12 00:00:00",
            "method": "animate"
           },
           {
            "args": [
             [
              "2024-08-13 00:00:00"
             ],
             {
              "frame": {
               "duration": 0,
               "redraw": true
              },
              "fromcurrent": true,
              "mode": "immediate",
              "transition": {
               "duration": 0,
               "easing": "linear"
              }
             }
            ],
            "label": "2024-08-13 00:00:00",
            "method": "animate"
           },
           {
            "args": [
             [
              "2024-08-14 00:00:00"
             ],
             {
              "frame": {
               "duration": 0,
               "redraw": true
              },
              "fromcurrent": true,
              "mode": "immediate",
              "transition": {
               "duration": 0,
               "easing": "linear"
              }
             }
            ],
            "label": "2024-08-14 00:00:00",
            "method": "animate"
           },
           {
            "args": [
             [
              "2024-08-15 00:00:00"
             ],
             {
              "frame": {
               "duration": 0,
               "redraw": true
              },
              "fromcurrent": true,
              "mode": "immediate",
              "transition": {
               "duration": 0,
               "easing": "linear"
              }
             }
            ],
            "label": "2024-08-15 00:00:00",
            "method": "animate"
           },
           {
            "args": [
             [
              "2024-08-16 00:00:00"
             ],
             {
              "frame": {
               "duration": 0,
               "redraw": true
              },
              "fromcurrent": true,
              "mode": "immediate",
              "transition": {
               "duration": 0,
               "easing": "linear"
              }
             }
            ],
            "label": "2024-08-16 00:00:00",
            "method": "animate"
           },
           {
            "args": [
             [
              "2024-08-17 00:00:00"
             ],
             {
              "frame": {
               "duration": 0,
               "redraw": true
              },
              "fromcurrent": true,
              "mode": "immediate",
              "transition": {
               "duration": 0,
               "easing": "linear"
              }
             }
            ],
            "label": "2024-08-17 00:00:00",
            "method": "animate"
           },
           {
            "args": [
             [
              "2024-08-18 00:00:00"
             ],
             {
              "frame": {
               "duration": 0,
               "redraw": true
              },
              "fromcurrent": true,
              "mode": "immediate",
              "transition": {
               "duration": 0,
               "easing": "linear"
              }
             }
            ],
            "label": "2024-08-18 00:00:00",
            "method": "animate"
           },
           {
            "args": [
             [
              "2024-08-19 00:00:00"
             ],
             {
              "frame": {
               "duration": 0,
               "redraw": true
              },
              "fromcurrent": true,
              "mode": "immediate",
              "transition": {
               "duration": 0,
               "easing": "linear"
              }
             }
            ],
            "label": "2024-08-19 00:00:00",
            "method": "animate"
           },
           {
            "args": [
             [
              "2024-08-20 00:00:00"
             ],
             {
              "frame": {
               "duration": 0,
               "redraw": true
              },
              "fromcurrent": true,
              "mode": "immediate",
              "transition": {
               "duration": 0,
               "easing": "linear"
              }
             }
            ],
            "label": "2024-08-20 00:00:00",
            "method": "animate"
           },
           {
            "args": [
             [
              "2024-08-21 00:00:00"
             ],
             {
              "frame": {
               "duration": 0,
               "redraw": true
              },
              "fromcurrent": true,
              "mode": "immediate",
              "transition": {
               "duration": 0,
               "easing": "linear"
              }
             }
            ],
            "label": "2024-08-21 00:00:00",
            "method": "animate"
           },
           {
            "args": [
             [
              "2024-08-22 00:00:00"
             ],
             {
              "frame": {
               "duration": 0,
               "redraw": true
              },
              "fromcurrent": true,
              "mode": "immediate",
              "transition": {
               "duration": 0,
               "easing": "linear"
              }
             }
            ],
            "label": "2024-08-22 00:00:00",
            "method": "animate"
           },
           {
            "args": [
             [
              "2024-08-23 00:00:00"
             ],
             {
              "frame": {
               "duration": 0,
               "redraw": true
              },
              "fromcurrent": true,
              "mode": "immediate",
              "transition": {
               "duration": 0,
               "easing": "linear"
              }
             }
            ],
            "label": "2024-08-23 00:00:00",
            "method": "animate"
           },
           {
            "args": [
             [
              "2024-08-24 00:00:00"
             ],
             {
              "frame": {
               "duration": 0,
               "redraw": true
              },
              "fromcurrent": true,
              "mode": "immediate",
              "transition": {
               "duration": 0,
               "easing": "linear"
              }
             }
            ],
            "label": "2024-08-24 00:00:00",
            "method": "animate"
           },
           {
            "args": [
             [
              "2024-08-25 00:00:00"
             ],
             {
              "frame": {
               "duration": 0,
               "redraw": true
              },
              "fromcurrent": true,
              "mode": "immediate",
              "transition": {
               "duration": 0,
               "easing": "linear"
              }
             }
            ],
            "label": "2024-08-25 00:00:00",
            "method": "animate"
           },
           {
            "args": [
             [
              "2024-08-26 00:00:00"
             ],
             {
              "frame": {
               "duration": 0,
               "redraw": true
              },
              "fromcurrent": true,
              "mode": "immediate",
              "transition": {
               "duration": 0,
               "easing": "linear"
              }
             }
            ],
            "label": "2024-08-26 00:00:00",
            "method": "animate"
           },
           {
            "args": [
             [
              "2024-08-27 00:00:00"
             ],
             {
              "frame": {
               "duration": 0,
               "redraw": true
              },
              "fromcurrent": true,
              "mode": "immediate",
              "transition": {
               "duration": 0,
               "easing": "linear"
              }
             }
            ],
            "label": "2024-08-27 00:00:00",
            "method": "animate"
           },
           {
            "args": [
             [
              "2024-08-28 00:00:00"
             ],
             {
              "frame": {
               "duration": 0,
               "redraw": true
              },
              "fromcurrent": true,
              "mode": "immediate",
              "transition": {
               "duration": 0,
               "easing": "linear"
              }
             }
            ],
            "label": "2024-08-28 00:00:00",
            "method": "animate"
           },
           {
            "args": [
             [
              "2024-08-29 00:00:00"
             ],
             {
              "frame": {
               "duration": 0,
               "redraw": true
              },
              "fromcurrent": true,
              "mode": "immediate",
              "transition": {
               "duration": 0,
               "easing": "linear"
              }
             }
            ],
            "label": "2024-08-29 00:00:00",
            "method": "animate"
           },
           {
            "args": [
             [
              "2024-08-30 00:00:00"
             ],
             {
              "frame": {
               "duration": 0,
               "redraw": true
              },
              "fromcurrent": true,
              "mode": "immediate",
              "transition": {
               "duration": 0,
               "easing": "linear"
              }
             }
            ],
            "label": "2024-08-30 00:00:00",
            "method": "animate"
           },
           {
            "args": [
             [
              "2024-08-31 00:00:00"
             ],
             {
              "frame": {
               "duration": 0,
               "redraw": true
              },
              "fromcurrent": true,
              "mode": "immediate",
              "transition": {
               "duration": 0,
               "easing": "linear"
              }
             }
            ],
            "label": "2024-08-31 00:00:00",
            "method": "animate"
           }
          ],
          "x": 0.1,
          "xanchor": "left",
          "y": 0,
          "yanchor": "top"
         }
        ],
        "template": {
         "data": {
          "bar": [
           {
            "error_x": {
             "color": "#2a3f5f"
            },
            "error_y": {
             "color": "#2a3f5f"
            },
            "marker": {
             "line": {
              "color": "#E5ECF6",
              "width": 0.5
             },
             "pattern": {
              "fillmode": "overlay",
              "size": 10,
              "solidity": 0.2
             }
            },
            "type": "bar"
           }
          ],
          "barpolar": [
           {
            "marker": {
             "line": {
              "color": "#E5ECF6",
              "width": 0.5
             },
             "pattern": {
              "fillmode": "overlay",
              "size": 10,
              "solidity": 0.2
             }
            },
            "type": "barpolar"
           }
          ],
          "carpet": [
           {
            "aaxis": {
             "endlinecolor": "#2a3f5f",
             "gridcolor": "white",
             "linecolor": "white",
             "minorgridcolor": "white",
             "startlinecolor": "#2a3f5f"
            },
            "baxis": {
             "endlinecolor": "#2a3f5f",
             "gridcolor": "white",
             "linecolor": "white",
             "minorgridcolor": "white",
             "startlinecolor": "#2a3f5f"
            },
            "type": "carpet"
           }
          ],
          "choropleth": [
           {
            "colorbar": {
             "outlinewidth": 0,
             "ticks": ""
            },
            "type": "choropleth"
           }
          ],
          "contour": [
           {
            "colorbar": {
             "outlinewidth": 0,
             "ticks": ""
            },
            "colorscale": [
             [
              0,
              "#0d0887"
             ],
             [
              0.1111111111111111,
              "#46039f"
             ],
             [
              0.2222222222222222,
              "#7201a8"
             ],
             [
              0.3333333333333333,
              "#9c179e"
             ],
             [
              0.4444444444444444,
              "#bd3786"
             ],
             [
              0.5555555555555556,
              "#d8576b"
             ],
             [
              0.6666666666666666,
              "#ed7953"
             ],
             [
              0.7777777777777778,
              "#fb9f3a"
             ],
             [
              0.8888888888888888,
              "#fdca26"
             ],
             [
              1,
              "#f0f921"
             ]
            ],
            "type": "contour"
           }
          ],
          "contourcarpet": [
           {
            "colorbar": {
             "outlinewidth": 0,
             "ticks": ""
            },
            "type": "contourcarpet"
           }
          ],
          "heatmap": [
           {
            "colorbar": {
             "outlinewidth": 0,
             "ticks": ""
            },
            "colorscale": [
             [
              0,
              "#0d0887"
             ],
             [
              0.1111111111111111,
              "#46039f"
             ],
             [
              0.2222222222222222,
              "#7201a8"
             ],
             [
              0.3333333333333333,
              "#9c179e"
             ],
             [
              0.4444444444444444,
              "#bd3786"
             ],
             [
              0.5555555555555556,
              "#d8576b"
             ],
             [
              0.6666666666666666,
              "#ed7953"
             ],
             [
              0.7777777777777778,
              "#fb9f3a"
             ],
             [
              0.8888888888888888,
              "#fdca26"
             ],
             [
              1,
              "#f0f921"
             ]
            ],
            "type": "heatmap"
           }
          ],
          "heatmapgl": [
           {
            "colorbar": {
             "outlinewidth": 0,
             "ticks": ""
            },
            "colorscale": [
             [
              0,
              "#0d0887"
             ],
             [
              0.1111111111111111,
              "#46039f"
             ],
             [
              0.2222222222222222,
              "#7201a8"
             ],
             [
              0.3333333333333333,
              "#9c179e"
             ],
             [
              0.4444444444444444,
              "#bd3786"
             ],
             [
              0.5555555555555556,
              "#d8576b"
             ],
             [
              0.6666666666666666,
              "#ed7953"
             ],
             [
              0.7777777777777778,
              "#fb9f3a"
             ],
             [
              0.8888888888888888,
              "#fdca26"
             ],
             [
              1,
              "#f0f921"
             ]
            ],
            "type": "heatmapgl"
           }
          ],
          "histogram": [
           {
            "marker": {
             "pattern": {
              "fillmode": "overlay",
              "size": 10,
              "solidity": 0.2
             }
            },
            "type": "histogram"
           }
          ],
          "histogram2d": [
           {
            "colorbar": {
             "outlinewidth": 0,
             "ticks": ""
            },
            "colorscale": [
             [
              0,
              "#0d0887"
             ],
             [
              0.1111111111111111,
              "#46039f"
             ],
             [
              0.2222222222222222,
              "#7201a8"
             ],
             [
              0.3333333333333333,
              "#9c179e"
             ],
             [
              0.4444444444444444,
              "#bd3786"
             ],
             [
              0.5555555555555556,
              "#d8576b"
             ],
             [
              0.6666666666666666,
              "#ed7953"
             ],
             [
              0.7777777777777778,
              "#fb9f3a"
             ],
             [
              0.8888888888888888,
              "#fdca26"
             ],
             [
              1,
              "#f0f921"
             ]
            ],
            "type": "histogram2d"
           }
          ],
          "histogram2dcontour": [
           {
            "colorbar": {
             "outlinewidth": 0,
             "ticks": ""
            },
            "colorscale": [
             [
              0,
              "#0d0887"
             ],
             [
              0.1111111111111111,
              "#46039f"
             ],
             [
              0.2222222222222222,
              "#7201a8"
             ],
             [
              0.3333333333333333,
              "#9c179e"
             ],
             [
              0.4444444444444444,
              "#bd3786"
             ],
             [
              0.5555555555555556,
              "#d8576b"
             ],
             [
              0.6666666666666666,
              "#ed7953"
             ],
             [
              0.7777777777777778,
              "#fb9f3a"
             ],
             [
              0.8888888888888888,
              "#fdca26"
             ],
             [
              1,
              "#f0f921"
             ]
            ],
            "type": "histogram2dcontour"
           }
          ],
          "mesh3d": [
           {
            "colorbar": {
             "outlinewidth": 0,
             "ticks": ""
            },
            "type": "mesh3d"
           }
          ],
          "parcoords": [
           {
            "line": {
             "colorbar": {
              "outlinewidth": 0,
              "ticks": ""
             }
            },
            "type": "parcoords"
           }
          ],
          "pie": [
           {
            "automargin": true,
            "type": "pie"
           }
          ],
          "scatter": [
           {
            "fillpattern": {
             "fillmode": "overlay",
             "size": 10,
             "solidity": 0.2
            },
            "type": "scatter"
           }
          ],
          "scatter3d": [
           {
            "line": {
             "colorbar": {
              "outlinewidth": 0,
              "ticks": ""
             }
            },
            "marker": {
             "colorbar": {
              "outlinewidth": 0,
              "ticks": ""
             }
            },
            "type": "scatter3d"
           }
          ],
          "scattercarpet": [
           {
            "marker": {
             "colorbar": {
              "outlinewidth": 0,
              "ticks": ""
             }
            },
            "type": "scattercarpet"
           }
          ],
          "scattergeo": [
           {
            "marker": {
             "colorbar": {
              "outlinewidth": 0,
              "ticks": ""
             }
            },
            "type": "scattergeo"
           }
          ],
          "scattergl": [
           {
            "marker": {
             "colorbar": {
              "outlinewidth": 0,
              "ticks": ""
             }
            },
            "type": "scattergl"
           }
          ],
          "scattermapbox": [
           {
            "marker": {
             "colorbar": {
              "outlinewidth": 0,
              "ticks": ""
             }
            },
            "type": "scattermapbox"
           }
          ],
          "scatterpolar": [
           {
            "marker": {
             "colorbar": {
              "outlinewidth": 0,
              "ticks": ""
             }
            },
            "type": "scatterpolar"
           }
          ],
          "scatterpolargl": [
           {
            "marker": {
             "colorbar": {
              "outlinewidth": 0,
              "ticks": ""
             }
            },
            "type": "scatterpolargl"
           }
          ],
          "scatterternary": [
           {
            "marker": {
             "colorbar": {
              "outlinewidth": 0,
              "ticks": ""
             }
            },
            "type": "scatterternary"
           }
          ],
          "surface": [
           {
            "colorbar": {
             "outlinewidth": 0,
             "ticks": ""
            },
            "colorscale": [
             [
              0,
              "#0d0887"
             ],
             [
              0.1111111111111111,
              "#46039f"
             ],
             [
              0.2222222222222222,
              "#7201a8"
             ],
             [
              0.3333333333333333,
              "#9c179e"
             ],
             [
              0.4444444444444444,
              "#bd3786"
             ],
             [
              0.5555555555555556,
              "#d8576b"
             ],
             [
              0.6666666666666666,
              "#ed7953"
             ],
             [
              0.7777777777777778,
              "#fb9f3a"
             ],
             [
              0.8888888888888888,
              "#fdca26"
             ],
             [
              1,
              "#f0f921"
             ]
            ],
            "type": "surface"
           }
          ],
          "table": [
           {
            "cells": {
             "fill": {
              "color": "#EBF0F8"
             },
             "line": {
              "color": "white"
             }
            },
            "header": {
             "fill": {
              "color": "#C8D4E3"
             },
             "line": {
              "color": "white"
             }
            },
            "type": "table"
           }
          ]
         },
         "layout": {
          "annotationdefaults": {
           "arrowcolor": "#2a3f5f",
           "arrowhead": 0,
           "arrowwidth": 1
          },
          "autotypenumbers": "strict",
          "coloraxis": {
           "colorbar": {
            "outlinewidth": 0,
            "ticks": ""
           }
          },
          "colorscale": {
           "diverging": [
            [
             0,
             "#8e0152"
            ],
            [
             0.1,
             "#c51b7d"
            ],
            [
             0.2,
             "#de77ae"
            ],
            [
             0.3,
             "#f1b6da"
            ],
            [
             0.4,
             "#fde0ef"
            ],
            [
             0.5,
             "#f7f7f7"
            ],
            [
             0.6,
             "#e6f5d0"
            ],
            [
             0.7,
             "#b8e186"
            ],
            [
             0.8,
             "#7fbc41"
            ],
            [
             0.9,
             "#4d9221"
            ],
            [
             1,
             "#276419"
            ]
           ],
           "sequential": [
            [
             0,
             "#0d0887"
            ],
            [
             0.1111111111111111,
             "#46039f"
            ],
            [
             0.2222222222222222,
             "#7201a8"
            ],
            [
             0.3333333333333333,
             "#9c179e"
            ],
            [
             0.4444444444444444,
             "#bd3786"
            ],
            [
             0.5555555555555556,
             "#d8576b"
            ],
            [
             0.6666666666666666,
             "#ed7953"
            ],
            [
             0.7777777777777778,
             "#fb9f3a"
            ],
            [
             0.8888888888888888,
             "#fdca26"
            ],
            [
             1,
             "#f0f921"
            ]
           ],
           "sequentialminus": [
            [
             0,
             "#0d0887"
            ],
            [
             0.1111111111111111,
             "#46039f"
            ],
            [
             0.2222222222222222,
             "#7201a8"
            ],
            [
             0.3333333333333333,
             "#9c179e"
            ],
            [
             0.4444444444444444,
             "#bd3786"
            ],
            [
             0.5555555555555556,
             "#d8576b"
            ],
            [
             0.6666666666666666,
             "#ed7953"
            ],
            [
             0.7777777777777778,
             "#fb9f3a"
            ],
            [
             0.8888888888888888,
             "#fdca26"
            ],
            [
             1,
             "#f0f921"
            ]
           ]
          },
          "colorway": [
           "#636efa",
           "#EF553B",
           "#00cc96",
           "#ab63fa",
           "#FFA15A",
           "#19d3f3",
           "#FF6692",
           "#B6E880",
           "#FF97FF",
           "#FECB52"
          ],
          "font": {
           "color": "#2a3f5f"
          },
          "geo": {
           "bgcolor": "white",
           "lakecolor": "white",
           "landcolor": "#E5ECF6",
           "showlakes": true,
           "showland": true,
           "subunitcolor": "white"
          },
          "hoverlabel": {
           "align": "left"
          },
          "hovermode": "closest",
          "mapbox": {
           "style": "light"
          },
          "paper_bgcolor": "white",
          "plot_bgcolor": "#E5ECF6",
          "polar": {
           "angularaxis": {
            "gridcolor": "white",
            "linecolor": "white",
            "ticks": ""
           },
           "bgcolor": "#E5ECF6",
           "radialaxis": {
            "gridcolor": "white",
            "linecolor": "white",
            "ticks": ""
           }
          },
          "scene": {
           "xaxis": {
            "backgroundcolor": "#E5ECF6",
            "gridcolor": "white",
            "gridwidth": 2,
            "linecolor": "white",
            "showbackground": true,
            "ticks": "",
            "zerolinecolor": "white"
           },
           "yaxis": {
            "backgroundcolor": "#E5ECF6",
            "gridcolor": "white",
            "gridwidth": 2,
            "linecolor": "white",
            "showbackground": true,
            "ticks": "",
            "zerolinecolor": "white"
           },
           "zaxis": {
            "backgroundcolor": "#E5ECF6",
            "gridcolor": "white",
            "gridwidth": 2,
            "linecolor": "white",
            "showbackground": true,
            "ticks": "",
            "zerolinecolor": "white"
           }
          },
          "shapedefaults": {
           "line": {
            "color": "#2a3f5f"
           }
          },
          "ternary": {
           "aaxis": {
            "gridcolor": "white",
            "linecolor": "white",
            "ticks": ""
           },
           "baxis": {
            "gridcolor": "white",
            "linecolor": "white",
            "ticks": ""
           },
           "bgcolor": "#E5ECF6",
           "caxis": {
            "gridcolor": "white",
            "linecolor": "white",
            "ticks": ""
           }
          },
          "title": {
           "x": 0.05
          },
          "xaxis": {
           "automargin": true,
           "gridcolor": "white",
           "linecolor": "white",
           "ticks": "",
           "title": {
            "standoff": 15
           },
           "zerolinecolor": "white",
           "zerolinewidth": 2
          },
          "yaxis": {
           "automargin": true,
           "gridcolor": "white",
           "linecolor": "white",
           "ticks": "",
           "title": {
            "standoff": 15
           },
           "zerolinecolor": "white",
           "zerolinewidth": 2
          }
         }
        },
        "title": {
         "text": "Carte Site Olympique séléctionné et Stations pour y accéder sur la période voulue",
         "x": 0.5
        },
        "updatemenus": [
         {
          "buttons": [
           {
            "args": [
             null,
             {
              "frame": {
               "duration": 500,
               "redraw": true
              },
              "fromcurrent": true,
              "mode": "immediate",
              "transition": {
               "duration": 500,
               "easing": "linear"
              }
             }
            ],
            "label": "&#9654;",
            "method": "animate"
           },
           {
            "args": [
             [
              null
             ],
             {
              "frame": {
               "duration": 0,
               "redraw": true
              },
              "fromcurrent": true,
              "mode": "immediate",
              "transition": {
               "duration": 0,
               "easing": "linear"
              }
             }
            ],
            "label": "&#9724;",
            "method": "animate"
           }
          ],
          "direction": "left",
          "pad": {
           "r": 10,
           "t": 70
          },
          "showactive": false,
          "type": "buttons",
          "x": 0.1,
          "xanchor": "right",
          "y": 0,
          "yanchor": "top"
         }
        ]
       }
      }
     },
     "metadata": {},
     "output_type": "display_data"
    }
   ],
   "source": [
    "fig1 = px.scatter_mapbox(viz_df, lat=\"lat\", lon=\"lng\", mapbox_style=\"carto-positron\", height= 650,  zoom=12, animation_frame = 'ds', \n",
    "                        hover_name=\"station\", \n",
    "                        labels= viz_df.iloc[:,-1],\n",
    "                        size=viz_df.iloc[:,-1], \n",
    "                        color=\"satur\", color_continuous_scale=\"Bluered\", range_color=[0,viz_df['satur'].max()], #text='yhat', #labels='yhat', \n",
    "                        title=f\"Carte Site Olympique séléctionné et Stations pour y accéder sur la période voulue\")\n",
    "fig1.update_layout(legend=dict(y=1, x=0.1))\n",
    "\n",
    "fig2 = px.scatter_mapbox(geo_data.loc[geo_data['lieu'] == site], lat=\"lat\", lon=\"lng\", hover_name=\"lieu\")\n",
    "fig2.update_traces(selector=dict(mode=\"markers\"), marker=dict(color='yellow', size=50))\n",
    "\n",
    "fig = fig1.add_trace(fig2.data[0])\n",
    "fig.update(layout={\"title\": {\"x\": 0.5}})\n",
    "fig.show()"
   ]
  },
  {
   "cell_type": "code",
   "execution_count": 181,
   "metadata": {},
   "outputs": [
    {
     "data": {
      "text/html": [
       "<div>\n",
       "<style scoped>\n",
       "    .dataframe tbody tr th:only-of-type {\n",
       "        vertical-align: middle;\n",
       "    }\n",
       "\n",
       "    .dataframe tbody tr th {\n",
       "        vertical-align: top;\n",
       "    }\n",
       "\n",
       "    .dataframe thead th {\n",
       "        text-align: right;\n",
       "    }\n",
       "</style>\n",
       "<table border=\"1\" class=\"dataframe\">\n",
       "  <thead>\n",
       "    <tr style=\"text-align: right;\">\n",
       "      <th></th>\n",
       "      <th>ds</th>\n",
       "      <th>site</th>\n",
       "      <th>competition</th>\n",
       "      <th>lat</th>\n",
       "      <th>lng</th>\n",
       "    </tr>\n",
       "  </thead>\n",
       "  <tbody>\n",
       "    <tr>\n",
       "      <th>0</th>\n",
       "      <td>2024-07-01</td>\n",
       "      <td>PARC DES PRINCES</td>\n",
       "      <td>Pas de compétition</td>\n",
       "      <td>48.841319</td>\n",
       "      <td>2.253076</td>\n",
       "    </tr>\n",
       "    <tr>\n",
       "      <th>18</th>\n",
       "      <td>2024-07-02</td>\n",
       "      <td>PARC DES PRINCES</td>\n",
       "      <td>Pas de compétition</td>\n",
       "      <td>48.841319</td>\n",
       "      <td>2.253076</td>\n",
       "    </tr>\n",
       "    <tr>\n",
       "      <th>23</th>\n",
       "      <td>2024-07-03</td>\n",
       "      <td>PARC DES PRINCES</td>\n",
       "      <td>Pas de compétition</td>\n",
       "      <td>48.841319</td>\n",
       "      <td>2.253076</td>\n",
       "    </tr>\n",
       "    <tr>\n",
       "      <th>35</th>\n",
       "      <td>2024-07-04</td>\n",
       "      <td>PARC DES PRINCES</td>\n",
       "      <td>Pas de compétition</td>\n",
       "      <td>48.841319</td>\n",
       "      <td>2.253076</td>\n",
       "    </tr>\n",
       "    <tr>\n",
       "      <th>49</th>\n",
       "      <td>2024-07-05</td>\n",
       "      <td>PARC DES PRINCES</td>\n",
       "      <td>Pas de compétition</td>\n",
       "      <td>48.841319</td>\n",
       "      <td>2.253076</td>\n",
       "    </tr>\n",
       "  </tbody>\n",
       "</table>\n",
       "</div>"
      ],
      "text/plain": [
       "           ds              site         competition        lat       lng\n",
       "0  2024-07-01  PARC DES PRINCES  Pas de compétition  48.841319  2.253076\n",
       "18 2024-07-02  PARC DES PRINCES  Pas de compétition  48.841319  2.253076\n",
       "23 2024-07-03  PARC DES PRINCES  Pas de compétition  48.841319  2.253076\n",
       "35 2024-07-04  PARC DES PRINCES  Pas de compétition  48.841319  2.253076\n",
       "49 2024-07-05  PARC DES PRINCES  Pas de compétition  48.841319  2.253076"
      ]
     },
     "execution_count": 181,
     "metadata": {},
     "output_type": "execute_result"
    }
   ],
   "source": [
    "site_data=compet.loc[compet['site'] == site]\n",
    "site_data.head()"
   ]
  },
  {
   "cell_type": "code",
   "execution_count": 182,
   "metadata": {},
   "outputs": [
    {
     "data": {
      "application/vnd.plotly.v1+json": {
       "config": {
        "plotlyServerURL": "https://plot.ly"
       },
       "data": [
        {
         "hovertemplate": "<b>%{hovertext}</b><br><br>ds=2024-07-01 00:00:00<br>size=%{marker.size}<br>lat=%{lat}<br>lng=%{lon}<br>satur=%{marker.color}<extra></extra>",
         "hovertext": [
          "BOULEVARD VICTOR",
          "PORTE D'AUTEUIL",
          "PORTE DE SAINT-CLOUD"
         ],
         "lat": [
          48.839364,
          48.847677,
          48.8380119
         ],
         "legendgroup": "",
         "lon": [
          2.2704847,
          2.2579853,
          2.2569927
         ],
         "marker": {
          "color": [
           63.259493193059726,
           73.72137120718247,
           78.25188289941413
          ],
          "coloraxis": "coloraxis",
          "size": [
           5,
           5,
           5
          ],
          "sizemode": "area",
          "sizeref": 0.025
         },
         "mode": "markers",
         "name": "",
         "showlegend": false,
         "subplot": "mapbox",
         "type": "scattermapbox"
        },
        {
         "hoverinfo": "text",
         "lat": [
          48.841319,
          48.841319,
          48.841319,
          48.841319,
          48.841319,
          48.841319,
          48.841319,
          48.841319,
          48.841319,
          48.841319,
          48.841319,
          48.841319,
          48.841319,
          48.841319,
          48.841319,
          48.841319,
          48.841319,
          48.841319,
          48.841319,
          48.841319,
          48.841319,
          48.841319,
          48.841319,
          48.841319,
          48.841319,
          48.841319,
          48.841319,
          48.841319,
          48.841319,
          48.841319,
          48.841319,
          48.841319,
          48.841319,
          48.841319,
          48.841319,
          48.841319,
          48.841319,
          48.841319,
          48.841319,
          48.841319,
          48.841319,
          48.841319,
          48.841319,
          48.841319,
          48.841319,
          48.841319,
          48.841319,
          48.841319,
          48.841319,
          48.841319,
          48.841319,
          48.841319,
          48.841319,
          48.841319,
          48.841319,
          48.841319,
          48.841319,
          48.841319,
          48.841319,
          48.841319,
          48.841319,
          48.841319
         ],
         "lon": [
          2.253076,
          2.253076,
          2.253076,
          2.253076,
          2.253076,
          2.253076,
          2.253076,
          2.253076,
          2.253076,
          2.253076,
          2.253076,
          2.253076,
          2.253076,
          2.253076,
          2.253076,
          2.253076,
          2.253076,
          2.253076,
          2.253076,
          2.253076,
          2.253076,
          2.253076,
          2.253076,
          2.253076,
          2.253076,
          2.253076,
          2.253076,
          2.253076,
          2.253076,
          2.253076,
          2.253076,
          2.253076,
          2.253076,
          2.253076,
          2.253076,
          2.253076,
          2.253076,
          2.253076,
          2.253076,
          2.253076,
          2.253076,
          2.253076,
          2.253076,
          2.253076,
          2.253076,
          2.253076,
          2.253076,
          2.253076,
          2.253076,
          2.253076,
          2.253076,
          2.253076,
          2.253076,
          2.253076,
          2.253076,
          2.253076,
          2.253076,
          2.253076,
          2.253076,
          2.253076,
          2.253076,
          2.253076
         ],
         "marker": {
          "color": "gray",
          "size": 12,
          "symbol": "square"
         },
         "mode": "markers+text",
         "name": "site",
         "showlegend": false,
         "text": [
          "PARC DES PRINCES",
          "PARC DES PRINCES",
          "PARC DES PRINCES",
          "PARC DES PRINCES",
          "PARC DES PRINCES",
          "PARC DES PRINCES",
          "PARC DES PRINCES",
          "PARC DES PRINCES",
          "PARC DES PRINCES",
          "PARC DES PRINCES",
          "PARC DES PRINCES",
          "PARC DES PRINCES",
          "PARC DES PRINCES",
          "PARC DES PRINCES",
          "PARC DES PRINCES",
          "PARC DES PRINCES",
          "PARC DES PRINCES",
          "PARC DES PRINCES",
          "PARC DES PRINCES",
          "PARC DES PRINCES",
          "PARC DES PRINCES",
          "PARC DES PRINCES",
          "PARC DES PRINCES",
          "PARC DES PRINCES",
          "PARC DES PRINCES",
          "PARC DES PRINCES",
          "PARC DES PRINCES",
          "PARC DES PRINCES",
          "PARC DES PRINCES",
          "PARC DES PRINCES",
          "PARC DES PRINCES",
          "PARC DES PRINCES",
          "PARC DES PRINCES",
          "PARC DES PRINCES",
          "PARC DES PRINCES",
          "PARC DES PRINCES",
          "PARC DES PRINCES",
          "PARC DES PRINCES",
          "PARC DES PRINCES",
          "PARC DES PRINCES",
          "PARC DES PRINCES",
          "PARC DES PRINCES",
          "PARC DES PRINCES",
          "PARC DES PRINCES",
          "PARC DES PRINCES",
          "PARC DES PRINCES",
          "PARC DES PRINCES",
          "PARC DES PRINCES",
          "PARC DES PRINCES",
          "PARC DES PRINCES",
          "PARC DES PRINCES",
          "PARC DES PRINCES",
          "PARC DES PRINCES",
          "PARC DES PRINCES",
          "PARC DES PRINCES",
          "PARC DES PRINCES",
          "PARC DES PRINCES",
          "PARC DES PRINCES",
          "PARC DES PRINCES",
          "PARC DES PRINCES",
          "PARC DES PRINCES",
          "PARC DES PRINCES"
         ],
         "textposition": "bottom center",
         "type": "scattermapbox"
        }
       ],
       "frames": [
        {
         "data": [
          {
           "hovertemplate": "<b>%{hovertext}</b><br><br>ds=2024-07-01 00:00:00<br>size=%{marker.size}<br>lat=%{lat}<br>lng=%{lon}<br>satur=%{marker.color}<extra></extra>",
           "hovertext": [
            "BOULEVARD VICTOR",
            "PORTE D'AUTEUIL",
            "PORTE DE SAINT-CLOUD"
           ],
           "lat": [
            48.839364,
            48.847677,
            48.8380119
           ],
           "legendgroup": "",
           "lon": [
            2.2704847,
            2.2579853,
            2.2569927
           ],
           "marker": {
            "color": [
             63.259493193059726,
             73.72137120718247,
             78.25188289941413
            ],
            "coloraxis": "coloraxis",
            "size": [
             5,
             5,
             5
            ],
            "sizemode": "area",
            "sizeref": 0.025
           },
           "mode": "markers",
           "name": "",
           "showlegend": false,
           "subplot": "mapbox",
           "type": "scattermapbox"
          }
         ],
         "name": "2024-07-01 00:00:00"
        },
        {
         "data": [
          {
           "hovertemplate": "<b>%{hovertext}</b><br><br>ds=2024-07-02 00:00:00<br>size=%{marker.size}<br>lat=%{lat}<br>lng=%{lon}<br>satur=%{marker.color}<extra></extra>",
           "hovertext": [
            "BOULEVARD VICTOR",
            "PORTE D'AUTEUIL",
            "PORTE DE SAINT-CLOUD"
           ],
           "lat": [
            48.839364,
            48.847677,
            48.8380119
           ],
           "legendgroup": "",
           "lon": [
            2.2704847,
            2.2579853,
            2.2569927
           ],
           "marker": {
            "color": [
             61.484297997182246,
             73.94891617468747,
             79.08046921494103
            ],
            "coloraxis": "coloraxis",
            "size": [
             5,
             5,
             5
            ],
            "sizemode": "area",
            "sizeref": 0.025
           },
           "mode": "markers",
           "name": "",
           "showlegend": false,
           "subplot": "mapbox",
           "type": "scattermapbox"
          }
         ],
         "name": "2024-07-02 00:00:00"
        },
        {
         "data": [
          {
           "hovertemplate": "<b>%{hovertext}</b><br><br>ds=2024-07-03 00:00:00<br>size=%{marker.size}<br>lat=%{lat}<br>lng=%{lon}<br>satur=%{marker.color}<extra></extra>",
           "hovertext": [
            "BOULEVARD VICTOR",
            "PORTE D'AUTEUIL",
            "PORTE DE SAINT-CLOUD"
           ],
           "lat": [
            48.839364,
            48.847677,
            48.8380119
           ],
           "legendgroup": "",
           "lon": [
            2.2704847,
            2.2579853,
            2.2569927
           ],
           "marker": {
            "color": [
             61.91161292560714,
             74.31554470927611,
             81.06330253233914
            ],
            "coloraxis": "coloraxis",
            "size": [
             5,
             5,
             5
            ],
            "sizemode": "area",
            "sizeref": 0.025
           },
           "mode": "markers",
           "name": "",
           "showlegend": false,
           "subplot": "mapbox",
           "type": "scattermapbox"
          }
         ],
         "name": "2024-07-03 00:00:00"
        },
        {
         "data": [
          {
           "hovertemplate": "<b>%{hovertext}</b><br><br>ds=2024-07-04 00:00:00<br>size=%{marker.size}<br>lat=%{lat}<br>lng=%{lon}<br>satur=%{marker.color}<extra></extra>",
           "hovertext": [
            "BOULEVARD VICTOR",
            "PORTE D'AUTEUIL",
            "PORTE DE SAINT-CLOUD"
           ],
           "lat": [
            48.839364,
            48.847677,
            48.8380119
           ],
           "legendgroup": "",
           "lon": [
            2.2704847,
            2.2579853,
            2.2569927
           ],
           "marker": {
            "color": [
             58.648657635332036,
             69.82960353201253,
             77.99404107067748
            ],
            "coloraxis": "coloraxis",
            "size": [
             5,
             5,
             5
            ],
            "sizemode": "area",
            "sizeref": 0.025
           },
           "mode": "markers",
           "name": "",
           "showlegend": false,
           "subplot": "mapbox",
           "type": "scattermapbox"
          }
         ],
         "name": "2024-07-04 00:00:00"
        },
        {
         "data": [
          {
           "hovertemplate": "<b>%{hovertext}</b><br><br>ds=2024-07-05 00:00:00<br>size=%{marker.size}<br>lat=%{lat}<br>lng=%{lon}<br>satur=%{marker.color}<extra></extra>",
           "hovertext": [
            "BOULEVARD VICTOR",
            "PORTE D'AUTEUIL",
            "PORTE DE SAINT-CLOUD"
           ],
           "lat": [
            48.839364,
            48.847677,
            48.8380119
           ],
           "legendgroup": "",
           "lon": [
            2.2704847,
            2.2579853,
            2.2569927
           ],
           "marker": {
            "color": [
             56.381543851742464,
             71.42529841396362,
             79.35337832496427
            ],
            "coloraxis": "coloraxis",
            "size": [
             5,
             5,
             5
            ],
            "sizemode": "area",
            "sizeref": 0.025
           },
           "mode": "markers",
           "name": "",
           "showlegend": false,
           "subplot": "mapbox",
           "type": "scattermapbox"
          }
         ],
         "name": "2024-07-05 00:00:00"
        },
        {
         "data": [
          {
           "hovertemplate": "<b>%{hovertext}</b><br><br>ds=2024-07-06 00:00:00<br>size=%{marker.size}<br>lat=%{lat}<br>lng=%{lon}<br>satur=%{marker.color}<extra></extra>",
           "hovertext": [
            "BOULEVARD VICTOR",
            "PORTE D'AUTEUIL",
            "PORTE DE SAINT-CLOUD"
           ],
           "lat": [
            48.839364,
            48.847677,
            48.8380119
           ],
           "legendgroup": "",
           "lon": [
            2.2704847,
            2.2579853,
            2.2569927
           ],
           "marker": {
            "color": [
             26.526322755977006,
             60.16387946292417,
             56.84664946697545
            ],
            "coloraxis": "coloraxis",
            "size": [
             5,
             5,
             5
            ],
            "sizemode": "area",
            "sizeref": 0.025
           },
           "mode": "markers",
           "name": "",
           "showlegend": false,
           "subplot": "mapbox",
           "type": "scattermapbox"
          }
         ],
         "name": "2024-07-06 00:00:00"
        },
        {
         "data": [
          {
           "hovertemplate": "<b>%{hovertext}</b><br><br>ds=2024-07-07 00:00:00<br>size=%{marker.size}<br>lat=%{lat}<br>lng=%{lon}<br>satur=%{marker.color}<extra></extra>",
           "hovertext": [
            "BOULEVARD VICTOR",
            "PORTE D'AUTEUIL",
            "PORTE DE SAINT-CLOUD"
           ],
           "lat": [
            48.839364,
            48.847677,
            48.8380119
           ],
           "legendgroup": "",
           "lon": [
            2.2704847,
            2.2579853,
            2.2569927
           ],
           "marker": {
            "color": [
             21.350774350721885,
             50.09789135461921,
             53.27390786357503
            ],
            "coloraxis": "coloraxis",
            "size": [
             5,
             5,
             5
            ],
            "sizemode": "area",
            "sizeref": 0.025
           },
           "mode": "markers",
           "name": "",
           "showlegend": false,
           "subplot": "mapbox",
           "type": "scattermapbox"
          }
         ],
         "name": "2024-07-07 00:00:00"
        },
        {
         "data": [
          {
           "hovertemplate": "<b>%{hovertext}</b><br><br>ds=2024-07-08 00:00:00<br>size=%{marker.size}<br>lat=%{lat}<br>lng=%{lon}<br>satur=%{marker.color}<extra></extra>",
           "hovertext": [
            "BOULEVARD VICTOR",
            "PORTE D'AUTEUIL",
            "PORTE DE SAINT-CLOUD"
           ],
           "lat": [
            48.839364,
            48.847677,
            48.8380119
           ],
           "legendgroup": "",
           "lon": [
            2.2704847,
            2.2579853,
            2.2569927
           ],
           "marker": {
            "color": [
             53.34093915174915,
             64.96268424952977,
             75.33844861295036
            ],
            "coloraxis": "coloraxis",
            "size": [
             5,
             5,
             5
            ],
            "sizemode": "area",
            "sizeref": 0.025
           },
           "mode": "markers",
           "name": "",
           "showlegend": false,
           "subplot": "mapbox",
           "type": "scattermapbox"
          }
         ],
         "name": "2024-07-08 00:00:00"
        },
        {
         "data": [
          {
           "hovertemplate": "<b>%{hovertext}</b><br><br>ds=2024-07-09 00:00:00<br>size=%{marker.size}<br>lat=%{lat}<br>lng=%{lon}<br>satur=%{marker.color}<extra></extra>",
           "hovertext": [
            "BOULEVARD VICTOR",
            "PORTE D'AUTEUIL",
            "PORTE DE SAINT-CLOUD"
           ],
           "lat": [
            48.839364,
            48.847677,
            48.8380119
           ],
           "legendgroup": "",
           "lon": [
            2.2704847,
            2.2579853,
            2.2569927
           ],
           "marker": {
            "color": [
             51.85729342044749,
             64.3275110423938,
             76.18575556243297
            ],
            "coloraxis": "coloraxis",
            "size": [
             5,
             5,
             5
            ],
            "sizemode": "area",
            "sizeref": 0.025
           },
           "mode": "markers",
           "name": "",
           "showlegend": false,
           "subplot": "mapbox",
           "type": "scattermapbox"
          }
         ],
         "name": "2024-07-09 00:00:00"
        },
        {
         "data": [
          {
           "hovertemplate": "<b>%{hovertext}</b><br><br>ds=2024-07-10 00:00:00<br>size=%{marker.size}<br>lat=%{lat}<br>lng=%{lon}<br>satur=%{marker.color}<extra></extra>",
           "hovertext": [
            "BOULEVARD VICTOR",
            "PORTE D'AUTEUIL",
            "PORTE DE SAINT-CLOUD"
           ],
           "lat": [
            48.839364,
            48.847677,
            48.8380119
           ],
           "legendgroup": "",
           "lon": [
            2.2704847,
            2.2579853,
            2.2569927
           ],
           "marker": {
            "color": [
             52.338817771031884,
             64.01007662667915,
             78.18376712589905
            ],
            "coloraxis": "coloraxis",
            "size": [
             5,
             5,
             5
            ],
            "sizemode": "area",
            "sizeref": 0.025
           },
           "mode": "markers",
           "name": "",
           "showlegend": false,
           "subplot": "mapbox",
           "type": "scattermapbox"
          }
         ],
         "name": "2024-07-10 00:00:00"
        },
        {
         "data": [
          {
           "hovertemplate": "<b>%{hovertext}</b><br><br>ds=2024-07-11 00:00:00<br>size=%{marker.size}<br>lat=%{lat}<br>lng=%{lon}<br>satur=%{marker.color}<extra></extra>",
           "hovertext": [
            "BOULEVARD VICTOR",
            "PORTE D'AUTEUIL",
            "PORTE DE SAINT-CLOUD"
           ],
           "lat": [
            48.839364,
            48.847677,
            48.8380119
           ],
           "legendgroup": "",
           "lon": [
            2.2704847,
            2.2579853,
            2.2569927
           ],
           "marker": {
            "color": [
             49.7936689527304,
             59.74675761236317,
             75.33887936599393
            ],
            "coloraxis": "coloraxis",
            "size": [
             5,
             5,
             5
            ],
            "sizemode": "area",
            "sizeref": 0.025
           },
           "mode": "markers",
           "name": "",
           "showlegend": false,
           "subplot": "mapbox",
           "type": "scattermapbox"
          }
         ],
         "name": "2024-07-11 00:00:00"
        },
        {
         "data": [
          {
           "hovertemplate": "<b>%{hovertext}</b><br><br>ds=2024-07-12 00:00:00<br>size=%{marker.size}<br>lat=%{lat}<br>lng=%{lon}<br>satur=%{marker.color}<extra></extra>",
           "hovertext": [
            "BOULEVARD VICTOR",
            "PORTE D'AUTEUIL",
            "PORTE DE SAINT-CLOUD"
           ],
           "lat": [
            48.839364,
            48.847677,
            48.8380119
           ],
           "legendgroup": "",
           "lon": [
            2.2704847,
            2.2579853,
            2.2569927
           ],
           "marker": {
            "color": [
             48.16372937616109,
             60.90985547549151,
             76.79538007327453
            ],
            "coloraxis": "coloraxis",
            "size": [
             5,
             5,
             5
            ],
            "sizemode": "area",
            "sizeref": 0.025
           },
           "mode": "markers",
           "name": "",
           "showlegend": false,
           "subplot": "mapbox",
           "type": "scattermapbox"
          }
         ],
         "name": "2024-07-12 00:00:00"
        },
        {
         "data": [
          {
           "hovertemplate": "<b>%{hovertext}</b><br><br>ds=2024-07-13 00:00:00<br>size=%{marker.size}<br>lat=%{lat}<br>lng=%{lon}<br>satur=%{marker.color}<extra></extra>",
           "hovertext": [
            "BOULEVARD VICTOR",
            "PORTE D'AUTEUIL",
            "PORTE DE SAINT-CLOUD"
           ],
           "lat": [
            48.839364,
            48.847677,
            48.8380119
           ],
           "legendgroup": "",
           "lon": [
            2.2704847,
            2.2579853,
            2.2569927
           ],
           "marker": {
            "color": [
             22.838003026597484,
             51.309450206574226,
             55.13137293163911
            ],
            "coloraxis": "coloraxis",
            "size": [
             5,
             5,
             5
            ],
            "sizemode": "area",
            "sizeref": 0.025
           },
           "mode": "markers",
           "name": "",
           "showlegend": false,
           "subplot": "mapbox",
           "type": "scattermapbox"
          }
         ],
         "name": "2024-07-13 00:00:00"
        },
        {
         "data": [
          {
           "hovertemplate": "<b>%{hovertext}</b><br><br>ds=2024-07-14 00:00:00<br>size=%{marker.size}<br>lat=%{lat}<br>lng=%{lon}<br>satur=%{marker.color}<extra></extra>",
           "hovertext": [
            "BOULEVARD VICTOR",
            "PORTE D'AUTEUIL",
            "PORTE DE SAINT-CLOUD"
           ],
           "lat": [
            48.839364,
            48.847677,
            48.8380119
           ],
           "legendgroup": "",
           "lon": [
            2.2704847,
            2.2579853,
            2.2569927
           ],
           "marker": {
            "color": [
             9.336451502235443,
             37.00590043311648,
             26.120888762547306
            ],
            "coloraxis": "coloraxis",
            "size": [
             5,
             5,
             5
            ],
            "sizemode": "area",
            "sizeref": 0.025
           },
           "mode": "markers",
           "name": "",
           "showlegend": false,
           "subplot": "mapbox",
           "type": "scattermapbox"
          }
         ],
         "name": "2024-07-14 00:00:00"
        },
        {
         "data": [
          {
           "hovertemplate": "<b>%{hovertext}</b><br><br>ds=2024-07-15 00:00:00<br>size=%{marker.size}<br>lat=%{lat}<br>lng=%{lon}<br>satur=%{marker.color}<extra></extra>",
           "hovertext": [
            "BOULEVARD VICTOR",
            "PORTE D'AUTEUIL",
            "PORTE DE SAINT-CLOUD"
           ],
           "lat": [
            48.839364,
            48.847677,
            48.8380119
           ],
           "legendgroup": "",
           "lon": [
            2.2704847,
            2.2579853,
            2.2569927
           ],
           "marker": {
            "color": [
             46.845536445878864,
             55.95120304370376,
             73.40897183548634
            ],
            "coloraxis": "coloraxis",
            "size": [
             5,
             5,
             5
            ],
            "sizemode": "area",
            "sizeref": 0.025
           },
           "mode": "markers",
           "name": "",
           "showlegend": false,
           "subplot": "mapbox",
           "type": "scattermapbox"
          }
         ],
         "name": "2024-07-15 00:00:00"
        },
        {
         "data": [
          {
           "hovertemplate": "<b>%{hovertext}</b><br><br>ds=2024-07-16 00:00:00<br>size=%{marker.size}<br>lat=%{lat}<br>lng=%{lon}<br>satur=%{marker.color}<extra></extra>",
           "hovertext": [
            "BOULEVARD VICTOR",
            "PORTE D'AUTEUIL",
            "PORTE DE SAINT-CLOUD"
           ],
           "lat": [
            48.839364,
            48.847677,
            48.8380119
           ],
           "legendgroup": "",
           "lon": [
            2.2704847,
            2.2579853,
            2.2569927
           ],
           "marker": {
            "color": [
             46.07168775834673,
             55.92680270079823,
             74.4122617936692
            ],
            "coloraxis": "coloraxis",
            "size": [
             5,
             5,
             5
            ],
            "sizemode": "area",
            "sizeref": 0.025
           },
           "mode": "markers",
           "name": "",
           "showlegend": false,
           "subplot": "mapbox",
           "type": "scattermapbox"
          }
         ],
         "name": "2024-07-16 00:00:00"
        },
        {
         "data": [
          {
           "hovertemplate": "<b>%{hovertext}</b><br><br>ds=2024-07-17 00:00:00<br>size=%{marker.size}<br>lat=%{lat}<br>lng=%{lon}<br>satur=%{marker.color}<extra></extra>",
           "hovertext": [
            "BOULEVARD VICTOR",
            "PORTE D'AUTEUIL",
            "PORTE DE SAINT-CLOUD"
           ],
           "lat": [
            48.839364,
            48.847677,
            48.8380119
           ],
           "legendgroup": "",
           "lon": [
            2.2704847,
            2.2579853,
            2.2569927
           ],
           "marker": {
            "color": [
             47.073539986545114,
             56.31969788354374,
             76.53985529245934
            ],
            "coloraxis": "coloraxis",
            "size": [
             5,
             5,
             5
            ],
            "sizemode": "area",
            "sizeref": 0.025
           },
           "mode": "markers",
           "name": "",
           "showlegend": false,
           "subplot": "mapbox",
           "type": "scattermapbox"
          }
         ],
         "name": "2024-07-17 00:00:00"
        },
        {
         "data": [
          {
           "hovertemplate": "<b>%{hovertext}</b><br><br>ds=2024-07-18 00:00:00<br>size=%{marker.size}<br>lat=%{lat}<br>lng=%{lon}<br>satur=%{marker.color}<extra></extra>",
           "hovertext": [
            "BOULEVARD VICTOR",
            "PORTE D'AUTEUIL",
            "PORTE DE SAINT-CLOUD"
           ],
           "lat": [
            48.839364,
            48.847677,
            48.8380119
           ],
           "legendgroup": "",
           "lon": [
            2.2704847,
            2.2579853,
            2.2569927
           ],
           "marker": {
            "color": [
             45.356768663358956,
             53.3154252312243,
             73.91218001987983
            ],
            "coloraxis": "coloraxis",
            "size": [
             5,
             5,
             5
            ],
            "sizemode": "area",
            "sizeref": 0.025
           },
           "mode": "markers",
           "name": "",
           "showlegend": false,
           "subplot": "mapbox",
           "type": "scattermapbox"
          }
         ],
         "name": "2024-07-18 00:00:00"
        },
        {
         "data": [
          {
           "hovertemplate": "<b>%{hovertext}</b><br><br>ds=2024-07-19 00:00:00<br>size=%{marker.size}<br>lat=%{lat}<br>lng=%{lon}<br>satur=%{marker.color}<extra></extra>",
           "hovertext": [
            "BOULEVARD VICTOR",
            "PORTE D'AUTEUIL",
            "PORTE DE SAINT-CLOUD"
           ],
           "lat": [
            48.839364,
            48.847677,
            48.8380119
           ],
           "legendgroup": "",
           "lon": [
            2.2704847,
            2.2579853,
            2.2569927
           ],
           "marker": {
            "color": [
             44.43867254006968,
             55.21954658546553,
             75.48294349957258
            ],
            "coloraxis": "coloraxis",
            "size": [
             5,
             5,
             5
            ],
            "sizemode": "area",
            "sizeref": 0.025
           },
           "mode": "markers",
           "name": "",
           "showlegend": false,
           "subplot": "mapbox",
           "type": "scattermapbox"
          }
         ],
         "name": "2024-07-19 00:00:00"
        },
        {
         "data": [
          {
           "hovertemplate": "<b>%{hovertext}</b><br><br>ds=2024-07-20 00:00:00<br>size=%{marker.size}<br>lat=%{lat}<br>lng=%{lon}<br>satur=%{marker.color}<extra></extra>",
           "hovertext": [
            "BOULEVARD VICTOR",
            "PORTE D'AUTEUIL",
            "PORTE DE SAINT-CLOUD"
           ],
           "lat": [
            48.839364,
            48.847677,
            48.8380119
           ],
           "legendgroup": "",
           "lon": [
            2.2704847,
            2.2579853,
            2.2569927
           ],
           "marker": {
            "color": [
             21.340367288987753,
             47.31438798325783,
             54.27364804873264
            ],
            "coloraxis": "coloraxis",
            "size": [
             5,
             5,
             5
            ],
            "sizemode": "area",
            "sizeref": 0.025
           },
           "mode": "markers",
           "name": "",
           "showlegend": false,
           "subplot": "mapbox",
           "type": "scattermapbox"
          }
         ],
         "name": "2024-07-20 00:00:00"
        },
        {
         "data": [
          {
           "hovertemplate": "<b>%{hovertext}</b><br><br>ds=2024-07-21 00:00:00<br>size=%{marker.size}<br>lat=%{lat}<br>lng=%{lon}<br>satur=%{marker.color}<extra></extra>",
           "hovertext": [
            "BOULEVARD VICTOR",
            "PORTE D'AUTEUIL",
            "PORTE DE SAINT-CLOUD"
           ],
           "lat": [
            48.839364,
            48.847677,
            48.8380119
           ],
           "legendgroup": "",
           "lon": [
            2.2704847,
            2.2579853,
            2.2569927
           ],
           "marker": {
            "color": [
             17.55043175608204,
             40.23677879199034,
             51.03959214293627
            ],
            "coloraxis": "coloraxis",
            "size": [
             5,
             5,
             5
            ],
            "sizemode": "area",
            "sizeref": 0.025
           },
           "mode": "markers",
           "name": "",
           "showlegend": false,
           "subplot": "mapbox",
           "type": "scattermapbox"
          }
         ],
         "name": "2024-07-21 00:00:00"
        },
        {
         "data": [
          {
           "hovertemplate": "<b>%{hovertext}</b><br><br>ds=2024-07-22 00:00:00<br>size=%{marker.size}<br>lat=%{lat}<br>lng=%{lon}<br>satur=%{marker.color}<extra></extra>",
           "hovertext": [
            "BOULEVARD VICTOR",
            "PORTE D'AUTEUIL",
            "PORTE DE SAINT-CLOUD"
           ],
           "lat": [
            48.839364,
            48.847677,
            48.8380119
           ],
           "legendgroup": "",
           "lon": [
            2.2704847,
            2.2579853,
            2.2569927
           ],
           "marker": {
            "color": [
             44.824327704506565,
             53.46120603755785,
             72.40431591465124
            ],
            "coloraxis": "coloraxis",
            "size": [
             5,
             5,
             5
            ],
            "sizemode": "area",
            "sizeref": 0.025
           },
           "mode": "markers",
           "name": "",
           "showlegend": false,
           "subplot": "mapbox",
           "type": "scattermapbox"
          }
         ],
         "name": "2024-07-22 00:00:00"
        },
        {
         "data": [
          {
           "hovertemplate": "<b>%{hovertext}</b><br><br>ds=2024-07-23 00:00:00<br>size=%{marker.size}<br>lat=%{lat}<br>lng=%{lon}<br>satur=%{marker.color}<extra></extra>",
           "hovertext": [
            "BOULEVARD VICTOR",
            "PORTE D'AUTEUIL",
            "PORTE DE SAINT-CLOUD"
           ],
           "lat": [
            48.839364,
            48.847677,
            48.8380119
           ],
           "legendgroup": "",
           "lon": [
            2.2704847,
            2.2579853,
            2.2569927
           ],
           "marker": {
            "color": [
             44.55031179524484,
             54.37832270910597,
             73.41194522733939
            ],
            "coloraxis": "coloraxis",
            "size": [
             5,
             5,
             5
            ],
            "sizemode": "area",
            "sizeref": 0.025
           },
           "mode": "markers",
           "name": "",
           "showlegend": false,
           "subplot": "mapbox",
           "type": "scattermapbox"
          }
         ],
         "name": "2024-07-23 00:00:00"
        },
        {
         "data": [
          {
           "hovertemplate": "<b>%{hovertext}</b><br><br>ds=2024-07-24 00:00:00<br>size=%{marker.size}<br>lat=%{lat}<br>lng=%{lon}<br>satur=%{marker.color}<extra></extra>",
           "hovertext": [
            "BOULEVARD VICTOR",
            "PORTE D'AUTEUIL",
            "PORTE DE SAINT-CLOUD"
           ],
           "lat": [
            48.839364,
            48.847677,
            48.8380119
           ],
           "legendgroup": "",
           "lon": [
            2.2704847,
            2.2579853,
            2.2569927
           ],
           "marker": {
            "color": [
             41.65537224808816,
             74.54620724021281,
             96.64437280821974
            ],
            "coloraxis": "coloraxis",
            "size": [
             10,
             10,
             10
            ],
            "sizemode": "area",
            "sizeref": 0.025
           },
           "mode": "markers",
           "name": "",
           "showlegend": false,
           "subplot": "mapbox",
           "type": "scattermapbox"
          }
         ],
         "name": "2024-07-24 00:00:00"
        },
        {
         "data": [
          {
           "hovertemplate": "<b>%{hovertext}</b><br><br>ds=2024-07-25 00:00:00<br>size=%{marker.size}<br>lat=%{lat}<br>lng=%{lon}<br>satur=%{marker.color}<extra></extra>",
           "hovertext": [
            "BOULEVARD VICTOR",
            "PORTE D'AUTEUIL",
            "PORTE DE SAINT-CLOUD"
           ],
           "lat": [
            48.839364,
            48.847677,
            48.8380119
           ],
           "legendgroup": "",
           "lon": [
            2.2704847,
            2.2579853,
            2.2569927
           ],
           "marker": {
            "color": [
             44.622744683953655,
             53.5077426406661,
             72.84115180346828
            ],
            "coloraxis": "coloraxis",
            "size": [
             5,
             5,
             5
            ],
            "sizemode": "area",
            "sizeref": 0.025
           },
           "mode": "markers",
           "name": "",
           "showlegend": false,
           "subplot": "mapbox",
           "type": "scattermapbox"
          }
         ],
         "name": "2024-07-25 00:00:00"
        },
        {
         "data": [
          {
           "hovertemplate": "<b>%{hovertext}</b><br><br>ds=2024-07-26 00:00:00<br>size=%{marker.size}<br>lat=%{lat}<br>lng=%{lon}<br>satur=%{marker.color}<extra></extra>",
           "hovertext": [
            "BOULEVARD VICTOR",
            "PORTE D'AUTEUIL",
            "PORTE DE SAINT-CLOUD"
           ],
           "lat": [
            48.839364,
            48.847677,
            48.8380119
           ],
           "legendgroup": "",
           "lon": [
            2.2704847,
            2.2579853,
            2.2569927
           ],
           "marker": {
            "color": [
             43.99993833645684,
             56.1616613094179,
             74.290522704302
            ],
            "coloraxis": "coloraxis",
            "size": [
             5,
             5,
             5
            ],
            "sizemode": "area",
            "sizeref": 0.025
           },
           "mode": "markers",
           "name": "",
           "showlegend": false,
           "subplot": "mapbox",
           "type": "scattermapbox"
          }
         ],
         "name": "2024-07-26 00:00:00"
        },
        {
         "data": [
          {
           "hovertemplate": "<b>%{hovertext}</b><br><br>ds=2024-07-27 00:00:00<br>size=%{marker.size}<br>lat=%{lat}<br>lng=%{lon}<br>satur=%{marker.color}<extra></extra>",
           "hovertext": [
            "BOULEVARD VICTOR",
            "PORTE D'AUTEUIL",
            "PORTE DE SAINT-CLOUD"
           ],
           "lat": [
            48.839364,
            48.847677,
            48.8380119
           ],
           "legendgroup": "",
           "lon": [
            2.2704847,
            2.2579853,
            2.2569927
           ],
           "marker": {
            "color": [
             19.247672714009987,
             128.20979882659947,
             75.64377395099088
            ],
            "coloraxis": "coloraxis",
            "size": [
             10,
             10,
             10
            ],
            "sizemode": "area",
            "sizeref": 0.025
           },
           "mode": "markers",
           "name": "",
           "showlegend": false,
           "subplot": "mapbox",
           "type": "scattermapbox"
          }
         ],
         "name": "2024-07-27 00:00:00"
        },
        {
         "data": [
          {
           "hovertemplate": "<b>%{hovertext}</b><br><br>ds=2024-07-28 00:00:00<br>size=%{marker.size}<br>lat=%{lat}<br>lng=%{lon}<br>satur=%{marker.color}<extra></extra>",
           "hovertext": [
            "BOULEVARD VICTOR",
            "PORTE D'AUTEUIL",
            "PORTE DE SAINT-CLOUD"
           ],
           "lat": [
            48.839364,
            48.847677,
            48.8380119
           ],
           "legendgroup": "",
           "lon": [
            2.2704847,
            2.2579853,
            2.2569927
           ],
           "marker": {
            "color": [
             15.87725629214129,
             109.97446186473188,
             70.9702719505068
            ],
            "coloraxis": "coloraxis",
            "size": [
             10,
             10,
             10
            ],
            "sizemode": "area",
            "sizeref": 0.025
           },
           "mode": "markers",
           "name": "",
           "showlegend": false,
           "subplot": "mapbox",
           "type": "scattermapbox"
          }
         ],
         "name": "2024-07-28 00:00:00"
        },
        {
         "data": [
          {
           "hovertemplate": "<b>%{hovertext}</b><br><br>ds=2024-07-29 00:00:00<br>size=%{marker.size}<br>lat=%{lat}<br>lng=%{lon}<br>satur=%{marker.color}<extra></extra>",
           "hovertext": [
            "BOULEVARD VICTOR",
            "PORTE D'AUTEUIL",
            "PORTE DE SAINT-CLOUD"
           ],
           "lat": [
            48.839364,
            48.847677,
            48.8380119
           ],
           "legendgroup": "",
           "lon": [
            2.2704847,
            2.2579853,
            2.2569927
           ],
           "marker": {
            "color": [
             44.78480162565744,
             109.77061445822305,
             78.42249191279436
            ],
            "coloraxis": "coloraxis",
            "size": [
             5,
             5,
             5
            ],
            "sizemode": "area",
            "sizeref": 0.025
           },
           "mode": "markers",
           "name": "",
           "showlegend": false,
           "subplot": "mapbox",
           "type": "scattermapbox"
          }
         ],
         "name": "2024-07-29 00:00:00"
        },
        {
         "data": [
          {
           "hovertemplate": "<b>%{hovertext}</b><br><br>ds=2024-07-30 00:00:00<br>size=%{marker.size}<br>lat=%{lat}<br>lng=%{lon}<br>satur=%{marker.color}<extra></extra>",
           "hovertext": [
            "BOULEVARD VICTOR",
            "PORTE D'AUTEUIL",
            "PORTE DE SAINT-CLOUD"
           ],
           "lat": [
            48.839364,
            48.847677,
            48.8380119
           ],
           "legendgroup": "",
           "lon": [
            2.2704847,
            2.2579853,
            2.2569927
           ],
           "marker": {
            "color": [
             40.33746058916347,
             149.9563772353777,
             101.47125630510993
            ],
            "coloraxis": "coloraxis",
            "size": [
             10,
             10,
             10
            ],
            "sizemode": "area",
            "sizeref": 0.025
           },
           "mode": "markers",
           "name": "",
           "showlegend": false,
           "subplot": "mapbox",
           "type": "scattermapbox"
          }
         ],
         "name": "2024-07-30 00:00:00"
        },
        {
         "data": [
          {
           "hovertemplate": "<b>%{hovertext}</b><br><br>ds=2024-07-31 00:00:00<br>size=%{marker.size}<br>lat=%{lat}<br>lng=%{lon}<br>satur=%{marker.color}<extra></extra>",
           "hovertext": [
            "BOULEVARD VICTOR",
            "PORTE D'AUTEUIL",
            "PORTE DE SAINT-CLOUD"
           ],
           "lat": [
            48.839364,
            48.847677,
            48.8380119
           ],
           "legendgroup": "",
           "lon": [
            2.2704847,
            2.2579853,
            2.2569927
           ],
           "marker": {
            "color": [
             45.7910311298581,
             114.67233255814513,
             81.21995307783124
            ],
            "coloraxis": "coloraxis",
            "size": [
             5,
             5,
             5
            ],
            "sizemode": "area",
            "sizeref": 0.025
           },
           "mode": "markers",
           "name": "",
           "showlegend": false,
           "subplot": "mapbox",
           "type": "scattermapbox"
          }
         ],
         "name": "2024-07-31 00:00:00"
        },
        {
         "data": [
          {
           "hovertemplate": "<b>%{hovertext}</b><br><br>ds=2024-08-01 00:00:00<br>size=%{marker.size}<br>lat=%{lat}<br>lng=%{lon}<br>satur=%{marker.color}<extra></extra>",
           "hovertext": [
            "BOULEVARD VICTOR",
            "PORTE D'AUTEUIL",
            "PORTE DE SAINT-CLOUD"
           ],
           "lat": [
            48.839364,
            48.847677,
            48.8380119
           ],
           "legendgroup": "",
           "lon": [
            2.2704847,
            2.2579853,
            2.2569927
           ],
           "marker": {
            "color": [
             44.31429187258708,
             109.90915573328283,
             78.07502395610307
            ],
            "coloraxis": "coloraxis",
            "size": [
             5,
             5,
             5
            ],
            "sizemode": "area",
            "sizeref": 0.025
           },
           "mode": "markers",
           "name": "",
           "showlegend": false,
           "subplot": "mapbox",
           "type": "scattermapbox"
          }
         ],
         "name": "2024-08-01 00:00:00"
        },
        {
         "data": [
          {
           "hovertemplate": "<b>%{hovertext}</b><br><br>ds=2024-08-02 00:00:00<br>size=%{marker.size}<br>lat=%{lat}<br>lng=%{lon}<br>satur=%{marker.color}<extra></extra>",
           "hovertext": [
            "BOULEVARD VICTOR",
            "PORTE D'AUTEUIL",
            "PORTE DE SAINT-CLOUD"
           ],
           "lat": [
            48.839364,
            48.847677,
            48.8380119
           ],
           "legendgroup": "",
           "lon": [
            2.2704847,
            2.2579853,
            2.2569927
           ],
           "marker": {
            "color": [
             39.42181341859859,
             153.62267974438893,
             101.54258184764203
            ],
            "coloraxis": "coloraxis",
            "size": [
             10,
             10,
             10
            ],
            "sizemode": "area",
            "sizeref": 0.025
           },
           "mode": "markers",
           "name": "",
           "showlegend": false,
           "subplot": "mapbox",
           "type": "scattermapbox"
          }
         ],
         "name": "2024-08-02 00:00:00"
        },
        {
         "data": [
          {
           "hovertemplate": "<b>%{hovertext}</b><br><br>ds=2024-08-03 00:00:00<br>size=%{marker.size}<br>lat=%{lat}<br>lng=%{lon}<br>satur=%{marker.color}<extra></extra>",
           "hovertext": [
            "BOULEVARD VICTOR",
            "PORTE D'AUTEUIL",
            "PORTE DE SAINT-CLOUD"
           ],
           "lat": [
            48.839364,
            48.847677,
            48.8380119
           ],
           "legendgroup": "",
           "lon": [
            2.2704847,
            2.2579853,
            2.2569927
           ],
           "marker": {
            "color": [
             18.90668970140819,
             132.0422178968389,
             72.5866096454158
            ],
            "coloraxis": "coloraxis",
            "size": [
             10,
             10,
             10
            ],
            "sizemode": "area",
            "sizeref": 0.025
           },
           "mode": "markers",
           "name": "",
           "showlegend": false,
           "subplot": "mapbox",
           "type": "scattermapbox"
          }
         ],
         "name": "2024-08-03 00:00:00"
        },
        {
         "data": [
          {
           "hovertemplate": "<b>%{hovertext}</b><br><br>ds=2024-08-04 00:00:00<br>size=%{marker.size}<br>lat=%{lat}<br>lng=%{lon}<br>satur=%{marker.color}<extra></extra>",
           "hovertext": [
            "BOULEVARD VICTOR",
            "PORTE D'AUTEUIL",
            "PORTE DE SAINT-CLOUD"
           ],
           "lat": [
            48.839364,
            48.847677,
            48.8380119
           ],
           "legendgroup": "",
           "lon": [
            2.2704847,
            2.2579853,
            2.2569927
           ],
           "marker": {
            "color": [
             17.083682738811355,
             83.7285716907229,
             52.98641214208886
            ],
            "coloraxis": "coloraxis",
            "size": [
             5,
             5,
             5
            ],
            "sizemode": "area",
            "sizeref": 0.025
           },
           "mode": "markers",
           "name": "",
           "showlegend": false,
           "subplot": "mapbox",
           "type": "scattermapbox"
          }
         ],
         "name": "2024-08-04 00:00:00"
        },
        {
         "data": [
          {
           "hovertemplate": "<b>%{hovertext}</b><br><br>ds=2024-08-05 00:00:00<br>size=%{marker.size}<br>lat=%{lat}<br>lng=%{lon}<br>satur=%{marker.color}<extra></extra>",
           "hovertext": [
            "BOULEVARD VICTOR",
            "PORTE D'AUTEUIL",
            "PORTE DE SAINT-CLOUD"
           ],
           "lat": [
            48.839364,
            48.847677,
            48.8380119
           ],
           "legendgroup": "",
           "lon": [
            2.2704847,
            2.2579853,
            2.2569927
           ],
           "marker": {
            "color": [
             43.360557400306384,
             56.187349244167436,
             67.38215092991479
            ],
            "coloraxis": "coloraxis",
            "size": [
             5,
             5,
             5
            ],
            "sizemode": "area",
            "sizeref": 0.025
           },
           "mode": "markers",
           "name": "",
           "showlegend": false,
           "subplot": "mapbox",
           "type": "scattermapbox"
          }
         ],
         "name": "2024-08-05 00:00:00"
        },
        {
         "data": [
          {
           "hovertemplate": "<b>%{hovertext}</b><br><br>ds=2024-08-06 00:00:00<br>size=%{marker.size}<br>lat=%{lat}<br>lng=%{lon}<br>satur=%{marker.color}<extra></extra>",
           "hovertext": [
            "BOULEVARD VICTOR",
            "PORTE D'AUTEUIL",
            "PORTE DE SAINT-CLOUD"
           ],
           "lat": [
            48.839364,
            48.847677,
            48.8380119
           ],
           "legendgroup": "",
           "lon": [
            2.2704847,
            2.2579853,
            2.2569927
           ],
           "marker": {
            "color": [
             42.7407466786573,
             111.29276608010687,
             75.20523866007248
            ],
            "coloraxis": "coloraxis",
            "size": [
             5,
             5,
             5
            ],
            "sizemode": "area",
            "sizeref": 0.025
           },
           "mode": "markers",
           "name": "",
           "showlegend": false,
           "subplot": "mapbox",
           "type": "scattermapbox"
          }
         ],
         "name": "2024-08-06 00:00:00"
        },
        {
         "data": [
          {
           "hovertemplate": "<b>%{hovertext}</b><br><br>ds=2024-08-07 00:00:00<br>size=%{marker.size}<br>lat=%{lat}<br>lng=%{lon}<br>satur=%{marker.color}<extra></extra>",
           "hovertext": [
            "BOULEVARD VICTOR",
            "PORTE D'AUTEUIL",
            "PORTE DE SAINT-CLOUD"
           ],
           "lat": [
            48.839364,
            48.847677,
            48.8380119
           ],
           "legendgroup": "",
           "lon": [
            2.2704847,
            2.2579853,
            2.2569927
           ],
           "marker": {
            "color": [
             43.645471944856254,
             112.3266466803303,
             76.82032565716402
            ],
            "coloraxis": "coloraxis",
            "size": [
             5,
             5,
             5
            ],
            "sizemode": "area",
            "sizeref": 0.025
           },
           "mode": "markers",
           "name": "",
           "showlegend": false,
           "subplot": "mapbox",
           "type": "scattermapbox"
          }
         ],
         "name": "2024-08-07 00:00:00"
        },
        {
         "data": [
          {
           "hovertemplate": "<b>%{hovertext}</b><br><br>ds=2024-08-08 00:00:00<br>size=%{marker.size}<br>lat=%{lat}<br>lng=%{lon}<br>satur=%{marker.color}<extra></extra>",
           "hovertext": [
            "BOULEVARD VICTOR",
            "PORTE D'AUTEUIL",
            "PORTE DE SAINT-CLOUD"
           ],
           "lat": [
            48.839364,
            48.847677,
            48.8380119
           ],
           "legendgroup": "",
           "lon": [
            2.2704847,
            2.2579853,
            2.2569927
           ],
           "marker": {
            "color": [
             41.92213253603789,
             106.07524581101686,
             73.64769831248212
            ],
            "coloraxis": "coloraxis",
            "size": [
             5,
             5,
             5
            ],
            "sizemode": "area",
            "sizeref": 0.025
           },
           "mode": "markers",
           "name": "",
           "showlegend": false,
           "subplot": "mapbox",
           "type": "scattermapbox"
          }
         ],
         "name": "2024-08-08 00:00:00"
        },
        {
         "data": [
          {
           "hovertemplate": "<b>%{hovertext}</b><br><br>ds=2024-08-09 00:00:00<br>size=%{marker.size}<br>lat=%{lat}<br>lng=%{lon}<br>satur=%{marker.color}<extra></extra>",
           "hovertext": [
            "BOULEVARD VICTOR",
            "PORTE D'AUTEUIL",
            "PORTE DE SAINT-CLOUD"
           ],
           "lat": [
            48.839364,
            48.847677,
            48.8380119
           ],
           "legendgroup": "",
           "lon": [
            2.2704847,
            2.2579853,
            2.2569927
           ],
           "marker": {
            "color": [
             37.039093666869945,
             146.09387857138273,
             95.5832130067696
            ],
            "coloraxis": "coloraxis",
            "size": [
             10,
             10,
             10
            ],
            "sizemode": "area",
            "sizeref": 0.025
           },
           "mode": "markers",
           "name": "",
           "showlegend": false,
           "subplot": "mapbox",
           "type": "scattermapbox"
          }
         ],
         "name": "2024-08-09 00:00:00"
        },
        {
         "data": [
          {
           "hovertemplate": "<b>%{hovertext}</b><br><br>ds=2024-08-10 00:00:00<br>size=%{marker.size}<br>lat=%{lat}<br>lng=%{lon}<br>satur=%{marker.color}<extra></extra>",
           "hovertext": [
            "BOULEVARD VICTOR",
            "PORTE D'AUTEUIL",
            "PORTE DE SAINT-CLOUD"
           ],
           "lat": [
            48.839364,
            48.847677,
            48.8380119
           ],
           "legendgroup": "",
           "lon": [
            2.2704847,
            2.2579853,
            2.2569927
           ],
           "marker": {
            "color": [
             17.659747258006053,
             123.81012458521306,
             68.2292872311894
            ],
            "coloraxis": "coloraxis",
            "size": [
             10,
             10,
             10
            ],
            "sizemode": "area",
            "sizeref": 0.025
           },
           "mode": "markers",
           "name": "",
           "showlegend": false,
           "subplot": "mapbox",
           "type": "scattermapbox"
          }
         ],
         "name": "2024-08-10 00:00:00"
        },
        {
         "data": [
          {
           "hovertemplate": "<b>%{hovertext}</b><br><br>ds=2024-08-11 00:00:00<br>size=%{marker.size}<br>lat=%{lat}<br>lng=%{lon}<br>satur=%{marker.color}<extra></extra>",
           "hovertext": [
            "BOULEVARD VICTOR",
            "PORTE D'AUTEUIL",
            "PORTE DE SAINT-CLOUD"
           ],
           "lat": [
            48.839364,
            48.847677,
            48.8380119
           ],
           "legendgroup": "",
           "lon": [
            2.2704847,
            2.2579853,
            2.2569927
           ],
           "marker": {
            "color": [
             15.883549126637858,
             39.3824737249643,
             44.91315425775704
            ],
            "coloraxis": "coloraxis",
            "size": [
             5,
             5,
             5
            ],
            "sizemode": "area",
            "sizeref": 0.025
           },
           "mode": "markers",
           "name": "",
           "showlegend": false,
           "subplot": "mapbox",
           "type": "scattermapbox"
          }
         ],
         "name": "2024-08-11 00:00:00"
        },
        {
         "data": [
          {
           "hovertemplate": "<b>%{hovertext}</b><br><br>ds=2024-08-12 00:00:00<br>size=%{marker.size}<br>lat=%{lat}<br>lng=%{lon}<br>satur=%{marker.color}<extra></extra>",
           "hovertext": [
            "BOULEVARD VICTOR",
            "PORTE D'AUTEUIL",
            "PORTE DE SAINT-CLOUD"
           ],
           "lat": [
            48.839364,
            48.847677,
            48.8380119
           ],
           "legendgroup": "",
           "lon": [
            2.2704847,
            2.2579853,
            2.2569927
           ],
           "marker": {
            "color": [
             40.19114172587137,
             51.41742626737368,
             63.306824887388245
            ],
            "coloraxis": "coloraxis",
            "size": [
             5,
             5,
             5
            ],
            "sizemode": "area",
            "sizeref": 0.025
           },
           "mode": "markers",
           "name": "",
           "showlegend": false,
           "subplot": "mapbox",
           "type": "scattermapbox"
          }
         ],
         "name": "2024-08-12 00:00:00"
        },
        {
         "data": [
          {
           "hovertemplate": "<b>%{hovertext}</b><br><br>ds=2024-08-13 00:00:00<br>size=%{marker.size}<br>lat=%{lat}<br>lng=%{lon}<br>satur=%{marker.color}<extra></extra>",
           "hovertext": [
            "BOULEVARD VICTOR",
            "PORTE D'AUTEUIL",
            "PORTE DE SAINT-CLOUD"
           ],
           "lat": [
            48.839364,
            48.847677,
            48.8380119
           ],
           "legendgroup": "",
           "lon": [
            2.2704847,
            2.2579853,
            2.2569927
           ],
           "marker": {
            "color": [
             39.5663889338947,
             51.27803730361939,
             63.82714835733003
            ],
            "coloraxis": "coloraxis",
            "size": [
             5,
             5,
             5
            ],
            "sizemode": "area",
            "sizeref": 0.025
           },
           "mode": "markers",
           "name": "",
           "showlegend": false,
           "subplot": "mapbox",
           "type": "scattermapbox"
          }
         ],
         "name": "2024-08-13 00:00:00"
        },
        {
         "data": [
          {
           "hovertemplate": "<b>%{hovertext}</b><br><br>ds=2024-08-14 00:00:00<br>size=%{marker.size}<br>lat=%{lat}<br>lng=%{lon}<br>satur=%{marker.color}<extra></extra>",
           "hovertext": [
            "BOULEVARD VICTOR",
            "PORTE D'AUTEUIL",
            "PORTE DE SAINT-CLOUD"
           ],
           "lat": [
            48.839364,
            48.847677,
            48.8380119
           ],
           "legendgroup": "",
           "lon": [
            2.2704847,
            2.2579853,
            2.2569927
           ],
           "marker": {
            "color": [
             40.43358420000853,
             51.40259818634988,
             65.33049270644983
            ],
            "coloraxis": "coloraxis",
            "size": [
             5,
             5,
             5
            ],
            "sizemode": "area",
            "sizeref": 0.025
           },
           "mode": "markers",
           "name": "",
           "showlegend": false,
           "subplot": "mapbox",
           "type": "scattermapbox"
          }
         ],
         "name": "2024-08-14 00:00:00"
        },
        {
         "data": [
          {
           "hovertemplate": "<b>%{hovertext}</b><br><br>ds=2024-08-15 00:00:00<br>size=%{marker.size}<br>lat=%{lat}<br>lng=%{lon}<br>satur=%{marker.color}<extra></extra>",
           "hovertext": [
            "BOULEVARD VICTOR",
            "PORTE D'AUTEUIL",
            "PORTE DE SAINT-CLOUD"
           ],
           "lat": [
            48.839364,
            48.847677,
            48.8380119
           ],
           "legendgroup": "",
           "lon": [
            2.2704847,
            2.2579853,
            2.2569927
           ],
           "marker": {
            "color": [
             15.566425935398378,
             28.805565719151886,
             72.67115379896664
            ],
            "coloraxis": "coloraxis",
            "size": [
             5,
             5,
             5
            ],
            "sizemode": "area",
            "sizeref": 0.025
           },
           "mode": "markers",
           "name": "",
           "showlegend": false,
           "subplot": "mapbox",
           "type": "scattermapbox"
          }
         ],
         "name": "2024-08-15 00:00:00"
        },
        {
         "data": [
          {
           "hovertemplate": "<b>%{hovertext}</b><br><br>ds=2024-08-16 00:00:00<br>size=%{marker.size}<br>lat=%{lat}<br>lng=%{lon}<br>satur=%{marker.color}<extra></extra>",
           "hovertext": [
            "BOULEVARD VICTOR",
            "PORTE D'AUTEUIL",
            "PORTE DE SAINT-CLOUD"
           ],
           "lat": [
            48.839364,
            48.847677,
            48.8380119
           ],
           "legendgroup": "",
           "lon": [
            2.2704847,
            2.2579853,
            2.2569927
           ],
           "marker": {
            "color": [
             38.1546818432812,
             49.678934983364236,
             63.94192162871
            ],
            "coloraxis": "coloraxis",
            "size": [
             5,
             5,
             5
            ],
            "sizemode": "area",
            "sizeref": 0.025
           },
           "mode": "markers",
           "name": "",
           "showlegend": false,
           "subplot": "mapbox",
           "type": "scattermapbox"
          }
         ],
         "name": "2024-08-16 00:00:00"
        },
        {
         "data": [
          {
           "hovertemplate": "<b>%{hovertext}</b><br><br>ds=2024-08-17 00:00:00<br>size=%{marker.size}<br>lat=%{lat}<br>lng=%{lon}<br>satur=%{marker.color}<extra></extra>",
           "hovertext": [
            "BOULEVARD VICTOR",
            "PORTE D'AUTEUIL",
            "PORTE DE SAINT-CLOUD"
           ],
           "lat": [
            48.839364,
            48.847677,
            48.8380119
           ],
           "legendgroup": "",
           "lon": [
            2.2704847,
            2.2579853,
            2.2569927
           ],
           "marker": {
            "color": [
             18.329119834820702,
             42.19426809175868,
             45.871417344434775
            ],
            "coloraxis": "coloraxis",
            "size": [
             5,
             5,
             5
            ],
            "sizemode": "area",
            "sizeref": 0.025
           },
           "mode": "markers",
           "name": "",
           "showlegend": false,
           "subplot": "mapbox",
           "type": "scattermapbox"
          }
         ],
         "name": "2024-08-17 00:00:00"
        },
        {
         "data": [
          {
           "hovertemplate": "<b>%{hovertext}</b><br><br>ds=2024-08-18 00:00:00<br>size=%{marker.size}<br>lat=%{lat}<br>lng=%{lon}<br>satur=%{marker.color}<extra></extra>",
           "hovertext": [
            "BOULEVARD VICTOR",
            "PORTE D'AUTEUIL",
            "PORTE DE SAINT-CLOUD"
           ],
           "lat": [
            48.839364,
            48.847677,
            48.8380119
           ],
           "legendgroup": "",
           "lon": [
            2.2704847,
            2.2579853,
            2.2569927
           ],
           "marker": {
            "color": [
             15.094619951121608,
             35.5576132336165,
             43.095375029776065
            ],
            "coloraxis": "coloraxis",
            "size": [
             5,
             5,
             5
            ],
            "sizemode": "area",
            "sizeref": 0.025
           },
           "mode": "markers",
           "name": "",
           "showlegend": false,
           "subplot": "mapbox",
           "type": "scattermapbox"
          }
         ],
         "name": "2024-08-18 00:00:00"
        },
        {
         "data": [
          {
           "hovertemplate": "<b>%{hovertext}</b><br><br>ds=2024-08-19 00:00:00<br>size=%{marker.size}<br>lat=%{lat}<br>lng=%{lon}<br>satur=%{marker.color}<extra></extra>",
           "hovertext": [
            "BOULEVARD VICTOR",
            "PORTE D'AUTEUIL",
            "PORTE DE SAINT-CLOUD"
           ],
           "lat": [
            48.839364,
            48.847677,
            48.8380119
           ],
           "legendgroup": "",
           "lon": [
            2.2704847,
            2.2579853,
            2.2569927
           ],
           "marker": {
            "color": [
             38.66286836735061,
             46.83103137153146,
             61.16328416377578
            ],
            "coloraxis": "coloraxis",
            "size": [
             5,
             5,
             5
            ],
            "sizemode": "area",
            "sizeref": 0.025
           },
           "mode": "markers",
           "name": "",
           "showlegend": false,
           "subplot": "mapbox",
           "type": "scattermapbox"
          }
         ],
         "name": "2024-08-19 00:00:00"
        },
        {
         "data": [
          {
           "hovertemplate": "<b>%{hovertext}</b><br><br>ds=2024-08-20 00:00:00<br>size=%{marker.size}<br>lat=%{lat}<br>lng=%{lon}<br>satur=%{marker.color}<extra></extra>",
           "hovertext": [
            "BOULEVARD VICTOR",
            "PORTE D'AUTEUIL",
            "PORTE DE SAINT-CLOUD"
           ],
           "lat": [
            48.839364,
            48.847677,
            48.8380119
           ],
           "legendgroup": "",
           "lon": [
            2.2704847,
            2.2579853,
            2.2569927
           ],
           "marker": {
            "color": [
             38.61272328375029,
             47.26240330342385,
             62.14409518325409
            ],
            "coloraxis": "coloraxis",
            "size": [
             5,
             5,
             5
            ],
            "sizemode": "area",
            "sizeref": 0.025
           },
           "mode": "markers",
           "name": "",
           "showlegend": false,
           "subplot": "mapbox",
           "type": "scattermapbox"
          }
         ],
         "name": "2024-08-20 00:00:00"
        },
        {
         "data": [
          {
           "hovertemplate": "<b>%{hovertext}</b><br><br>ds=2024-08-21 00:00:00<br>size=%{marker.size}<br>lat=%{lat}<br>lng=%{lon}<br>satur=%{marker.color}<extra></extra>",
           "hovertext": [
            "BOULEVARD VICTOR",
            "PORTE D'AUTEUIL",
            "PORTE DE SAINT-CLOUD"
           ],
           "lat": [
            48.839364,
            48.847677,
            48.8380119
           ],
           "legendgroup": "",
           "lon": [
            2.2704847,
            2.2579853,
            2.2569927
           ],
           "marker": {
            "color": [
             40.11122195167374,
             48.08521086581787,
             64.1505320641437
            ],
            "coloraxis": "coloraxis",
            "size": [
             5,
             5,
             5
            ],
            "sizemode": "area",
            "sizeref": 0.025
           },
           "mode": "markers",
           "name": "",
           "showlegend": false,
           "subplot": "mapbox",
           "type": "scattermapbox"
          }
         ],
         "name": "2024-08-21 00:00:00"
        },
        {
         "data": [
          {
           "hovertemplate": "<b>%{hovertext}</b><br><br>ds=2024-08-22 00:00:00<br>size=%{marker.size}<br>lat=%{lat}<br>lng=%{lon}<br>satur=%{marker.color}<extra></extra>",
           "hovertext": [
            "BOULEVARD VICTOR",
            "PORTE D'AUTEUIL",
            "PORTE DE SAINT-CLOUD"
           ],
           "lat": [
            48.839364,
            48.847677,
            48.8380119
           ],
           "legendgroup": "",
           "lon": [
            2.2704847,
            2.2579853,
            2.2569927
           ],
           "marker": {
            "color": [
             39.349016385865674,
             46.02478389974967,
             62.25498611024176
            ],
            "coloraxis": "coloraxis",
            "size": [
             5,
             5,
             5
            ],
            "sizemode": "area",
            "sizeref": 0.025
           },
           "mode": "markers",
           "name": "",
           "showlegend": false,
           "subplot": "mapbox",
           "type": "scattermapbox"
          }
         ],
         "name": "2024-08-22 00:00:00"
        },
        {
         "data": [
          {
           "hovertemplate": "<b>%{hovertext}</b><br><br>ds=2024-08-23 00:00:00<br>size=%{marker.size}<br>lat=%{lat}<br>lng=%{lon}<br>satur=%{marker.color}<extra></extra>",
           "hovertext": [
            "BOULEVARD VICTOR",
            "PORTE D'AUTEUIL",
            "PORTE DE SAINT-CLOUD"
           ],
           "lat": [
            48.839364,
            48.847677,
            48.8380119
           ],
           "legendgroup": "",
           "lon": [
            2.2704847,
            2.2579853,
            2.2569927
           ],
           "marker": {
            "color": [
             39.313920058408286,
             48.23930268670246,
             63.98516298202973
            ],
            "coloraxis": "coloraxis",
            "size": [
             5,
             5,
             5
            ],
            "sizemode": "area",
            "sizeref": 0.025
           },
           "mode": "markers",
           "name": "",
           "showlegend": false,
           "subplot": "mapbox",
           "type": "scattermapbox"
          }
         ],
         "name": "2024-08-23 00:00:00"
        },
        {
         "data": [
          {
           "hovertemplate": "<b>%{hovertext}</b><br><br>ds=2024-08-24 00:00:00<br>size=%{marker.size}<br>lat=%{lat}<br>lng=%{lon}<br>satur=%{marker.color}<extra></extra>",
           "hovertext": [
            "BOULEVARD VICTOR",
            "PORTE D'AUTEUIL",
            "PORTE DE SAINT-CLOUD"
           ],
           "lat": [
            48.839364,
            48.847677,
            48.8380119
           ],
           "legendgroup": "",
           "lon": [
            2.2704847,
            2.2579853,
            2.2569927
           ],
           "marker": {
            "color": [
             19.286005631053573,
             41.86976719357126,
             46.37136595891794
            ],
            "coloraxis": "coloraxis",
            "size": [
             5,
             5,
             5
            ],
            "sizemode": "area",
            "sizeref": 0.025
           },
           "mode": "markers",
           "name": "",
           "showlegend": false,
           "subplot": "mapbox",
           "type": "scattermapbox"
          }
         ],
         "name": "2024-08-24 00:00:00"
        },
        {
         "data": [
          {
           "hovertemplate": "<b>%{hovertext}</b><br><br>ds=2024-08-25 00:00:00<br>size=%{marker.size}<br>lat=%{lat}<br>lng=%{lon}<br>satur=%{marker.color}<extra></extra>",
           "hovertext": [
            "BOULEVARD VICTOR",
            "PORTE D'AUTEUIL",
            "PORTE DE SAINT-CLOUD"
           ],
           "lat": [
            48.839364,
            48.847677,
            48.8380119
           ],
           "legendgroup": "",
           "lon": [
            2.2704847,
            2.2579853,
            2.2569927
           ],
           "marker": {
            "color": [
             16.233167240584805,
             36.10807647987046,
             44.02298306781876
            ],
            "coloraxis": "coloraxis",
            "size": [
             5,
             5,
             5
            ],
            "sizemode": "area",
            "sizeref": 0.025
           },
           "mode": "markers",
           "name": "",
           "showlegend": false,
           "subplot": "mapbox",
           "type": "scattermapbox"
          }
         ],
         "name": "2024-08-25 00:00:00"
        },
        {
         "data": [
          {
           "hovertemplate": "<b>%{hovertext}</b><br><br>ds=2024-08-26 00:00:00<br>size=%{marker.size}<br>lat=%{lat}<br>lng=%{lon}<br>satur=%{marker.color}<extra></extra>",
           "hovertext": [
            "BOULEVARD VICTOR",
            "PORTE D'AUTEUIL",
            "PORTE DE SAINT-CLOUD"
           ],
           "lat": [
            48.839364,
            48.847677,
            48.8380119
           ],
           "legendgroup": "",
           "lon": [
            2.2704847,
            2.2579853,
            2.2569927
           ],
           "marker": {
            "color": [
             42.51748007988977,
             48.70884186701507,
             63.14553123243836
            ],
            "coloraxis": "coloraxis",
            "size": [
             5,
             5,
             5
            ],
            "sizemode": "area",
            "sizeref": 0.025
           },
           "mode": "markers",
           "name": "",
           "showlegend": false,
           "subplot": "mapbox",
           "type": "scattermapbox"
          }
         ],
         "name": "2024-08-26 00:00:00"
        },
        {
         "data": [
          {
           "hovertemplate": "<b>%{hovertext}</b><br><br>ds=2024-08-27 00:00:00<br>size=%{marker.size}<br>lat=%{lat}<br>lng=%{lon}<br>satur=%{marker.color}<extra></extra>",
           "hovertext": [
            "BOULEVARD VICTOR",
            "PORTE D'AUTEUIL",
            "PORTE DE SAINT-CLOUD"
           ],
           "lat": [
            48.839364,
            48.847677,
            48.8380119
           ],
           "legendgroup": "",
           "lon": [
            2.2704847,
            2.2579853,
            2.2569927
           ],
           "marker": {
            "color": [
             43.424225222488964,
             50.36498004972157,
             64.84084303880576
            ],
            "coloraxis": "coloraxis",
            "size": [
             5,
             5,
             5
            ],
            "sizemode": "area",
            "sizeref": 0.025
           },
           "mode": "markers",
           "name": "",
           "showlegend": false,
           "subplot": "mapbox",
           "type": "scattermapbox"
          }
         ],
         "name": "2024-08-27 00:00:00"
        },
        {
         "data": [
          {
           "hovertemplate": "<b>%{hovertext}</b><br><br>ds=2024-08-28 00:00:00<br>size=%{marker.size}<br>lat=%{lat}<br>lng=%{lon}<br>satur=%{marker.color}<extra></extra>",
           "hovertext": [
            "BOULEVARD VICTOR",
            "PORTE D'AUTEUIL",
            "PORTE DE SAINT-CLOUD"
           ],
           "lat": [
            48.839364,
            48.847677,
            48.8380119
           ],
           "legendgroup": "",
           "lon": [
            2.2704847,
            2.2579853,
            2.2569927
           ],
           "marker": {
            "color": [
             46.11576724496474,
             52.487073250734696,
             67.63478900084607
            ],
            "coloraxis": "coloraxis",
            "size": [
             5,
             5,
             5
            ],
            "sizemode": "area",
            "sizeref": 0.025
           },
           "mode": "markers",
           "name": "",
           "showlegend": false,
           "subplot": "mapbox",
           "type": "scattermapbox"
          }
         ],
         "name": "2024-08-28 00:00:00"
        },
        {
         "data": [
          {
           "hovertemplate": "<b>%{hovertext}</b><br><br>ds=2024-08-29 00:00:00<br>size=%{marker.size}<br>lat=%{lat}<br>lng=%{lon}<br>satur=%{marker.color}<extra></extra>",
           "hovertext": [
            "BOULEVARD VICTOR",
            "PORTE D'AUTEUIL",
            "PORTE DE SAINT-CLOUD"
           ],
           "lat": [
            48.839364,
            48.847677,
            48.8380119
           ],
           "legendgroup": "",
           "lon": [
            2.2704847,
            2.2579853,
            2.2569927
           ],
           "marker": {
            "color": [
             46.213509380107546,
             51.416566777372694,
             66.3008247927104
            ],
            "coloraxis": "coloraxis",
            "size": [
             5,
             5,
             5
            ],
            "sizemode": "area",
            "sizeref": 0.025
           },
           "mode": "markers",
           "name": "",
           "showlegend": false,
           "subplot": "mapbox",
           "type": "scattermapbox"
          }
         ],
         "name": "2024-08-29 00:00:00"
        },
        {
         "data": [
          {
           "hovertemplate": "<b>%{hovertext}</b><br><br>ds=2024-08-30 00:00:00<br>size=%{marker.size}<br>lat=%{lat}<br>lng=%{lon}<br>satur=%{marker.color}<extra></extra>",
           "hovertext": [
            "BOULEVARD VICTOR",
            "PORTE D'AUTEUIL",
            "PORTE DE SAINT-CLOUD"
           ],
           "lat": [
            48.839364,
            48.847677,
            48.8380119
           ],
           "legendgroup": "",
           "lon": [
            2.2704847,
            2.2579853,
            2.2569927
           ],
           "marker": {
            "color": [
             47.1108245558999,
             55.07898327327025,
             68.79918737398845
            ],
            "coloraxis": "coloraxis",
            "size": [
             5,
             5,
             5
            ],
            "sizemode": "area",
            "sizeref": 0.025
           },
           "mode": "markers",
           "name": "",
           "showlegend": false,
           "subplot": "mapbox",
           "type": "scattermapbox"
          }
         ],
         "name": "2024-08-30 00:00:00"
        },
        {
         "data": [
          {
           "hovertemplate": "<b>%{hovertext}</b><br><br>ds=2024-08-31 00:00:00<br>size=%{marker.size}<br>lat=%{lat}<br>lng=%{lon}<br>satur=%{marker.color}<extra></extra>",
           "hovertext": [
            "BOULEVARD VICTOR",
            "PORTE D'AUTEUIL",
            "PORTE DE SAINT-CLOUD"
           ],
           "lat": [
            48.839364,
            48.847677,
            48.8380119
           ],
           "legendgroup": "",
           "lon": [
            2.2704847,
            2.2579853,
            2.2569927
           ],
           "marker": {
            "color": [
             23.54334830439617,
             48.768158809858996,
             50.30719862714561
            ],
            "coloraxis": "coloraxis",
            "size": [
             5,
             5,
             5
            ],
            "sizemode": "area",
            "sizeref": 0.025
           },
           "mode": "markers",
           "name": "",
           "showlegend": false,
           "subplot": "mapbox",
           "type": "scattermapbox"
          }
         ],
         "name": "2024-08-31 00:00:00"
        }
       ],
       "layout": {
        "coloraxis": {
         "cmax": 153.62267974438893,
         "cmin": 0,
         "colorbar": {
          "title": {
           "text": "satur"
          }
         },
         "colorscale": [
          [
           0,
           "rgb(0,0,255)"
          ],
          [
           1,
           "rgb(255,0,0)"
          ]
         ]
        },
        "height": 650,
        "legend": {
         "itemsizing": "constant",
         "tracegroupgap": 0
        },
        "mapbox": {
         "accesstoken": "pk.eyJ1Ijoic2FsbWFiZW5xIiwiYSI6ImNscHN1c3NybDA0NGEybm9mMHV2bzlvengifQ.vdle0P_6ixyvBo8Y_AftFQ",
         "center": {
          "lat": 48.84168429999999,
          "lon": 2.2618209000000005
         },
         "domain": {
          "x": [
           0,
           1
          ],
          "y": [
           0,
           1
          ]
         },
         "style": "light",
         "zoom": 13
        },
        "sliders": [
         {
          "active": 0,
          "currentvalue": {
           "prefix": "ds="
          },
          "len": 0.9,
          "pad": {
           "b": 10,
           "t": 60
          },
          "steps": [
           {
            "args": [
             [
              "2024-07-01 00:00:00"
             ],
             {
              "frame": {
               "duration": 0,
               "redraw": true
              },
              "fromcurrent": true,
              "mode": "immediate",
              "transition": {
               "duration": 0,
               "easing": "linear"
              }
             }
            ],
            "label": "2024-07-01 00:00:00",
            "method": "animate"
           },
           {
            "args": [
             [
              "2024-07-02 00:00:00"
             ],
             {
              "frame": {
               "duration": 0,
               "redraw": true
              },
              "fromcurrent": true,
              "mode": "immediate",
              "transition": {
               "duration": 0,
               "easing": "linear"
              }
             }
            ],
            "label": "2024-07-02 00:00:00",
            "method": "animate"
           },
           {
            "args": [
             [
              "2024-07-03 00:00:00"
             ],
             {
              "frame": {
               "duration": 0,
               "redraw": true
              },
              "fromcurrent": true,
              "mode": "immediate",
              "transition": {
               "duration": 0,
               "easing": "linear"
              }
             }
            ],
            "label": "2024-07-03 00:00:00",
            "method": "animate"
           },
           {
            "args": [
             [
              "2024-07-04 00:00:00"
             ],
             {
              "frame": {
               "duration": 0,
               "redraw": true
              },
              "fromcurrent": true,
              "mode": "immediate",
              "transition": {
               "duration": 0,
               "easing": "linear"
              }
             }
            ],
            "label": "2024-07-04 00:00:00",
            "method": "animate"
           },
           {
            "args": [
             [
              "2024-07-05 00:00:00"
             ],
             {
              "frame": {
               "duration": 0,
               "redraw": true
              },
              "fromcurrent": true,
              "mode": "immediate",
              "transition": {
               "duration": 0,
               "easing": "linear"
              }
             }
            ],
            "label": "2024-07-05 00:00:00",
            "method": "animate"
           },
           {
            "args": [
             [
              "2024-07-06 00:00:00"
             ],
             {
              "frame": {
               "duration": 0,
               "redraw": true
              },
              "fromcurrent": true,
              "mode": "immediate",
              "transition": {
               "duration": 0,
               "easing": "linear"
              }
             }
            ],
            "label": "2024-07-06 00:00:00",
            "method": "animate"
           },
           {
            "args": [
             [
              "2024-07-07 00:00:00"
             ],
             {
              "frame": {
               "duration": 0,
               "redraw": true
              },
              "fromcurrent": true,
              "mode": "immediate",
              "transition": {
               "duration": 0,
               "easing": "linear"
              }
             }
            ],
            "label": "2024-07-07 00:00:00",
            "method": "animate"
           },
           {
            "args": [
             [
              "2024-07-08 00:00:00"
             ],
             {
              "frame": {
               "duration": 0,
               "redraw": true
              },
              "fromcurrent": true,
              "mode": "immediate",
              "transition": {
               "duration": 0,
               "easing": "linear"
              }
             }
            ],
            "label": "2024-07-08 00:00:00",
            "method": "animate"
           },
           {
            "args": [
             [
              "2024-07-09 00:00:00"
             ],
             {
              "frame": {
               "duration": 0,
               "redraw": true
              },
              "fromcurrent": true,
              "mode": "immediate",
              "transition": {
               "duration": 0,
               "easing": "linear"
              }
             }
            ],
            "label": "2024-07-09 00:00:00",
            "method": "animate"
           },
           {
            "args": [
             [
              "2024-07-10 00:00:00"
             ],
             {
              "frame": {
               "duration": 0,
               "redraw": true
              },
              "fromcurrent": true,
              "mode": "immediate",
              "transition": {
               "duration": 0,
               "easing": "linear"
              }
             }
            ],
            "label": "2024-07-10 00:00:00",
            "method": "animate"
           },
           {
            "args": [
             [
              "2024-07-11 00:00:00"
             ],
             {
              "frame": {
               "duration": 0,
               "redraw": true
              },
              "fromcurrent": true,
              "mode": "immediate",
              "transition": {
               "duration": 0,
               "easing": "linear"
              }
             }
            ],
            "label": "2024-07-11 00:00:00",
            "method": "animate"
           },
           {
            "args": [
             [
              "2024-07-12 00:00:00"
             ],
             {
              "frame": {
               "duration": 0,
               "redraw": true
              },
              "fromcurrent": true,
              "mode": "immediate",
              "transition": {
               "duration": 0,
               "easing": "linear"
              }
             }
            ],
            "label": "2024-07-12 00:00:00",
            "method": "animate"
           },
           {
            "args": [
             [
              "2024-07-13 00:00:00"
             ],
             {
              "frame": {
               "duration": 0,
               "redraw": true
              },
              "fromcurrent": true,
              "mode": "immediate",
              "transition": {
               "duration": 0,
               "easing": "linear"
              }
             }
            ],
            "label": "2024-07-13 00:00:00",
            "method": "animate"
           },
           {
            "args": [
             [
              "2024-07-14 00:00:00"
             ],
             {
              "frame": {
               "duration": 0,
               "redraw": true
              },
              "fromcurrent": true,
              "mode": "immediate",
              "transition": {
               "duration": 0,
               "easing": "linear"
              }
             }
            ],
            "label": "2024-07-14 00:00:00",
            "method": "animate"
           },
           {
            "args": [
             [
              "2024-07-15 00:00:00"
             ],
             {
              "frame": {
               "duration": 0,
               "redraw": true
              },
              "fromcurrent": true,
              "mode": "immediate",
              "transition": {
               "duration": 0,
               "easing": "linear"
              }
             }
            ],
            "label": "2024-07-15 00:00:00",
            "method": "animate"
           },
           {
            "args": [
             [
              "2024-07-16 00:00:00"
             ],
             {
              "frame": {
               "duration": 0,
               "redraw": true
              },
              "fromcurrent": true,
              "mode": "immediate",
              "transition": {
               "duration": 0,
               "easing": "linear"
              }
             }
            ],
            "label": "2024-07-16 00:00:00",
            "method": "animate"
           },
           {
            "args": [
             [
              "2024-07-17 00:00:00"
             ],
             {
              "frame": {
               "duration": 0,
               "redraw": true
              },
              "fromcurrent": true,
              "mode": "immediate",
              "transition": {
               "duration": 0,
               "easing": "linear"
              }
             }
            ],
            "label": "2024-07-17 00:00:00",
            "method": "animate"
           },
           {
            "args": [
             [
              "2024-07-18 00:00:00"
             ],
             {
              "frame": {
               "duration": 0,
               "redraw": true
              },
              "fromcurrent": true,
              "mode": "immediate",
              "transition": {
               "duration": 0,
               "easing": "linear"
              }
             }
            ],
            "label": "2024-07-18 00:00:00",
            "method": "animate"
           },
           {
            "args": [
             [
              "2024-07-19 00:00:00"
             ],
             {
              "frame": {
               "duration": 0,
               "redraw": true
              },
              "fromcurrent": true,
              "mode": "immediate",
              "transition": {
               "duration": 0,
               "easing": "linear"
              }
             }
            ],
            "label": "2024-07-19 00:00:00",
            "method": "animate"
           },
           {
            "args": [
             [
              "2024-07-20 00:00:00"
             ],
             {
              "frame": {
               "duration": 0,
               "redraw": true
              },
              "fromcurrent": true,
              "mode": "immediate",
              "transition": {
               "duration": 0,
               "easing": "linear"
              }
             }
            ],
            "label": "2024-07-20 00:00:00",
            "method": "animate"
           },
           {
            "args": [
             [
              "2024-07-21 00:00:00"
             ],
             {
              "frame": {
               "duration": 0,
               "redraw": true
              },
              "fromcurrent": true,
              "mode": "immediate",
              "transition": {
               "duration": 0,
               "easing": "linear"
              }
             }
            ],
            "label": "2024-07-21 00:00:00",
            "method": "animate"
           },
           {
            "args": [
             [
              "2024-07-22 00:00:00"
             ],
             {
              "frame": {
               "duration": 0,
               "redraw": true
              },
              "fromcurrent": true,
              "mode": "immediate",
              "transition": {
               "duration": 0,
               "easing": "linear"
              }
             }
            ],
            "label": "2024-07-22 00:00:00",
            "method": "animate"
           },
           {
            "args": [
             [
              "2024-07-23 00:00:00"
             ],
             {
              "frame": {
               "duration": 0,
               "redraw": true
              },
              "fromcurrent": true,
              "mode": "immediate",
              "transition": {
               "duration": 0,
               "easing": "linear"
              }
             }
            ],
            "label": "2024-07-23 00:00:00",
            "method": "animate"
           },
           {
            "args": [
             [
              "2024-07-24 00:00:00"
             ],
             {
              "frame": {
               "duration": 0,
               "redraw": true
              },
              "fromcurrent": true,
              "mode": "immediate",
              "transition": {
               "duration": 0,
               "easing": "linear"
              }
             }
            ],
            "label": "2024-07-24 00:00:00",
            "method": "animate"
           },
           {
            "args": [
             [
              "2024-07-25 00:00:00"
             ],
             {
              "frame": {
               "duration": 0,
               "redraw": true
              },
              "fromcurrent": true,
              "mode": "immediate",
              "transition": {
               "duration": 0,
               "easing": "linear"
              }
             }
            ],
            "label": "2024-07-25 00:00:00",
            "method": "animate"
           },
           {
            "args": [
             [
              "2024-07-26 00:00:00"
             ],
             {
              "frame": {
               "duration": 0,
               "redraw": true
              },
              "fromcurrent": true,
              "mode": "immediate",
              "transition": {
               "duration": 0,
               "easing": "linear"
              }
             }
            ],
            "label": "2024-07-26 00:00:00",
            "method": "animate"
           },
           {
            "args": [
             [
              "2024-07-27 00:00:00"
             ],
             {
              "frame": {
               "duration": 0,
               "redraw": true
              },
              "fromcurrent": true,
              "mode": "immediate",
              "transition": {
               "duration": 0,
               "easing": "linear"
              }
             }
            ],
            "label": "2024-07-27 00:00:00",
            "method": "animate"
           },
           {
            "args": [
             [
              "2024-07-28 00:00:00"
             ],
             {
              "frame": {
               "duration": 0,
               "redraw": true
              },
              "fromcurrent": true,
              "mode": "immediate",
              "transition": {
               "duration": 0,
               "easing": "linear"
              }
             }
            ],
            "label": "2024-07-28 00:00:00",
            "method": "animate"
           },
           {
            "args": [
             [
              "2024-07-29 00:00:00"
             ],
             {
              "frame": {
               "duration": 0,
               "redraw": true
              },
              "fromcurrent": true,
              "mode": "immediate",
              "transition": {
               "duration": 0,
               "easing": "linear"
              }
             }
            ],
            "label": "2024-07-29 00:00:00",
            "method": "animate"
           },
           {
            "args": [
             [
              "2024-07-30 00:00:00"
             ],
             {
              "frame": {
               "duration": 0,
               "redraw": true
              },
              "fromcurrent": true,
              "mode": "immediate",
              "transition": {
               "duration": 0,
               "easing": "linear"
              }
             }
            ],
            "label": "2024-07-30 00:00:00",
            "method": "animate"
           },
           {
            "args": [
             [
              "2024-07-31 00:00:00"
             ],
             {
              "frame": {
               "duration": 0,
               "redraw": true
              },
              "fromcurrent": true,
              "mode": "immediate",
              "transition": {
               "duration": 0,
               "easing": "linear"
              }
             }
            ],
            "label": "2024-07-31 00:00:00",
            "method": "animate"
           },
           {
            "args": [
             [
              "2024-08-01 00:00:00"
             ],
             {
              "frame": {
               "duration": 0,
               "redraw": true
              },
              "fromcurrent": true,
              "mode": "immediate",
              "transition": {
               "duration": 0,
               "easing": "linear"
              }
             }
            ],
            "label": "2024-08-01 00:00:00",
            "method": "animate"
           },
           {
            "args": [
             [
              "2024-08-02 00:00:00"
             ],
             {
              "frame": {
               "duration": 0,
               "redraw": true
              },
              "fromcurrent": true,
              "mode": "immediate",
              "transition": {
               "duration": 0,
               "easing": "linear"
              }
             }
            ],
            "label": "2024-08-02 00:00:00",
            "method": "animate"
           },
           {
            "args": [
             [
              "2024-08-03 00:00:00"
             ],
             {
              "frame": {
               "duration": 0,
               "redraw": true
              },
              "fromcurrent": true,
              "mode": "immediate",
              "transition": {
               "duration": 0,
               "easing": "linear"
              }
             }
            ],
            "label": "2024-08-03 00:00:00",
            "method": "animate"
           },
           {
            "args": [
             [
              "2024-08-04 00:00:00"
             ],
             {
              "frame": {
               "duration": 0,
               "redraw": true
              },
              "fromcurrent": true,
              "mode": "immediate",
              "transition": {
               "duration": 0,
               "easing": "linear"
              }
             }
            ],
            "label": "2024-08-04 00:00:00",
            "method": "animate"
           },
           {
            "args": [
             [
              "2024-08-05 00:00:00"
             ],
             {
              "frame": {
               "duration": 0,
               "redraw": true
              },
              "fromcurrent": true,
              "mode": "immediate",
              "transition": {
               "duration": 0,
               "easing": "linear"
              }
             }
            ],
            "label": "2024-08-05 00:00:00",
            "method": "animate"
           },
           {
            "args": [
             [
              "2024-08-06 00:00:00"
             ],
             {
              "frame": {
               "duration": 0,
               "redraw": true
              },
              "fromcurrent": true,
              "mode": "immediate",
              "transition": {
               "duration": 0,
               "easing": "linear"
              }
             }
            ],
            "label": "2024-08-06 00:00:00",
            "method": "animate"
           },
           {
            "args": [
             [
              "2024-08-07 00:00:00"
             ],
             {
              "frame": {
               "duration": 0,
               "redraw": true
              },
              "fromcurrent": true,
              "mode": "immediate",
              "transition": {
               "duration": 0,
               "easing": "linear"
              }
             }
            ],
            "label": "2024-08-07 00:00:00",
            "method": "animate"
           },
           {
            "args": [
             [
              "2024-08-08 00:00:00"
             ],
             {
              "frame": {
               "duration": 0,
               "redraw": true
              },
              "fromcurrent": true,
              "mode": "immediate",
              "transition": {
               "duration": 0,
               "easing": "linear"
              }
             }
            ],
            "label": "2024-08-08 00:00:00",
            "method": "animate"
           },
           {
            "args": [
             [
              "2024-08-09 00:00:00"
             ],
             {
              "frame": {
               "duration": 0,
               "redraw": true
              },
              "fromcurrent": true,
              "mode": "immediate",
              "transition": {
               "duration": 0,
               "easing": "linear"
              }
             }
            ],
            "label": "2024-08-09 00:00:00",
            "method": "animate"
           },
           {
            "args": [
             [
              "2024-08-10 00:00:00"
             ],
             {
              "frame": {
               "duration": 0,
               "redraw": true
              },
              "fromcurrent": true,
              "mode": "immediate",
              "transition": {
               "duration": 0,
               "easing": "linear"
              }
             }
            ],
            "label": "2024-08-10 00:00:00",
            "method": "animate"
           },
           {
            "args": [
             [
              "2024-08-11 00:00:00"
             ],
             {
              "frame": {
               "duration": 0,
               "redraw": true
              },
              "fromcurrent": true,
              "mode": "immediate",
              "transition": {
               "duration": 0,
               "easing": "linear"
              }
             }
            ],
            "label": "2024-08-11 00:00:00",
            "method": "animate"
           },
           {
            "args": [
             [
              "2024-08-12 00:00:00"
             ],
             {
              "frame": {
               "duration": 0,
               "redraw": true
              },
              "fromcurrent": true,
              "mode": "immediate",
              "transition": {
               "duration": 0,
               "easing": "linear"
              }
             }
            ],
            "label": "2024-08-12 00:00:00",
            "method": "animate"
           },
           {
            "args": [
             [
              "2024-08-13 00:00:00"
             ],
             {
              "frame": {
               "duration": 0,
               "redraw": true
              },
              "fromcurrent": true,
              "mode": "immediate",
              "transition": {
               "duration": 0,
               "easing": "linear"
              }
             }
            ],
            "label": "2024-08-13 00:00:00",
            "method": "animate"
           },
           {
            "args": [
             [
              "2024-08-14 00:00:00"
             ],
             {
              "frame": {
               "duration": 0,
               "redraw": true
              },
              "fromcurrent": true,
              "mode": "immediate",
              "transition": {
               "duration": 0,
               "easing": "linear"
              }
             }
            ],
            "label": "2024-08-14 00:00:00",
            "method": "animate"
           },
           {
            "args": [
             [
              "2024-08-15 00:00:00"
             ],
             {
              "frame": {
               "duration": 0,
               "redraw": true
              },
              "fromcurrent": true,
              "mode": "immediate",
              "transition": {
               "duration": 0,
               "easing": "linear"
              }
             }
            ],
            "label": "2024-08-15 00:00:00",
            "method": "animate"
           },
           {
            "args": [
             [
              "2024-08-16 00:00:00"
             ],
             {
              "frame": {
               "duration": 0,
               "redraw": true
              },
              "fromcurrent": true,
              "mode": "immediate",
              "transition": {
               "duration": 0,
               "easing": "linear"
              }
             }
            ],
            "label": "2024-08-16 00:00:00",
            "method": "animate"
           },
           {
            "args": [
             [
              "2024-08-17 00:00:00"
             ],
             {
              "frame": {
               "duration": 0,
               "redraw": true
              },
              "fromcurrent": true,
              "mode": "immediate",
              "transition": {
               "duration": 0,
               "easing": "linear"
              }
             }
            ],
            "label": "2024-08-17 00:00:00",
            "method": "animate"
           },
           {
            "args": [
             [
              "2024-08-18 00:00:00"
             ],
             {
              "frame": {
               "duration": 0,
               "redraw": true
              },
              "fromcurrent": true,
              "mode": "immediate",
              "transition": {
               "duration": 0,
               "easing": "linear"
              }
             }
            ],
            "label": "2024-08-18 00:00:00",
            "method": "animate"
           },
           {
            "args": [
             [
              "2024-08-19 00:00:00"
             ],
             {
              "frame": {
               "duration": 0,
               "redraw": true
              },
              "fromcurrent": true,
              "mode": "immediate",
              "transition": {
               "duration": 0,
               "easing": "linear"
              }
             }
            ],
            "label": "2024-08-19 00:00:00",
            "method": "animate"
           },
           {
            "args": [
             [
              "2024-08-20 00:00:00"
             ],
             {
              "frame": {
               "duration": 0,
               "redraw": true
              },
              "fromcurrent": true,
              "mode": "immediate",
              "transition": {
               "duration": 0,
               "easing": "linear"
              }
             }
            ],
            "label": "2024-08-20 00:00:00",
            "method": "animate"
           },
           {
            "args": [
             [
              "2024-08-21 00:00:00"
             ],
             {
              "frame": {
               "duration": 0,
               "redraw": true
              },
              "fromcurrent": true,
              "mode": "immediate",
              "transition": {
               "duration": 0,
               "easing": "linear"
              }
             }
            ],
            "label": "2024-08-21 00:00:00",
            "method": "animate"
           },
           {
            "args": [
             [
              "2024-08-22 00:00:00"
             ],
             {
              "frame": {
               "duration": 0,
               "redraw": true
              },
              "fromcurrent": true,
              "mode": "immediate",
              "transition": {
               "duration": 0,
               "easing": "linear"
              }
             }
            ],
            "label": "2024-08-22 00:00:00",
            "method": "animate"
           },
           {
            "args": [
             [
              "2024-08-23 00:00:00"
             ],
             {
              "frame": {
               "duration": 0,
               "redraw": true
              },
              "fromcurrent": true,
              "mode": "immediate",
              "transition": {
               "duration": 0,
               "easing": "linear"
              }
             }
            ],
            "label": "2024-08-23 00:00:00",
            "method": "animate"
           },
           {
            "args": [
             [
              "2024-08-24 00:00:00"
             ],
             {
              "frame": {
               "duration": 0,
               "redraw": true
              },
              "fromcurrent": true,
              "mode": "immediate",
              "transition": {
               "duration": 0,
               "easing": "linear"
              }
             }
            ],
            "label": "2024-08-24 00:00:00",
            "method": "animate"
           },
           {
            "args": [
             [
              "2024-08-25 00:00:00"
             ],
             {
              "frame": {
               "duration": 0,
               "redraw": true
              },
              "fromcurrent": true,
              "mode": "immediate",
              "transition": {
               "duration": 0,
               "easing": "linear"
              }
             }
            ],
            "label": "2024-08-25 00:00:00",
            "method": "animate"
           },
           {
            "args": [
             [
              "2024-08-26 00:00:00"
             ],
             {
              "frame": {
               "duration": 0,
               "redraw": true
              },
              "fromcurrent": true,
              "mode": "immediate",
              "transition": {
               "duration": 0,
               "easing": "linear"
              }
             }
            ],
            "label": "2024-08-26 00:00:00",
            "method": "animate"
           },
           {
            "args": [
             [
              "2024-08-27 00:00:00"
             ],
             {
              "frame": {
               "duration": 0,
               "redraw": true
              },
              "fromcurrent": true,
              "mode": "immediate",
              "transition": {
               "duration": 0,
               "easing": "linear"
              }
             }
            ],
            "label": "2024-08-27 00:00:00",
            "method": "animate"
           },
           {
            "args": [
             [
              "2024-08-28 00:00:00"
             ],
             {
              "frame": {
               "duration": 0,
               "redraw": true
              },
              "fromcurrent": true,
              "mode": "immediate",
              "transition": {
               "duration": 0,
               "easing": "linear"
              }
             }
            ],
            "label": "2024-08-28 00:00:00",
            "method": "animate"
           },
           {
            "args": [
             [
              "2024-08-29 00:00:00"
             ],
             {
              "frame": {
               "duration": 0,
               "redraw": true
              },
              "fromcurrent": true,
              "mode": "immediate",
              "transition": {
               "duration": 0,
               "easing": "linear"
              }
             }
            ],
            "label": "2024-08-29 00:00:00",
            "method": "animate"
           },
           {
            "args": [
             [
              "2024-08-30 00:00:00"
             ],
             {
              "frame": {
               "duration": 0,
               "redraw": true
              },
              "fromcurrent": true,
              "mode": "immediate",
              "transition": {
               "duration": 0,
               "easing": "linear"
              }
             }
            ],
            "label": "2024-08-30 00:00:00",
            "method": "animate"
           },
           {
            "args": [
             [
              "2024-08-31 00:00:00"
             ],
             {
              "frame": {
               "duration": 0,
               "redraw": true
              },
              "fromcurrent": true,
              "mode": "immediate",
              "transition": {
               "duration": 0,
               "easing": "linear"
              }
             }
            ],
            "label": "2024-08-31 00:00:00",
            "method": "animate"
           }
          ],
          "x": 0.1,
          "xanchor": "left",
          "y": 0,
          "yanchor": "top"
         }
        ],
        "template": {
         "data": {
          "bar": [
           {
            "error_x": {
             "color": "#2a3f5f"
            },
            "error_y": {
             "color": "#2a3f5f"
            },
            "marker": {
             "line": {
              "color": "#E5ECF6",
              "width": 0.5
             },
             "pattern": {
              "fillmode": "overlay",
              "size": 10,
              "solidity": 0.2
             }
            },
            "type": "bar"
           }
          ],
          "barpolar": [
           {
            "marker": {
             "line": {
              "color": "#E5ECF6",
              "width": 0.5
             },
             "pattern": {
              "fillmode": "overlay",
              "size": 10,
              "solidity": 0.2
             }
            },
            "type": "barpolar"
           }
          ],
          "carpet": [
           {
            "aaxis": {
             "endlinecolor": "#2a3f5f",
             "gridcolor": "white",
             "linecolor": "white",
             "minorgridcolor": "white",
             "startlinecolor": "#2a3f5f"
            },
            "baxis": {
             "endlinecolor": "#2a3f5f",
             "gridcolor": "white",
             "linecolor": "white",
             "minorgridcolor": "white",
             "startlinecolor": "#2a3f5f"
            },
            "type": "carpet"
           }
          ],
          "choropleth": [
           {
            "colorbar": {
             "outlinewidth": 0,
             "ticks": ""
            },
            "type": "choropleth"
           }
          ],
          "contour": [
           {
            "colorbar": {
             "outlinewidth": 0,
             "ticks": ""
            },
            "colorscale": [
             [
              0,
              "#0d0887"
             ],
             [
              0.1111111111111111,
              "#46039f"
             ],
             [
              0.2222222222222222,
              "#7201a8"
             ],
             [
              0.3333333333333333,
              "#9c179e"
             ],
             [
              0.4444444444444444,
              "#bd3786"
             ],
             [
              0.5555555555555556,
              "#d8576b"
             ],
             [
              0.6666666666666666,
              "#ed7953"
             ],
             [
              0.7777777777777778,
              "#fb9f3a"
             ],
             [
              0.8888888888888888,
              "#fdca26"
             ],
             [
              1,
              "#f0f921"
             ]
            ],
            "type": "contour"
           }
          ],
          "contourcarpet": [
           {
            "colorbar": {
             "outlinewidth": 0,
             "ticks": ""
            },
            "type": "contourcarpet"
           }
          ],
          "heatmap": [
           {
            "colorbar": {
             "outlinewidth": 0,
             "ticks": ""
            },
            "colorscale": [
             [
              0,
              "#0d0887"
             ],
             [
              0.1111111111111111,
              "#46039f"
             ],
             [
              0.2222222222222222,
              "#7201a8"
             ],
             [
              0.3333333333333333,
              "#9c179e"
             ],
             [
              0.4444444444444444,
              "#bd3786"
             ],
             [
              0.5555555555555556,
              "#d8576b"
             ],
             [
              0.6666666666666666,
              "#ed7953"
             ],
             [
              0.7777777777777778,
              "#fb9f3a"
             ],
             [
              0.8888888888888888,
              "#fdca26"
             ],
             [
              1,
              "#f0f921"
             ]
            ],
            "type": "heatmap"
           }
          ],
          "heatmapgl": [
           {
            "colorbar": {
             "outlinewidth": 0,
             "ticks": ""
            },
            "colorscale": [
             [
              0,
              "#0d0887"
             ],
             [
              0.1111111111111111,
              "#46039f"
             ],
             [
              0.2222222222222222,
              "#7201a8"
             ],
             [
              0.3333333333333333,
              "#9c179e"
             ],
             [
              0.4444444444444444,
              "#bd3786"
             ],
             [
              0.5555555555555556,
              "#d8576b"
             ],
             [
              0.6666666666666666,
              "#ed7953"
             ],
             [
              0.7777777777777778,
              "#fb9f3a"
             ],
             [
              0.8888888888888888,
              "#fdca26"
             ],
             [
              1,
              "#f0f921"
             ]
            ],
            "type": "heatmapgl"
           }
          ],
          "histogram": [
           {
            "marker": {
             "pattern": {
              "fillmode": "overlay",
              "size": 10,
              "solidity": 0.2
             }
            },
            "type": "histogram"
           }
          ],
          "histogram2d": [
           {
            "colorbar": {
             "outlinewidth": 0,
             "ticks": ""
            },
            "colorscale": [
             [
              0,
              "#0d0887"
             ],
             [
              0.1111111111111111,
              "#46039f"
             ],
             [
              0.2222222222222222,
              "#7201a8"
             ],
             [
              0.3333333333333333,
              "#9c179e"
             ],
             [
              0.4444444444444444,
              "#bd3786"
             ],
             [
              0.5555555555555556,
              "#d8576b"
             ],
             [
              0.6666666666666666,
              "#ed7953"
             ],
             [
              0.7777777777777778,
              "#fb9f3a"
             ],
             [
              0.8888888888888888,
              "#fdca26"
             ],
             [
              1,
              "#f0f921"
             ]
            ],
            "type": "histogram2d"
           }
          ],
          "histogram2dcontour": [
           {
            "colorbar": {
             "outlinewidth": 0,
             "ticks": ""
            },
            "colorscale": [
             [
              0,
              "#0d0887"
             ],
             [
              0.1111111111111111,
              "#46039f"
             ],
             [
              0.2222222222222222,
              "#7201a8"
             ],
             [
              0.3333333333333333,
              "#9c179e"
             ],
             [
              0.4444444444444444,
              "#bd3786"
             ],
             [
              0.5555555555555556,
              "#d8576b"
             ],
             [
              0.6666666666666666,
              "#ed7953"
             ],
             [
              0.7777777777777778,
              "#fb9f3a"
             ],
             [
              0.8888888888888888,
              "#fdca26"
             ],
             [
              1,
              "#f0f921"
             ]
            ],
            "type": "histogram2dcontour"
           }
          ],
          "mesh3d": [
           {
            "colorbar": {
             "outlinewidth": 0,
             "ticks": ""
            },
            "type": "mesh3d"
           }
          ],
          "parcoords": [
           {
            "line": {
             "colorbar": {
              "outlinewidth": 0,
              "ticks": ""
             }
            },
            "type": "parcoords"
           }
          ],
          "pie": [
           {
            "automargin": true,
            "type": "pie"
           }
          ],
          "scatter": [
           {
            "fillpattern": {
             "fillmode": "overlay",
             "size": 10,
             "solidity": 0.2
            },
            "type": "scatter"
           }
          ],
          "scatter3d": [
           {
            "line": {
             "colorbar": {
              "outlinewidth": 0,
              "ticks": ""
             }
            },
            "marker": {
             "colorbar": {
              "outlinewidth": 0,
              "ticks": ""
             }
            },
            "type": "scatter3d"
           }
          ],
          "scattercarpet": [
           {
            "marker": {
             "colorbar": {
              "outlinewidth": 0,
              "ticks": ""
             }
            },
            "type": "scattercarpet"
           }
          ],
          "scattergeo": [
           {
            "marker": {
             "colorbar": {
              "outlinewidth": 0,
              "ticks": ""
             }
            },
            "type": "scattergeo"
           }
          ],
          "scattergl": [
           {
            "marker": {
             "colorbar": {
              "outlinewidth": 0,
              "ticks": ""
             }
            },
            "type": "scattergl"
           }
          ],
          "scattermapbox": [
           {
            "marker": {
             "colorbar": {
              "outlinewidth": 0,
              "ticks": ""
             }
            },
            "type": "scattermapbox"
           }
          ],
          "scatterpolar": [
           {
            "marker": {
             "colorbar": {
              "outlinewidth": 0,
              "ticks": ""
             }
            },
            "type": "scatterpolar"
           }
          ],
          "scatterpolargl": [
           {
            "marker": {
             "colorbar": {
              "outlinewidth": 0,
              "ticks": ""
             }
            },
            "type": "scatterpolargl"
           }
          ],
          "scatterternary": [
           {
            "marker": {
             "colorbar": {
              "outlinewidth": 0,
              "ticks": ""
             }
            },
            "type": "scatterternary"
           }
          ],
          "surface": [
           {
            "colorbar": {
             "outlinewidth": 0,
             "ticks": ""
            },
            "colorscale": [
             [
              0,
              "#0d0887"
             ],
             [
              0.1111111111111111,
              "#46039f"
             ],
             [
              0.2222222222222222,
              "#7201a8"
             ],
             [
              0.3333333333333333,
              "#9c179e"
             ],
             [
              0.4444444444444444,
              "#bd3786"
             ],
             [
              0.5555555555555556,
              "#d8576b"
             ],
             [
              0.6666666666666666,
              "#ed7953"
             ],
             [
              0.7777777777777778,
              "#fb9f3a"
             ],
             [
              0.8888888888888888,
              "#fdca26"
             ],
             [
              1,
              "#f0f921"
             ]
            ],
            "type": "surface"
           }
          ],
          "table": [
           {
            "cells": {
             "fill": {
              "color": "#EBF0F8"
             },
             "line": {
              "color": "white"
             }
            },
            "header": {
             "fill": {
              "color": "#C8D4E3"
             },
             "line": {
              "color": "white"
             }
            },
            "type": "table"
           }
          ]
         },
         "layout": {
          "annotationdefaults": {
           "arrowcolor": "#2a3f5f",
           "arrowhead": 0,
           "arrowwidth": 1
          },
          "autotypenumbers": "strict",
          "coloraxis": {
           "colorbar": {
            "outlinewidth": 0,
            "ticks": ""
           }
          },
          "colorscale": {
           "diverging": [
            [
             0,
             "#8e0152"
            ],
            [
             0.1,
             "#c51b7d"
            ],
            [
             0.2,
             "#de77ae"
            ],
            [
             0.3,
             "#f1b6da"
            ],
            [
             0.4,
             "#fde0ef"
            ],
            [
             0.5,
             "#f7f7f7"
            ],
            [
             0.6,
             "#e6f5d0"
            ],
            [
             0.7,
             "#b8e186"
            ],
            [
             0.8,
             "#7fbc41"
            ],
            [
             0.9,
             "#4d9221"
            ],
            [
             1,
             "#276419"
            ]
           ],
           "sequential": [
            [
             0,
             "#0d0887"
            ],
            [
             0.1111111111111111,
             "#46039f"
            ],
            [
             0.2222222222222222,
             "#7201a8"
            ],
            [
             0.3333333333333333,
             "#9c179e"
            ],
            [
             0.4444444444444444,
             "#bd3786"
            ],
            [
             0.5555555555555556,
             "#d8576b"
            ],
            [
             0.6666666666666666,
             "#ed7953"
            ],
            [
             0.7777777777777778,
             "#fb9f3a"
            ],
            [
             0.8888888888888888,
             "#fdca26"
            ],
            [
             1,
             "#f0f921"
            ]
           ],
           "sequentialminus": [
            [
             0,
             "#0d0887"
            ],
            [
             0.1111111111111111,
             "#46039f"
            ],
            [
             0.2222222222222222,
             "#7201a8"
            ],
            [
             0.3333333333333333,
             "#9c179e"
            ],
            [
             0.4444444444444444,
             "#bd3786"
            ],
            [
             0.5555555555555556,
             "#d8576b"
            ],
            [
             0.6666666666666666,
             "#ed7953"
            ],
            [
             0.7777777777777778,
             "#fb9f3a"
            ],
            [
             0.8888888888888888,
             "#fdca26"
            ],
            [
             1,
             "#f0f921"
            ]
           ]
          },
          "colorway": [
           "#636efa",
           "#EF553B",
           "#00cc96",
           "#ab63fa",
           "#FFA15A",
           "#19d3f3",
           "#FF6692",
           "#B6E880",
           "#FF97FF",
           "#FECB52"
          ],
          "font": {
           "color": "#2a3f5f"
          },
          "geo": {
           "bgcolor": "white",
           "lakecolor": "white",
           "landcolor": "#E5ECF6",
           "showlakes": true,
           "showland": true,
           "subunitcolor": "white"
          },
          "hoverlabel": {
           "align": "left"
          },
          "hovermode": "closest",
          "mapbox": {
           "style": "light"
          },
          "paper_bgcolor": "white",
          "plot_bgcolor": "#E5ECF6",
          "polar": {
           "angularaxis": {
            "gridcolor": "white",
            "linecolor": "white",
            "ticks": ""
           },
           "bgcolor": "#E5ECF6",
           "radialaxis": {
            "gridcolor": "white",
            "linecolor": "white",
            "ticks": ""
           }
          },
          "scene": {
           "xaxis": {
            "backgroundcolor": "#E5ECF6",
            "gridcolor": "white",
            "gridwidth": 2,
            "linecolor": "white",
            "showbackground": true,
            "ticks": "",
            "zerolinecolor": "white"
           },
           "yaxis": {
            "backgroundcolor": "#E5ECF6",
            "gridcolor": "white",
            "gridwidth": 2,
            "linecolor": "white",
            "showbackground": true,
            "ticks": "",
            "zerolinecolor": "white"
           },
           "zaxis": {
            "backgroundcolor": "#E5ECF6",
            "gridcolor": "white",
            "gridwidth": 2,
            "linecolor": "white",
            "showbackground": true,
            "ticks": "",
            "zerolinecolor": "white"
           }
          },
          "shapedefaults": {
           "line": {
            "color": "#2a3f5f"
           }
          },
          "ternary": {
           "aaxis": {
            "gridcolor": "white",
            "linecolor": "white",
            "ticks": ""
           },
           "baxis": {
            "gridcolor": "white",
            "linecolor": "white",
            "ticks": ""
           },
           "bgcolor": "#E5ECF6",
           "caxis": {
            "gridcolor": "white",
            "linecolor": "white",
            "ticks": ""
           }
          },
          "title": {
           "x": 0.05
          },
          "xaxis": {
           "automargin": true,
           "gridcolor": "white",
           "linecolor": "white",
           "ticks": "",
           "title": {
            "standoff": 15
           },
           "zerolinecolor": "white",
           "zerolinewidth": 2
          },
          "yaxis": {
           "automargin": true,
           "gridcolor": "white",
           "linecolor": "white",
           "ticks": "",
           "title": {
            "standoff": 15
           },
           "zerolinecolor": "white",
           "zerolinewidth": 2
          }
         }
        },
        "title": {
         "text": "Taux de saturation pour les stations du site PARC DES PRINCES"
        },
        "updatemenus": [
         {
          "buttons": [
           {
            "args": [
             null,
             {
              "frame": {
               "duration": 500,
               "redraw": true
              },
              "fromcurrent": true,
              "mode": "immediate",
              "transition": {
               "duration": 500,
               "easing": "linear"
              }
             }
            ],
            "label": "&#9654;",
            "method": "animate"
           },
           {
            "args": [
             [
              null
             ],
             {
              "frame": {
               "duration": 0,
               "redraw": true
              },
              "fromcurrent": true,
              "mode": "immediate",
              "transition": {
               "duration": 0,
               "easing": "linear"
              }
             }
            ],
            "label": "&#9724;",
            "method": "animate"
           }
          ],
          "direction": "left",
          "pad": {
           "r": 10,
           "t": 70
          },
          "showactive": false,
          "type": "buttons",
          "x": 0.1,
          "xanchor": "right",
          "y": 0,
          "yanchor": "top"
         }
        ]
       }
      }
     },
     "metadata": {},
     "output_type": "display_data"
    }
   ],
   "source": [
    "fig1 = px.scatter_mapbox(viz_df, lat=\"lat\", lon=\"lng\", mapbox_style=\"carto-positron\", height= 650,  zoom=12, animation_frame = 'ds', hover_name=\"station\", \n",
    "                size=viz_df.iloc[:,-1], color=\"satur\", color_continuous_scale=\"Bluered\", range_color=[0,viz_df['satur'].max()],\n",
    "                title=f\"Taux de saturation pour les stations du site {site}\")\n",
    "\n",
    "\n",
    "fig2 = go.Figure(go.Scattermapbox(\n",
    "    lat=site_data[\"lat\"],\n",
    "    lon=site_data[\"lng\"],\n",
    "    hoverinfo=\"text\",\n",
    "    text=site_data[\"site\"], \n",
    "    mode=\"markers+text\",\n",
    "    marker=go.scattermapbox.Marker(\n",
    "        size=12,\n",
    "        color='gray',  \n",
    "        symbol='square',\n",
    "    \n",
    "    ),\n",
    "name='site',\n",
    "textposition=\"bottom center\",showlegend=False, \n",
    "))\n",
    "\n",
    "for trace in fig2.data:\n",
    "    fig1.add_trace(trace)\n",
    "\n",
    "fig1.update_layout(\n",
    "    mapbox=dict(accesstoken=token, \n",
    "    style='light',\n",
    "    zoom=13\n",
    "    ),\n",
    "title=f\"Taux de saturation pour les stations du site {site}\",\n",
    "\n",
    ")\n",
    "\n",
    "fig1.show()"
   ]
  },
  {
   "cell_type": "code",
   "execution_count": 183,
   "metadata": {},
   "outputs": [],
   "source": [
    "# histograme sur saturation"
   ]
  },
  {
   "cell_type": "code",
   "execution_count": 184,
   "metadata": {},
   "outputs": [
    {
     "data": {
      "application/vnd.plotly.v1+json": {
       "config": {
        "plotlyServerURL": "https://plot.ly"
       },
       "data": [
        {
         "alignmentgroup": "True",
         "hovertemplate": "ds=2024-07-01 00:00:00<br>station=%{x}<br>satur=%{y}<extra></extra>",
         "legendgroup": "",
         "marker": {
          "color": "#636efa",
          "pattern": {
           "shape": ""
          }
         },
         "name": "",
         "offsetgroup": "",
         "orientation": "v",
         "showlegend": false,
         "textposition": "auto",
         "type": "bar",
         "x": [
          "BOULEVARD VICTOR",
          "PORTE D'AUTEUIL",
          "PORTE DE SAINT-CLOUD"
         ],
         "xaxis": "x",
         "y": [
          63.259493193059726,
          73.72137120718247,
          78.25188289941413
         ],
         "yaxis": "y"
        }
       ],
       "frames": [
        {
         "data": [
          {
           "alignmentgroup": "True",
           "hovertemplate": "ds=2024-07-01 00:00:00<br>station=%{x}<br>satur=%{y}<extra></extra>",
           "legendgroup": "",
           "marker": {
            "color": "#636efa",
            "pattern": {
             "shape": ""
            }
           },
           "name": "",
           "offsetgroup": "",
           "orientation": "v",
           "showlegend": false,
           "textposition": "auto",
           "type": "bar",
           "x": [
            "BOULEVARD VICTOR",
            "PORTE D'AUTEUIL",
            "PORTE DE SAINT-CLOUD"
           ],
           "xaxis": "x",
           "y": [
            63.259493193059726,
            73.72137120718247,
            78.25188289941413
           ],
           "yaxis": "y"
          }
         ],
         "name": "2024-07-01 00:00:00"
        },
        {
         "data": [
          {
           "alignmentgroup": "True",
           "hovertemplate": "ds=2024-07-02 00:00:00<br>station=%{x}<br>satur=%{y}<extra></extra>",
           "legendgroup": "",
           "marker": {
            "color": "#636efa",
            "pattern": {
             "shape": ""
            }
           },
           "name": "",
           "offsetgroup": "",
           "orientation": "v",
           "showlegend": false,
           "textposition": "auto",
           "type": "bar",
           "x": [
            "BOULEVARD VICTOR",
            "PORTE D'AUTEUIL",
            "PORTE DE SAINT-CLOUD"
           ],
           "xaxis": "x",
           "y": [
            61.484297997182246,
            73.94891617468747,
            79.08046921494103
           ],
           "yaxis": "y"
          }
         ],
         "name": "2024-07-02 00:00:00"
        },
        {
         "data": [
          {
           "alignmentgroup": "True",
           "hovertemplate": "ds=2024-07-03 00:00:00<br>station=%{x}<br>satur=%{y}<extra></extra>",
           "legendgroup": "",
           "marker": {
            "color": "#636efa",
            "pattern": {
             "shape": ""
            }
           },
           "name": "",
           "offsetgroup": "",
           "orientation": "v",
           "showlegend": false,
           "textposition": "auto",
           "type": "bar",
           "x": [
            "BOULEVARD VICTOR",
            "PORTE D'AUTEUIL",
            "PORTE DE SAINT-CLOUD"
           ],
           "xaxis": "x",
           "y": [
            61.91161292560714,
            74.31554470927611,
            81.06330253233914
           ],
           "yaxis": "y"
          }
         ],
         "name": "2024-07-03 00:00:00"
        },
        {
         "data": [
          {
           "alignmentgroup": "True",
           "hovertemplate": "ds=2024-07-04 00:00:00<br>station=%{x}<br>satur=%{y}<extra></extra>",
           "legendgroup": "",
           "marker": {
            "color": "#636efa",
            "pattern": {
             "shape": ""
            }
           },
           "name": "",
           "offsetgroup": "",
           "orientation": "v",
           "showlegend": false,
           "textposition": "auto",
           "type": "bar",
           "x": [
            "BOULEVARD VICTOR",
            "PORTE D'AUTEUIL",
            "PORTE DE SAINT-CLOUD"
           ],
           "xaxis": "x",
           "y": [
            58.648657635332036,
            69.82960353201253,
            77.99404107067748
           ],
           "yaxis": "y"
          }
         ],
         "name": "2024-07-04 00:00:00"
        },
        {
         "data": [
          {
           "alignmentgroup": "True",
           "hovertemplate": "ds=2024-07-05 00:00:00<br>station=%{x}<br>satur=%{y}<extra></extra>",
           "legendgroup": "",
           "marker": {
            "color": "#636efa",
            "pattern": {
             "shape": ""
            }
           },
           "name": "",
           "offsetgroup": "",
           "orientation": "v",
           "showlegend": false,
           "textposition": "auto",
           "type": "bar",
           "x": [
            "BOULEVARD VICTOR",
            "PORTE D'AUTEUIL",
            "PORTE DE SAINT-CLOUD"
           ],
           "xaxis": "x",
           "y": [
            56.381543851742464,
            71.42529841396362,
            79.35337832496427
           ],
           "yaxis": "y"
          }
         ],
         "name": "2024-07-05 00:00:00"
        },
        {
         "data": [
          {
           "alignmentgroup": "True",
           "hovertemplate": "ds=2024-07-06 00:00:00<br>station=%{x}<br>satur=%{y}<extra></extra>",
           "legendgroup": "",
           "marker": {
            "color": "#636efa",
            "pattern": {
             "shape": ""
            }
           },
           "name": "",
           "offsetgroup": "",
           "orientation": "v",
           "showlegend": false,
           "textposition": "auto",
           "type": "bar",
           "x": [
            "BOULEVARD VICTOR",
            "PORTE D'AUTEUIL",
            "PORTE DE SAINT-CLOUD"
           ],
           "xaxis": "x",
           "y": [
            26.526322755977006,
            60.16387946292417,
            56.84664946697545
           ],
           "yaxis": "y"
          }
         ],
         "name": "2024-07-06 00:00:00"
        },
        {
         "data": [
          {
           "alignmentgroup": "True",
           "hovertemplate": "ds=2024-07-07 00:00:00<br>station=%{x}<br>satur=%{y}<extra></extra>",
           "legendgroup": "",
           "marker": {
            "color": "#636efa",
            "pattern": {
             "shape": ""
            }
           },
           "name": "",
           "offsetgroup": "",
           "orientation": "v",
           "showlegend": false,
           "textposition": "auto",
           "type": "bar",
           "x": [
            "BOULEVARD VICTOR",
            "PORTE D'AUTEUIL",
            "PORTE DE SAINT-CLOUD"
           ],
           "xaxis": "x",
           "y": [
            21.350774350721885,
            50.09789135461921,
            53.27390786357503
           ],
           "yaxis": "y"
          }
         ],
         "name": "2024-07-07 00:00:00"
        },
        {
         "data": [
          {
           "alignmentgroup": "True",
           "hovertemplate": "ds=2024-07-08 00:00:00<br>station=%{x}<br>satur=%{y}<extra></extra>",
           "legendgroup": "",
           "marker": {
            "color": "#636efa",
            "pattern": {
             "shape": ""
            }
           },
           "name": "",
           "offsetgroup": "",
           "orientation": "v",
           "showlegend": false,
           "textposition": "auto",
           "type": "bar",
           "x": [
            "BOULEVARD VICTOR",
            "PORTE D'AUTEUIL",
            "PORTE DE SAINT-CLOUD"
           ],
           "xaxis": "x",
           "y": [
            53.34093915174915,
            64.96268424952977,
            75.33844861295036
           ],
           "yaxis": "y"
          }
         ],
         "name": "2024-07-08 00:00:00"
        },
        {
         "data": [
          {
           "alignmentgroup": "True",
           "hovertemplate": "ds=2024-07-09 00:00:00<br>station=%{x}<br>satur=%{y}<extra></extra>",
           "legendgroup": "",
           "marker": {
            "color": "#636efa",
            "pattern": {
             "shape": ""
            }
           },
           "name": "",
           "offsetgroup": "",
           "orientation": "v",
           "showlegend": false,
           "textposition": "auto",
           "type": "bar",
           "x": [
            "BOULEVARD VICTOR",
            "PORTE D'AUTEUIL",
            "PORTE DE SAINT-CLOUD"
           ],
           "xaxis": "x",
           "y": [
            51.85729342044749,
            64.3275110423938,
            76.18575556243297
           ],
           "yaxis": "y"
          }
         ],
         "name": "2024-07-09 00:00:00"
        },
        {
         "data": [
          {
           "alignmentgroup": "True",
           "hovertemplate": "ds=2024-07-10 00:00:00<br>station=%{x}<br>satur=%{y}<extra></extra>",
           "legendgroup": "",
           "marker": {
            "color": "#636efa",
            "pattern": {
             "shape": ""
            }
           },
           "name": "",
           "offsetgroup": "",
           "orientation": "v",
           "showlegend": false,
           "textposition": "auto",
           "type": "bar",
           "x": [
            "BOULEVARD VICTOR",
            "PORTE D'AUTEUIL",
            "PORTE DE SAINT-CLOUD"
           ],
           "xaxis": "x",
           "y": [
            52.338817771031884,
            64.01007662667915,
            78.18376712589905
           ],
           "yaxis": "y"
          }
         ],
         "name": "2024-07-10 00:00:00"
        },
        {
         "data": [
          {
           "alignmentgroup": "True",
           "hovertemplate": "ds=2024-07-11 00:00:00<br>station=%{x}<br>satur=%{y}<extra></extra>",
           "legendgroup": "",
           "marker": {
            "color": "#636efa",
            "pattern": {
             "shape": ""
            }
           },
           "name": "",
           "offsetgroup": "",
           "orientation": "v",
           "showlegend": false,
           "textposition": "auto",
           "type": "bar",
           "x": [
            "BOULEVARD VICTOR",
            "PORTE D'AUTEUIL",
            "PORTE DE SAINT-CLOUD"
           ],
           "xaxis": "x",
           "y": [
            49.7936689527304,
            59.74675761236317,
            75.33887936599393
           ],
           "yaxis": "y"
          }
         ],
         "name": "2024-07-11 00:00:00"
        },
        {
         "data": [
          {
           "alignmentgroup": "True",
           "hovertemplate": "ds=2024-07-12 00:00:00<br>station=%{x}<br>satur=%{y}<extra></extra>",
           "legendgroup": "",
           "marker": {
            "color": "#636efa",
            "pattern": {
             "shape": ""
            }
           },
           "name": "",
           "offsetgroup": "",
           "orientation": "v",
           "showlegend": false,
           "textposition": "auto",
           "type": "bar",
           "x": [
            "BOULEVARD VICTOR",
            "PORTE D'AUTEUIL",
            "PORTE DE SAINT-CLOUD"
           ],
           "xaxis": "x",
           "y": [
            48.16372937616109,
            60.90985547549151,
            76.79538007327453
           ],
           "yaxis": "y"
          }
         ],
         "name": "2024-07-12 00:00:00"
        },
        {
         "data": [
          {
           "alignmentgroup": "True",
           "hovertemplate": "ds=2024-07-13 00:00:00<br>station=%{x}<br>satur=%{y}<extra></extra>",
           "legendgroup": "",
           "marker": {
            "color": "#636efa",
            "pattern": {
             "shape": ""
            }
           },
           "name": "",
           "offsetgroup": "",
           "orientation": "v",
           "showlegend": false,
           "textposition": "auto",
           "type": "bar",
           "x": [
            "BOULEVARD VICTOR",
            "PORTE D'AUTEUIL",
            "PORTE DE SAINT-CLOUD"
           ],
           "xaxis": "x",
           "y": [
            22.838003026597484,
            51.309450206574226,
            55.13137293163911
           ],
           "yaxis": "y"
          }
         ],
         "name": "2024-07-13 00:00:00"
        },
        {
         "data": [
          {
           "alignmentgroup": "True",
           "hovertemplate": "ds=2024-07-14 00:00:00<br>station=%{x}<br>satur=%{y}<extra></extra>",
           "legendgroup": "",
           "marker": {
            "color": "#636efa",
            "pattern": {
             "shape": ""
            }
           },
           "name": "",
           "offsetgroup": "",
           "orientation": "v",
           "showlegend": false,
           "textposition": "auto",
           "type": "bar",
           "x": [
            "BOULEVARD VICTOR",
            "PORTE D'AUTEUIL",
            "PORTE DE SAINT-CLOUD"
           ],
           "xaxis": "x",
           "y": [
            9.336451502235443,
            37.00590043311648,
            26.120888762547306
           ],
           "yaxis": "y"
          }
         ],
         "name": "2024-07-14 00:00:00"
        },
        {
         "data": [
          {
           "alignmentgroup": "True",
           "hovertemplate": "ds=2024-07-15 00:00:00<br>station=%{x}<br>satur=%{y}<extra></extra>",
           "legendgroup": "",
           "marker": {
            "color": "#636efa",
            "pattern": {
             "shape": ""
            }
           },
           "name": "",
           "offsetgroup": "",
           "orientation": "v",
           "showlegend": false,
           "textposition": "auto",
           "type": "bar",
           "x": [
            "BOULEVARD VICTOR",
            "PORTE D'AUTEUIL",
            "PORTE DE SAINT-CLOUD"
           ],
           "xaxis": "x",
           "y": [
            46.845536445878864,
            55.95120304370376,
            73.40897183548634
           ],
           "yaxis": "y"
          }
         ],
         "name": "2024-07-15 00:00:00"
        },
        {
         "data": [
          {
           "alignmentgroup": "True",
           "hovertemplate": "ds=2024-07-16 00:00:00<br>station=%{x}<br>satur=%{y}<extra></extra>",
           "legendgroup": "",
           "marker": {
            "color": "#636efa",
            "pattern": {
             "shape": ""
            }
           },
           "name": "",
           "offsetgroup": "",
           "orientation": "v",
           "showlegend": false,
           "textposition": "auto",
           "type": "bar",
           "x": [
            "BOULEVARD VICTOR",
            "PORTE D'AUTEUIL",
            "PORTE DE SAINT-CLOUD"
           ],
           "xaxis": "x",
           "y": [
            46.07168775834673,
            55.92680270079823,
            74.4122617936692
           ],
           "yaxis": "y"
          }
         ],
         "name": "2024-07-16 00:00:00"
        },
        {
         "data": [
          {
           "alignmentgroup": "True",
           "hovertemplate": "ds=2024-07-17 00:00:00<br>station=%{x}<br>satur=%{y}<extra></extra>",
           "legendgroup": "",
           "marker": {
            "color": "#636efa",
            "pattern": {
             "shape": ""
            }
           },
           "name": "",
           "offsetgroup": "",
           "orientation": "v",
           "showlegend": false,
           "textposition": "auto",
           "type": "bar",
           "x": [
            "BOULEVARD VICTOR",
            "PORTE D'AUTEUIL",
            "PORTE DE SAINT-CLOUD"
           ],
           "xaxis": "x",
           "y": [
            47.073539986545114,
            56.31969788354374,
            76.53985529245934
           ],
           "yaxis": "y"
          }
         ],
         "name": "2024-07-17 00:00:00"
        },
        {
         "data": [
          {
           "alignmentgroup": "True",
           "hovertemplate": "ds=2024-07-18 00:00:00<br>station=%{x}<br>satur=%{y}<extra></extra>",
           "legendgroup": "",
           "marker": {
            "color": "#636efa",
            "pattern": {
             "shape": ""
            }
           },
           "name": "",
           "offsetgroup": "",
           "orientation": "v",
           "showlegend": false,
           "textposition": "auto",
           "type": "bar",
           "x": [
            "BOULEVARD VICTOR",
            "PORTE D'AUTEUIL",
            "PORTE DE SAINT-CLOUD"
           ],
           "xaxis": "x",
           "y": [
            45.356768663358956,
            53.3154252312243,
            73.91218001987983
           ],
           "yaxis": "y"
          }
         ],
         "name": "2024-07-18 00:00:00"
        },
        {
         "data": [
          {
           "alignmentgroup": "True",
           "hovertemplate": "ds=2024-07-19 00:00:00<br>station=%{x}<br>satur=%{y}<extra></extra>",
           "legendgroup": "",
           "marker": {
            "color": "#636efa",
            "pattern": {
             "shape": ""
            }
           },
           "name": "",
           "offsetgroup": "",
           "orientation": "v",
           "showlegend": false,
           "textposition": "auto",
           "type": "bar",
           "x": [
            "BOULEVARD VICTOR",
            "PORTE D'AUTEUIL",
            "PORTE DE SAINT-CLOUD"
           ],
           "xaxis": "x",
           "y": [
            44.43867254006968,
            55.21954658546553,
            75.48294349957258
           ],
           "yaxis": "y"
          }
         ],
         "name": "2024-07-19 00:00:00"
        },
        {
         "data": [
          {
           "alignmentgroup": "True",
           "hovertemplate": "ds=2024-07-20 00:00:00<br>station=%{x}<br>satur=%{y}<extra></extra>",
           "legendgroup": "",
           "marker": {
            "color": "#636efa",
            "pattern": {
             "shape": ""
            }
           },
           "name": "",
           "offsetgroup": "",
           "orientation": "v",
           "showlegend": false,
           "textposition": "auto",
           "type": "bar",
           "x": [
            "BOULEVARD VICTOR",
            "PORTE D'AUTEUIL",
            "PORTE DE SAINT-CLOUD"
           ],
           "xaxis": "x",
           "y": [
            21.340367288987753,
            47.31438798325783,
            54.27364804873264
           ],
           "yaxis": "y"
          }
         ],
         "name": "2024-07-20 00:00:00"
        },
        {
         "data": [
          {
           "alignmentgroup": "True",
           "hovertemplate": "ds=2024-07-21 00:00:00<br>station=%{x}<br>satur=%{y}<extra></extra>",
           "legendgroup": "",
           "marker": {
            "color": "#636efa",
            "pattern": {
             "shape": ""
            }
           },
           "name": "",
           "offsetgroup": "",
           "orientation": "v",
           "showlegend": false,
           "textposition": "auto",
           "type": "bar",
           "x": [
            "BOULEVARD VICTOR",
            "PORTE D'AUTEUIL",
            "PORTE DE SAINT-CLOUD"
           ],
           "xaxis": "x",
           "y": [
            17.55043175608204,
            40.23677879199034,
            51.03959214293627
           ],
           "yaxis": "y"
          }
         ],
         "name": "2024-07-21 00:00:00"
        },
        {
         "data": [
          {
           "alignmentgroup": "True",
           "hovertemplate": "ds=2024-07-22 00:00:00<br>station=%{x}<br>satur=%{y}<extra></extra>",
           "legendgroup": "",
           "marker": {
            "color": "#636efa",
            "pattern": {
             "shape": ""
            }
           },
           "name": "",
           "offsetgroup": "",
           "orientation": "v",
           "showlegend": false,
           "textposition": "auto",
           "type": "bar",
           "x": [
            "BOULEVARD VICTOR",
            "PORTE D'AUTEUIL",
            "PORTE DE SAINT-CLOUD"
           ],
           "xaxis": "x",
           "y": [
            44.824327704506565,
            53.46120603755785,
            72.40431591465124
           ],
           "yaxis": "y"
          }
         ],
         "name": "2024-07-22 00:00:00"
        },
        {
         "data": [
          {
           "alignmentgroup": "True",
           "hovertemplate": "ds=2024-07-23 00:00:00<br>station=%{x}<br>satur=%{y}<extra></extra>",
           "legendgroup": "",
           "marker": {
            "color": "#636efa",
            "pattern": {
             "shape": ""
            }
           },
           "name": "",
           "offsetgroup": "",
           "orientation": "v",
           "showlegend": false,
           "textposition": "auto",
           "type": "bar",
           "x": [
            "BOULEVARD VICTOR",
            "PORTE D'AUTEUIL",
            "PORTE DE SAINT-CLOUD"
           ],
           "xaxis": "x",
           "y": [
            44.55031179524484,
            54.37832270910597,
            73.41194522733939
           ],
           "yaxis": "y"
          }
         ],
         "name": "2024-07-23 00:00:00"
        },
        {
         "data": [
          {
           "alignmentgroup": "True",
           "hovertemplate": "ds=2024-07-24 00:00:00<br>station=%{x}<br>satur=%{y}<extra></extra>",
           "legendgroup": "",
           "marker": {
            "color": "#636efa",
            "pattern": {
             "shape": ""
            }
           },
           "name": "",
           "offsetgroup": "",
           "orientation": "v",
           "showlegend": false,
           "textposition": "auto",
           "type": "bar",
           "x": [
            "BOULEVARD VICTOR",
            "PORTE D'AUTEUIL",
            "PORTE DE SAINT-CLOUD"
           ],
           "xaxis": "x",
           "y": [
            41.65537224808816,
            74.54620724021281,
            96.64437280821974
           ],
           "yaxis": "y"
          }
         ],
         "name": "2024-07-24 00:00:00"
        },
        {
         "data": [
          {
           "alignmentgroup": "True",
           "hovertemplate": "ds=2024-07-25 00:00:00<br>station=%{x}<br>satur=%{y}<extra></extra>",
           "legendgroup": "",
           "marker": {
            "color": "#636efa",
            "pattern": {
             "shape": ""
            }
           },
           "name": "",
           "offsetgroup": "",
           "orientation": "v",
           "showlegend": false,
           "textposition": "auto",
           "type": "bar",
           "x": [
            "BOULEVARD VICTOR",
            "PORTE D'AUTEUIL",
            "PORTE DE SAINT-CLOUD"
           ],
           "xaxis": "x",
           "y": [
            44.622744683953655,
            53.5077426406661,
            72.84115180346828
           ],
           "yaxis": "y"
          }
         ],
         "name": "2024-07-25 00:00:00"
        },
        {
         "data": [
          {
           "alignmentgroup": "True",
           "hovertemplate": "ds=2024-07-26 00:00:00<br>station=%{x}<br>satur=%{y}<extra></extra>",
           "legendgroup": "",
           "marker": {
            "color": "#636efa",
            "pattern": {
             "shape": ""
            }
           },
           "name": "",
           "offsetgroup": "",
           "orientation": "v",
           "showlegend": false,
           "textposition": "auto",
           "type": "bar",
           "x": [
            "BOULEVARD VICTOR",
            "PORTE D'AUTEUIL",
            "PORTE DE SAINT-CLOUD"
           ],
           "xaxis": "x",
           "y": [
            43.99993833645684,
            56.1616613094179,
            74.290522704302
           ],
           "yaxis": "y"
          }
         ],
         "name": "2024-07-26 00:00:00"
        },
        {
         "data": [
          {
           "alignmentgroup": "True",
           "hovertemplate": "ds=2024-07-27 00:00:00<br>station=%{x}<br>satur=%{y}<extra></extra>",
           "legendgroup": "",
           "marker": {
            "color": "#636efa",
            "pattern": {
             "shape": ""
            }
           },
           "name": "",
           "offsetgroup": "",
           "orientation": "v",
           "showlegend": false,
           "textposition": "auto",
           "type": "bar",
           "x": [
            "BOULEVARD VICTOR",
            "PORTE D'AUTEUIL",
            "PORTE DE SAINT-CLOUD"
           ],
           "xaxis": "x",
           "y": [
            19.247672714009987,
            128.20979882659947,
            75.64377395099088
           ],
           "yaxis": "y"
          }
         ],
         "name": "2024-07-27 00:00:00"
        },
        {
         "data": [
          {
           "alignmentgroup": "True",
           "hovertemplate": "ds=2024-07-28 00:00:00<br>station=%{x}<br>satur=%{y}<extra></extra>",
           "legendgroup": "",
           "marker": {
            "color": "#636efa",
            "pattern": {
             "shape": ""
            }
           },
           "name": "",
           "offsetgroup": "",
           "orientation": "v",
           "showlegend": false,
           "textposition": "auto",
           "type": "bar",
           "x": [
            "BOULEVARD VICTOR",
            "PORTE D'AUTEUIL",
            "PORTE DE SAINT-CLOUD"
           ],
           "xaxis": "x",
           "y": [
            15.87725629214129,
            109.97446186473188,
            70.9702719505068
           ],
           "yaxis": "y"
          }
         ],
         "name": "2024-07-28 00:00:00"
        },
        {
         "data": [
          {
           "alignmentgroup": "True",
           "hovertemplate": "ds=2024-07-29 00:00:00<br>station=%{x}<br>satur=%{y}<extra></extra>",
           "legendgroup": "",
           "marker": {
            "color": "#636efa",
            "pattern": {
             "shape": ""
            }
           },
           "name": "",
           "offsetgroup": "",
           "orientation": "v",
           "showlegend": false,
           "textposition": "auto",
           "type": "bar",
           "x": [
            "BOULEVARD VICTOR",
            "PORTE D'AUTEUIL",
            "PORTE DE SAINT-CLOUD"
           ],
           "xaxis": "x",
           "y": [
            44.78480162565744,
            109.77061445822305,
            78.42249191279436
           ],
           "yaxis": "y"
          }
         ],
         "name": "2024-07-29 00:00:00"
        },
        {
         "data": [
          {
           "alignmentgroup": "True",
           "hovertemplate": "ds=2024-07-30 00:00:00<br>station=%{x}<br>satur=%{y}<extra></extra>",
           "legendgroup": "",
           "marker": {
            "color": "#636efa",
            "pattern": {
             "shape": ""
            }
           },
           "name": "",
           "offsetgroup": "",
           "orientation": "v",
           "showlegend": false,
           "textposition": "auto",
           "type": "bar",
           "x": [
            "BOULEVARD VICTOR",
            "PORTE D'AUTEUIL",
            "PORTE DE SAINT-CLOUD"
           ],
           "xaxis": "x",
           "y": [
            40.33746058916347,
            149.9563772353777,
            101.47125630510993
           ],
           "yaxis": "y"
          }
         ],
         "name": "2024-07-30 00:00:00"
        },
        {
         "data": [
          {
           "alignmentgroup": "True",
           "hovertemplate": "ds=2024-07-31 00:00:00<br>station=%{x}<br>satur=%{y}<extra></extra>",
           "legendgroup": "",
           "marker": {
            "color": "#636efa",
            "pattern": {
             "shape": ""
            }
           },
           "name": "",
           "offsetgroup": "",
           "orientation": "v",
           "showlegend": false,
           "textposition": "auto",
           "type": "bar",
           "x": [
            "BOULEVARD VICTOR",
            "PORTE D'AUTEUIL",
            "PORTE DE SAINT-CLOUD"
           ],
           "xaxis": "x",
           "y": [
            45.7910311298581,
            114.67233255814513,
            81.21995307783124
           ],
           "yaxis": "y"
          }
         ],
         "name": "2024-07-31 00:00:00"
        },
        {
         "data": [
          {
           "alignmentgroup": "True",
           "hovertemplate": "ds=2024-08-01 00:00:00<br>station=%{x}<br>satur=%{y}<extra></extra>",
           "legendgroup": "",
           "marker": {
            "color": "#636efa",
            "pattern": {
             "shape": ""
            }
           },
           "name": "",
           "offsetgroup": "",
           "orientation": "v",
           "showlegend": false,
           "textposition": "auto",
           "type": "bar",
           "x": [
            "BOULEVARD VICTOR",
            "PORTE D'AUTEUIL",
            "PORTE DE SAINT-CLOUD"
           ],
           "xaxis": "x",
           "y": [
            44.31429187258708,
            109.90915573328283,
            78.07502395610307
           ],
           "yaxis": "y"
          }
         ],
         "name": "2024-08-01 00:00:00"
        },
        {
         "data": [
          {
           "alignmentgroup": "True",
           "hovertemplate": "ds=2024-08-02 00:00:00<br>station=%{x}<br>satur=%{y}<extra></extra>",
           "legendgroup": "",
           "marker": {
            "color": "#636efa",
            "pattern": {
             "shape": ""
            }
           },
           "name": "",
           "offsetgroup": "",
           "orientation": "v",
           "showlegend": false,
           "textposition": "auto",
           "type": "bar",
           "x": [
            "BOULEVARD VICTOR",
            "PORTE D'AUTEUIL",
            "PORTE DE SAINT-CLOUD"
           ],
           "xaxis": "x",
           "y": [
            39.42181341859859,
            153.62267974438893,
            101.54258184764203
           ],
           "yaxis": "y"
          }
         ],
         "name": "2024-08-02 00:00:00"
        },
        {
         "data": [
          {
           "alignmentgroup": "True",
           "hovertemplate": "ds=2024-08-03 00:00:00<br>station=%{x}<br>satur=%{y}<extra></extra>",
           "legendgroup": "",
           "marker": {
            "color": "#636efa",
            "pattern": {
             "shape": ""
            }
           },
           "name": "",
           "offsetgroup": "",
           "orientation": "v",
           "showlegend": false,
           "textposition": "auto",
           "type": "bar",
           "x": [
            "BOULEVARD VICTOR",
            "PORTE D'AUTEUIL",
            "PORTE DE SAINT-CLOUD"
           ],
           "xaxis": "x",
           "y": [
            18.90668970140819,
            132.0422178968389,
            72.5866096454158
           ],
           "yaxis": "y"
          }
         ],
         "name": "2024-08-03 00:00:00"
        },
        {
         "data": [
          {
           "alignmentgroup": "True",
           "hovertemplate": "ds=2024-08-04 00:00:00<br>station=%{x}<br>satur=%{y}<extra></extra>",
           "legendgroup": "",
           "marker": {
            "color": "#636efa",
            "pattern": {
             "shape": ""
            }
           },
           "name": "",
           "offsetgroup": "",
           "orientation": "v",
           "showlegend": false,
           "textposition": "auto",
           "type": "bar",
           "x": [
            "BOULEVARD VICTOR",
            "PORTE D'AUTEUIL",
            "PORTE DE SAINT-CLOUD"
           ],
           "xaxis": "x",
           "y": [
            17.083682738811355,
            83.7285716907229,
            52.98641214208886
           ],
           "yaxis": "y"
          }
         ],
         "name": "2024-08-04 00:00:00"
        },
        {
         "data": [
          {
           "alignmentgroup": "True",
           "hovertemplate": "ds=2024-08-05 00:00:00<br>station=%{x}<br>satur=%{y}<extra></extra>",
           "legendgroup": "",
           "marker": {
            "color": "#636efa",
            "pattern": {
             "shape": ""
            }
           },
           "name": "",
           "offsetgroup": "",
           "orientation": "v",
           "showlegend": false,
           "textposition": "auto",
           "type": "bar",
           "x": [
            "BOULEVARD VICTOR",
            "PORTE D'AUTEUIL",
            "PORTE DE SAINT-CLOUD"
           ],
           "xaxis": "x",
           "y": [
            43.360557400306384,
            56.187349244167436,
            67.38215092991479
           ],
           "yaxis": "y"
          }
         ],
         "name": "2024-08-05 00:00:00"
        },
        {
         "data": [
          {
           "alignmentgroup": "True",
           "hovertemplate": "ds=2024-08-06 00:00:00<br>station=%{x}<br>satur=%{y}<extra></extra>",
           "legendgroup": "",
           "marker": {
            "color": "#636efa",
            "pattern": {
             "shape": ""
            }
           },
           "name": "",
           "offsetgroup": "",
           "orientation": "v",
           "showlegend": false,
           "textposition": "auto",
           "type": "bar",
           "x": [
            "BOULEVARD VICTOR",
            "PORTE D'AUTEUIL",
            "PORTE DE SAINT-CLOUD"
           ],
           "xaxis": "x",
           "y": [
            42.7407466786573,
            111.29276608010687,
            75.20523866007248
           ],
           "yaxis": "y"
          }
         ],
         "name": "2024-08-06 00:00:00"
        },
        {
         "data": [
          {
           "alignmentgroup": "True",
           "hovertemplate": "ds=2024-08-07 00:00:00<br>station=%{x}<br>satur=%{y}<extra></extra>",
           "legendgroup": "",
           "marker": {
            "color": "#636efa",
            "pattern": {
             "shape": ""
            }
           },
           "name": "",
           "offsetgroup": "",
           "orientation": "v",
           "showlegend": false,
           "textposition": "auto",
           "type": "bar",
           "x": [
            "BOULEVARD VICTOR",
            "PORTE D'AUTEUIL",
            "PORTE DE SAINT-CLOUD"
           ],
           "xaxis": "x",
           "y": [
            43.645471944856254,
            112.3266466803303,
            76.82032565716402
           ],
           "yaxis": "y"
          }
         ],
         "name": "2024-08-07 00:00:00"
        },
        {
         "data": [
          {
           "alignmentgroup": "True",
           "hovertemplate": "ds=2024-08-08 00:00:00<br>station=%{x}<br>satur=%{y}<extra></extra>",
           "legendgroup": "",
           "marker": {
            "color": "#636efa",
            "pattern": {
             "shape": ""
            }
           },
           "name": "",
           "offsetgroup": "",
           "orientation": "v",
           "showlegend": false,
           "textposition": "auto",
           "type": "bar",
           "x": [
            "BOULEVARD VICTOR",
            "PORTE D'AUTEUIL",
            "PORTE DE SAINT-CLOUD"
           ],
           "xaxis": "x",
           "y": [
            41.92213253603789,
            106.07524581101686,
            73.64769831248212
           ],
           "yaxis": "y"
          }
         ],
         "name": "2024-08-08 00:00:00"
        },
        {
         "data": [
          {
           "alignmentgroup": "True",
           "hovertemplate": "ds=2024-08-09 00:00:00<br>station=%{x}<br>satur=%{y}<extra></extra>",
           "legendgroup": "",
           "marker": {
            "color": "#636efa",
            "pattern": {
             "shape": ""
            }
           },
           "name": "",
           "offsetgroup": "",
           "orientation": "v",
           "showlegend": false,
           "textposition": "auto",
           "type": "bar",
           "x": [
            "BOULEVARD VICTOR",
            "PORTE D'AUTEUIL",
            "PORTE DE SAINT-CLOUD"
           ],
           "xaxis": "x",
           "y": [
            37.039093666869945,
            146.09387857138273,
            95.5832130067696
           ],
           "yaxis": "y"
          }
         ],
         "name": "2024-08-09 00:00:00"
        },
        {
         "data": [
          {
           "alignmentgroup": "True",
           "hovertemplate": "ds=2024-08-10 00:00:00<br>station=%{x}<br>satur=%{y}<extra></extra>",
           "legendgroup": "",
           "marker": {
            "color": "#636efa",
            "pattern": {
             "shape": ""
            }
           },
           "name": "",
           "offsetgroup": "",
           "orientation": "v",
           "showlegend": false,
           "textposition": "auto",
           "type": "bar",
           "x": [
            "BOULEVARD VICTOR",
            "PORTE D'AUTEUIL",
            "PORTE DE SAINT-CLOUD"
           ],
           "xaxis": "x",
           "y": [
            17.659747258006053,
            123.81012458521306,
            68.2292872311894
           ],
           "yaxis": "y"
          }
         ],
         "name": "2024-08-10 00:00:00"
        },
        {
         "data": [
          {
           "alignmentgroup": "True",
           "hovertemplate": "ds=2024-08-11 00:00:00<br>station=%{x}<br>satur=%{y}<extra></extra>",
           "legendgroup": "",
           "marker": {
            "color": "#636efa",
            "pattern": {
             "shape": ""
            }
           },
           "name": "",
           "offsetgroup": "",
           "orientation": "v",
           "showlegend": false,
           "textposition": "auto",
           "type": "bar",
           "x": [
            "BOULEVARD VICTOR",
            "PORTE D'AUTEUIL",
            "PORTE DE SAINT-CLOUD"
           ],
           "xaxis": "x",
           "y": [
            15.883549126637858,
            39.3824737249643,
            44.91315425775704
           ],
           "yaxis": "y"
          }
         ],
         "name": "2024-08-11 00:00:00"
        },
        {
         "data": [
          {
           "alignmentgroup": "True",
           "hovertemplate": "ds=2024-08-12 00:00:00<br>station=%{x}<br>satur=%{y}<extra></extra>",
           "legendgroup": "",
           "marker": {
            "color": "#636efa",
            "pattern": {
             "shape": ""
            }
           },
           "name": "",
           "offsetgroup": "",
           "orientation": "v",
           "showlegend": false,
           "textposition": "auto",
           "type": "bar",
           "x": [
            "BOULEVARD VICTOR",
            "PORTE D'AUTEUIL",
            "PORTE DE SAINT-CLOUD"
           ],
           "xaxis": "x",
           "y": [
            40.19114172587137,
            51.41742626737368,
            63.306824887388245
           ],
           "yaxis": "y"
          }
         ],
         "name": "2024-08-12 00:00:00"
        },
        {
         "data": [
          {
           "alignmentgroup": "True",
           "hovertemplate": "ds=2024-08-13 00:00:00<br>station=%{x}<br>satur=%{y}<extra></extra>",
           "legendgroup": "",
           "marker": {
            "color": "#636efa",
            "pattern": {
             "shape": ""
            }
           },
           "name": "",
           "offsetgroup": "",
           "orientation": "v",
           "showlegend": false,
           "textposition": "auto",
           "type": "bar",
           "x": [
            "BOULEVARD VICTOR",
            "PORTE D'AUTEUIL",
            "PORTE DE SAINT-CLOUD"
           ],
           "xaxis": "x",
           "y": [
            39.5663889338947,
            51.27803730361939,
            63.82714835733003
           ],
           "yaxis": "y"
          }
         ],
         "name": "2024-08-13 00:00:00"
        },
        {
         "data": [
          {
           "alignmentgroup": "True",
           "hovertemplate": "ds=2024-08-14 00:00:00<br>station=%{x}<br>satur=%{y}<extra></extra>",
           "legendgroup": "",
           "marker": {
            "color": "#636efa",
            "pattern": {
             "shape": ""
            }
           },
           "name": "",
           "offsetgroup": "",
           "orientation": "v",
           "showlegend": false,
           "textposition": "auto",
           "type": "bar",
           "x": [
            "BOULEVARD VICTOR",
            "PORTE D'AUTEUIL",
            "PORTE DE SAINT-CLOUD"
           ],
           "xaxis": "x",
           "y": [
            40.43358420000853,
            51.40259818634988,
            65.33049270644983
           ],
           "yaxis": "y"
          }
         ],
         "name": "2024-08-14 00:00:00"
        },
        {
         "data": [
          {
           "alignmentgroup": "True",
           "hovertemplate": "ds=2024-08-15 00:00:00<br>station=%{x}<br>satur=%{y}<extra></extra>",
           "legendgroup": "",
           "marker": {
            "color": "#636efa",
            "pattern": {
             "shape": ""
            }
           },
           "name": "",
           "offsetgroup": "",
           "orientation": "v",
           "showlegend": false,
           "textposition": "auto",
           "type": "bar",
           "x": [
            "BOULEVARD VICTOR",
            "PORTE D'AUTEUIL",
            "PORTE DE SAINT-CLOUD"
           ],
           "xaxis": "x",
           "y": [
            15.566425935398378,
            28.805565719151886,
            72.67115379896664
           ],
           "yaxis": "y"
          }
         ],
         "name": "2024-08-15 00:00:00"
        },
        {
         "data": [
          {
           "alignmentgroup": "True",
           "hovertemplate": "ds=2024-08-16 00:00:00<br>station=%{x}<br>satur=%{y}<extra></extra>",
           "legendgroup": "",
           "marker": {
            "color": "#636efa",
            "pattern": {
             "shape": ""
            }
           },
           "name": "",
           "offsetgroup": "",
           "orientation": "v",
           "showlegend": false,
           "textposition": "auto",
           "type": "bar",
           "x": [
            "BOULEVARD VICTOR",
            "PORTE D'AUTEUIL",
            "PORTE DE SAINT-CLOUD"
           ],
           "xaxis": "x",
           "y": [
            38.1546818432812,
            49.678934983364236,
            63.94192162871
           ],
           "yaxis": "y"
          }
         ],
         "name": "2024-08-16 00:00:00"
        },
        {
         "data": [
          {
           "alignmentgroup": "True",
           "hovertemplate": "ds=2024-08-17 00:00:00<br>station=%{x}<br>satur=%{y}<extra></extra>",
           "legendgroup": "",
           "marker": {
            "color": "#636efa",
            "pattern": {
             "shape": ""
            }
           },
           "name": "",
           "offsetgroup": "",
           "orientation": "v",
           "showlegend": false,
           "textposition": "auto",
           "type": "bar",
           "x": [
            "BOULEVARD VICTOR",
            "PORTE D'AUTEUIL",
            "PORTE DE SAINT-CLOUD"
           ],
           "xaxis": "x",
           "y": [
            18.329119834820702,
            42.19426809175868,
            45.871417344434775
           ],
           "yaxis": "y"
          }
         ],
         "name": "2024-08-17 00:00:00"
        },
        {
         "data": [
          {
           "alignmentgroup": "True",
           "hovertemplate": "ds=2024-08-18 00:00:00<br>station=%{x}<br>satur=%{y}<extra></extra>",
           "legendgroup": "",
           "marker": {
            "color": "#636efa",
            "pattern": {
             "shape": ""
            }
           },
           "name": "",
           "offsetgroup": "",
           "orientation": "v",
           "showlegend": false,
           "textposition": "auto",
           "type": "bar",
           "x": [
            "BOULEVARD VICTOR",
            "PORTE D'AUTEUIL",
            "PORTE DE SAINT-CLOUD"
           ],
           "xaxis": "x",
           "y": [
            15.094619951121608,
            35.5576132336165,
            43.095375029776065
           ],
           "yaxis": "y"
          }
         ],
         "name": "2024-08-18 00:00:00"
        },
        {
         "data": [
          {
           "alignmentgroup": "True",
           "hovertemplate": "ds=2024-08-19 00:00:00<br>station=%{x}<br>satur=%{y}<extra></extra>",
           "legendgroup": "",
           "marker": {
            "color": "#636efa",
            "pattern": {
             "shape": ""
            }
           },
           "name": "",
           "offsetgroup": "",
           "orientation": "v",
           "showlegend": false,
           "textposition": "auto",
           "type": "bar",
           "x": [
            "BOULEVARD VICTOR",
            "PORTE D'AUTEUIL",
            "PORTE DE SAINT-CLOUD"
           ],
           "xaxis": "x",
           "y": [
            38.66286836735061,
            46.83103137153146,
            61.16328416377578
           ],
           "yaxis": "y"
          }
         ],
         "name": "2024-08-19 00:00:00"
        },
        {
         "data": [
          {
           "alignmentgroup": "True",
           "hovertemplate": "ds=2024-08-20 00:00:00<br>station=%{x}<br>satur=%{y}<extra></extra>",
           "legendgroup": "",
           "marker": {
            "color": "#636efa",
            "pattern": {
             "shape": ""
            }
           },
           "name": "",
           "offsetgroup": "",
           "orientation": "v",
           "showlegend": false,
           "textposition": "auto",
           "type": "bar",
           "x": [
            "BOULEVARD VICTOR",
            "PORTE D'AUTEUIL",
            "PORTE DE SAINT-CLOUD"
           ],
           "xaxis": "x",
           "y": [
            38.61272328375029,
            47.26240330342385,
            62.14409518325409
           ],
           "yaxis": "y"
          }
         ],
         "name": "2024-08-20 00:00:00"
        },
        {
         "data": [
          {
           "alignmentgroup": "True",
           "hovertemplate": "ds=2024-08-21 00:00:00<br>station=%{x}<br>satur=%{y}<extra></extra>",
           "legendgroup": "",
           "marker": {
            "color": "#636efa",
            "pattern": {
             "shape": ""
            }
           },
           "name": "",
           "offsetgroup": "",
           "orientation": "v",
           "showlegend": false,
           "textposition": "auto",
           "type": "bar",
           "x": [
            "BOULEVARD VICTOR",
            "PORTE D'AUTEUIL",
            "PORTE DE SAINT-CLOUD"
           ],
           "xaxis": "x",
           "y": [
            40.11122195167374,
            48.08521086581787,
            64.1505320641437
           ],
           "yaxis": "y"
          }
         ],
         "name": "2024-08-21 00:00:00"
        },
        {
         "data": [
          {
           "alignmentgroup": "True",
           "hovertemplate": "ds=2024-08-22 00:00:00<br>station=%{x}<br>satur=%{y}<extra></extra>",
           "legendgroup": "",
           "marker": {
            "color": "#636efa",
            "pattern": {
             "shape": ""
            }
           },
           "name": "",
           "offsetgroup": "",
           "orientation": "v",
           "showlegend": false,
           "textposition": "auto",
           "type": "bar",
           "x": [
            "BOULEVARD VICTOR",
            "PORTE D'AUTEUIL",
            "PORTE DE SAINT-CLOUD"
           ],
           "xaxis": "x",
           "y": [
            39.349016385865674,
            46.02478389974967,
            62.25498611024176
           ],
           "yaxis": "y"
          }
         ],
         "name": "2024-08-22 00:00:00"
        },
        {
         "data": [
          {
           "alignmentgroup": "True",
           "hovertemplate": "ds=2024-08-23 00:00:00<br>station=%{x}<br>satur=%{y}<extra></extra>",
           "legendgroup": "",
           "marker": {
            "color": "#636efa",
            "pattern": {
             "shape": ""
            }
           },
           "name": "",
           "offsetgroup": "",
           "orientation": "v",
           "showlegend": false,
           "textposition": "auto",
           "type": "bar",
           "x": [
            "BOULEVARD VICTOR",
            "PORTE D'AUTEUIL",
            "PORTE DE SAINT-CLOUD"
           ],
           "xaxis": "x",
           "y": [
            39.313920058408286,
            48.23930268670246,
            63.98516298202973
           ],
           "yaxis": "y"
          }
         ],
         "name": "2024-08-23 00:00:00"
        },
        {
         "data": [
          {
           "alignmentgroup": "True",
           "hovertemplate": "ds=2024-08-24 00:00:00<br>station=%{x}<br>satur=%{y}<extra></extra>",
           "legendgroup": "",
           "marker": {
            "color": "#636efa",
            "pattern": {
             "shape": ""
            }
           },
           "name": "",
           "offsetgroup": "",
           "orientation": "v",
           "showlegend": false,
           "textposition": "auto",
           "type": "bar",
           "x": [
            "BOULEVARD VICTOR",
            "PORTE D'AUTEUIL",
            "PORTE DE SAINT-CLOUD"
           ],
           "xaxis": "x",
           "y": [
            19.286005631053573,
            41.86976719357126,
            46.37136595891794
           ],
           "yaxis": "y"
          }
         ],
         "name": "2024-08-24 00:00:00"
        },
        {
         "data": [
          {
           "alignmentgroup": "True",
           "hovertemplate": "ds=2024-08-25 00:00:00<br>station=%{x}<br>satur=%{y}<extra></extra>",
           "legendgroup": "",
           "marker": {
            "color": "#636efa",
            "pattern": {
             "shape": ""
            }
           },
           "name": "",
           "offsetgroup": "",
           "orientation": "v",
           "showlegend": false,
           "textposition": "auto",
           "type": "bar",
           "x": [
            "BOULEVARD VICTOR",
            "PORTE D'AUTEUIL",
            "PORTE DE SAINT-CLOUD"
           ],
           "xaxis": "x",
           "y": [
            16.233167240584805,
            36.10807647987046,
            44.02298306781876
           ],
           "yaxis": "y"
          }
         ],
         "name": "2024-08-25 00:00:00"
        },
        {
         "data": [
          {
           "alignmentgroup": "True",
           "hovertemplate": "ds=2024-08-26 00:00:00<br>station=%{x}<br>satur=%{y}<extra></extra>",
           "legendgroup": "",
           "marker": {
            "color": "#636efa",
            "pattern": {
             "shape": ""
            }
           },
           "name": "",
           "offsetgroup": "",
           "orientation": "v",
           "showlegend": false,
           "textposition": "auto",
           "type": "bar",
           "x": [
            "BOULEVARD VICTOR",
            "PORTE D'AUTEUIL",
            "PORTE DE SAINT-CLOUD"
           ],
           "xaxis": "x",
           "y": [
            42.51748007988977,
            48.70884186701507,
            63.14553123243836
           ],
           "yaxis": "y"
          }
         ],
         "name": "2024-08-26 00:00:00"
        },
        {
         "data": [
          {
           "alignmentgroup": "True",
           "hovertemplate": "ds=2024-08-27 00:00:00<br>station=%{x}<br>satur=%{y}<extra></extra>",
           "legendgroup": "",
           "marker": {
            "color": "#636efa",
            "pattern": {
             "shape": ""
            }
           },
           "name": "",
           "offsetgroup": "",
           "orientation": "v",
           "showlegend": false,
           "textposition": "auto",
           "type": "bar",
           "x": [
            "BOULEVARD VICTOR",
            "PORTE D'AUTEUIL",
            "PORTE DE SAINT-CLOUD"
           ],
           "xaxis": "x",
           "y": [
            43.424225222488964,
            50.36498004972157,
            64.84084303880576
           ],
           "yaxis": "y"
          }
         ],
         "name": "2024-08-27 00:00:00"
        },
        {
         "data": [
          {
           "alignmentgroup": "True",
           "hovertemplate": "ds=2024-08-28 00:00:00<br>station=%{x}<br>satur=%{y}<extra></extra>",
           "legendgroup": "",
           "marker": {
            "color": "#636efa",
            "pattern": {
             "shape": ""
            }
           },
           "name": "",
           "offsetgroup": "",
           "orientation": "v",
           "showlegend": false,
           "textposition": "auto",
           "type": "bar",
           "x": [
            "BOULEVARD VICTOR",
            "PORTE D'AUTEUIL",
            "PORTE DE SAINT-CLOUD"
           ],
           "xaxis": "x",
           "y": [
            46.11576724496474,
            52.487073250734696,
            67.63478900084607
           ],
           "yaxis": "y"
          }
         ],
         "name": "2024-08-28 00:00:00"
        },
        {
         "data": [
          {
           "alignmentgroup": "True",
           "hovertemplate": "ds=2024-08-29 00:00:00<br>station=%{x}<br>satur=%{y}<extra></extra>",
           "legendgroup": "",
           "marker": {
            "color": "#636efa",
            "pattern": {
             "shape": ""
            }
           },
           "name": "",
           "offsetgroup": "",
           "orientation": "v",
           "showlegend": false,
           "textposition": "auto",
           "type": "bar",
           "x": [
            "BOULEVARD VICTOR",
            "PORTE D'AUTEUIL",
            "PORTE DE SAINT-CLOUD"
           ],
           "xaxis": "x",
           "y": [
            46.213509380107546,
            51.416566777372694,
            66.3008247927104
           ],
           "yaxis": "y"
          }
         ],
         "name": "2024-08-29 00:00:00"
        },
        {
         "data": [
          {
           "alignmentgroup": "True",
           "hovertemplate": "ds=2024-08-30 00:00:00<br>station=%{x}<br>satur=%{y}<extra></extra>",
           "legendgroup": "",
           "marker": {
            "color": "#636efa",
            "pattern": {
             "shape": ""
            }
           },
           "name": "",
           "offsetgroup": "",
           "orientation": "v",
           "showlegend": false,
           "textposition": "auto",
           "type": "bar",
           "x": [
            "BOULEVARD VICTOR",
            "PORTE D'AUTEUIL",
            "PORTE DE SAINT-CLOUD"
           ],
           "xaxis": "x",
           "y": [
            47.1108245558999,
            55.07898327327025,
            68.79918737398845
           ],
           "yaxis": "y"
          }
         ],
         "name": "2024-08-30 00:00:00"
        },
        {
         "data": [
          {
           "alignmentgroup": "True",
           "hovertemplate": "ds=2024-08-31 00:00:00<br>station=%{x}<br>satur=%{y}<extra></extra>",
           "legendgroup": "",
           "marker": {
            "color": "#636efa",
            "pattern": {
             "shape": ""
            }
           },
           "name": "",
           "offsetgroup": "",
           "orientation": "v",
           "showlegend": false,
           "textposition": "auto",
           "type": "bar",
           "x": [
            "BOULEVARD VICTOR",
            "PORTE D'AUTEUIL",
            "PORTE DE SAINT-CLOUD"
           ],
           "xaxis": "x",
           "y": [
            23.54334830439617,
            48.768158809858996,
            50.30719862714561
           ],
           "yaxis": "y"
          }
         ],
         "name": "2024-08-31 00:00:00"
        }
       ],
       "layout": {
        "barmode": "relative",
        "legend": {
         "tracegroupgap": 0
        },
        "margin": {
         "t": 60
        },
        "shapes": [
         {
          "line": {
           "color": "yellow",
           "dash": "dash",
           "width": 3
          },
          "type": "line",
          "x0": 0,
          "x1": 1,
          "xref": "x domain",
          "y0": 100,
          "y1": 100,
          "yref": "y"
         }
        ],
        "sliders": [
         {
          "active": 0,
          "currentvalue": {
           "prefix": "ds="
          },
          "len": 0.9,
          "pad": {
           "b": 10,
           "t": 60
          },
          "steps": [
           {
            "args": [
             [
              "2024-07-01 00:00:00"
             ],
             {
              "frame": {
               "duration": 0,
               "redraw": true
              },
              "fromcurrent": true,
              "mode": "immediate",
              "transition": {
               "duration": 0,
               "easing": "linear"
              }
             }
            ],
            "label": "2024-07-01 00:00:00",
            "method": "animate"
           },
           {
            "args": [
             [
              "2024-07-02 00:00:00"
             ],
             {
              "frame": {
               "duration": 0,
               "redraw": true
              },
              "fromcurrent": true,
              "mode": "immediate",
              "transition": {
               "duration": 0,
               "easing": "linear"
              }
             }
            ],
            "label": "2024-07-02 00:00:00",
            "method": "animate"
           },
           {
            "args": [
             [
              "2024-07-03 00:00:00"
             ],
             {
              "frame": {
               "duration": 0,
               "redraw": true
              },
              "fromcurrent": true,
              "mode": "immediate",
              "transition": {
               "duration": 0,
               "easing": "linear"
              }
             }
            ],
            "label": "2024-07-03 00:00:00",
            "method": "animate"
           },
           {
            "args": [
             [
              "2024-07-04 00:00:00"
             ],
             {
              "frame": {
               "duration": 0,
               "redraw": true
              },
              "fromcurrent": true,
              "mode": "immediate",
              "transition": {
               "duration": 0,
               "easing": "linear"
              }
             }
            ],
            "label": "2024-07-04 00:00:00",
            "method": "animate"
           },
           {
            "args": [
             [
              "2024-07-05 00:00:00"
             ],
             {
              "frame": {
               "duration": 0,
               "redraw": true
              },
              "fromcurrent": true,
              "mode": "immediate",
              "transition": {
               "duration": 0,
               "easing": "linear"
              }
             }
            ],
            "label": "2024-07-05 00:00:00",
            "method": "animate"
           },
           {
            "args": [
             [
              "2024-07-06 00:00:00"
             ],
             {
              "frame": {
               "duration": 0,
               "redraw": true
              },
              "fromcurrent": true,
              "mode": "immediate",
              "transition": {
               "duration": 0,
               "easing": "linear"
              }
             }
            ],
            "label": "2024-07-06 00:00:00",
            "method": "animate"
           },
           {
            "args": [
             [
              "2024-07-07 00:00:00"
             ],
             {
              "frame": {
               "duration": 0,
               "redraw": true
              },
              "fromcurrent": true,
              "mode": "immediate",
              "transition": {
               "duration": 0,
               "easing": "linear"
              }
             }
            ],
            "label": "2024-07-07 00:00:00",
            "method": "animate"
           },
           {
            "args": [
             [
              "2024-07-08 00:00:00"
             ],
             {
              "frame": {
               "duration": 0,
               "redraw": true
              },
              "fromcurrent": true,
              "mode": "immediate",
              "transition": {
               "duration": 0,
               "easing": "linear"
              }
             }
            ],
            "label": "2024-07-08 00:00:00",
            "method": "animate"
           },
           {
            "args": [
             [
              "2024-07-09 00:00:00"
             ],
             {
              "frame": {
               "duration": 0,
               "redraw": true
              },
              "fromcurrent": true,
              "mode": "immediate",
              "transition": {
               "duration": 0,
               "easing": "linear"
              }
             }
            ],
            "label": "2024-07-09 00:00:00",
            "method": "animate"
           },
           {
            "args": [
             [
              "2024-07-10 00:00:00"
             ],
             {
              "frame": {
               "duration": 0,
               "redraw": true
              },
              "fromcurrent": true,
              "mode": "immediate",
              "transition": {
               "duration": 0,
               "easing": "linear"
              }
             }
            ],
            "label": "2024-07-10 00:00:00",
            "method": "animate"
           },
           {
            "args": [
             [
              "2024-07-11 00:00:00"
             ],
             {
              "frame": {
               "duration": 0,
               "redraw": true
              },
              "fromcurrent": true,
              "mode": "immediate",
              "transition": {
               "duration": 0,
               "easing": "linear"
              }
             }
            ],
            "label": "2024-07-11 00:00:00",
            "method": "animate"
           },
           {
            "args": [
             [
              "2024-07-12 00:00:00"
             ],
             {
              "frame": {
               "duration": 0,
               "redraw": true
              },
              "fromcurrent": true,
              "mode": "immediate",
              "transition": {
               "duration": 0,
               "easing": "linear"
              }
             }
            ],
            "label": "2024-07-12 00:00:00",
            "method": "animate"
           },
           {
            "args": [
             [
              "2024-07-13 00:00:00"
             ],
             {
              "frame": {
               "duration": 0,
               "redraw": true
              },
              "fromcurrent": true,
              "mode": "immediate",
              "transition": {
               "duration": 0,
               "easing": "linear"
              }
             }
            ],
            "label": "2024-07-13 00:00:00",
            "method": "animate"
           },
           {
            "args": [
             [
              "2024-07-14 00:00:00"
             ],
             {
              "frame": {
               "duration": 0,
               "redraw": true
              },
              "fromcurrent": true,
              "mode": "immediate",
              "transition": {
               "duration": 0,
               "easing": "linear"
              }
             }
            ],
            "label": "2024-07-14 00:00:00",
            "method": "animate"
           },
           {
            "args": [
             [
              "2024-07-15 00:00:00"
             ],
             {
              "frame": {
               "duration": 0,
               "redraw": true
              },
              "fromcurrent": true,
              "mode": "immediate",
              "transition": {
               "duration": 0,
               "easing": "linear"
              }
             }
            ],
            "label": "2024-07-15 00:00:00",
            "method": "animate"
           },
           {
            "args": [
             [
              "2024-07-16 00:00:00"
             ],
             {
              "frame": {
               "duration": 0,
               "redraw": true
              },
              "fromcurrent": true,
              "mode": "immediate",
              "transition": {
               "duration": 0,
               "easing": "linear"
              }
             }
            ],
            "label": "2024-07-16 00:00:00",
            "method": "animate"
           },
           {
            "args": [
             [
              "2024-07-17 00:00:00"
             ],
             {
              "frame": {
               "duration": 0,
               "redraw": true
              },
              "fromcurrent": true,
              "mode": "immediate",
              "transition": {
               "duration": 0,
               "easing": "linear"
              }
             }
            ],
            "label": "2024-07-17 00:00:00",
            "method": "animate"
           },
           {
            "args": [
             [
              "2024-07-18 00:00:00"
             ],
             {
              "frame": {
               "duration": 0,
               "redraw": true
              },
              "fromcurrent": true,
              "mode": "immediate",
              "transition": {
               "duration": 0,
               "easing": "linear"
              }
             }
            ],
            "label": "2024-07-18 00:00:00",
            "method": "animate"
           },
           {
            "args": [
             [
              "2024-07-19 00:00:00"
             ],
             {
              "frame": {
               "duration": 0,
               "redraw": true
              },
              "fromcurrent": true,
              "mode": "immediate",
              "transition": {
               "duration": 0,
               "easing": "linear"
              }
             }
            ],
            "label": "2024-07-19 00:00:00",
            "method": "animate"
           },
           {
            "args": [
             [
              "2024-07-20 00:00:00"
             ],
             {
              "frame": {
               "duration": 0,
               "redraw": true
              },
              "fromcurrent": true,
              "mode": "immediate",
              "transition": {
               "duration": 0,
               "easing": "linear"
              }
             }
            ],
            "label": "2024-07-20 00:00:00",
            "method": "animate"
           },
           {
            "args": [
             [
              "2024-07-21 00:00:00"
             ],
             {
              "frame": {
               "duration": 0,
               "redraw": true
              },
              "fromcurrent": true,
              "mode": "immediate",
              "transition": {
               "duration": 0,
               "easing": "linear"
              }
             }
            ],
            "label": "2024-07-21 00:00:00",
            "method": "animate"
           },
           {
            "args": [
             [
              "2024-07-22 00:00:00"
             ],
             {
              "frame": {
               "duration": 0,
               "redraw": true
              },
              "fromcurrent": true,
              "mode": "immediate",
              "transition": {
               "duration": 0,
               "easing": "linear"
              }
             }
            ],
            "label": "2024-07-22 00:00:00",
            "method": "animate"
           },
           {
            "args": [
             [
              "2024-07-23 00:00:00"
             ],
             {
              "frame": {
               "duration": 0,
               "redraw": true
              },
              "fromcurrent": true,
              "mode": "immediate",
              "transition": {
               "duration": 0,
               "easing": "linear"
              }
             }
            ],
            "label": "2024-07-23 00:00:00",
            "method": "animate"
           },
           {
            "args": [
             [
              "2024-07-24 00:00:00"
             ],
             {
              "frame": {
               "duration": 0,
               "redraw": true
              },
              "fromcurrent": true,
              "mode": "immediate",
              "transition": {
               "duration": 0,
               "easing": "linear"
              }
             }
            ],
            "label": "2024-07-24 00:00:00",
            "method": "animate"
           },
           {
            "args": [
             [
              "2024-07-25 00:00:00"
             ],
             {
              "frame": {
               "duration": 0,
               "redraw": true
              },
              "fromcurrent": true,
              "mode": "immediate",
              "transition": {
               "duration": 0,
               "easing": "linear"
              }
             }
            ],
            "label": "2024-07-25 00:00:00",
            "method": "animate"
           },
           {
            "args": [
             [
              "2024-07-26 00:00:00"
             ],
             {
              "frame": {
               "duration": 0,
               "redraw": true
              },
              "fromcurrent": true,
              "mode": "immediate",
              "transition": {
               "duration": 0,
               "easing": "linear"
              }
             }
            ],
            "label": "2024-07-26 00:00:00",
            "method": "animate"
           },
           {
            "args": [
             [
              "2024-07-27 00:00:00"
             ],
             {
              "frame": {
               "duration": 0,
               "redraw": true
              },
              "fromcurrent": true,
              "mode": "immediate",
              "transition": {
               "duration": 0,
               "easing": "linear"
              }
             }
            ],
            "label": "2024-07-27 00:00:00",
            "method": "animate"
           },
           {
            "args": [
             [
              "2024-07-28 00:00:00"
             ],
             {
              "frame": {
               "duration": 0,
               "redraw": true
              },
              "fromcurrent": true,
              "mode": "immediate",
              "transition": {
               "duration": 0,
               "easing": "linear"
              }
             }
            ],
            "label": "2024-07-28 00:00:00",
            "method": "animate"
           },
           {
            "args": [
             [
              "2024-07-29 00:00:00"
             ],
             {
              "frame": {
               "duration": 0,
               "redraw": true
              },
              "fromcurrent": true,
              "mode": "immediate",
              "transition": {
               "duration": 0,
               "easing": "linear"
              }
             }
            ],
            "label": "2024-07-29 00:00:00",
            "method": "animate"
           },
           {
            "args": [
             [
              "2024-07-30 00:00:00"
             ],
             {
              "frame": {
               "duration": 0,
               "redraw": true
              },
              "fromcurrent": true,
              "mode": "immediate",
              "transition": {
               "duration": 0,
               "easing": "linear"
              }
             }
            ],
            "label": "2024-07-30 00:00:00",
            "method": "animate"
           },
           {
            "args": [
             [
              "2024-07-31 00:00:00"
             ],
             {
              "frame": {
               "duration": 0,
               "redraw": true
              },
              "fromcurrent": true,
              "mode": "immediate",
              "transition": {
               "duration": 0,
               "easing": "linear"
              }
             }
            ],
            "label": "2024-07-31 00:00:00",
            "method": "animate"
           },
           {
            "args": [
             [
              "2024-08-01 00:00:00"
             ],
             {
              "frame": {
               "duration": 0,
               "redraw": true
              },
              "fromcurrent": true,
              "mode": "immediate",
              "transition": {
               "duration": 0,
               "easing": "linear"
              }
             }
            ],
            "label": "2024-08-01 00:00:00",
            "method": "animate"
           },
           {
            "args": [
             [
              "2024-08-02 00:00:00"
             ],
             {
              "frame": {
               "duration": 0,
               "redraw": true
              },
              "fromcurrent": true,
              "mode": "immediate",
              "transition": {
               "duration": 0,
               "easing": "linear"
              }
             }
            ],
            "label": "2024-08-02 00:00:00",
            "method": "animate"
           },
           {
            "args": [
             [
              "2024-08-03 00:00:00"
             ],
             {
              "frame": {
               "duration": 0,
               "redraw": true
              },
              "fromcurrent": true,
              "mode": "immediate",
              "transition": {
               "duration": 0,
               "easing": "linear"
              }
             }
            ],
            "label": "2024-08-03 00:00:00",
            "method": "animate"
           },
           {
            "args": [
             [
              "2024-08-04 00:00:00"
             ],
             {
              "frame": {
               "duration": 0,
               "redraw": true
              },
              "fromcurrent": true,
              "mode": "immediate",
              "transition": {
               "duration": 0,
               "easing": "linear"
              }
             }
            ],
            "label": "2024-08-04 00:00:00",
            "method": "animate"
           },
           {
            "args": [
             [
              "2024-08-05 00:00:00"
             ],
             {
              "frame": {
               "duration": 0,
               "redraw": true
              },
              "fromcurrent": true,
              "mode": "immediate",
              "transition": {
               "duration": 0,
               "easing": "linear"
              }
             }
            ],
            "label": "2024-08-05 00:00:00",
            "method": "animate"
           },
           {
            "args": [
             [
              "2024-08-06 00:00:00"
             ],
             {
              "frame": {
               "duration": 0,
               "redraw": true
              },
              "fromcurrent": true,
              "mode": "immediate",
              "transition": {
               "duration": 0,
               "easing": "linear"
              }
             }
            ],
            "label": "2024-08-06 00:00:00",
            "method": "animate"
           },
           {
            "args": [
             [
              "2024-08-07 00:00:00"
             ],
             {
              "frame": {
               "duration": 0,
               "redraw": true
              },
              "fromcurrent": true,
              "mode": "immediate",
              "transition": {
               "duration": 0,
               "easing": "linear"
              }
             }
            ],
            "label": "2024-08-07 00:00:00",
            "method": "animate"
           },
           {
            "args": [
             [
              "2024-08-08 00:00:00"
             ],
             {
              "frame": {
               "duration": 0,
               "redraw": true
              },
              "fromcurrent": true,
              "mode": "immediate",
              "transition": {
               "duration": 0,
               "easing": "linear"
              }
             }
            ],
            "label": "2024-08-08 00:00:00",
            "method": "animate"
           },
           {
            "args": [
             [
              "2024-08-09 00:00:00"
             ],
             {
              "frame": {
               "duration": 0,
               "redraw": true
              },
              "fromcurrent": true,
              "mode": "immediate",
              "transition": {
               "duration": 0,
               "easing": "linear"
              }
             }
            ],
            "label": "2024-08-09 00:00:00",
            "method": "animate"
           },
           {
            "args": [
             [
              "2024-08-10 00:00:00"
             ],
             {
              "frame": {
               "duration": 0,
               "redraw": true
              },
              "fromcurrent": true,
              "mode": "immediate",
              "transition": {
               "duration": 0,
               "easing": "linear"
              }
             }
            ],
            "label": "2024-08-10 00:00:00",
            "method": "animate"
           },
           {
            "args": [
             [
              "2024-08-11 00:00:00"
             ],
             {
              "frame": {
               "duration": 0,
               "redraw": true
              },
              "fromcurrent": true,
              "mode": "immediate",
              "transition": {
               "duration": 0,
               "easing": "linear"
              }
             }
            ],
            "label": "2024-08-11 00:00:00",
            "method": "animate"
           },
           {
            "args": [
             [
              "2024-08-12 00:00:00"
             ],
             {
              "frame": {
               "duration": 0,
               "redraw": true
              },
              "fromcurrent": true,
              "mode": "immediate",
              "transition": {
               "duration": 0,
               "easing": "linear"
              }
             }
            ],
            "label": "2024-08-12 00:00:00",
            "method": "animate"
           },
           {
            "args": [
             [
              "2024-08-13 00:00:00"
             ],
             {
              "frame": {
               "duration": 0,
               "redraw": true
              },
              "fromcurrent": true,
              "mode": "immediate",
              "transition": {
               "duration": 0,
               "easing": "linear"
              }
             }
            ],
            "label": "2024-08-13 00:00:00",
            "method": "animate"
           },
           {
            "args": [
             [
              "2024-08-14 00:00:00"
             ],
             {
              "frame": {
               "duration": 0,
               "redraw": true
              },
              "fromcurrent": true,
              "mode": "immediate",
              "transition": {
               "duration": 0,
               "easing": "linear"
              }
             }
            ],
            "label": "2024-08-14 00:00:00",
            "method": "animate"
           },
           {
            "args": [
             [
              "2024-08-15 00:00:00"
             ],
             {
              "frame": {
               "duration": 0,
               "redraw": true
              },
              "fromcurrent": true,
              "mode": "immediate",
              "transition": {
               "duration": 0,
               "easing": "linear"
              }
             }
            ],
            "label": "2024-08-15 00:00:00",
            "method": "animate"
           },
           {
            "args": [
             [
              "2024-08-16 00:00:00"
             ],
             {
              "frame": {
               "duration": 0,
               "redraw": true
              },
              "fromcurrent": true,
              "mode": "immediate",
              "transition": {
               "duration": 0,
               "easing": "linear"
              }
             }
            ],
            "label": "2024-08-16 00:00:00",
            "method": "animate"
           },
           {
            "args": [
             [
              "2024-08-17 00:00:00"
             ],
             {
              "frame": {
               "duration": 0,
               "redraw": true
              },
              "fromcurrent": true,
              "mode": "immediate",
              "transition": {
               "duration": 0,
               "easing": "linear"
              }
             }
            ],
            "label": "2024-08-17 00:00:00",
            "method": "animate"
           },
           {
            "args": [
             [
              "2024-08-18 00:00:00"
             ],
             {
              "frame": {
               "duration": 0,
               "redraw": true
              },
              "fromcurrent": true,
              "mode": "immediate",
              "transition": {
               "duration": 0,
               "easing": "linear"
              }
             }
            ],
            "label": "2024-08-18 00:00:00",
            "method": "animate"
           },
           {
            "args": [
             [
              "2024-08-19 00:00:00"
             ],
             {
              "frame": {
               "duration": 0,
               "redraw": true
              },
              "fromcurrent": true,
              "mode": "immediate",
              "transition": {
               "duration": 0,
               "easing": "linear"
              }
             }
            ],
            "label": "2024-08-19 00:00:00",
            "method": "animate"
           },
           {
            "args": [
             [
              "2024-08-20 00:00:00"
             ],
             {
              "frame": {
               "duration": 0,
               "redraw": true
              },
              "fromcurrent": true,
              "mode": "immediate",
              "transition": {
               "duration": 0,
               "easing": "linear"
              }
             }
            ],
            "label": "2024-08-20 00:00:00",
            "method": "animate"
           },
           {
            "args": [
             [
              "2024-08-21 00:00:00"
             ],
             {
              "frame": {
               "duration": 0,
               "redraw": true
              },
              "fromcurrent": true,
              "mode": "immediate",
              "transition": {
               "duration": 0,
               "easing": "linear"
              }
             }
            ],
            "label": "2024-08-21 00:00:00",
            "method": "animate"
           },
           {
            "args": [
             [
              "2024-08-22 00:00:00"
             ],
             {
              "frame": {
               "duration": 0,
               "redraw": true
              },
              "fromcurrent": true,
              "mode": "immediate",
              "transition": {
               "duration": 0,
               "easing": "linear"
              }
             }
            ],
            "label": "2024-08-22 00:00:00",
            "method": "animate"
           },
           {
            "args": [
             [
              "2024-08-23 00:00:00"
             ],
             {
              "frame": {
               "duration": 0,
               "redraw": true
              },
              "fromcurrent": true,
              "mode": "immediate",
              "transition": {
               "duration": 0,
               "easing": "linear"
              }
             }
            ],
            "label": "2024-08-23 00:00:00",
            "method": "animate"
           },
           {
            "args": [
             [
              "2024-08-24 00:00:00"
             ],
             {
              "frame": {
               "duration": 0,
               "redraw": true
              },
              "fromcurrent": true,
              "mode": "immediate",
              "transition": {
               "duration": 0,
               "easing": "linear"
              }
             }
            ],
            "label": "2024-08-24 00:00:00",
            "method": "animate"
           },
           {
            "args": [
             [
              "2024-08-25 00:00:00"
             ],
             {
              "frame": {
               "duration": 0,
               "redraw": true
              },
              "fromcurrent": true,
              "mode": "immediate",
              "transition": {
               "duration": 0,
               "easing": "linear"
              }
             }
            ],
            "label": "2024-08-25 00:00:00",
            "method": "animate"
           },
           {
            "args": [
             [
              "2024-08-26 00:00:00"
             ],
             {
              "frame": {
               "duration": 0,
               "redraw": true
              },
              "fromcurrent": true,
              "mode": "immediate",
              "transition": {
               "duration": 0,
               "easing": "linear"
              }
             }
            ],
            "label": "2024-08-26 00:00:00",
            "method": "animate"
           },
           {
            "args": [
             [
              "2024-08-27 00:00:00"
             ],
             {
              "frame": {
               "duration": 0,
               "redraw": true
              },
              "fromcurrent": true,
              "mode": "immediate",
              "transition": {
               "duration": 0,
               "easing": "linear"
              }
             }
            ],
            "label": "2024-08-27 00:00:00",
            "method": "animate"
           },
           {
            "args": [
             [
              "2024-08-28 00:00:00"
             ],
             {
              "frame": {
               "duration": 0,
               "redraw": true
              },
              "fromcurrent": true,
              "mode": "immediate",
              "transition": {
               "duration": 0,
               "easing": "linear"
              }
             }
            ],
            "label": "2024-08-28 00:00:00",
            "method": "animate"
           },
           {
            "args": [
             [
              "2024-08-29 00:00:00"
             ],
             {
              "frame": {
               "duration": 0,
               "redraw": true
              },
              "fromcurrent": true,
              "mode": "immediate",
              "transition": {
               "duration": 0,
               "easing": "linear"
              }
             }
            ],
            "label": "2024-08-29 00:00:00",
            "method": "animate"
           },
           {
            "args": [
             [
              "2024-08-30 00:00:00"
             ],
             {
              "frame": {
               "duration": 0,
               "redraw": true
              },
              "fromcurrent": true,
              "mode": "immediate",
              "transition": {
               "duration": 0,
               "easing": "linear"
              }
             }
            ],
            "label": "2024-08-30 00:00:00",
            "method": "animate"
           },
           {
            "args": [
             [
              "2024-08-31 00:00:00"
             ],
             {
              "frame": {
               "duration": 0,
               "redraw": true
              },
              "fromcurrent": true,
              "mode": "immediate",
              "transition": {
               "duration": 0,
               "easing": "linear"
              }
             }
            ],
            "label": "2024-08-31 00:00:00",
            "method": "animate"
           }
          ],
          "x": 0.1,
          "xanchor": "left",
          "y": 0,
          "yanchor": "top"
         }
        ],
        "template": {
         "data": {
          "bar": [
           {
            "error_x": {
             "color": "#2a3f5f"
            },
            "error_y": {
             "color": "#2a3f5f"
            },
            "marker": {
             "line": {
              "color": "#E5ECF6",
              "width": 0.5
             },
             "pattern": {
              "fillmode": "overlay",
              "size": 10,
              "solidity": 0.2
             }
            },
            "type": "bar"
           }
          ],
          "barpolar": [
           {
            "marker": {
             "line": {
              "color": "#E5ECF6",
              "width": 0.5
             },
             "pattern": {
              "fillmode": "overlay",
              "size": 10,
              "solidity": 0.2
             }
            },
            "type": "barpolar"
           }
          ],
          "carpet": [
           {
            "aaxis": {
             "endlinecolor": "#2a3f5f",
             "gridcolor": "white",
             "linecolor": "white",
             "minorgridcolor": "white",
             "startlinecolor": "#2a3f5f"
            },
            "baxis": {
             "endlinecolor": "#2a3f5f",
             "gridcolor": "white",
             "linecolor": "white",
             "minorgridcolor": "white",
             "startlinecolor": "#2a3f5f"
            },
            "type": "carpet"
           }
          ],
          "choropleth": [
           {
            "colorbar": {
             "outlinewidth": 0,
             "ticks": ""
            },
            "type": "choropleth"
           }
          ],
          "contour": [
           {
            "colorbar": {
             "outlinewidth": 0,
             "ticks": ""
            },
            "colorscale": [
             [
              0,
              "#0d0887"
             ],
             [
              0.1111111111111111,
              "#46039f"
             ],
             [
              0.2222222222222222,
              "#7201a8"
             ],
             [
              0.3333333333333333,
              "#9c179e"
             ],
             [
              0.4444444444444444,
              "#bd3786"
             ],
             [
              0.5555555555555556,
              "#d8576b"
             ],
             [
              0.6666666666666666,
              "#ed7953"
             ],
             [
              0.7777777777777778,
              "#fb9f3a"
             ],
             [
              0.8888888888888888,
              "#fdca26"
             ],
             [
              1,
              "#f0f921"
             ]
            ],
            "type": "contour"
           }
          ],
          "contourcarpet": [
           {
            "colorbar": {
             "outlinewidth": 0,
             "ticks": ""
            },
            "type": "contourcarpet"
           }
          ],
          "heatmap": [
           {
            "colorbar": {
             "outlinewidth": 0,
             "ticks": ""
            },
            "colorscale": [
             [
              0,
              "#0d0887"
             ],
             [
              0.1111111111111111,
              "#46039f"
             ],
             [
              0.2222222222222222,
              "#7201a8"
             ],
             [
              0.3333333333333333,
              "#9c179e"
             ],
             [
              0.4444444444444444,
              "#bd3786"
             ],
             [
              0.5555555555555556,
              "#d8576b"
             ],
             [
              0.6666666666666666,
              "#ed7953"
             ],
             [
              0.7777777777777778,
              "#fb9f3a"
             ],
             [
              0.8888888888888888,
              "#fdca26"
             ],
             [
              1,
              "#f0f921"
             ]
            ],
            "type": "heatmap"
           }
          ],
          "heatmapgl": [
           {
            "colorbar": {
             "outlinewidth": 0,
             "ticks": ""
            },
            "colorscale": [
             [
              0,
              "#0d0887"
             ],
             [
              0.1111111111111111,
              "#46039f"
             ],
             [
              0.2222222222222222,
              "#7201a8"
             ],
             [
              0.3333333333333333,
              "#9c179e"
             ],
             [
              0.4444444444444444,
              "#bd3786"
             ],
             [
              0.5555555555555556,
              "#d8576b"
             ],
             [
              0.6666666666666666,
              "#ed7953"
             ],
             [
              0.7777777777777778,
              "#fb9f3a"
             ],
             [
              0.8888888888888888,
              "#fdca26"
             ],
             [
              1,
              "#f0f921"
             ]
            ],
            "type": "heatmapgl"
           }
          ],
          "histogram": [
           {
            "marker": {
             "pattern": {
              "fillmode": "overlay",
              "size": 10,
              "solidity": 0.2
             }
            },
            "type": "histogram"
           }
          ],
          "histogram2d": [
           {
            "colorbar": {
             "outlinewidth": 0,
             "ticks": ""
            },
            "colorscale": [
             [
              0,
              "#0d0887"
             ],
             [
              0.1111111111111111,
              "#46039f"
             ],
             [
              0.2222222222222222,
              "#7201a8"
             ],
             [
              0.3333333333333333,
              "#9c179e"
             ],
             [
              0.4444444444444444,
              "#bd3786"
             ],
             [
              0.5555555555555556,
              "#d8576b"
             ],
             [
              0.6666666666666666,
              "#ed7953"
             ],
             [
              0.7777777777777778,
              "#fb9f3a"
             ],
             [
              0.8888888888888888,
              "#fdca26"
             ],
             [
              1,
              "#f0f921"
             ]
            ],
            "type": "histogram2d"
           }
          ],
          "histogram2dcontour": [
           {
            "colorbar": {
             "outlinewidth": 0,
             "ticks": ""
            },
            "colorscale": [
             [
              0,
              "#0d0887"
             ],
             [
              0.1111111111111111,
              "#46039f"
             ],
             [
              0.2222222222222222,
              "#7201a8"
             ],
             [
              0.3333333333333333,
              "#9c179e"
             ],
             [
              0.4444444444444444,
              "#bd3786"
             ],
             [
              0.5555555555555556,
              "#d8576b"
             ],
             [
              0.6666666666666666,
              "#ed7953"
             ],
             [
              0.7777777777777778,
              "#fb9f3a"
             ],
             [
              0.8888888888888888,
              "#fdca26"
             ],
             [
              1,
              "#f0f921"
             ]
            ],
            "type": "histogram2dcontour"
           }
          ],
          "mesh3d": [
           {
            "colorbar": {
             "outlinewidth": 0,
             "ticks": ""
            },
            "type": "mesh3d"
           }
          ],
          "parcoords": [
           {
            "line": {
             "colorbar": {
              "outlinewidth": 0,
              "ticks": ""
             }
            },
            "type": "parcoords"
           }
          ],
          "pie": [
           {
            "automargin": true,
            "type": "pie"
           }
          ],
          "scatter": [
           {
            "fillpattern": {
             "fillmode": "overlay",
             "size": 10,
             "solidity": 0.2
            },
            "type": "scatter"
           }
          ],
          "scatter3d": [
           {
            "line": {
             "colorbar": {
              "outlinewidth": 0,
              "ticks": ""
             }
            },
            "marker": {
             "colorbar": {
              "outlinewidth": 0,
              "ticks": ""
             }
            },
            "type": "scatter3d"
           }
          ],
          "scattercarpet": [
           {
            "marker": {
             "colorbar": {
              "outlinewidth": 0,
              "ticks": ""
             }
            },
            "type": "scattercarpet"
           }
          ],
          "scattergeo": [
           {
            "marker": {
             "colorbar": {
              "outlinewidth": 0,
              "ticks": ""
             }
            },
            "type": "scattergeo"
           }
          ],
          "scattergl": [
           {
            "marker": {
             "colorbar": {
              "outlinewidth": 0,
              "ticks": ""
             }
            },
            "type": "scattergl"
           }
          ],
          "scattermapbox": [
           {
            "marker": {
             "colorbar": {
              "outlinewidth": 0,
              "ticks": ""
             }
            },
            "type": "scattermapbox"
           }
          ],
          "scatterpolar": [
           {
            "marker": {
             "colorbar": {
              "outlinewidth": 0,
              "ticks": ""
             }
            },
            "type": "scatterpolar"
           }
          ],
          "scatterpolargl": [
           {
            "marker": {
             "colorbar": {
              "outlinewidth": 0,
              "ticks": ""
             }
            },
            "type": "scatterpolargl"
           }
          ],
          "scatterternary": [
           {
            "marker": {
             "colorbar": {
              "outlinewidth": 0,
              "ticks": ""
             }
            },
            "type": "scatterternary"
           }
          ],
          "surface": [
           {
            "colorbar": {
             "outlinewidth": 0,
             "ticks": ""
            },
            "colorscale": [
             [
              0,
              "#0d0887"
             ],
             [
              0.1111111111111111,
              "#46039f"
             ],
             [
              0.2222222222222222,
              "#7201a8"
             ],
             [
              0.3333333333333333,
              "#9c179e"
             ],
             [
              0.4444444444444444,
              "#bd3786"
             ],
             [
              0.5555555555555556,
              "#d8576b"
             ],
             [
              0.6666666666666666,
              "#ed7953"
             ],
             [
              0.7777777777777778,
              "#fb9f3a"
             ],
             [
              0.8888888888888888,
              "#fdca26"
             ],
             [
              1,
              "#f0f921"
             ]
            ],
            "type": "surface"
           }
          ],
          "table": [
           {
            "cells": {
             "fill": {
              "color": "#EBF0F8"
             },
             "line": {
              "color": "white"
             }
            },
            "header": {
             "fill": {
              "color": "#C8D4E3"
             },
             "line": {
              "color": "white"
             }
            },
            "type": "table"
           }
          ]
         },
         "layout": {
          "annotationdefaults": {
           "arrowcolor": "#2a3f5f",
           "arrowhead": 0,
           "arrowwidth": 1
          },
          "autotypenumbers": "strict",
          "coloraxis": {
           "colorbar": {
            "outlinewidth": 0,
            "ticks": ""
           }
          },
          "colorscale": {
           "diverging": [
            [
             0,
             "#8e0152"
            ],
            [
             0.1,
             "#c51b7d"
            ],
            [
             0.2,
             "#de77ae"
            ],
            [
             0.3,
             "#f1b6da"
            ],
            [
             0.4,
             "#fde0ef"
            ],
            [
             0.5,
             "#f7f7f7"
            ],
            [
             0.6,
             "#e6f5d0"
            ],
            [
             0.7,
             "#b8e186"
            ],
            [
             0.8,
             "#7fbc41"
            ],
            [
             0.9,
             "#4d9221"
            ],
            [
             1,
             "#276419"
            ]
           ],
           "sequential": [
            [
             0,
             "#0d0887"
            ],
            [
             0.1111111111111111,
             "#46039f"
            ],
            [
             0.2222222222222222,
             "#7201a8"
            ],
            [
             0.3333333333333333,
             "#9c179e"
            ],
            [
             0.4444444444444444,
             "#bd3786"
            ],
            [
             0.5555555555555556,
             "#d8576b"
            ],
            [
             0.6666666666666666,
             "#ed7953"
            ],
            [
             0.7777777777777778,
             "#fb9f3a"
            ],
            [
             0.8888888888888888,
             "#fdca26"
            ],
            [
             1,
             "#f0f921"
            ]
           ],
           "sequentialminus": [
            [
             0,
             "#0d0887"
            ],
            [
             0.1111111111111111,
             "#46039f"
            ],
            [
             0.2222222222222222,
             "#7201a8"
            ],
            [
             0.3333333333333333,
             "#9c179e"
            ],
            [
             0.4444444444444444,
             "#bd3786"
            ],
            [
             0.5555555555555556,
             "#d8576b"
            ],
            [
             0.6666666666666666,
             "#ed7953"
            ],
            [
             0.7777777777777778,
             "#fb9f3a"
            ],
            [
             0.8888888888888888,
             "#fdca26"
            ],
            [
             1,
             "#f0f921"
            ]
           ]
          },
          "colorway": [
           "#636efa",
           "#EF553B",
           "#00cc96",
           "#ab63fa",
           "#FFA15A",
           "#19d3f3",
           "#FF6692",
           "#B6E880",
           "#FF97FF",
           "#FECB52"
          ],
          "font": {
           "color": "#2a3f5f"
          },
          "geo": {
           "bgcolor": "white",
           "lakecolor": "white",
           "landcolor": "#E5ECF6",
           "showlakes": true,
           "showland": true,
           "subunitcolor": "white"
          },
          "hoverlabel": {
           "align": "left"
          },
          "hovermode": "closest",
          "mapbox": {
           "style": "light"
          },
          "paper_bgcolor": "white",
          "plot_bgcolor": "#E5ECF6",
          "polar": {
           "angularaxis": {
            "gridcolor": "white",
            "linecolor": "white",
            "ticks": ""
           },
           "bgcolor": "#E5ECF6",
           "radialaxis": {
            "gridcolor": "white",
            "linecolor": "white",
            "ticks": ""
           }
          },
          "scene": {
           "xaxis": {
            "backgroundcolor": "#E5ECF6",
            "gridcolor": "white",
            "gridwidth": 2,
            "linecolor": "white",
            "showbackground": true,
            "ticks": "",
            "zerolinecolor": "white"
           },
           "yaxis": {
            "backgroundcolor": "#E5ECF6",
            "gridcolor": "white",
            "gridwidth": 2,
            "linecolor": "white",
            "showbackground": true,
            "ticks": "",
            "zerolinecolor": "white"
           },
           "zaxis": {
            "backgroundcolor": "#E5ECF6",
            "gridcolor": "white",
            "gridwidth": 2,
            "linecolor": "white",
            "showbackground": true,
            "ticks": "",
            "zerolinecolor": "white"
           }
          },
          "shapedefaults": {
           "line": {
            "color": "#2a3f5f"
           }
          },
          "ternary": {
           "aaxis": {
            "gridcolor": "white",
            "linecolor": "white",
            "ticks": ""
           },
           "baxis": {
            "gridcolor": "white",
            "linecolor": "white",
            "ticks": ""
           },
           "bgcolor": "#E5ECF6",
           "caxis": {
            "gridcolor": "white",
            "linecolor": "white",
            "ticks": ""
           }
          },
          "title": {
           "x": 0.05
          },
          "xaxis": {
           "automargin": true,
           "gridcolor": "white",
           "linecolor": "white",
           "ticks": "",
           "title": {
            "standoff": 15
           },
           "zerolinecolor": "white",
           "zerolinewidth": 2
          },
          "yaxis": {
           "automargin": true,
           "gridcolor": "white",
           "linecolor": "white",
           "ticks": "",
           "title": {
            "standoff": 15
           },
           "zerolinecolor": "white",
           "zerolinewidth": 2
          }
         }
        },
        "updatemenus": [
         {
          "buttons": [
           {
            "args": [
             null,
             {
              "frame": {
               "duration": 500,
               "redraw": true
              },
              "fromcurrent": true,
              "mode": "immediate",
              "transition": {
               "duration": 500,
               "easing": "linear"
              }
             }
            ],
            "label": "&#9654;",
            "method": "animate"
           },
           {
            "args": [
             [
              null
             ],
             {
              "frame": {
               "duration": 0,
               "redraw": true
              },
              "fromcurrent": true,
              "mode": "immediate",
              "transition": {
               "duration": 0,
               "easing": "linear"
              }
             }
            ],
            "label": "&#9724;",
            "method": "animate"
           }
          ],
          "direction": "left",
          "pad": {
           "r": 10,
           "t": 70
          },
          "showactive": false,
          "type": "buttons",
          "x": 0.1,
          "xanchor": "right",
          "y": 0,
          "yanchor": "top"
         }
        ],
        "xaxis": {
         "anchor": "y",
         "domain": [
          0,
          1
         ],
         "title": {
          "text": "station"
         }
        },
        "yaxis": {
         "anchor": "x",
         "domain": [
          0,
          1
         ],
         "range": [
          0,
          153.62267974438893
         ],
         "title": {
          "text": "satur"
         }
        }
       }
      }
     },
     "metadata": {},
     "output_type": "display_data"
    }
   ],
   "source": [
    "max=viz_df['satur'].max()\n",
    "figbar=px.bar(viz_df, x=\"station\", y=\"satur\", animation_frame=\"ds\")#, color=\"satur_color_bin\", color_discrete_map={'1': 'red','0': 'green'})#, color=\"satur_color_bin\")#, color=\"satur_color_bin\", \n",
    "figbar.update(layout_yaxis_range = [0,max])\n",
    "figbar.add_hline(y=100, line_width=3, line_dash=\"dash\", line_color=\"yellow\")\n",
    "figbar.show()"
   ]
  },
  {
   "cell_type": "code",
   "execution_count": null,
   "metadata": {},
   "outputs": [],
   "source": []
  }
 ],
 "metadata": {
  "kernelspec": {
   "display_name": "base",
   "language": "python",
   "name": "python3"
  },
  "language_info": {
   "codemirror_mode": {
    "name": "ipython",
    "version": 3
   },
   "file_extension": ".py",
   "mimetype": "text/x-python",
   "name": "python",
   "nbconvert_exporter": "python",
   "pygments_lexer": "ipython3",
   "version": "3.10.9"
  }
 },
 "nbformat": 4,
 "nbformat_minor": 2
}
