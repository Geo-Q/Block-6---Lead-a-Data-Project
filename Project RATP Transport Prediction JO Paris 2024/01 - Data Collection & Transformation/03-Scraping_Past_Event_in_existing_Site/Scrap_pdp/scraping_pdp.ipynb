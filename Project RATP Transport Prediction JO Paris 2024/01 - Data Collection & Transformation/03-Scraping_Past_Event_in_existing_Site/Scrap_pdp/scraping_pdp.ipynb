{
 "cells": [
  {
   "cell_type": "code",
   "execution_count": 1,
   "metadata": {},
   "outputs": [
    {
     "name": "stdout",
     "output_type": "stream",
     "text": [
      "Requirement already satisfied: scrapy in /Users/geoffrey_quillet/anaconda3/lib/python3.10/site-packages (2.8.0)\n",
      "Requirement already satisfied: protego>=0.1.15 in /Users/geoffrey_quillet/anaconda3/lib/python3.10/site-packages (from scrapy) (0.1.16)\n",
      "Requirement already satisfied: Twisted>=18.9.0 in /Users/geoffrey_quillet/anaconda3/lib/python3.10/site-packages (from scrapy) (22.2.0)\n",
      "Requirement already satisfied: zope.interface>=5.1.0 in /Users/geoffrey_quillet/anaconda3/lib/python3.10/site-packages (from scrapy) (5.4.0)\n",
      "Requirement already satisfied: queuelib>=1.4.2 in /Users/geoffrey_quillet/anaconda3/lib/python3.10/site-packages (from scrapy) (1.5.0)\n",
      "Requirement already satisfied: service-identity>=18.1.0 in /Users/geoffrey_quillet/anaconda3/lib/python3.10/site-packages (from scrapy) (18.1.0)\n",
      "Requirement already satisfied: pyOpenSSL>=21.0.0 in /Users/geoffrey_quillet/anaconda3/lib/python3.10/site-packages (from scrapy) (23.0.0)\n",
      "Requirement already satisfied: packaging in /Users/geoffrey_quillet/anaconda3/lib/python3.10/site-packages (from scrapy) (22.0)\n",
      "Requirement already satisfied: lxml>=4.3.0 in /Users/geoffrey_quillet/anaconda3/lib/python3.10/site-packages (from scrapy) (4.9.1)\n",
      "Requirement already satisfied: w3lib>=1.17.0 in /Users/geoffrey_quillet/anaconda3/lib/python3.10/site-packages (from scrapy) (1.21.0)\n",
      "Requirement already satisfied: parsel>=1.5.0 in /Users/geoffrey_quillet/anaconda3/lib/python3.10/site-packages (from scrapy) (1.6.0)\n",
      "Requirement already satisfied: cryptography>=3.4.6 in /Users/geoffrey_quillet/anaconda3/lib/python3.10/site-packages (from scrapy) (39.0.1)\n",
      "Requirement already satisfied: tldextract in /Users/geoffrey_quillet/anaconda3/lib/python3.10/site-packages (from scrapy) (3.2.0)\n",
      "Requirement already satisfied: cssselect>=0.9.1 in /Users/geoffrey_quillet/anaconda3/lib/python3.10/site-packages (from scrapy) (1.1.0)\n",
      "Requirement already satisfied: itemadapter>=0.1.0 in /Users/geoffrey_quillet/anaconda3/lib/python3.10/site-packages (from scrapy) (0.3.0)\n",
      "Requirement already satisfied: itemloaders>=1.0.1 in /Users/geoffrey_quillet/anaconda3/lib/python3.10/site-packages (from scrapy) (1.0.4)\n",
      "Requirement already satisfied: setuptools in /Users/geoffrey_quillet/anaconda3/lib/python3.10/site-packages (from scrapy) (65.6.3)\n",
      "Requirement already satisfied: PyDispatcher>=2.0.5 in /Users/geoffrey_quillet/anaconda3/lib/python3.10/site-packages (from scrapy) (2.0.5)\n",
      "Requirement already satisfied: cffi>=1.12 in /Users/geoffrey_quillet/anaconda3/lib/python3.10/site-packages (from cryptography>=3.4.6->scrapy) (1.15.1)\n",
      "Requirement already satisfied: jmespath>=0.9.5 in /Users/geoffrey_quillet/anaconda3/lib/python3.10/site-packages (from itemloaders>=1.0.1->scrapy) (0.10.0)\n",
      "Requirement already satisfied: six>=1.6.0 in /Users/geoffrey_quillet/anaconda3/lib/python3.10/site-packages (from parsel>=1.5.0->scrapy) (1.16.0)\n",
      "Requirement already satisfied: attrs>=16.0.0 in /Users/geoffrey_quillet/anaconda3/lib/python3.10/site-packages (from service-identity>=18.1.0->scrapy) (22.1.0)\n",
      "Requirement already satisfied: pyasn1-modules in /Users/geoffrey_quillet/anaconda3/lib/python3.10/site-packages (from service-identity>=18.1.0->scrapy) (0.2.8)\n",
      "Requirement already satisfied: pyasn1 in /Users/geoffrey_quillet/anaconda3/lib/python3.10/site-packages (from service-identity>=18.1.0->scrapy) (0.4.8)\n",
      "Requirement already satisfied: Automat>=0.8.0 in /Users/geoffrey_quillet/anaconda3/lib/python3.10/site-packages (from Twisted>=18.9.0->scrapy) (20.2.0)\n",
      "Requirement already satisfied: typing-extensions>=3.6.5 in /Users/geoffrey_quillet/anaconda3/lib/python3.10/site-packages (from Twisted>=18.9.0->scrapy) (4.8.0)\n",
      "Requirement already satisfied: incremental>=21.3.0 in /Users/geoffrey_quillet/anaconda3/lib/python3.10/site-packages (from Twisted>=18.9.0->scrapy) (21.3.0)\n",
      "Requirement already satisfied: hyperlink>=17.1.1 in /Users/geoffrey_quillet/anaconda3/lib/python3.10/site-packages (from Twisted>=18.9.0->scrapy) (21.0.0)\n",
      "Requirement already satisfied: constantly>=15.1 in /Users/geoffrey_quillet/anaconda3/lib/python3.10/site-packages (from Twisted>=18.9.0->scrapy) (15.1.0)\n",
      "Requirement already satisfied: requests-file>=1.4 in /Users/geoffrey_quillet/anaconda3/lib/python3.10/site-packages (from tldextract->scrapy) (1.5.1)\n",
      "Requirement already satisfied: idna in /Users/geoffrey_quillet/anaconda3/lib/python3.10/site-packages (from tldextract->scrapy) (3.4)\n",
      "Requirement already satisfied: filelock>=3.0.8 in /Users/geoffrey_quillet/anaconda3/lib/python3.10/site-packages (from tldextract->scrapy) (3.9.0)\n",
      "Requirement already satisfied: requests>=2.1.0 in /Users/geoffrey_quillet/anaconda3/lib/python3.10/site-packages (from tldextract->scrapy) (2.31.0)\n",
      "Requirement already satisfied: pycparser in /Users/geoffrey_quillet/anaconda3/lib/python3.10/site-packages (from cffi>=1.12->cryptography>=3.4.6->scrapy) (2.21)\n",
      "Requirement already satisfied: urllib3<3,>=1.21.1 in /Users/geoffrey_quillet/anaconda3/lib/python3.10/site-packages (from requests>=2.1.0->tldextract->scrapy) (1.26.14)\n",
      "Requirement already satisfied: certifi>=2017.4.17 in /Users/geoffrey_quillet/anaconda3/lib/python3.10/site-packages (from requests>=2.1.0->tldextract->scrapy) (2023.7.22)\n",
      "Requirement already satisfied: charset-normalizer<4,>=2 in /Users/geoffrey_quillet/anaconda3/lib/python3.10/site-packages (from requests>=2.1.0->tldextract->scrapy) (2.0.4)\n"
     ]
    }
   ],
   "source": [
    "!pip install scrapy"
   ]
  },
  {
   "cell_type": "code",
   "execution_count": 8,
   "metadata": {},
   "outputs": [
    {
     "name": "stdout",
     "output_type": "stream",
     "text": [
      "2023-11-29 11:14:27 [scrapy.utils.log] INFO: Scrapy 2.8.0 started (bot: scrapybot)\n",
      "2023-11-29 11:14:27 [scrapy.utils.log] INFO: Versions: lxml 4.9.1.0, libxml2 2.9.14, cssselect 1.1.0, parsel 1.6.0, w3lib 1.21.0, Twisted 22.2.0, Python 3.10.9 (main, Mar  1 2023, 12:20:14) [Clang 14.0.6 ], pyOpenSSL 23.0.0 (OpenSSL 1.1.1w  11 Sep 2023), cryptography 39.0.1, Platform macOS-14.1.1-arm64-arm-64bit\n",
      "2023-11-29 11:14:27 [scrapy.crawler] INFO: Overridden settings:\n",
      "{'AUTOTHROTTLE_ENABLED': True,\n",
      " 'COOKIES_ENABLED': False,\n",
      " 'DOWNLOAD_DELAY': 5,\n",
      " 'LOG_LEVEL': 20,\n",
      " 'USER_AGENT': 'Chrome/116.0.0.0'}\n",
      "2023-11-29 11:14:27 [py.warnings] WARNING: /Users/geoffrey_quillet/anaconda3/lib/python3.10/site-packages/scrapy/utils/request.py:232: ScrapyDeprecationWarning: '2.6' is a deprecated value for the 'REQUEST_FINGERPRINTER_IMPLEMENTATION' setting.\n",
      "\n",
      "It is also the default value. In other words, it is normal to get this warning if you have not defined a value for the 'REQUEST_FINGERPRINTER_IMPLEMENTATION' setting. This is so for backward compatibility reasons, but it will change in a future version of Scrapy.\n",
      "\n",
      "See the documentation of the 'REQUEST_FINGERPRINTER_IMPLEMENTATION' setting for information on how to handle this deprecation.\n",
      "  return cls(crawler)\n",
      "\n",
      "2023-11-29 11:14:27 [scrapy.extensions.telnet] INFO: Telnet Password: ec8c5789177a132b\n",
      "2023-11-29 11:14:27 [scrapy.middleware] INFO: Enabled extensions:\n",
      "['scrapy.extensions.corestats.CoreStats',\n",
      " 'scrapy.extensions.telnet.TelnetConsole',\n",
      " 'scrapy.extensions.memusage.MemoryUsage',\n",
      " 'scrapy.extensions.feedexport.FeedExporter',\n",
      " 'scrapy.extensions.logstats.LogStats',\n",
      " 'scrapy.extensions.throttle.AutoThrottle']\n",
      "2023-11-29 11:14:27 [scrapy.middleware] INFO: Enabled downloader middlewares:\n",
      "['scrapy.downloadermiddlewares.httpauth.HttpAuthMiddleware',\n",
      " 'scrapy.downloadermiddlewares.downloadtimeout.DownloadTimeoutMiddleware',\n",
      " 'scrapy.downloadermiddlewares.defaultheaders.DefaultHeadersMiddleware',\n",
      " 'scrapy.downloadermiddlewares.useragent.UserAgentMiddleware',\n",
      " 'scrapy.downloadermiddlewares.retry.RetryMiddleware',\n",
      " 'scrapy.downloadermiddlewares.redirect.MetaRefreshMiddleware',\n",
      " 'scrapy.downloadermiddlewares.httpcompression.HttpCompressionMiddleware',\n",
      " 'scrapy.downloadermiddlewares.redirect.RedirectMiddleware',\n",
      " 'scrapy.downloadermiddlewares.httpproxy.HttpProxyMiddleware',\n",
      " 'scrapy.downloadermiddlewares.stats.DownloaderStats']\n",
      "2023-11-29 11:14:27 [scrapy.middleware] INFO: Enabled spider middlewares:\n",
      "['scrapy.spidermiddlewares.httperror.HttpErrorMiddleware',\n",
      " 'scrapy.spidermiddlewares.offsite.OffsiteMiddleware',\n",
      " 'scrapy.spidermiddlewares.referer.RefererMiddleware',\n",
      " 'scrapy.spidermiddlewares.urllength.UrlLengthMiddleware',\n",
      " 'scrapy.spidermiddlewares.depth.DepthMiddleware']\n",
      "2023-11-29 11:14:27 [scrapy.middleware] INFO: Enabled item pipelines:\n",
      "[]\n",
      "2023-11-29 11:14:27 [scrapy.core.engine] INFO: Spider opened\n",
      "2023-11-29 11:14:27 [scrapy.extensions.logstats] INFO: Crawled 0 pages (at 0 pages/min), scraped 0 items (at 0 items/min)\n",
      "2023-11-29 11:14:27 [scrapy.extensions.telnet] INFO: Telnet console listening on 127.0.0.1:6023\n",
      "2023-11-29 11:14:29 [scrapy.core.engine] INFO: Closing spider (finished)\n",
      "2023-11-29 11:14:29 [scrapy.extensions.feedexport] INFO: Stored json feed (318 items) in: src/past_events_pdp.json\n",
      "2023-11-29 11:14:29 [scrapy.statscollectors] INFO: Dumping Scrapy stats:\n",
      "{'downloader/request_bytes': 360,\n",
      " 'downloader/request_count': 1,\n",
      " 'downloader/request_method_count/GET': 1,\n",
      " 'downloader/response_bytes': 42209,\n",
      " 'downloader/response_count': 1,\n",
      " 'downloader/response_status_count/200': 1,\n",
      " 'elapsed_time_seconds': 2.131623,\n",
      " 'feedexport/success_count/FileFeedStorage': 1,\n",
      " 'finish_reason': 'finished',\n",
      " 'finish_time': datetime.datetime(2023, 11, 29, 10, 14, 29, 416140),\n",
      " 'httpcompression/response_bytes': 606039,\n",
      " 'httpcompression/response_count': 1,\n",
      " 'item_scraped_count': 318,\n",
      " 'log_count/INFO': 11,\n",
      " 'log_count/WARNING': 1,\n",
      " 'memusage/max': 120635392,\n",
      " 'memusage/startup': 120635392,\n",
      " 'response_received_count': 1,\n",
      " 'scheduler/dequeued': 1,\n",
      " 'scheduler/dequeued/memory': 1,\n",
      " 'scheduler/enqueued': 1,\n",
      " 'scheduler/enqueued/memory': 1,\n",
      " 'start_time': datetime.datetime(2023, 11, 29, 10, 14, 27, 284517)}\n",
      "2023-11-29 11:14:29 [scrapy.core.engine] INFO: Spider closed (finished)\n"
     ]
    }
   ],
   "source": [
    "!python scrap_pdp.py"
   ]
  }
 ],
 "metadata": {
  "kernelspec": {
   "display_name": "base",
   "language": "python",
   "name": "python3"
  },
  "language_info": {
   "codemirror_mode": {
    "name": "ipython",
    "version": 3
   },
   "file_extension": ".py",
   "mimetype": "text/x-python",
   "name": "python",
   "nbconvert_exporter": "python",
   "pygments_lexer": "ipython3",
   "version": "3.10.9"
  }
 },
 "nbformat": 4,
 "nbformat_minor": 2
}
